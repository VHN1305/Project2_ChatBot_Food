{
 "cells": [
  {
   "cell_type": "code",
   "execution_count": 23,
   "metadata": {},
   "outputs": [],
   "source": [
    "import pandas as pd\n",
    "import numpy as np\n",
    "import matplotlib.pyplot as plt"
   ]
  },
  {
   "cell_type": "code",
   "execution_count": 24,
   "metadata": {},
   "outputs": [],
   "source": [
    "data = pd.read_csv('Dataset_food.csv')\n",
    "data.drop(columns=['Unnamed: 11','Unnamed: 12','Unnamed: 13','Unnamed: 14','Unnamed: 15'], inplace=True)"
   ]
  },
  {
   "cell_type": "code",
   "execution_count": 25,
   "metadata": {},
   "outputs": [
    {
     "data": {
      "text/html": [
       "<div>\n",
       "<style scoped>\n",
       "    .dataframe tbody tr th:only-of-type {\n",
       "        vertical-align: middle;\n",
       "    }\n",
       "\n",
       "    .dataframe tbody tr th {\n",
       "        vertical-align: top;\n",
       "    }\n",
       "\n",
       "    .dataframe thead th {\n",
       "        text-align: right;\n",
       "    }\n",
       "</style>\n",
       "<table border=\"1\" class=\"dataframe\">\n",
       "  <thead>\n",
       "    <tr style=\"text-align: right;\">\n",
       "      <th></th>\n",
       "      <th>Buổi</th>\n",
       "      <th>Cảm xúc</th>\n",
       "      <th>Độ tuổi</th>\n",
       "      <th>Số lượng người</th>\n",
       "      <th>Thời tiết</th>\n",
       "      <th>Phong cách ẩm thực</th>\n",
       "      <th>Loại hình quán ăn</th>\n",
       "      <th>Chế độ ăn</th>\n",
       "      <th>Đặc Biệt</th>\n",
       "      <th>Độ phổ biến</th>\n",
       "      <th>Loại đồ ăn</th>\n",
       "    </tr>\n",
       "  </thead>\n",
       "  <tbody>\n",
       "    <tr>\n",
       "      <th>0</th>\n",
       "      <td>Sáng</td>\n",
       "      <td>Vui</td>\n",
       "      <td>10</td>\n",
       "      <td>5</td>\n",
       "      <td>Lạnh</td>\n",
       "      <td>Trung quốc</td>\n",
       "      <td>Nhà Hàng Sang Trọng</td>\n",
       "      <td>ăn thoải mái</td>\n",
       "      <td>có chỗ đỗ xe</td>\n",
       "      <td>hot trend</td>\n",
       "      <td>Món nước</td>\n",
       "    </tr>\n",
       "    <tr>\n",
       "      <th>1</th>\n",
       "      <td>Trưa</td>\n",
       "      <td>Bình thường</td>\n",
       "      <td>21</td>\n",
       "      <td>3</td>\n",
       "      <td>Nóng</td>\n",
       "      <td>Việt nam</td>\n",
       "      <td>Quán Vỉa Hè</td>\n",
       "      <td>ăn chay</td>\n",
       "      <td>có phòng trông trẻ</td>\n",
       "      <td>đặc sản</td>\n",
       "      <td>Món lạnh</td>\n",
       "    </tr>\n",
       "    <tr>\n",
       "      <th>2</th>\n",
       "      <td>Chiều</td>\n",
       "      <td>Khó chịu</td>\n",
       "      <td>12</td>\n",
       "      <td>3</td>\n",
       "      <td>Hơi lạnh</td>\n",
       "      <td>miền nam</td>\n",
       "      <td>Nhà hàng bình dân</td>\n",
       "      <td>ăn kiêng</td>\n",
       "      <td>có phòng hút thuốc</td>\n",
       "      <td>bestseller</td>\n",
       "      <td>Món Tráng miệng</td>\n",
       "    </tr>\n",
       "    <tr>\n",
       "      <th>3</th>\n",
       "      <td>Sáng</td>\n",
       "      <td>Vui</td>\n",
       "      <td>23</td>\n",
       "      <td>2</td>\n",
       "      <td>Quá Nóng</td>\n",
       "      <td>hàn quốc</td>\n",
       "      <td>Quán Vỉa Hè</td>\n",
       "      <td>ăn thoải mái</td>\n",
       "      <td>Đang giảm giá</td>\n",
       "      <td>bình thường</td>\n",
       "      <td>Món Tráng miệng</td>\n",
       "    </tr>\n",
       "    <tr>\n",
       "      <th>4</th>\n",
       "      <td>Đêm</td>\n",
       "      <td>Bình thường</td>\n",
       "      <td>10</td>\n",
       "      <td>2</td>\n",
       "      <td>Mát</td>\n",
       "      <td>Món cho trẻ em</td>\n",
       "      <td>Nhà Hàng Sang Trọng</td>\n",
       "      <td>ăn chay</td>\n",
       "      <td>có không gian ngoài trời</td>\n",
       "      <td>hot trend</td>\n",
       "      <td>Món lạnh</td>\n",
       "    </tr>\n",
       "    <tr>\n",
       "      <th>...</th>\n",
       "      <td>...</td>\n",
       "      <td>...</td>\n",
       "      <td>...</td>\n",
       "      <td>...</td>\n",
       "      <td>...</td>\n",
       "      <td>...</td>\n",
       "      <td>...</td>\n",
       "      <td>...</td>\n",
       "      <td>...</td>\n",
       "      <td>...</td>\n",
       "      <td>...</td>\n",
       "    </tr>\n",
       "    <tr>\n",
       "      <th>992</th>\n",
       "      <td>Chiều</td>\n",
       "      <td>Buồn</td>\n",
       "      <td>35</td>\n",
       "      <td>5</td>\n",
       "      <td>Nóng</td>\n",
       "      <td>Món cho trẻ em</td>\n",
       "      <td>Nhà hàng bình dân</td>\n",
       "      <td>ăn kiêng</td>\n",
       "      <td>có phòng trông trẻ</td>\n",
       "      <td>đặc sản</td>\n",
       "      <td>đồ ăn vặt</td>\n",
       "    </tr>\n",
       "    <tr>\n",
       "      <th>993</th>\n",
       "      <td>Trưa</td>\n",
       "      <td>Khó chịu</td>\n",
       "      <td>15</td>\n",
       "      <td>2</td>\n",
       "      <td>Qúa lạnh</td>\n",
       "      <td>đồ ăn vặt</td>\n",
       "      <td>Quán Vỉa Hè</td>\n",
       "      <td>ăn chay</td>\n",
       "      <td>wifi miễn phí</td>\n",
       "      <td>bestseller</td>\n",
       "      <td>Món nước</td>\n",
       "    </tr>\n",
       "    <tr>\n",
       "      <th>994</th>\n",
       "      <td>Đêm</td>\n",
       "      <td>Buồn</td>\n",
       "      <td>11</td>\n",
       "      <td>1</td>\n",
       "      <td>Mát</td>\n",
       "      <td>Việt nam</td>\n",
       "      <td>Nhà hàng bình dân</td>\n",
       "      <td>ăn kiêng</td>\n",
       "      <td>Đang giảm giá</td>\n",
       "      <td>bình thường</td>\n",
       "      <td>Món Tráng miệng</td>\n",
       "    </tr>\n",
       "    <tr>\n",
       "      <th>995</th>\n",
       "      <td>Chiều</td>\n",
       "      <td>Khó chịu</td>\n",
       "      <td>16</td>\n",
       "      <td>5</td>\n",
       "      <td>Nóng</td>\n",
       "      <td>Món cho trẻ em</td>\n",
       "      <td>Nhà Hàng Sang Trọng</td>\n",
       "      <td>ăn chay</td>\n",
       "      <td>wifi miễn phí</td>\n",
       "      <td>hot trend</td>\n",
       "      <td>đồ ăn vặt</td>\n",
       "    </tr>\n",
       "    <tr>\n",
       "      <th>996</th>\n",
       "      <td>Trưa</td>\n",
       "      <td>Buồn</td>\n",
       "      <td>16</td>\n",
       "      <td>2</td>\n",
       "      <td>Quá Nóng</td>\n",
       "      <td>miền nam</td>\n",
       "      <td>Nhà Hàng Sang Trọng</td>\n",
       "      <td>ăn kiêng</td>\n",
       "      <td>wifi miễn phí</td>\n",
       "      <td>bestseller</td>\n",
       "      <td>Món cho trẻ em</td>\n",
       "    </tr>\n",
       "  </tbody>\n",
       "</table>\n",
       "<p>997 rows × 11 columns</p>\n",
       "</div>"
      ],
      "text/plain": [
       "      Buổi      Cảm xúc  Độ tuổi  Số lượng người Thời tiết Phong cách ẩm thực   \n",
       "0     Sáng          Vui       10               5      Lạnh         Trung quốc  \\\n",
       "1     Trưa  Bình thường       21               3      Nóng           Việt nam   \n",
       "2    Chiều     Khó chịu       12               3  Hơi lạnh           miền nam   \n",
       "3     Sáng          Vui       23               2  Quá Nóng           hàn quốc   \n",
       "4      Đêm  Bình thường       10               2       Mát     Món cho trẻ em   \n",
       "..     ...          ...      ...             ...       ...                ...   \n",
       "992  Chiều         Buồn       35               5      Nóng     Món cho trẻ em   \n",
       "993   Trưa     Khó chịu       15               2  Qúa lạnh          đồ ăn vặt   \n",
       "994    Đêm         Buồn       11               1       Mát           Việt nam   \n",
       "995  Chiều     Khó chịu       16               5      Nóng     Món cho trẻ em   \n",
       "996   Trưa         Buồn       16               2  Quá Nóng           miền nam   \n",
       "\n",
       "       Loại hình quán ăn     Chế độ ăn                  Đặc Biệt  Độ phổ biến   \n",
       "0    Nhà Hàng Sang Trọng  ăn thoải mái              có chỗ đỗ xe    hot trend  \\\n",
       "1            Quán Vỉa Hè       ăn chay        có phòng trông trẻ      đặc sản   \n",
       "2      Nhà hàng bình dân      ăn kiêng        có phòng hút thuốc   bestseller   \n",
       "3            Quán Vỉa Hè  ăn thoải mái             Đang giảm giá  bình thường   \n",
       "4    Nhà Hàng Sang Trọng       ăn chay  có không gian ngoài trời    hot trend   \n",
       "..                   ...           ...                       ...          ...   \n",
       "992    Nhà hàng bình dân      ăn kiêng        có phòng trông trẻ      đặc sản   \n",
       "993          Quán Vỉa Hè       ăn chay             wifi miễn phí   bestseller   \n",
       "994    Nhà hàng bình dân      ăn kiêng             Đang giảm giá  bình thường   \n",
       "995  Nhà Hàng Sang Trọng       ăn chay             wifi miễn phí    hot trend   \n",
       "996  Nhà Hàng Sang Trọng      ăn kiêng             wifi miễn phí   bestseller   \n",
       "\n",
       "          Loại đồ ăn  \n",
       "0           Món nước  \n",
       "1           Món lạnh  \n",
       "2    Món Tráng miệng  \n",
       "3    Món Tráng miệng  \n",
       "4           Món lạnh  \n",
       "..               ...  \n",
       "992        đồ ăn vặt  \n",
       "993         Món nước  \n",
       "994  Món Tráng miệng  \n",
       "995        đồ ăn vặt  \n",
       "996   Món cho trẻ em  \n",
       "\n",
       "[997 rows x 11 columns]"
      ]
     },
     "execution_count": 25,
     "metadata": {},
     "output_type": "execute_result"
    }
   ],
   "source": [
    "data"
   ]
  },
  {
   "cell_type": "code",
   "execution_count": 26,
   "metadata": {},
   "outputs": [],
   "source": [
    "column = data.columns"
   ]
  },
  {
   "cell_type": "code",
   "execution_count": 27,
   "metadata": {},
   "outputs": [
    {
     "name": "stdout",
     "output_type": "stream",
     "text": [
      "<class 'pandas.core.frame.DataFrame'>\n",
      "RangeIndex: 997 entries, 0 to 996\n",
      "Data columns (total 11 columns):\n",
      " #   Column              Non-Null Count  Dtype \n",
      "---  ------              --------------  ----- \n",
      " 0   Buổi                997 non-null    object\n",
      " 1   Cảm xúc             997 non-null    object\n",
      " 2   Độ tuổi             997 non-null    int64 \n",
      " 3   Số lượng người      997 non-null    int64 \n",
      " 4   Thời tiết           997 non-null    object\n",
      " 5   Phong cách ẩm thực  997 non-null    object\n",
      " 6   Loại hình quán ăn   997 non-null    object\n",
      " 7   Chế độ ăn           997 non-null    object\n",
      " 8   Đặc Biệt            997 non-null    object\n",
      " 9   Độ phổ biến         997 non-null    object\n",
      " 10  Loại đồ ăn          997 non-null    object\n",
      "dtypes: int64(2), object(9)\n",
      "memory usage: 85.8+ KB\n"
     ]
    }
   ],
   "source": [
    "data.info()"
   ]
  },
  {
   "cell_type": "code",
   "execution_count": 28,
   "metadata": {},
   "outputs": [
    {
     "data": {
      "text/plain": [
       "array([220, 208, 204, 176, 189], dtype=int64)"
      ]
     },
     "execution_count": 28,
     "metadata": {},
     "output_type": "execute_result"
    }
   ],
   "source": [
    "b = data['Buổi']\n",
    "# b_category = b.cat.categories.to_list()\n",
    "b_category_count = b.value_counts(sort=False).to_numpy()\n",
    "b_category_count"
   ]
  },
  {
   "cell_type": "code",
   "execution_count": 29,
   "metadata": {},
   "outputs": [
    {
     "data": {
      "application/vnd.plotly.v1+json": {
       "config": {
        "plotlyServerURL": "https://plot.ly"
       },
       "data": [
        {
         "alignmentgroup": "True",
         "bingroup": "x",
         "hovertemplate": "Buổi=%{x}<br>count=%{y}<extra></extra>",
         "legendgroup": "Sáng",
         "marker": {
          "color": "#636efa",
          "pattern": {
           "shape": ""
          }
         },
         "name": "Sáng",
         "offsetgroup": "Sáng",
         "orientation": "v",
         "showlegend": true,
         "type": "histogram",
         "x": [
          "Sáng",
          "Sáng",
          "Sáng",
          "Sáng",
          "Sáng",
          "Sáng",
          "Sáng",
          "Sáng",
          "Sáng",
          "Sáng",
          "Sáng",
          "Sáng",
          "Sáng",
          "Sáng",
          "Sáng",
          "Sáng",
          "Sáng",
          "Sáng",
          "Sáng",
          "Sáng",
          "Sáng",
          "Sáng",
          "Sáng",
          "Sáng",
          "Sáng",
          "Sáng",
          "Sáng",
          "Sáng",
          "Sáng",
          "Sáng",
          "Sáng",
          "Sáng",
          "Sáng",
          "Sáng",
          "Sáng",
          "Sáng",
          "Sáng",
          "Sáng",
          "Sáng",
          "Sáng",
          "Sáng",
          "Sáng",
          "Sáng",
          "Sáng",
          "Sáng",
          "Sáng",
          "Sáng",
          "Sáng",
          "Sáng",
          "Sáng",
          "Sáng",
          "Sáng",
          "Sáng",
          "Sáng",
          "Sáng",
          "Sáng",
          "Sáng",
          "Sáng",
          "Sáng",
          "Sáng",
          "Sáng",
          "Sáng",
          "Sáng",
          "Sáng",
          "Sáng",
          "Sáng",
          "Sáng",
          "Sáng",
          "Sáng",
          "Sáng",
          "Sáng",
          "Sáng",
          "Sáng",
          "Sáng",
          "Sáng",
          "Sáng",
          "Sáng",
          "Sáng",
          "Sáng",
          "Sáng",
          "Sáng",
          "Sáng",
          "Sáng",
          "Sáng",
          "Sáng",
          "Sáng",
          "Sáng",
          "Sáng",
          "Sáng",
          "Sáng",
          "Sáng",
          "Sáng",
          "Sáng",
          "Sáng",
          "Sáng",
          "Sáng",
          "Sáng",
          "Sáng",
          "Sáng",
          "Sáng",
          "Sáng",
          "Sáng",
          "Sáng",
          "Sáng",
          "Sáng",
          "Sáng",
          "Sáng",
          "Sáng",
          "Sáng",
          "Sáng",
          "Sáng",
          "Sáng",
          "Sáng",
          "Sáng",
          "Sáng",
          "Sáng",
          "Sáng",
          "Sáng",
          "Sáng",
          "Sáng",
          "Sáng",
          "Sáng",
          "Sáng",
          "Sáng",
          "Sáng",
          "Sáng",
          "Sáng",
          "Sáng",
          "Sáng",
          "Sáng",
          "Sáng",
          "Sáng",
          "Sáng",
          "Sáng",
          "Sáng",
          "Sáng",
          "Sáng",
          "Sáng",
          "Sáng",
          "Sáng",
          "Sáng",
          "Sáng",
          "Sáng",
          "Sáng",
          "Sáng",
          "Sáng",
          "Sáng",
          "Sáng",
          "Sáng",
          "Sáng",
          "Sáng",
          "Sáng",
          "Sáng",
          "Sáng",
          "Sáng",
          "Sáng",
          "Sáng",
          "Sáng",
          "Sáng",
          "Sáng",
          "Sáng",
          "Sáng",
          "Sáng",
          "Sáng",
          "Sáng",
          "Sáng",
          "Sáng",
          "Sáng",
          "Sáng",
          "Sáng",
          "Sáng",
          "Sáng",
          "Sáng",
          "Sáng",
          "Sáng",
          "Sáng",
          "Sáng",
          "Sáng",
          "Sáng",
          "Sáng",
          "Sáng",
          "Sáng",
          "Sáng",
          "Sáng",
          "Sáng",
          "Sáng",
          "Sáng",
          "Sáng",
          "Sáng",
          "Sáng",
          "Sáng",
          "Sáng",
          "Sáng",
          "Sáng",
          "Sáng",
          "Sáng",
          "Sáng",
          "Sáng",
          "Sáng",
          "Sáng",
          "Sáng",
          "Sáng",
          "Sáng",
          "Sáng",
          "Sáng",
          "Sáng",
          "Sáng",
          "Sáng",
          "Sáng",
          "Sáng",
          "Sáng",
          "Sáng",
          "Sáng",
          "Sáng",
          "Sáng",
          "Sáng",
          "Sáng",
          "Sáng",
          "Sáng",
          "Sáng"
         ],
         "xaxis": "x",
         "yaxis": "y"
        },
        {
         "alignmentgroup": "True",
         "bingroup": "x",
         "hovertemplate": "Buổi=%{x}<br>count=%{y}<extra></extra>",
         "legendgroup": "Trưa",
         "marker": {
          "color": "#EF553B",
          "pattern": {
           "shape": ""
          }
         },
         "name": "Trưa",
         "offsetgroup": "Trưa",
         "orientation": "v",
         "showlegend": true,
         "type": "histogram",
         "x": [
          "Trưa",
          "Trưa",
          "Trưa",
          "Trưa",
          "Trưa",
          "Trưa",
          "Trưa",
          "Trưa",
          "Trưa",
          "Trưa",
          "Trưa",
          "Trưa",
          "Trưa",
          "Trưa",
          "Trưa",
          "Trưa",
          "Trưa",
          "Trưa",
          "Trưa",
          "Trưa",
          "Trưa",
          "Trưa",
          "Trưa",
          "Trưa",
          "Trưa",
          "Trưa",
          "Trưa",
          "Trưa",
          "Trưa",
          "Trưa",
          "Trưa",
          "Trưa",
          "Trưa",
          "Trưa",
          "Trưa",
          "Trưa",
          "Trưa",
          "Trưa",
          "Trưa",
          "Trưa",
          "Trưa",
          "Trưa",
          "Trưa",
          "Trưa",
          "Trưa",
          "Trưa",
          "Trưa",
          "Trưa",
          "Trưa",
          "Trưa",
          "Trưa",
          "Trưa",
          "Trưa",
          "Trưa",
          "Trưa",
          "Trưa",
          "Trưa",
          "Trưa",
          "Trưa",
          "Trưa",
          "Trưa",
          "Trưa",
          "Trưa",
          "Trưa",
          "Trưa",
          "Trưa",
          "Trưa",
          "Trưa",
          "Trưa",
          "Trưa",
          "Trưa",
          "Trưa",
          "Trưa",
          "Trưa",
          "Trưa",
          "Trưa",
          "Trưa",
          "Trưa",
          "Trưa",
          "Trưa",
          "Trưa",
          "Trưa",
          "Trưa",
          "Trưa",
          "Trưa",
          "Trưa",
          "Trưa",
          "Trưa",
          "Trưa",
          "Trưa",
          "Trưa",
          "Trưa",
          "Trưa",
          "Trưa",
          "Trưa",
          "Trưa",
          "Trưa",
          "Trưa",
          "Trưa",
          "Trưa",
          "Trưa",
          "Trưa",
          "Trưa",
          "Trưa",
          "Trưa",
          "Trưa",
          "Trưa",
          "Trưa",
          "Trưa",
          "Trưa",
          "Trưa",
          "Trưa",
          "Trưa",
          "Trưa",
          "Trưa",
          "Trưa",
          "Trưa",
          "Trưa",
          "Trưa",
          "Trưa",
          "Trưa",
          "Trưa",
          "Trưa",
          "Trưa",
          "Trưa",
          "Trưa",
          "Trưa",
          "Trưa",
          "Trưa",
          "Trưa",
          "Trưa",
          "Trưa",
          "Trưa",
          "Trưa",
          "Trưa",
          "Trưa",
          "Trưa",
          "Trưa",
          "Trưa",
          "Trưa",
          "Trưa",
          "Trưa",
          "Trưa",
          "Trưa",
          "Trưa",
          "Trưa",
          "Trưa",
          "Trưa",
          "Trưa",
          "Trưa",
          "Trưa",
          "Trưa",
          "Trưa",
          "Trưa",
          "Trưa",
          "Trưa",
          "Trưa",
          "Trưa",
          "Trưa",
          "Trưa",
          "Trưa",
          "Trưa",
          "Trưa",
          "Trưa",
          "Trưa",
          "Trưa",
          "Trưa",
          "Trưa",
          "Trưa",
          "Trưa",
          "Trưa",
          "Trưa",
          "Trưa",
          "Trưa",
          "Trưa",
          "Trưa",
          "Trưa",
          "Trưa",
          "Trưa",
          "Trưa",
          "Trưa",
          "Trưa",
          "Trưa",
          "Trưa",
          "Trưa",
          "Trưa",
          "Trưa",
          "Trưa",
          "Trưa",
          "Trưa",
          "Trưa",
          "Trưa",
          "Trưa",
          "Trưa",
          "Trưa",
          "Trưa",
          "Trưa",
          "Trưa",
          "Trưa",
          "Trưa",
          "Trưa",
          "Trưa",
          "Trưa",
          "Trưa",
          "Trưa",
          "Trưa",
          "Trưa",
          "Trưa"
         ],
         "xaxis": "x",
         "yaxis": "y"
        },
        {
         "alignmentgroup": "True",
         "bingroup": "x",
         "hovertemplate": "Buổi=%{x}<br>count=%{y}<extra></extra>",
         "legendgroup": "Chiều",
         "marker": {
          "color": "#00cc96",
          "pattern": {
           "shape": ""
          }
         },
         "name": "Chiều",
         "offsetgroup": "Chiều",
         "orientation": "v",
         "showlegend": true,
         "type": "histogram",
         "x": [
          "Chiều",
          "Chiều",
          "Chiều",
          "Chiều",
          "Chiều",
          "Chiều",
          "Chiều",
          "Chiều",
          "Chiều",
          "Chiều",
          "Chiều",
          "Chiều",
          "Chiều",
          "Chiều",
          "Chiều",
          "Chiều",
          "Chiều",
          "Chiều",
          "Chiều",
          "Chiều",
          "Chiều",
          "Chiều",
          "Chiều",
          "Chiều",
          "Chiều",
          "Chiều",
          "Chiều",
          "Chiều",
          "Chiều",
          "Chiều",
          "Chiều",
          "Chiều",
          "Chiều",
          "Chiều",
          "Chiều",
          "Chiều",
          "Chiều",
          "Chiều",
          "Chiều",
          "Chiều",
          "Chiều",
          "Chiều",
          "Chiều",
          "Chiều",
          "Chiều",
          "Chiều",
          "Chiều",
          "Chiều",
          "Chiều",
          "Chiều",
          "Chiều",
          "Chiều",
          "Chiều",
          "Chiều",
          "Chiều",
          "Chiều",
          "Chiều",
          "Chiều",
          "Chiều",
          "Chiều",
          "Chiều",
          "Chiều",
          "Chiều",
          "Chiều",
          "Chiều",
          "Chiều",
          "Chiều",
          "Chiều",
          "Chiều",
          "Chiều",
          "Chiều",
          "Chiều",
          "Chiều",
          "Chiều",
          "Chiều",
          "Chiều",
          "Chiều",
          "Chiều",
          "Chiều",
          "Chiều",
          "Chiều",
          "Chiều",
          "Chiều",
          "Chiều",
          "Chiều",
          "Chiều",
          "Chiều",
          "Chiều",
          "Chiều",
          "Chiều",
          "Chiều",
          "Chiều",
          "Chiều",
          "Chiều",
          "Chiều",
          "Chiều",
          "Chiều",
          "Chiều",
          "Chiều",
          "Chiều",
          "Chiều",
          "Chiều",
          "Chiều",
          "Chiều",
          "Chiều",
          "Chiều",
          "Chiều",
          "Chiều",
          "Chiều",
          "Chiều",
          "Chiều",
          "Chiều",
          "Chiều",
          "Chiều",
          "Chiều",
          "Chiều",
          "Chiều",
          "Chiều",
          "Chiều",
          "Chiều",
          "Chiều",
          "Chiều",
          "Chiều",
          "Chiều",
          "Chiều",
          "Chiều",
          "Chiều",
          "Chiều",
          "Chiều",
          "Chiều",
          "Chiều",
          "Chiều",
          "Chiều",
          "Chiều",
          "Chiều",
          "Chiều",
          "Chiều",
          "Chiều",
          "Chiều",
          "Chiều",
          "Chiều",
          "Chiều",
          "Chiều",
          "Chiều",
          "Chiều",
          "Chiều",
          "Chiều",
          "Chiều",
          "Chiều",
          "Chiều",
          "Chiều",
          "Chiều",
          "Chiều",
          "Chiều",
          "Chiều",
          "Chiều",
          "Chiều",
          "Chiều",
          "Chiều",
          "Chiều",
          "Chiều",
          "Chiều",
          "Chiều",
          "Chiều",
          "Chiều",
          "Chiều",
          "Chiều",
          "Chiều",
          "Chiều",
          "Chiều",
          "Chiều",
          "Chiều",
          "Chiều",
          "Chiều",
          "Chiều",
          "Chiều",
          "Chiều",
          "Chiều",
          "Chiều",
          "Chiều",
          "Chiều",
          "Chiều",
          "Chiều",
          "Chiều",
          "Chiều",
          "Chiều",
          "Chiều",
          "Chiều",
          "Chiều",
          "Chiều",
          "Chiều",
          "Chiều",
          "Chiều",
          "Chiều",
          "Chiều",
          "Chiều",
          "Chiều",
          "Chiều",
          "Chiều",
          "Chiều",
          "Chiều",
          "Chiều",
          "Chiều",
          "Chiều"
         ],
         "xaxis": "x",
         "yaxis": "y"
        },
        {
         "alignmentgroup": "True",
         "bingroup": "x",
         "hovertemplate": "Buổi=%{x}<br>count=%{y}<extra></extra>",
         "legendgroup": "Đêm",
         "marker": {
          "color": "#ab63fa",
          "pattern": {
           "shape": ""
          }
         },
         "name": "Đêm",
         "offsetgroup": "Đêm",
         "orientation": "v",
         "showlegend": true,
         "type": "histogram",
         "x": [
          "Đêm",
          "Đêm",
          "Đêm",
          "Đêm",
          "Đêm",
          "Đêm",
          "Đêm",
          "Đêm",
          "Đêm",
          "Đêm",
          "Đêm",
          "Đêm",
          "Đêm",
          "Đêm",
          "Đêm",
          "Đêm",
          "Đêm",
          "Đêm",
          "Đêm",
          "Đêm",
          "Đêm",
          "Đêm",
          "Đêm",
          "Đêm",
          "Đêm",
          "Đêm",
          "Đêm",
          "Đêm",
          "Đêm",
          "Đêm",
          "Đêm",
          "Đêm",
          "Đêm",
          "Đêm",
          "Đêm",
          "Đêm",
          "Đêm",
          "Đêm",
          "Đêm",
          "Đêm",
          "Đêm",
          "Đêm",
          "Đêm",
          "Đêm",
          "Đêm",
          "Đêm",
          "Đêm",
          "Đêm",
          "Đêm",
          "Đêm",
          "Đêm",
          "Đêm",
          "Đêm",
          "Đêm",
          "Đêm",
          "Đêm",
          "Đêm",
          "Đêm",
          "Đêm",
          "Đêm",
          "Đêm",
          "Đêm",
          "Đêm",
          "Đêm",
          "Đêm",
          "Đêm",
          "Đêm",
          "Đêm",
          "Đêm",
          "Đêm",
          "Đêm",
          "Đêm",
          "Đêm",
          "Đêm",
          "Đêm",
          "Đêm",
          "Đêm",
          "Đêm",
          "Đêm",
          "Đêm",
          "Đêm",
          "Đêm",
          "Đêm",
          "Đêm",
          "Đêm",
          "Đêm",
          "Đêm",
          "Đêm",
          "Đêm",
          "Đêm",
          "Đêm",
          "Đêm",
          "Đêm",
          "Đêm",
          "Đêm",
          "Đêm",
          "Đêm",
          "Đêm",
          "Đêm",
          "Đêm",
          "Đêm",
          "Đêm",
          "Đêm",
          "Đêm",
          "Đêm",
          "Đêm",
          "Đêm",
          "Đêm",
          "Đêm",
          "Đêm",
          "Đêm",
          "Đêm",
          "Đêm",
          "Đêm",
          "Đêm",
          "Đêm",
          "Đêm",
          "Đêm",
          "Đêm",
          "Đêm",
          "Đêm",
          "Đêm",
          "Đêm",
          "Đêm",
          "Đêm",
          "Đêm",
          "Đêm",
          "Đêm",
          "Đêm",
          "Đêm",
          "Đêm",
          "Đêm",
          "Đêm",
          "Đêm",
          "Đêm",
          "Đêm",
          "Đêm",
          "Đêm",
          "Đêm",
          "Đêm",
          "Đêm",
          "Đêm",
          "Đêm",
          "Đêm",
          "Đêm",
          "Đêm",
          "Đêm",
          "Đêm",
          "Đêm",
          "Đêm",
          "Đêm",
          "Đêm",
          "Đêm",
          "Đêm",
          "Đêm",
          "Đêm",
          "Đêm",
          "Đêm",
          "Đêm",
          "Đêm",
          "Đêm",
          "Đêm",
          "Đêm",
          "Đêm",
          "Đêm",
          "Đêm",
          "Đêm",
          "Đêm",
          "Đêm",
          "Đêm",
          "Đêm",
          "Đêm",
          "Đêm",
          "Đêm",
          "Đêm",
          "Đêm"
         ],
         "xaxis": "x",
         "yaxis": "y"
        },
        {
         "alignmentgroup": "True",
         "bingroup": "x",
         "hovertemplate": "Buổi=%{x}<br>count=%{y}<extra></extra>",
         "legendgroup": "Tối",
         "marker": {
          "color": "#FFA15A",
          "pattern": {
           "shape": ""
          }
         },
         "name": "Tối",
         "offsetgroup": "Tối",
         "orientation": "v",
         "showlegend": true,
         "type": "histogram",
         "x": [
          "Tối",
          "Tối",
          "Tối",
          "Tối",
          "Tối",
          "Tối",
          "Tối",
          "Tối",
          "Tối",
          "Tối",
          "Tối",
          "Tối",
          "Tối",
          "Tối",
          "Tối",
          "Tối",
          "Tối",
          "Tối",
          "Tối",
          "Tối",
          "Tối",
          "Tối",
          "Tối",
          "Tối",
          "Tối",
          "Tối",
          "Tối",
          "Tối",
          "Tối",
          "Tối",
          "Tối",
          "Tối",
          "Tối",
          "Tối",
          "Tối",
          "Tối",
          "Tối",
          "Tối",
          "Tối",
          "Tối",
          "Tối",
          "Tối",
          "Tối",
          "Tối",
          "Tối",
          "Tối",
          "Tối",
          "Tối",
          "Tối",
          "Tối",
          "Tối",
          "Tối",
          "Tối",
          "Tối",
          "Tối",
          "Tối",
          "Tối",
          "Tối",
          "Tối",
          "Tối",
          "Tối",
          "Tối",
          "Tối",
          "Tối",
          "Tối",
          "Tối",
          "Tối",
          "Tối",
          "Tối",
          "Tối",
          "Tối",
          "Tối",
          "Tối",
          "Tối",
          "Tối",
          "Tối",
          "Tối",
          "Tối",
          "Tối",
          "Tối",
          "Tối",
          "Tối",
          "Tối",
          "Tối",
          "Tối",
          "Tối",
          "Tối",
          "Tối",
          "Tối",
          "Tối",
          "Tối",
          "Tối",
          "Tối",
          "Tối",
          "Tối",
          "Tối",
          "Tối",
          "Tối",
          "Tối",
          "Tối",
          "Tối",
          "Tối",
          "Tối",
          "Tối",
          "Tối",
          "Tối",
          "Tối",
          "Tối",
          "Tối",
          "Tối",
          "Tối",
          "Tối",
          "Tối",
          "Tối",
          "Tối",
          "Tối",
          "Tối",
          "Tối",
          "Tối",
          "Tối",
          "Tối",
          "Tối",
          "Tối",
          "Tối",
          "Tối",
          "Tối",
          "Tối",
          "Tối",
          "Tối",
          "Tối",
          "Tối",
          "Tối",
          "Tối",
          "Tối",
          "Tối",
          "Tối",
          "Tối",
          "Tối",
          "Tối",
          "Tối",
          "Tối",
          "Tối",
          "Tối",
          "Tối",
          "Tối",
          "Tối",
          "Tối",
          "Tối",
          "Tối",
          "Tối",
          "Tối",
          "Tối",
          "Tối",
          "Tối",
          "Tối",
          "Tối",
          "Tối",
          "Tối",
          "Tối",
          "Tối",
          "Tối",
          "Tối",
          "Tối",
          "Tối",
          "Tối",
          "Tối",
          "Tối",
          "Tối",
          "Tối",
          "Tối",
          "Tối",
          "Tối",
          "Tối",
          "Tối",
          "Tối",
          "Tối",
          "Tối",
          "Tối",
          "Tối",
          "Tối",
          "Tối",
          "Tối",
          "Tối",
          "Tối",
          "Tối",
          "Tối",
          "Tối",
          "Tối",
          "Tối"
         ],
         "xaxis": "x",
         "yaxis": "y"
        }
       ],
       "layout": {
        "barmode": "relative",
        "legend": {
         "title": {
          "text": "Buổi"
         },
         "tracegroupgap": 0
        },
        "template": {
         "data": {
          "bar": [
           {
            "error_x": {
             "color": "#2a3f5f"
            },
            "error_y": {
             "color": "#2a3f5f"
            },
            "marker": {
             "line": {
              "color": "#E5ECF6",
              "width": 0.5
             },
             "pattern": {
              "fillmode": "overlay",
              "size": 10,
              "solidity": 0.2
             }
            },
            "type": "bar"
           }
          ],
          "barpolar": [
           {
            "marker": {
             "line": {
              "color": "#E5ECF6",
              "width": 0.5
             },
             "pattern": {
              "fillmode": "overlay",
              "size": 10,
              "solidity": 0.2
             }
            },
            "type": "barpolar"
           }
          ],
          "carpet": [
           {
            "aaxis": {
             "endlinecolor": "#2a3f5f",
             "gridcolor": "white",
             "linecolor": "white",
             "minorgridcolor": "white",
             "startlinecolor": "#2a3f5f"
            },
            "baxis": {
             "endlinecolor": "#2a3f5f",
             "gridcolor": "white",
             "linecolor": "white",
             "minorgridcolor": "white",
             "startlinecolor": "#2a3f5f"
            },
            "type": "carpet"
           }
          ],
          "choropleth": [
           {
            "colorbar": {
             "outlinewidth": 0,
             "ticks": ""
            },
            "type": "choropleth"
           }
          ],
          "contour": [
           {
            "colorbar": {
             "outlinewidth": 0,
             "ticks": ""
            },
            "colorscale": [
             [
              0,
              "#0d0887"
             ],
             [
              0.1111111111111111,
              "#46039f"
             ],
             [
              0.2222222222222222,
              "#7201a8"
             ],
             [
              0.3333333333333333,
              "#9c179e"
             ],
             [
              0.4444444444444444,
              "#bd3786"
             ],
             [
              0.5555555555555556,
              "#d8576b"
             ],
             [
              0.6666666666666666,
              "#ed7953"
             ],
             [
              0.7777777777777778,
              "#fb9f3a"
             ],
             [
              0.8888888888888888,
              "#fdca26"
             ],
             [
              1,
              "#f0f921"
             ]
            ],
            "type": "contour"
           }
          ],
          "contourcarpet": [
           {
            "colorbar": {
             "outlinewidth": 0,
             "ticks": ""
            },
            "type": "contourcarpet"
           }
          ],
          "heatmap": [
           {
            "colorbar": {
             "outlinewidth": 0,
             "ticks": ""
            },
            "colorscale": [
             [
              0,
              "#0d0887"
             ],
             [
              0.1111111111111111,
              "#46039f"
             ],
             [
              0.2222222222222222,
              "#7201a8"
             ],
             [
              0.3333333333333333,
              "#9c179e"
             ],
             [
              0.4444444444444444,
              "#bd3786"
             ],
             [
              0.5555555555555556,
              "#d8576b"
             ],
             [
              0.6666666666666666,
              "#ed7953"
             ],
             [
              0.7777777777777778,
              "#fb9f3a"
             ],
             [
              0.8888888888888888,
              "#fdca26"
             ],
             [
              1,
              "#f0f921"
             ]
            ],
            "type": "heatmap"
           }
          ],
          "heatmapgl": [
           {
            "colorbar": {
             "outlinewidth": 0,
             "ticks": ""
            },
            "colorscale": [
             [
              0,
              "#0d0887"
             ],
             [
              0.1111111111111111,
              "#46039f"
             ],
             [
              0.2222222222222222,
              "#7201a8"
             ],
             [
              0.3333333333333333,
              "#9c179e"
             ],
             [
              0.4444444444444444,
              "#bd3786"
             ],
             [
              0.5555555555555556,
              "#d8576b"
             ],
             [
              0.6666666666666666,
              "#ed7953"
             ],
             [
              0.7777777777777778,
              "#fb9f3a"
             ],
             [
              0.8888888888888888,
              "#fdca26"
             ],
             [
              1,
              "#f0f921"
             ]
            ],
            "type": "heatmapgl"
           }
          ],
          "histogram": [
           {
            "marker": {
             "pattern": {
              "fillmode": "overlay",
              "size": 10,
              "solidity": 0.2
             }
            },
            "type": "histogram"
           }
          ],
          "histogram2d": [
           {
            "colorbar": {
             "outlinewidth": 0,
             "ticks": ""
            },
            "colorscale": [
             [
              0,
              "#0d0887"
             ],
             [
              0.1111111111111111,
              "#46039f"
             ],
             [
              0.2222222222222222,
              "#7201a8"
             ],
             [
              0.3333333333333333,
              "#9c179e"
             ],
             [
              0.4444444444444444,
              "#bd3786"
             ],
             [
              0.5555555555555556,
              "#d8576b"
             ],
             [
              0.6666666666666666,
              "#ed7953"
             ],
             [
              0.7777777777777778,
              "#fb9f3a"
             ],
             [
              0.8888888888888888,
              "#fdca26"
             ],
             [
              1,
              "#f0f921"
             ]
            ],
            "type": "histogram2d"
           }
          ],
          "histogram2dcontour": [
           {
            "colorbar": {
             "outlinewidth": 0,
             "ticks": ""
            },
            "colorscale": [
             [
              0,
              "#0d0887"
             ],
             [
              0.1111111111111111,
              "#46039f"
             ],
             [
              0.2222222222222222,
              "#7201a8"
             ],
             [
              0.3333333333333333,
              "#9c179e"
             ],
             [
              0.4444444444444444,
              "#bd3786"
             ],
             [
              0.5555555555555556,
              "#d8576b"
             ],
             [
              0.6666666666666666,
              "#ed7953"
             ],
             [
              0.7777777777777778,
              "#fb9f3a"
             ],
             [
              0.8888888888888888,
              "#fdca26"
             ],
             [
              1,
              "#f0f921"
             ]
            ],
            "type": "histogram2dcontour"
           }
          ],
          "mesh3d": [
           {
            "colorbar": {
             "outlinewidth": 0,
             "ticks": ""
            },
            "type": "mesh3d"
           }
          ],
          "parcoords": [
           {
            "line": {
             "colorbar": {
              "outlinewidth": 0,
              "ticks": ""
             }
            },
            "type": "parcoords"
           }
          ],
          "pie": [
           {
            "automargin": true,
            "type": "pie"
           }
          ],
          "scatter": [
           {
            "fillpattern": {
             "fillmode": "overlay",
             "size": 10,
             "solidity": 0.2
            },
            "type": "scatter"
           }
          ],
          "scatter3d": [
           {
            "line": {
             "colorbar": {
              "outlinewidth": 0,
              "ticks": ""
             }
            },
            "marker": {
             "colorbar": {
              "outlinewidth": 0,
              "ticks": ""
             }
            },
            "type": "scatter3d"
           }
          ],
          "scattercarpet": [
           {
            "marker": {
             "colorbar": {
              "outlinewidth": 0,
              "ticks": ""
             }
            },
            "type": "scattercarpet"
           }
          ],
          "scattergeo": [
           {
            "marker": {
             "colorbar": {
              "outlinewidth": 0,
              "ticks": ""
             }
            },
            "type": "scattergeo"
           }
          ],
          "scattergl": [
           {
            "marker": {
             "colorbar": {
              "outlinewidth": 0,
              "ticks": ""
             }
            },
            "type": "scattergl"
           }
          ],
          "scattermapbox": [
           {
            "marker": {
             "colorbar": {
              "outlinewidth": 0,
              "ticks": ""
             }
            },
            "type": "scattermapbox"
           }
          ],
          "scatterpolar": [
           {
            "marker": {
             "colorbar": {
              "outlinewidth": 0,
              "ticks": ""
             }
            },
            "type": "scatterpolar"
           }
          ],
          "scatterpolargl": [
           {
            "marker": {
             "colorbar": {
              "outlinewidth": 0,
              "ticks": ""
             }
            },
            "type": "scatterpolargl"
           }
          ],
          "scatterternary": [
           {
            "marker": {
             "colorbar": {
              "outlinewidth": 0,
              "ticks": ""
             }
            },
            "type": "scatterternary"
           }
          ],
          "surface": [
           {
            "colorbar": {
             "outlinewidth": 0,
             "ticks": ""
            },
            "colorscale": [
             [
              0,
              "#0d0887"
             ],
             [
              0.1111111111111111,
              "#46039f"
             ],
             [
              0.2222222222222222,
              "#7201a8"
             ],
             [
              0.3333333333333333,
              "#9c179e"
             ],
             [
              0.4444444444444444,
              "#bd3786"
             ],
             [
              0.5555555555555556,
              "#d8576b"
             ],
             [
              0.6666666666666666,
              "#ed7953"
             ],
             [
              0.7777777777777778,
              "#fb9f3a"
             ],
             [
              0.8888888888888888,
              "#fdca26"
             ],
             [
              1,
              "#f0f921"
             ]
            ],
            "type": "surface"
           }
          ],
          "table": [
           {
            "cells": {
             "fill": {
              "color": "#EBF0F8"
             },
             "line": {
              "color": "white"
             }
            },
            "header": {
             "fill": {
              "color": "#C8D4E3"
             },
             "line": {
              "color": "white"
             }
            },
            "type": "table"
           }
          ]
         },
         "layout": {
          "annotationdefaults": {
           "arrowcolor": "#2a3f5f",
           "arrowhead": 0,
           "arrowwidth": 1
          },
          "autotypenumbers": "strict",
          "coloraxis": {
           "colorbar": {
            "outlinewidth": 0,
            "ticks": ""
           }
          },
          "colorscale": {
           "diverging": [
            [
             0,
             "#8e0152"
            ],
            [
             0.1,
             "#c51b7d"
            ],
            [
             0.2,
             "#de77ae"
            ],
            [
             0.3,
             "#f1b6da"
            ],
            [
             0.4,
             "#fde0ef"
            ],
            [
             0.5,
             "#f7f7f7"
            ],
            [
             0.6,
             "#e6f5d0"
            ],
            [
             0.7,
             "#b8e186"
            ],
            [
             0.8,
             "#7fbc41"
            ],
            [
             0.9,
             "#4d9221"
            ],
            [
             1,
             "#276419"
            ]
           ],
           "sequential": [
            [
             0,
             "#0d0887"
            ],
            [
             0.1111111111111111,
             "#46039f"
            ],
            [
             0.2222222222222222,
             "#7201a8"
            ],
            [
             0.3333333333333333,
             "#9c179e"
            ],
            [
             0.4444444444444444,
             "#bd3786"
            ],
            [
             0.5555555555555556,
             "#d8576b"
            ],
            [
             0.6666666666666666,
             "#ed7953"
            ],
            [
             0.7777777777777778,
             "#fb9f3a"
            ],
            [
             0.8888888888888888,
             "#fdca26"
            ],
            [
             1,
             "#f0f921"
            ]
           ],
           "sequentialminus": [
            [
             0,
             "#0d0887"
            ],
            [
             0.1111111111111111,
             "#46039f"
            ],
            [
             0.2222222222222222,
             "#7201a8"
            ],
            [
             0.3333333333333333,
             "#9c179e"
            ],
            [
             0.4444444444444444,
             "#bd3786"
            ],
            [
             0.5555555555555556,
             "#d8576b"
            ],
            [
             0.6666666666666666,
             "#ed7953"
            ],
            [
             0.7777777777777778,
             "#fb9f3a"
            ],
            [
             0.8888888888888888,
             "#fdca26"
            ],
            [
             1,
             "#f0f921"
            ]
           ]
          },
          "colorway": [
           "#636efa",
           "#EF553B",
           "#00cc96",
           "#ab63fa",
           "#FFA15A",
           "#19d3f3",
           "#FF6692",
           "#B6E880",
           "#FF97FF",
           "#FECB52"
          ],
          "font": {
           "color": "#2a3f5f"
          },
          "geo": {
           "bgcolor": "white",
           "lakecolor": "white",
           "landcolor": "#E5ECF6",
           "showlakes": true,
           "showland": true,
           "subunitcolor": "white"
          },
          "hoverlabel": {
           "align": "left"
          },
          "hovermode": "closest",
          "mapbox": {
           "style": "light"
          },
          "paper_bgcolor": "white",
          "plot_bgcolor": "#E5ECF6",
          "polar": {
           "angularaxis": {
            "gridcolor": "white",
            "linecolor": "white",
            "ticks": ""
           },
           "bgcolor": "#E5ECF6",
           "radialaxis": {
            "gridcolor": "white",
            "linecolor": "white",
            "ticks": ""
           }
          },
          "scene": {
           "xaxis": {
            "backgroundcolor": "#E5ECF6",
            "gridcolor": "white",
            "gridwidth": 2,
            "linecolor": "white",
            "showbackground": true,
            "ticks": "",
            "zerolinecolor": "white"
           },
           "yaxis": {
            "backgroundcolor": "#E5ECF6",
            "gridcolor": "white",
            "gridwidth": 2,
            "linecolor": "white",
            "showbackground": true,
            "ticks": "",
            "zerolinecolor": "white"
           },
           "zaxis": {
            "backgroundcolor": "#E5ECF6",
            "gridcolor": "white",
            "gridwidth": 2,
            "linecolor": "white",
            "showbackground": true,
            "ticks": "",
            "zerolinecolor": "white"
           }
          },
          "shapedefaults": {
           "line": {
            "color": "#2a3f5f"
           }
          },
          "ternary": {
           "aaxis": {
            "gridcolor": "white",
            "linecolor": "white",
            "ticks": ""
           },
           "baxis": {
            "gridcolor": "white",
            "linecolor": "white",
            "ticks": ""
           },
           "bgcolor": "#E5ECF6",
           "caxis": {
            "gridcolor": "white",
            "linecolor": "white",
            "ticks": ""
           }
          },
          "title": {
           "x": 0.05
          },
          "xaxis": {
           "automargin": true,
           "gridcolor": "white",
           "linecolor": "white",
           "ticks": "",
           "title": {
            "standoff": 15
           },
           "zerolinecolor": "white",
           "zerolinewidth": 2
          },
          "yaxis": {
           "automargin": true,
           "gridcolor": "white",
           "linecolor": "white",
           "ticks": "",
           "title": {
            "standoff": 15
           },
           "zerolinecolor": "white",
           "zerolinewidth": 2
          }
         }
        },
        "title": {
         "text": "Buổi Distribution"
        },
        "xaxis": {
         "anchor": "y",
         "categoryarray": [
          "Sáng",
          "Trưa",
          "Chiều",
          "Đêm",
          "Tối"
         ],
         "categoryorder": "array",
         "domain": [
          0,
          1
         ],
         "title": {
          "text": "Buổi"
         }
        },
        "yaxis": {
         "anchor": "x",
         "domain": [
          0,
          1
         ],
         "title": {
          "text": "Count"
         }
        }
       }
      }
     },
     "metadata": {},
     "output_type": "display_data"
    }
   ],
   "source": [
    "import plotly.express as px\n",
    "fig = px.histogram(data, x='Buổi', color='Buổi', title='Buổi Distribution')\n",
    "fig.update_layout(xaxis_title='Buổi', yaxis_title='Count')\n",
    "fig.show()"
   ]
  },
  {
   "cell_type": "code",
   "execution_count": 30,
   "metadata": {},
   "outputs": [
    {
     "data": {
      "application/vnd.plotly.v1+json": {
       "config": {
        "plotlyServerURL": "https://plot.ly"
       },
       "data": [
        {
         "alignmentgroup": "True",
         "bingroup": "x",
         "hovertemplate": "Cảm xúc=%{x}<br>count=%{y}<extra></extra>",
         "legendgroup": "Vui",
         "marker": {
          "color": "#636efa",
          "pattern": {
           "shape": ""
          }
         },
         "name": "Vui",
         "offsetgroup": "Vui",
         "orientation": "v",
         "showlegend": true,
         "type": "histogram",
         "x": [
          "Vui",
          "Vui",
          "Vui",
          "Vui",
          "Vui",
          "Vui",
          "Vui",
          "Vui",
          "Vui",
          "Vui",
          "Vui",
          "Vui",
          "Vui",
          "Vui",
          "Vui",
          "Vui",
          "Vui",
          "Vui",
          "Vui",
          "Vui",
          "Vui",
          "Vui",
          "Vui",
          "Vui",
          "Vui",
          "Vui",
          "Vui",
          "Vui",
          "Vui",
          "Vui",
          "Vui",
          "Vui",
          "Vui",
          "Vui",
          "Vui",
          "Vui",
          "Vui",
          "Vui",
          "Vui",
          "Vui",
          "Vui",
          "Vui",
          "Vui",
          "Vui",
          "Vui",
          "Vui",
          "Vui",
          "Vui",
          "Vui",
          "Vui",
          "Vui",
          "Vui",
          "Vui",
          "Vui",
          "Vui",
          "Vui",
          "Vui",
          "Vui",
          "Vui",
          "Vui",
          "Vui",
          "Vui",
          "Vui",
          "Vui",
          "Vui",
          "Vui",
          "Vui",
          "Vui",
          "Vui",
          "Vui",
          "Vui",
          "Vui",
          "Vui",
          "Vui",
          "Vui",
          "Vui",
          "Vui",
          "Vui",
          "Vui",
          "Vui",
          "Vui",
          "Vui",
          "Vui",
          "Vui",
          "Vui",
          "Vui",
          "Vui",
          "Vui",
          "Vui",
          "Vui",
          "Vui",
          "Vui",
          "Vui",
          "Vui",
          "Vui",
          "Vui",
          "Vui",
          "Vui",
          "Vui",
          "Vui",
          "Vui",
          "Vui",
          "Vui",
          "Vui",
          "Vui",
          "Vui",
          "Vui",
          "Vui",
          "Vui",
          "Vui",
          "Vui",
          "Vui",
          "Vui",
          "Vui",
          "Vui",
          "Vui",
          "Vui",
          "Vui",
          "Vui",
          "Vui",
          "Vui",
          "Vui",
          "Vui",
          "Vui",
          "Vui",
          "Vui",
          "Vui",
          "Vui",
          "Vui",
          "Vui",
          "Vui",
          "Vui",
          "Vui",
          "Vui",
          "Vui",
          "Vui",
          "Vui",
          "Vui",
          "Vui",
          "Vui",
          "Vui",
          "Vui",
          "Vui",
          "Vui",
          "Vui",
          "Vui",
          "Vui",
          "Vui",
          "Vui",
          "Vui",
          "Vui",
          "Vui",
          "Vui",
          "Vui",
          "Vui",
          "Vui",
          "Vui",
          "Vui",
          "Vui",
          "Vui",
          "Vui",
          "Vui",
          "Vui",
          "Vui",
          "Vui",
          "Vui",
          "Vui",
          "Vui",
          "Vui",
          "Vui",
          "Vui",
          "Vui",
          "Vui",
          "Vui",
          "Vui",
          "Vui",
          "Vui",
          "Vui",
          "Vui",
          "Vui",
          "Vui",
          "Vui",
          "Vui",
          "Vui",
          "Vui",
          "Vui",
          "Vui",
          "Vui",
          "Vui",
          "Vui",
          "Vui",
          "Vui",
          "Vui",
          "Vui",
          "Vui",
          "Vui",
          "Vui",
          "Vui",
          "Vui",
          "Vui",
          "Vui",
          "Vui",
          "Vui",
          "Vui",
          "Vui",
          "Vui",
          "Vui",
          "Vui",
          "Vui",
          "Vui",
          "Vui",
          "Vui",
          "Vui",
          "Vui",
          "Vui",
          "Vui",
          "Vui",
          "Vui",
          "Vui",
          "Vui",
          "Vui",
          "Vui",
          "Vui",
          "Vui",
          "Vui",
          "Vui",
          "Vui",
          "Vui"
         ],
         "xaxis": "x",
         "yaxis": "y"
        },
        {
         "alignmentgroup": "True",
         "bingroup": "x",
         "hovertemplate": "Cảm xúc=%{x}<br>count=%{y}<extra></extra>",
         "legendgroup": "Bình thường",
         "marker": {
          "color": "#EF553B",
          "pattern": {
           "shape": ""
          }
         },
         "name": "Bình thường",
         "offsetgroup": "Bình thường",
         "orientation": "v",
         "showlegend": true,
         "type": "histogram",
         "x": [
          "Bình thường",
          "Bình thường",
          "Bình thường",
          "Bình thường",
          "Bình thường",
          "Bình thường",
          "Bình thường",
          "Bình thường",
          "Bình thường",
          "Bình thường",
          "Bình thường",
          "Bình thường",
          "Bình thường",
          "Bình thường",
          "Bình thường",
          "Bình thường",
          "Bình thường",
          "Bình thường",
          "Bình thường",
          "Bình thường",
          "Bình thường",
          "Bình thường",
          "Bình thường",
          "Bình thường",
          "Bình thường",
          "Bình thường",
          "Bình thường",
          "Bình thường",
          "Bình thường",
          "Bình thường",
          "Bình thường",
          "Bình thường",
          "Bình thường",
          "Bình thường",
          "Bình thường",
          "Bình thường",
          "Bình thường",
          "Bình thường",
          "Bình thường",
          "Bình thường",
          "Bình thường",
          "Bình thường",
          "Bình thường",
          "Bình thường",
          "Bình thường",
          "Bình thường",
          "Bình thường",
          "Bình thường",
          "Bình thường",
          "Bình thường",
          "Bình thường",
          "Bình thường",
          "Bình thường",
          "Bình thường",
          "Bình thường",
          "Bình thường",
          "Bình thường",
          "Bình thường",
          "Bình thường",
          "Bình thường",
          "Bình thường",
          "Bình thường",
          "Bình thường",
          "Bình thường",
          "Bình thường",
          "Bình thường",
          "Bình thường",
          "Bình thường",
          "Bình thường",
          "Bình thường",
          "Bình thường",
          "Bình thường",
          "Bình thường",
          "Bình thường",
          "Bình thường",
          "Bình thường",
          "Bình thường",
          "Bình thường",
          "Bình thường",
          "Bình thường",
          "Bình thường",
          "Bình thường",
          "Bình thường",
          "Bình thường",
          "Bình thường",
          "Bình thường",
          "Bình thường",
          "Bình thường",
          "Bình thường",
          "Bình thường",
          "Bình thường",
          "Bình thường",
          "Bình thường",
          "Bình thường",
          "Bình thường",
          "Bình thường",
          "Bình thường",
          "Bình thường",
          "Bình thường",
          "Bình thường",
          "Bình thường",
          "Bình thường",
          "Bình thường",
          "Bình thường",
          "Bình thường",
          "Bình thường",
          "Bình thường",
          "Bình thường",
          "Bình thường",
          "Bình thường",
          "Bình thường",
          "Bình thường",
          "Bình thường",
          "Bình thường",
          "Bình thường",
          "Bình thường",
          "Bình thường",
          "Bình thường",
          "Bình thường",
          "Bình thường",
          "Bình thường",
          "Bình thường",
          "Bình thường",
          "Bình thường",
          "Bình thường",
          "Bình thường",
          "Bình thường",
          "Bình thường",
          "Bình thường",
          "Bình thường",
          "Bình thường",
          "Bình thường",
          "Bình thường",
          "Bình thường",
          "Bình thường",
          "Bình thường",
          "Bình thường",
          "Bình thường",
          "Bình thường",
          "Bình thường",
          "Bình thường",
          "Bình thường",
          "Bình thường",
          "Bình thường",
          "Bình thường",
          "Bình thường",
          "Bình thường",
          "Bình thường",
          "Bình thường",
          "Bình thường",
          "Bình thường",
          "Bình thường",
          "Bình thường",
          "Bình thường",
          "Bình thường",
          "Bình thường",
          "Bình thường",
          "Bình thường",
          "Bình thường",
          "Bình thường",
          "Bình thường",
          "Bình thường",
          "Bình thường",
          "Bình thường",
          "Bình thường",
          "Bình thường",
          "Bình thường",
          "Bình thường",
          "Bình thường",
          "Bình thường",
          "Bình thường",
          "Bình thường",
          "Bình thường",
          "Bình thường",
          "Bình thường",
          "Bình thường",
          "Bình thường",
          "Bình thường",
          "Bình thường",
          "Bình thường",
          "Bình thường",
          "Bình thường",
          "Bình thường",
          "Bình thường",
          "Bình thường",
          "Bình thường",
          "Bình thường",
          "Bình thường",
          "Bình thường",
          "Bình thường",
          "Bình thường",
          "Bình thường",
          "Bình thường",
          "Bình thường",
          "Bình thường",
          "Bình thường",
          "Bình thường",
          "Bình thường",
          "Bình thường",
          "Bình thường",
          "Bình thường",
          "Bình thường",
          "Bình thường",
          "Bình thường",
          "Bình thường",
          "Bình thường",
          "Bình thường",
          "Bình thường",
          "Bình thường",
          "Bình thường",
          "Bình thường",
          "Bình thường",
          "Bình thường",
          "Bình thường",
          "Bình thường",
          "Bình thường",
          "Bình thường",
          "Bình thường",
          "Bình thường",
          "Bình thường",
          "Bình thường",
          "Bình thường",
          "Bình thường",
          "Bình thường",
          "Bình thường",
          "Bình thường",
          "Bình thường",
          "Bình thường",
          "Bình thường",
          "Bình thường",
          "Bình thường",
          "Bình thường",
          "Bình thường",
          "Bình thường",
          "Bình thường",
          "Bình thường",
          "Bình thường",
          "Bình thường",
          "Bình thường",
          "Bình thường",
          "Bình thường",
          "Bình thường",
          "Bình thường",
          "Bình thường",
          "Bình thường",
          "Bình thường",
          "Bình thường",
          "Bình thường",
          "Bình thường",
          "Bình thường",
          "Bình thường",
          "Bình thường",
          "Bình thường"
         ],
         "xaxis": "x",
         "yaxis": "y"
        },
        {
         "alignmentgroup": "True",
         "bingroup": "x",
         "hovertemplate": "Cảm xúc=%{x}<br>count=%{y}<extra></extra>",
         "legendgroup": "Khó chịu",
         "marker": {
          "color": "#00cc96",
          "pattern": {
           "shape": ""
          }
         },
         "name": "Khó chịu",
         "offsetgroup": "Khó chịu",
         "orientation": "v",
         "showlegend": true,
         "type": "histogram",
         "x": [
          "Khó chịu",
          "Khó chịu",
          "Khó chịu",
          "Khó chịu",
          "Khó chịu",
          "Khó chịu",
          "Khó chịu",
          "Khó chịu",
          "Khó chịu",
          "Khó chịu",
          "Khó chịu",
          "Khó chịu",
          "Khó chịu",
          "Khó chịu",
          "Khó chịu",
          "Khó chịu",
          "Khó chịu",
          "Khó chịu",
          "Khó chịu",
          "Khó chịu",
          "Khó chịu",
          "Khó chịu",
          "Khó chịu",
          "Khó chịu",
          "Khó chịu",
          "Khó chịu",
          "Khó chịu",
          "Khó chịu",
          "Khó chịu",
          "Khó chịu",
          "Khó chịu",
          "Khó chịu",
          "Khó chịu",
          "Khó chịu",
          "Khó chịu",
          "Khó chịu",
          "Khó chịu",
          "Khó chịu",
          "Khó chịu",
          "Khó chịu",
          "Khó chịu",
          "Khó chịu",
          "Khó chịu",
          "Khó chịu",
          "Khó chịu",
          "Khó chịu",
          "Khó chịu",
          "Khó chịu",
          "Khó chịu",
          "Khó chịu",
          "Khó chịu",
          "Khó chịu",
          "Khó chịu",
          "Khó chịu",
          "Khó chịu",
          "Khó chịu",
          "Khó chịu",
          "Khó chịu",
          "Khó chịu",
          "Khó chịu",
          "Khó chịu",
          "Khó chịu",
          "Khó chịu",
          "Khó chịu",
          "Khó chịu",
          "Khó chịu",
          "Khó chịu",
          "Khó chịu",
          "Khó chịu",
          "Khó chịu",
          "Khó chịu",
          "Khó chịu",
          "Khó chịu",
          "Khó chịu",
          "Khó chịu",
          "Khó chịu",
          "Khó chịu",
          "Khó chịu",
          "Khó chịu",
          "Khó chịu",
          "Khó chịu",
          "Khó chịu",
          "Khó chịu",
          "Khó chịu",
          "Khó chịu",
          "Khó chịu",
          "Khó chịu",
          "Khó chịu",
          "Khó chịu",
          "Khó chịu",
          "Khó chịu",
          "Khó chịu",
          "Khó chịu",
          "Khó chịu",
          "Khó chịu",
          "Khó chịu",
          "Khó chịu",
          "Khó chịu",
          "Khó chịu",
          "Khó chịu",
          "Khó chịu",
          "Khó chịu",
          "Khó chịu",
          "Khó chịu",
          "Khó chịu",
          "Khó chịu",
          "Khó chịu",
          "Khó chịu",
          "Khó chịu",
          "Khó chịu",
          "Khó chịu",
          "Khó chịu",
          "Khó chịu",
          "Khó chịu",
          "Khó chịu",
          "Khó chịu",
          "Khó chịu",
          "Khó chịu",
          "Khó chịu",
          "Khó chịu",
          "Khó chịu",
          "Khó chịu",
          "Khó chịu",
          "Khó chịu",
          "Khó chịu",
          "Khó chịu",
          "Khó chịu",
          "Khó chịu",
          "Khó chịu",
          "Khó chịu",
          "Khó chịu",
          "Khó chịu",
          "Khó chịu",
          "Khó chịu",
          "Khó chịu",
          "Khó chịu",
          "Khó chịu",
          "Khó chịu",
          "Khó chịu",
          "Khó chịu",
          "Khó chịu",
          "Khó chịu",
          "Khó chịu",
          "Khó chịu",
          "Khó chịu",
          "Khó chịu",
          "Khó chịu",
          "Khó chịu",
          "Khó chịu",
          "Khó chịu",
          "Khó chịu",
          "Khó chịu",
          "Khó chịu",
          "Khó chịu",
          "Khó chịu",
          "Khó chịu",
          "Khó chịu",
          "Khó chịu",
          "Khó chịu",
          "Khó chịu",
          "Khó chịu",
          "Khó chịu",
          "Khó chịu",
          "Khó chịu",
          "Khó chịu",
          "Khó chịu",
          "Khó chịu",
          "Khó chịu",
          "Khó chịu",
          "Khó chịu",
          "Khó chịu",
          "Khó chịu",
          "Khó chịu",
          "Khó chịu",
          "Khó chịu",
          "Khó chịu",
          "Khó chịu",
          "Khó chịu",
          "Khó chịu",
          "Khó chịu",
          "Khó chịu",
          "Khó chịu",
          "Khó chịu",
          "Khó chịu",
          "Khó chịu",
          "Khó chịu",
          "Khó chịu",
          "Khó chịu",
          "Khó chịu",
          "Khó chịu",
          "Khó chịu",
          "Khó chịu",
          "Khó chịu",
          "Khó chịu",
          "Khó chịu",
          "Khó chịu",
          "Khó chịu",
          "Khó chịu",
          "Khó chịu",
          "Khó chịu",
          "Khó chịu",
          "Khó chịu",
          "Khó chịu",
          "Khó chịu",
          "Khó chịu",
          "Khó chịu",
          "Khó chịu",
          "Khó chịu",
          "Khó chịu",
          "Khó chịu",
          "Khó chịu",
          "Khó chịu",
          "Khó chịu",
          "Khó chịu",
          "Khó chịu",
          "Khó chịu",
          "Khó chịu",
          "Khó chịu",
          "Khó chịu",
          "Khó chịu",
          "Khó chịu",
          "Khó chịu",
          "Khó chịu",
          "Khó chịu",
          "Khó chịu",
          "Khó chịu",
          "Khó chịu",
          "Khó chịu",
          "Khó chịu",
          "Khó chịu",
          "Khó chịu",
          "Khó chịu",
          "Khó chịu",
          "Khó chịu",
          "Khó chịu",
          "Khó chịu",
          "Khó chịu",
          "Khó chịu",
          "Khó chịu",
          "Khó chịu",
          "Khó chịu",
          "Khó chịu",
          "Khó chịu",
          "Khó chịu",
          "Khó chịu",
          "Khó chịu",
          "Khó chịu",
          "Khó chịu",
          "Khó chịu",
          "Khó chịu",
          "Khó chịu",
          "Khó chịu",
          "Khó chịu",
          "Khó chịu",
          "Khó chịu",
          "Khó chịu",
          "Khó chịu",
          "Khó chịu",
          "Khó chịu",
          "Khó chịu",
          "Khó chịu",
          "Khó chịu"
         ],
         "xaxis": "x",
         "yaxis": "y"
        },
        {
         "alignmentgroup": "True",
         "bingroup": "x",
         "hovertemplate": "Cảm xúc=%{x}<br>count=%{y}<extra></extra>",
         "legendgroup": "Buồn",
         "marker": {
          "color": "#ab63fa",
          "pattern": {
           "shape": ""
          }
         },
         "name": "Buồn",
         "offsetgroup": "Buồn",
         "orientation": "v",
         "showlegend": true,
         "type": "histogram",
         "x": [
          "Buồn",
          "Buồn",
          "Buồn",
          "Buồn",
          "Buồn",
          "Buồn",
          "Buồn",
          "Buồn",
          "Buồn",
          "Buồn",
          "Buồn",
          "Buồn",
          "Buồn",
          "Buồn",
          "Buồn",
          "Buồn",
          "Buồn",
          "Buồn",
          "Buồn",
          "Buồn",
          "Buồn",
          "Buồn",
          "Buồn",
          "Buồn",
          "Buồn",
          "Buồn",
          "Buồn",
          "Buồn",
          "Buồn",
          "Buồn",
          "Buồn",
          "Buồn",
          "Buồn",
          "Buồn",
          "Buồn",
          "Buồn",
          "Buồn",
          "Buồn",
          "Buồn",
          "Buồn",
          "Buồn",
          "Buồn",
          "Buồn",
          "Buồn",
          "Buồn",
          "Buồn",
          "Buồn",
          "Buồn",
          "Buồn",
          "Buồn",
          "Buồn",
          "Buồn",
          "Buồn",
          "Buồn",
          "Buồn",
          "Buồn",
          "Buồn",
          "Buồn",
          "Buồn",
          "Buồn",
          "Buồn",
          "Buồn",
          "Buồn",
          "Buồn",
          "Buồn",
          "Buồn",
          "Buồn",
          "Buồn",
          "Buồn",
          "Buồn",
          "Buồn",
          "Buồn",
          "Buồn",
          "Buồn",
          "Buồn",
          "Buồn",
          "Buồn",
          "Buồn",
          "Buồn",
          "Buồn",
          "Buồn",
          "Buồn",
          "Buồn",
          "Buồn",
          "Buồn",
          "Buồn",
          "Buồn",
          "Buồn",
          "Buồn",
          "Buồn",
          "Buồn",
          "Buồn",
          "Buồn",
          "Buồn",
          "Buồn",
          "Buồn",
          "Buồn",
          "Buồn",
          "Buồn",
          "Buồn",
          "Buồn",
          "Buồn",
          "Buồn",
          "Buồn",
          "Buồn",
          "Buồn",
          "Buồn",
          "Buồn",
          "Buồn",
          "Buồn",
          "Buồn",
          "Buồn",
          "Buồn",
          "Buồn",
          "Buồn",
          "Buồn",
          "Buồn",
          "Buồn",
          "Buồn",
          "Buồn",
          "Buồn",
          "Buồn",
          "Buồn",
          "Buồn",
          "Buồn",
          "Buồn",
          "Buồn",
          "Buồn",
          "Buồn",
          "Buồn",
          "Buồn",
          "Buồn",
          "Buồn",
          "Buồn",
          "Buồn",
          "Buồn",
          "Buồn",
          "Buồn",
          "Buồn",
          "Buồn",
          "Buồn",
          "Buồn",
          "Buồn",
          "Buồn",
          "Buồn",
          "Buồn",
          "Buồn",
          "Buồn",
          "Buồn",
          "Buồn",
          "Buồn",
          "Buồn",
          "Buồn",
          "Buồn",
          "Buồn",
          "Buồn",
          "Buồn",
          "Buồn",
          "Buồn",
          "Buồn",
          "Buồn",
          "Buồn",
          "Buồn",
          "Buồn",
          "Buồn",
          "Buồn",
          "Buồn",
          "Buồn",
          "Buồn",
          "Buồn",
          "Buồn",
          "Buồn",
          "Buồn",
          "Buồn",
          "Buồn",
          "Buồn",
          "Buồn",
          "Buồn",
          "Buồn",
          "Buồn",
          "Buồn",
          "Buồn",
          "Buồn",
          "Buồn",
          "Buồn",
          "Buồn",
          "Buồn",
          "Buồn",
          "Buồn",
          "Buồn",
          "Buồn",
          "Buồn",
          "Buồn",
          "Buồn",
          "Buồn",
          "Buồn",
          "Buồn",
          "Buồn",
          "Buồn",
          "Buồn",
          "Buồn",
          "Buồn",
          "Buồn",
          "Buồn",
          "Buồn",
          "Buồn",
          "Buồn",
          "Buồn",
          "Buồn",
          "Buồn",
          "Buồn",
          "Buồn",
          "Buồn",
          "Buồn",
          "Buồn",
          "Buồn",
          "Buồn",
          "Buồn",
          "Buồn",
          "Buồn",
          "Buồn",
          "Buồn",
          "Buồn",
          "Buồn",
          "Buồn",
          "Buồn",
          "Buồn",
          "Buồn",
          "Buồn",
          "Buồn",
          "Buồn",
          "Buồn",
          "Buồn",
          "Buồn",
          "Buồn",
          "Buồn",
          "Buồn",
          "Buồn",
          "Buồn",
          "Buồn",
          "Buồn",
          "Buồn",
          "Buồn",
          "Buồn",
          "Buồn",
          "Buồn",
          "Buồn",
          "Buồn",
          "Buồn",
          "Buồn",
          "Buồn",
          "Buồn",
          "Buồn",
          "Buồn"
         ],
         "xaxis": "x",
         "yaxis": "y"
        }
       ],
       "layout": {
        "barmode": "relative",
        "legend": {
         "title": {
          "text": "Cảm xúc"
         },
         "tracegroupgap": 0
        },
        "template": {
         "data": {
          "bar": [
           {
            "error_x": {
             "color": "#2a3f5f"
            },
            "error_y": {
             "color": "#2a3f5f"
            },
            "marker": {
             "line": {
              "color": "#E5ECF6",
              "width": 0.5
             },
             "pattern": {
              "fillmode": "overlay",
              "size": 10,
              "solidity": 0.2
             }
            },
            "type": "bar"
           }
          ],
          "barpolar": [
           {
            "marker": {
             "line": {
              "color": "#E5ECF6",
              "width": 0.5
             },
             "pattern": {
              "fillmode": "overlay",
              "size": 10,
              "solidity": 0.2
             }
            },
            "type": "barpolar"
           }
          ],
          "carpet": [
           {
            "aaxis": {
             "endlinecolor": "#2a3f5f",
             "gridcolor": "white",
             "linecolor": "white",
             "minorgridcolor": "white",
             "startlinecolor": "#2a3f5f"
            },
            "baxis": {
             "endlinecolor": "#2a3f5f",
             "gridcolor": "white",
             "linecolor": "white",
             "minorgridcolor": "white",
             "startlinecolor": "#2a3f5f"
            },
            "type": "carpet"
           }
          ],
          "choropleth": [
           {
            "colorbar": {
             "outlinewidth": 0,
             "ticks": ""
            },
            "type": "choropleth"
           }
          ],
          "contour": [
           {
            "colorbar": {
             "outlinewidth": 0,
             "ticks": ""
            },
            "colorscale": [
             [
              0,
              "#0d0887"
             ],
             [
              0.1111111111111111,
              "#46039f"
             ],
             [
              0.2222222222222222,
              "#7201a8"
             ],
             [
              0.3333333333333333,
              "#9c179e"
             ],
             [
              0.4444444444444444,
              "#bd3786"
             ],
             [
              0.5555555555555556,
              "#d8576b"
             ],
             [
              0.6666666666666666,
              "#ed7953"
             ],
             [
              0.7777777777777778,
              "#fb9f3a"
             ],
             [
              0.8888888888888888,
              "#fdca26"
             ],
             [
              1,
              "#f0f921"
             ]
            ],
            "type": "contour"
           }
          ],
          "contourcarpet": [
           {
            "colorbar": {
             "outlinewidth": 0,
             "ticks": ""
            },
            "type": "contourcarpet"
           }
          ],
          "heatmap": [
           {
            "colorbar": {
             "outlinewidth": 0,
             "ticks": ""
            },
            "colorscale": [
             [
              0,
              "#0d0887"
             ],
             [
              0.1111111111111111,
              "#46039f"
             ],
             [
              0.2222222222222222,
              "#7201a8"
             ],
             [
              0.3333333333333333,
              "#9c179e"
             ],
             [
              0.4444444444444444,
              "#bd3786"
             ],
             [
              0.5555555555555556,
              "#d8576b"
             ],
             [
              0.6666666666666666,
              "#ed7953"
             ],
             [
              0.7777777777777778,
              "#fb9f3a"
             ],
             [
              0.8888888888888888,
              "#fdca26"
             ],
             [
              1,
              "#f0f921"
             ]
            ],
            "type": "heatmap"
           }
          ],
          "heatmapgl": [
           {
            "colorbar": {
             "outlinewidth": 0,
             "ticks": ""
            },
            "colorscale": [
             [
              0,
              "#0d0887"
             ],
             [
              0.1111111111111111,
              "#46039f"
             ],
             [
              0.2222222222222222,
              "#7201a8"
             ],
             [
              0.3333333333333333,
              "#9c179e"
             ],
             [
              0.4444444444444444,
              "#bd3786"
             ],
             [
              0.5555555555555556,
              "#d8576b"
             ],
             [
              0.6666666666666666,
              "#ed7953"
             ],
             [
              0.7777777777777778,
              "#fb9f3a"
             ],
             [
              0.8888888888888888,
              "#fdca26"
             ],
             [
              1,
              "#f0f921"
             ]
            ],
            "type": "heatmapgl"
           }
          ],
          "histogram": [
           {
            "marker": {
             "pattern": {
              "fillmode": "overlay",
              "size": 10,
              "solidity": 0.2
             }
            },
            "type": "histogram"
           }
          ],
          "histogram2d": [
           {
            "colorbar": {
             "outlinewidth": 0,
             "ticks": ""
            },
            "colorscale": [
             [
              0,
              "#0d0887"
             ],
             [
              0.1111111111111111,
              "#46039f"
             ],
             [
              0.2222222222222222,
              "#7201a8"
             ],
             [
              0.3333333333333333,
              "#9c179e"
             ],
             [
              0.4444444444444444,
              "#bd3786"
             ],
             [
              0.5555555555555556,
              "#d8576b"
             ],
             [
              0.6666666666666666,
              "#ed7953"
             ],
             [
              0.7777777777777778,
              "#fb9f3a"
             ],
             [
              0.8888888888888888,
              "#fdca26"
             ],
             [
              1,
              "#f0f921"
             ]
            ],
            "type": "histogram2d"
           }
          ],
          "histogram2dcontour": [
           {
            "colorbar": {
             "outlinewidth": 0,
             "ticks": ""
            },
            "colorscale": [
             [
              0,
              "#0d0887"
             ],
             [
              0.1111111111111111,
              "#46039f"
             ],
             [
              0.2222222222222222,
              "#7201a8"
             ],
             [
              0.3333333333333333,
              "#9c179e"
             ],
             [
              0.4444444444444444,
              "#bd3786"
             ],
             [
              0.5555555555555556,
              "#d8576b"
             ],
             [
              0.6666666666666666,
              "#ed7953"
             ],
             [
              0.7777777777777778,
              "#fb9f3a"
             ],
             [
              0.8888888888888888,
              "#fdca26"
             ],
             [
              1,
              "#f0f921"
             ]
            ],
            "type": "histogram2dcontour"
           }
          ],
          "mesh3d": [
           {
            "colorbar": {
             "outlinewidth": 0,
             "ticks": ""
            },
            "type": "mesh3d"
           }
          ],
          "parcoords": [
           {
            "line": {
             "colorbar": {
              "outlinewidth": 0,
              "ticks": ""
             }
            },
            "type": "parcoords"
           }
          ],
          "pie": [
           {
            "automargin": true,
            "type": "pie"
           }
          ],
          "scatter": [
           {
            "fillpattern": {
             "fillmode": "overlay",
             "size": 10,
             "solidity": 0.2
            },
            "type": "scatter"
           }
          ],
          "scatter3d": [
           {
            "line": {
             "colorbar": {
              "outlinewidth": 0,
              "ticks": ""
             }
            },
            "marker": {
             "colorbar": {
              "outlinewidth": 0,
              "ticks": ""
             }
            },
            "type": "scatter3d"
           }
          ],
          "scattercarpet": [
           {
            "marker": {
             "colorbar": {
              "outlinewidth": 0,
              "ticks": ""
             }
            },
            "type": "scattercarpet"
           }
          ],
          "scattergeo": [
           {
            "marker": {
             "colorbar": {
              "outlinewidth": 0,
              "ticks": ""
             }
            },
            "type": "scattergeo"
           }
          ],
          "scattergl": [
           {
            "marker": {
             "colorbar": {
              "outlinewidth": 0,
              "ticks": ""
             }
            },
            "type": "scattergl"
           }
          ],
          "scattermapbox": [
           {
            "marker": {
             "colorbar": {
              "outlinewidth": 0,
              "ticks": ""
             }
            },
            "type": "scattermapbox"
           }
          ],
          "scatterpolar": [
           {
            "marker": {
             "colorbar": {
              "outlinewidth": 0,
              "ticks": ""
             }
            },
            "type": "scatterpolar"
           }
          ],
          "scatterpolargl": [
           {
            "marker": {
             "colorbar": {
              "outlinewidth": 0,
              "ticks": ""
             }
            },
            "type": "scatterpolargl"
           }
          ],
          "scatterternary": [
           {
            "marker": {
             "colorbar": {
              "outlinewidth": 0,
              "ticks": ""
             }
            },
            "type": "scatterternary"
           }
          ],
          "surface": [
           {
            "colorbar": {
             "outlinewidth": 0,
             "ticks": ""
            },
            "colorscale": [
             [
              0,
              "#0d0887"
             ],
             [
              0.1111111111111111,
              "#46039f"
             ],
             [
              0.2222222222222222,
              "#7201a8"
             ],
             [
              0.3333333333333333,
              "#9c179e"
             ],
             [
              0.4444444444444444,
              "#bd3786"
             ],
             [
              0.5555555555555556,
              "#d8576b"
             ],
             [
              0.6666666666666666,
              "#ed7953"
             ],
             [
              0.7777777777777778,
              "#fb9f3a"
             ],
             [
              0.8888888888888888,
              "#fdca26"
             ],
             [
              1,
              "#f0f921"
             ]
            ],
            "type": "surface"
           }
          ],
          "table": [
           {
            "cells": {
             "fill": {
              "color": "#EBF0F8"
             },
             "line": {
              "color": "white"
             }
            },
            "header": {
             "fill": {
              "color": "#C8D4E3"
             },
             "line": {
              "color": "white"
             }
            },
            "type": "table"
           }
          ]
         },
         "layout": {
          "annotationdefaults": {
           "arrowcolor": "#2a3f5f",
           "arrowhead": 0,
           "arrowwidth": 1
          },
          "autotypenumbers": "strict",
          "coloraxis": {
           "colorbar": {
            "outlinewidth": 0,
            "ticks": ""
           }
          },
          "colorscale": {
           "diverging": [
            [
             0,
             "#8e0152"
            ],
            [
             0.1,
             "#c51b7d"
            ],
            [
             0.2,
             "#de77ae"
            ],
            [
             0.3,
             "#f1b6da"
            ],
            [
             0.4,
             "#fde0ef"
            ],
            [
             0.5,
             "#f7f7f7"
            ],
            [
             0.6,
             "#e6f5d0"
            ],
            [
             0.7,
             "#b8e186"
            ],
            [
             0.8,
             "#7fbc41"
            ],
            [
             0.9,
             "#4d9221"
            ],
            [
             1,
             "#276419"
            ]
           ],
           "sequential": [
            [
             0,
             "#0d0887"
            ],
            [
             0.1111111111111111,
             "#46039f"
            ],
            [
             0.2222222222222222,
             "#7201a8"
            ],
            [
             0.3333333333333333,
             "#9c179e"
            ],
            [
             0.4444444444444444,
             "#bd3786"
            ],
            [
             0.5555555555555556,
             "#d8576b"
            ],
            [
             0.6666666666666666,
             "#ed7953"
            ],
            [
             0.7777777777777778,
             "#fb9f3a"
            ],
            [
             0.8888888888888888,
             "#fdca26"
            ],
            [
             1,
             "#f0f921"
            ]
           ],
           "sequentialminus": [
            [
             0,
             "#0d0887"
            ],
            [
             0.1111111111111111,
             "#46039f"
            ],
            [
             0.2222222222222222,
             "#7201a8"
            ],
            [
             0.3333333333333333,
             "#9c179e"
            ],
            [
             0.4444444444444444,
             "#bd3786"
            ],
            [
             0.5555555555555556,
             "#d8576b"
            ],
            [
             0.6666666666666666,
             "#ed7953"
            ],
            [
             0.7777777777777778,
             "#fb9f3a"
            ],
            [
             0.8888888888888888,
             "#fdca26"
            ],
            [
             1,
             "#f0f921"
            ]
           ]
          },
          "colorway": [
           "#636efa",
           "#EF553B",
           "#00cc96",
           "#ab63fa",
           "#FFA15A",
           "#19d3f3",
           "#FF6692",
           "#B6E880",
           "#FF97FF",
           "#FECB52"
          ],
          "font": {
           "color": "#2a3f5f"
          },
          "geo": {
           "bgcolor": "white",
           "lakecolor": "white",
           "landcolor": "#E5ECF6",
           "showlakes": true,
           "showland": true,
           "subunitcolor": "white"
          },
          "hoverlabel": {
           "align": "left"
          },
          "hovermode": "closest",
          "mapbox": {
           "style": "light"
          },
          "paper_bgcolor": "white",
          "plot_bgcolor": "#E5ECF6",
          "polar": {
           "angularaxis": {
            "gridcolor": "white",
            "linecolor": "white",
            "ticks": ""
           },
           "bgcolor": "#E5ECF6",
           "radialaxis": {
            "gridcolor": "white",
            "linecolor": "white",
            "ticks": ""
           }
          },
          "scene": {
           "xaxis": {
            "backgroundcolor": "#E5ECF6",
            "gridcolor": "white",
            "gridwidth": 2,
            "linecolor": "white",
            "showbackground": true,
            "ticks": "",
            "zerolinecolor": "white"
           },
           "yaxis": {
            "backgroundcolor": "#E5ECF6",
            "gridcolor": "white",
            "gridwidth": 2,
            "linecolor": "white",
            "showbackground": true,
            "ticks": "",
            "zerolinecolor": "white"
           },
           "zaxis": {
            "backgroundcolor": "#E5ECF6",
            "gridcolor": "white",
            "gridwidth": 2,
            "linecolor": "white",
            "showbackground": true,
            "ticks": "",
            "zerolinecolor": "white"
           }
          },
          "shapedefaults": {
           "line": {
            "color": "#2a3f5f"
           }
          },
          "ternary": {
           "aaxis": {
            "gridcolor": "white",
            "linecolor": "white",
            "ticks": ""
           },
           "baxis": {
            "gridcolor": "white",
            "linecolor": "white",
            "ticks": ""
           },
           "bgcolor": "#E5ECF6",
           "caxis": {
            "gridcolor": "white",
            "linecolor": "white",
            "ticks": ""
           }
          },
          "title": {
           "x": 0.05
          },
          "xaxis": {
           "automargin": true,
           "gridcolor": "white",
           "linecolor": "white",
           "ticks": "",
           "title": {
            "standoff": 15
           },
           "zerolinecolor": "white",
           "zerolinewidth": 2
          },
          "yaxis": {
           "automargin": true,
           "gridcolor": "white",
           "linecolor": "white",
           "ticks": "",
           "title": {
            "standoff": 15
           },
           "zerolinecolor": "white",
           "zerolinewidth": 2
          }
         }
        },
        "title": {
         "text": "Cảm xúc Distribution"
        },
        "xaxis": {
         "anchor": "y",
         "categoryarray": [
          "Vui",
          "Bình thường",
          "Khó chịu",
          "Buồn"
         ],
         "categoryorder": "array",
         "domain": [
          0,
          1
         ],
         "title": {
          "text": "Cảm xúc"
         }
        },
        "yaxis": {
         "anchor": "x",
         "domain": [
          0,
          1
         ],
         "title": {
          "text": "Count"
         }
        }
       }
      }
     },
     "metadata": {},
     "output_type": "display_data"
    }
   ],
   "source": [
    "fig = px.histogram(data, x='Cảm xúc', color='Cảm xúc', title='Cảm xúc Distribution')\n",
    "fig.update_layout(xaxis_title='Cảm xúc', yaxis_title='Count')\n",
    "fig.show()"
   ]
  },
  {
   "cell_type": "code",
   "execution_count": 31,
   "metadata": {},
   "outputs": [
    {
     "data": {
      "application/vnd.plotly.v1+json": {
       "config": {
        "plotlyServerURL": "https://plot.ly"
       },
       "data": [
        {
         "alignmentgroup": "True",
         "bingroup": "x",
         "hovertemplate": "Thời tiết=%{x}<br>count=%{y}<extra></extra>",
         "legendgroup": "Lạnh",
         "marker": {
          "color": "#636efa",
          "pattern": {
           "shape": ""
          }
         },
         "name": "Lạnh",
         "offsetgroup": "Lạnh",
         "orientation": "v",
         "showlegend": true,
         "type": "histogram",
         "x": [
          "Lạnh",
          "Lạnh",
          "Lạnh",
          "Lạnh",
          "Lạnh",
          "Lạnh",
          "Lạnh",
          "Lạnh",
          "Lạnh",
          "Lạnh",
          "Lạnh",
          "Lạnh",
          "Lạnh",
          "Lạnh",
          "Lạnh",
          "Lạnh",
          "Lạnh",
          "Lạnh",
          "Lạnh",
          "Lạnh",
          "Lạnh",
          "Lạnh",
          "Lạnh",
          "Lạnh",
          "Lạnh",
          "Lạnh",
          "Lạnh",
          "Lạnh",
          "Lạnh",
          "Lạnh",
          "Lạnh",
          "Lạnh",
          "Lạnh",
          "Lạnh",
          "Lạnh",
          "Lạnh",
          "Lạnh",
          "Lạnh",
          "Lạnh",
          "Lạnh",
          "Lạnh",
          "Lạnh",
          "Lạnh",
          "Lạnh",
          "Lạnh",
          "Lạnh",
          "Lạnh",
          "Lạnh",
          "Lạnh",
          "Lạnh",
          "Lạnh",
          "Lạnh",
          "Lạnh",
          "Lạnh",
          "Lạnh",
          "Lạnh",
          "Lạnh",
          "Lạnh",
          "Lạnh",
          "Lạnh",
          "Lạnh",
          "Lạnh",
          "Lạnh",
          "Lạnh",
          "Lạnh",
          "Lạnh",
          "Lạnh",
          "Lạnh",
          "Lạnh",
          "Lạnh",
          "Lạnh",
          "Lạnh",
          "Lạnh",
          "Lạnh",
          "Lạnh",
          "Lạnh",
          "Lạnh",
          "Lạnh",
          "Lạnh",
          "Lạnh",
          "Lạnh",
          "Lạnh",
          "Lạnh",
          "Lạnh",
          "Lạnh",
          "Lạnh",
          "Lạnh",
          "Lạnh",
          "Lạnh",
          "Lạnh",
          "Lạnh",
          "Lạnh",
          "Lạnh",
          "Lạnh",
          "Lạnh",
          "Lạnh",
          "Lạnh",
          "Lạnh",
          "Lạnh",
          "Lạnh",
          "Lạnh",
          "Lạnh",
          "Lạnh",
          "Lạnh",
          "Lạnh",
          "Lạnh",
          "Lạnh",
          "Lạnh",
          "Lạnh",
          "Lạnh",
          "Lạnh",
          "Lạnh",
          "Lạnh",
          "Lạnh",
          "Lạnh",
          "Lạnh",
          "Lạnh",
          "Lạnh",
          "Lạnh",
          "Lạnh",
          "Lạnh",
          "Lạnh",
          "Lạnh",
          "Lạnh",
          "Lạnh",
          "Lạnh",
          "Lạnh",
          "Lạnh",
          "Lạnh",
          "Lạnh",
          "Lạnh",
          "Lạnh",
          "Lạnh",
          "Lạnh",
          "Lạnh",
          "Lạnh",
          "Lạnh",
          "Lạnh"
         ],
         "xaxis": "x",
         "yaxis": "y"
        },
        {
         "alignmentgroup": "True",
         "bingroup": "x",
         "hovertemplate": "Thời tiết=%{x}<br>count=%{y}<extra></extra>",
         "legendgroup": "Nóng",
         "marker": {
          "color": "#EF553B",
          "pattern": {
           "shape": ""
          }
         },
         "name": "Nóng",
         "offsetgroup": "Nóng",
         "orientation": "v",
         "showlegend": true,
         "type": "histogram",
         "x": [
          "Nóng",
          "Nóng",
          "Nóng",
          "Nóng",
          "Nóng",
          "Nóng",
          "Nóng",
          "Nóng",
          "Nóng",
          "Nóng",
          "Nóng",
          "Nóng",
          "Nóng",
          "Nóng",
          "Nóng",
          "Nóng",
          "Nóng",
          "Nóng",
          "Nóng",
          "Nóng",
          "Nóng",
          "Nóng",
          "Nóng",
          "Nóng",
          "Nóng",
          "Nóng",
          "Nóng",
          "Nóng",
          "Nóng",
          "Nóng",
          "Nóng",
          "Nóng",
          "Nóng",
          "Nóng",
          "Nóng",
          "Nóng",
          "Nóng",
          "Nóng",
          "Nóng",
          "Nóng",
          "Nóng",
          "Nóng",
          "Nóng",
          "Nóng",
          "Nóng",
          "Nóng",
          "Nóng",
          "Nóng",
          "Nóng",
          "Nóng",
          "Nóng",
          "Nóng",
          "Nóng",
          "Nóng",
          "Nóng",
          "Nóng",
          "Nóng",
          "Nóng",
          "Nóng",
          "Nóng",
          "Nóng",
          "Nóng",
          "Nóng",
          "Nóng",
          "Nóng",
          "Nóng",
          "Nóng",
          "Nóng",
          "Nóng",
          "Nóng",
          "Nóng",
          "Nóng",
          "Nóng",
          "Nóng",
          "Nóng",
          "Nóng",
          "Nóng",
          "Nóng",
          "Nóng",
          "Nóng",
          "Nóng",
          "Nóng",
          "Nóng",
          "Nóng",
          "Nóng",
          "Nóng",
          "Nóng",
          "Nóng",
          "Nóng",
          "Nóng",
          "Nóng",
          "Nóng",
          "Nóng",
          "Nóng",
          "Nóng",
          "Nóng",
          "Nóng",
          "Nóng",
          "Nóng",
          "Nóng",
          "Nóng",
          "Nóng",
          "Nóng",
          "Nóng",
          "Nóng",
          "Nóng",
          "Nóng",
          "Nóng",
          "Nóng",
          "Nóng",
          "Nóng",
          "Nóng",
          "Nóng",
          "Nóng",
          "Nóng",
          "Nóng",
          "Nóng",
          "Nóng",
          "Nóng",
          "Nóng",
          "Nóng",
          "Nóng",
          "Nóng",
          "Nóng",
          "Nóng",
          "Nóng",
          "Nóng",
          "Nóng",
          "Nóng",
          "Nóng",
          "Nóng",
          "Nóng",
          "Nóng",
          "Nóng",
          "Nóng",
          "Nóng"
         ],
         "xaxis": "x",
         "yaxis": "y"
        },
        {
         "alignmentgroup": "True",
         "bingroup": "x",
         "hovertemplate": "Thời tiết=%{x}<br>count=%{y}<extra></extra>",
         "legendgroup": "Hơi lạnh",
         "marker": {
          "color": "#00cc96",
          "pattern": {
           "shape": ""
          }
         },
         "name": "Hơi lạnh",
         "offsetgroup": "Hơi lạnh",
         "orientation": "v",
         "showlegend": true,
         "type": "histogram",
         "x": [
          "Hơi lạnh",
          "Hơi lạnh",
          "Hơi lạnh",
          "Hơi lạnh",
          "Hơi lạnh",
          "Hơi lạnh",
          "Hơi lạnh",
          "Hơi lạnh",
          "Hơi lạnh",
          "Hơi lạnh",
          "Hơi lạnh",
          "Hơi lạnh",
          "Hơi lạnh",
          "Hơi lạnh",
          "Hơi lạnh",
          "Hơi lạnh",
          "Hơi lạnh",
          "Hơi lạnh",
          "Hơi lạnh",
          "Hơi lạnh",
          "Hơi lạnh",
          "Hơi lạnh",
          "Hơi lạnh",
          "Hơi lạnh",
          "Hơi lạnh",
          "Hơi lạnh",
          "Hơi lạnh",
          "Hơi lạnh",
          "Hơi lạnh",
          "Hơi lạnh",
          "Hơi lạnh",
          "Hơi lạnh",
          "Hơi lạnh",
          "Hơi lạnh",
          "Hơi lạnh",
          "Hơi lạnh",
          "Hơi lạnh",
          "Hơi lạnh",
          "Hơi lạnh",
          "Hơi lạnh",
          "Hơi lạnh",
          "Hơi lạnh",
          "Hơi lạnh",
          "Hơi lạnh",
          "Hơi lạnh",
          "Hơi lạnh",
          "Hơi lạnh",
          "Hơi lạnh",
          "Hơi lạnh",
          "Hơi lạnh",
          "Hơi lạnh",
          "Hơi lạnh",
          "Hơi lạnh",
          "Hơi lạnh",
          "Hơi lạnh",
          "Hơi lạnh",
          "Hơi lạnh",
          "Hơi lạnh",
          "Hơi lạnh",
          "Hơi lạnh",
          "Hơi lạnh",
          "Hơi lạnh",
          "Hơi lạnh",
          "Hơi lạnh",
          "Hơi lạnh",
          "Hơi lạnh",
          "Hơi lạnh",
          "Hơi lạnh",
          "Hơi lạnh",
          "Hơi lạnh",
          "Hơi lạnh",
          "Hơi lạnh",
          "Hơi lạnh",
          "Hơi lạnh",
          "Hơi lạnh",
          "Hơi lạnh",
          "Hơi lạnh",
          "Hơi lạnh",
          "Hơi lạnh",
          "Hơi lạnh",
          "Hơi lạnh",
          "Hơi lạnh",
          "Hơi lạnh",
          "Hơi lạnh",
          "Hơi lạnh",
          "Hơi lạnh",
          "Hơi lạnh",
          "Hơi lạnh",
          "Hơi lạnh",
          "Hơi lạnh",
          "Hơi lạnh",
          "Hơi lạnh",
          "Hơi lạnh",
          "Hơi lạnh",
          "Hơi lạnh",
          "Hơi lạnh",
          "Hơi lạnh",
          "Hơi lạnh",
          "Hơi lạnh",
          "Hơi lạnh",
          "Hơi lạnh",
          "Hơi lạnh",
          "Hơi lạnh",
          "Hơi lạnh",
          "Hơi lạnh",
          "Hơi lạnh",
          "Hơi lạnh",
          "Hơi lạnh",
          "Hơi lạnh",
          "Hơi lạnh",
          "Hơi lạnh",
          "Hơi lạnh",
          "Hơi lạnh",
          "Hơi lạnh",
          "Hơi lạnh",
          "Hơi lạnh",
          "Hơi lạnh",
          "Hơi lạnh",
          "Hơi lạnh",
          "Hơi lạnh",
          "Hơi lạnh",
          "Hơi lạnh",
          "Hơi lạnh",
          "Hơi lạnh",
          "Hơi lạnh",
          "Hơi lạnh",
          "Hơi lạnh",
          "Hơi lạnh",
          "Hơi lạnh",
          "Hơi lạnh",
          "Hơi lạnh",
          "Hơi lạnh",
          "Hơi lạnh",
          "Hơi lạnh",
          "Hơi lạnh",
          "Hơi lạnh",
          "Hơi lạnh",
          "Hơi lạnh",
          "Hơi lạnh",
          "Hơi lạnh",
          "Hơi lạnh",
          "Hơi lạnh",
          "Hơi lạnh",
          "Hơi lạnh",
          "Hơi lạnh",
          "Hơi lạnh",
          "Hơi lạnh",
          "Hơi lạnh",
          "Hơi lạnh",
          "Hơi lạnh"
         ],
         "xaxis": "x",
         "yaxis": "y"
        },
        {
         "alignmentgroup": "True",
         "bingroup": "x",
         "hovertemplate": "Thời tiết=%{x}<br>count=%{y}<extra></extra>",
         "legendgroup": "Quá Nóng",
         "marker": {
          "color": "#ab63fa",
          "pattern": {
           "shape": ""
          }
         },
         "name": "Quá Nóng",
         "offsetgroup": "Quá Nóng",
         "orientation": "v",
         "showlegend": true,
         "type": "histogram",
         "x": [
          "Quá Nóng",
          "Quá Nóng",
          "Quá Nóng",
          "Quá Nóng",
          "Quá Nóng",
          "Quá Nóng",
          "Quá Nóng",
          "Quá Nóng",
          "Quá Nóng",
          "Quá Nóng",
          "Quá Nóng",
          "Quá Nóng",
          "Quá Nóng",
          "Quá Nóng",
          "Quá Nóng",
          "Quá Nóng",
          "Quá Nóng",
          "Quá Nóng",
          "Quá Nóng",
          "Quá Nóng",
          "Quá Nóng",
          "Quá Nóng",
          "Quá Nóng",
          "Quá Nóng",
          "Quá Nóng",
          "Quá Nóng",
          "Quá Nóng",
          "Quá Nóng",
          "Quá Nóng",
          "Quá Nóng",
          "Quá Nóng",
          "Quá Nóng",
          "Quá Nóng",
          "Quá Nóng",
          "Quá Nóng",
          "Quá Nóng",
          "Quá Nóng",
          "Quá Nóng",
          "Quá Nóng",
          "Quá Nóng",
          "Quá Nóng",
          "Quá Nóng",
          "Quá Nóng",
          "Quá Nóng",
          "Quá Nóng",
          "Quá Nóng",
          "Quá Nóng",
          "Quá Nóng",
          "Quá Nóng",
          "Quá Nóng",
          "Quá Nóng",
          "Quá Nóng",
          "Quá Nóng",
          "Quá Nóng",
          "Quá Nóng",
          "Quá Nóng",
          "Quá Nóng",
          "Quá Nóng",
          "Quá Nóng",
          "Quá Nóng",
          "Quá Nóng",
          "Quá Nóng",
          "Quá Nóng",
          "Quá Nóng",
          "Quá Nóng",
          "Quá Nóng",
          "Quá Nóng",
          "Quá Nóng",
          "Quá Nóng",
          "Quá Nóng",
          "Quá Nóng",
          "Quá Nóng",
          "Quá Nóng",
          "Quá Nóng",
          "Quá Nóng",
          "Quá Nóng",
          "Quá Nóng",
          "Quá Nóng",
          "Quá Nóng",
          "Quá Nóng",
          "Quá Nóng",
          "Quá Nóng",
          "Quá Nóng",
          "Quá Nóng",
          "Quá Nóng",
          "Quá Nóng",
          "Quá Nóng",
          "Quá Nóng",
          "Quá Nóng",
          "Quá Nóng",
          "Quá Nóng",
          "Quá Nóng",
          "Quá Nóng",
          "Quá Nóng",
          "Quá Nóng",
          "Quá Nóng",
          "Quá Nóng",
          "Quá Nóng",
          "Quá Nóng",
          "Quá Nóng",
          "Quá Nóng",
          "Quá Nóng",
          "Quá Nóng",
          "Quá Nóng",
          "Quá Nóng",
          "Quá Nóng",
          "Quá Nóng",
          "Quá Nóng",
          "Quá Nóng",
          "Quá Nóng",
          "Quá Nóng",
          "Quá Nóng",
          "Quá Nóng",
          "Quá Nóng",
          "Quá Nóng",
          "Quá Nóng",
          "Quá Nóng",
          "Quá Nóng",
          "Quá Nóng",
          "Quá Nóng",
          "Quá Nóng",
          "Quá Nóng",
          "Quá Nóng",
          "Quá Nóng",
          "Quá Nóng",
          "Quá Nóng",
          "Quá Nóng",
          "Quá Nóng",
          "Quá Nóng",
          "Quá Nóng",
          "Quá Nóng",
          "Quá Nóng",
          "Quá Nóng",
          "Quá Nóng",
          "Quá Nóng",
          "Quá Nóng"
         ],
         "xaxis": "x",
         "yaxis": "y"
        },
        {
         "alignmentgroup": "True",
         "bingroup": "x",
         "hovertemplate": "Thời tiết=%{x}<br>count=%{y}<extra></extra>",
         "legendgroup": "Mát",
         "marker": {
          "color": "#FFA15A",
          "pattern": {
           "shape": ""
          }
         },
         "name": "Mát",
         "offsetgroup": "Mát",
         "orientation": "v",
         "showlegend": true,
         "type": "histogram",
         "x": [
          "Mát",
          "Mát",
          "Mát",
          "Mát",
          "Mát",
          "Mát",
          "Mát",
          "Mát",
          "Mát",
          "Mát",
          "Mát",
          "Mát",
          "Mát",
          "Mát",
          "Mát",
          "Mát",
          "Mát",
          "Mát",
          "Mát",
          "Mát",
          "Mát",
          "Mát",
          "Mát",
          "Mát",
          "Mát",
          "Mát",
          "Mát",
          "Mát",
          "Mát",
          "Mát",
          "Mát",
          "Mát",
          "Mát",
          "Mát",
          "Mát",
          "Mát",
          "Mát",
          "Mát",
          "Mát",
          "Mát",
          "Mát",
          "Mát",
          "Mát",
          "Mát",
          "Mát",
          "Mát",
          "Mát",
          "Mát",
          "Mát",
          "Mát",
          "Mát",
          "Mát",
          "Mát",
          "Mát",
          "Mát",
          "Mát",
          "Mát",
          "Mát",
          "Mát",
          "Mát",
          "Mát",
          "Mát",
          "Mát",
          "Mát",
          "Mát",
          "Mát",
          "Mát",
          "Mát",
          "Mát",
          "Mát",
          "Mát",
          "Mát",
          "Mát",
          "Mát",
          "Mát",
          "Mát",
          "Mát",
          "Mát",
          "Mát",
          "Mát",
          "Mát",
          "Mát",
          "Mát",
          "Mát",
          "Mát",
          "Mát",
          "Mát",
          "Mát",
          "Mát",
          "Mát",
          "Mát",
          "Mát",
          "Mát",
          "Mát",
          "Mát",
          "Mát",
          "Mát",
          "Mát",
          "Mát",
          "Mát",
          "Mát",
          "Mát",
          "Mát",
          "Mát",
          "Mát",
          "Mát",
          "Mát",
          "Mát",
          "Mát",
          "Mát",
          "Mát",
          "Mát",
          "Mát",
          "Mát",
          "Mát",
          "Mát",
          "Mát",
          "Mát",
          "Mát",
          "Mát",
          "Mát",
          "Mát",
          "Mát",
          "Mát",
          "Mát",
          "Mát",
          "Mát",
          "Mát",
          "Mát",
          "Mát",
          "Mát"
         ],
         "xaxis": "x",
         "yaxis": "y"
        },
        {
         "alignmentgroup": "True",
         "bingroup": "x",
         "hovertemplate": "Thời tiết=%{x}<br>count=%{y}<extra></extra>",
         "legendgroup": "Hơi Nóng",
         "marker": {
          "color": "#19d3f3",
          "pattern": {
           "shape": ""
          }
         },
         "name": "Hơi Nóng",
         "offsetgroup": "Hơi Nóng",
         "orientation": "v",
         "showlegend": true,
         "type": "histogram",
         "x": [
          "Hơi Nóng",
          "Hơi Nóng",
          "Hơi Nóng",
          "Hơi Nóng",
          "Hơi Nóng",
          "Hơi Nóng",
          "Hơi Nóng",
          "Hơi Nóng",
          "Hơi Nóng",
          "Hơi Nóng",
          "Hơi Nóng",
          "Hơi Nóng",
          "Hơi Nóng",
          "Hơi Nóng",
          "Hơi Nóng",
          "Hơi Nóng",
          "Hơi Nóng",
          "Hơi Nóng",
          "Hơi Nóng",
          "Hơi Nóng",
          "Hơi Nóng",
          "Hơi Nóng",
          "Hơi Nóng",
          "Hơi Nóng",
          "Hơi Nóng",
          "Hơi Nóng",
          "Hơi Nóng",
          "Hơi Nóng",
          "Hơi Nóng",
          "Hơi Nóng",
          "Hơi Nóng",
          "Hơi Nóng",
          "Hơi Nóng",
          "Hơi Nóng",
          "Hơi Nóng",
          "Hơi Nóng",
          "Hơi Nóng",
          "Hơi Nóng",
          "Hơi Nóng",
          "Hơi Nóng",
          "Hơi Nóng",
          "Hơi Nóng",
          "Hơi Nóng",
          "Hơi Nóng",
          "Hơi Nóng",
          "Hơi Nóng",
          "Hơi Nóng",
          "Hơi Nóng",
          "Hơi Nóng",
          "Hơi Nóng",
          "Hơi Nóng",
          "Hơi Nóng",
          "Hơi Nóng",
          "Hơi Nóng",
          "Hơi Nóng",
          "Hơi Nóng",
          "Hơi Nóng",
          "Hơi Nóng",
          "Hơi Nóng",
          "Hơi Nóng",
          "Hơi Nóng",
          "Hơi Nóng",
          "Hơi Nóng",
          "Hơi Nóng",
          "Hơi Nóng",
          "Hơi Nóng",
          "Hơi Nóng",
          "Hơi Nóng",
          "Hơi Nóng",
          "Hơi Nóng",
          "Hơi Nóng",
          "Hơi Nóng",
          "Hơi Nóng",
          "Hơi Nóng",
          "Hơi Nóng",
          "Hơi Nóng",
          "Hơi Nóng",
          "Hơi Nóng",
          "Hơi Nóng",
          "Hơi Nóng",
          "Hơi Nóng",
          "Hơi Nóng",
          "Hơi Nóng",
          "Hơi Nóng",
          "Hơi Nóng",
          "Hơi Nóng",
          "Hơi Nóng",
          "Hơi Nóng",
          "Hơi Nóng",
          "Hơi Nóng",
          "Hơi Nóng",
          "Hơi Nóng",
          "Hơi Nóng",
          "Hơi Nóng",
          "Hơi Nóng",
          "Hơi Nóng",
          "Hơi Nóng",
          "Hơi Nóng",
          "Hơi Nóng",
          "Hơi Nóng",
          "Hơi Nóng",
          "Hơi Nóng",
          "Hơi Nóng",
          "Hơi Nóng",
          "Hơi Nóng",
          "Hơi Nóng",
          "Hơi Nóng",
          "Hơi Nóng",
          "Hơi Nóng",
          "Hơi Nóng",
          "Hơi Nóng",
          "Hơi Nóng",
          "Hơi Nóng",
          "Hơi Nóng",
          "Hơi Nóng",
          "Hơi Nóng",
          "Hơi Nóng",
          "Hơi Nóng",
          "Hơi Nóng",
          "Hơi Nóng",
          "Hơi Nóng",
          "Hơi Nóng",
          "Hơi Nóng",
          "Hơi Nóng",
          "Hơi Nóng",
          "Hơi Nóng",
          "Hơi Nóng",
          "Hơi Nóng",
          "Hơi Nóng",
          "Hơi Nóng",
          "Hơi Nóng",
          "Hơi Nóng",
          "Hơi Nóng",
          "Hơi Nóng",
          "Hơi Nóng",
          "Hơi Nóng",
          "Hơi Nóng",
          "Hơi Nóng",
          "Hơi Nóng",
          "Hơi Nóng",
          "Hơi Nóng",
          "Hơi Nóng",
          "Hơi Nóng",
          "Hơi Nóng",
          "Hơi Nóng",
          "Hơi Nóng"
         ],
         "xaxis": "x",
         "yaxis": "y"
        },
        {
         "alignmentgroup": "True",
         "bingroup": "x",
         "hovertemplate": "Thời tiết=%{x}<br>count=%{y}<extra></extra>",
         "legendgroup": "Qúa lạnh",
         "marker": {
          "color": "#FF6692",
          "pattern": {
           "shape": ""
          }
         },
         "name": "Qúa lạnh",
         "offsetgroup": "Qúa lạnh",
         "orientation": "v",
         "showlegend": true,
         "type": "histogram",
         "x": [
          "Qúa lạnh",
          "Qúa lạnh",
          "Qúa lạnh",
          "Qúa lạnh",
          "Qúa lạnh",
          "Qúa lạnh",
          "Qúa lạnh",
          "Qúa lạnh",
          "Qúa lạnh",
          "Qúa lạnh",
          "Qúa lạnh",
          "Qúa lạnh",
          "Qúa lạnh",
          "Qúa lạnh",
          "Qúa lạnh",
          "Qúa lạnh",
          "Qúa lạnh",
          "Qúa lạnh",
          "Qúa lạnh",
          "Qúa lạnh",
          "Qúa lạnh",
          "Qúa lạnh",
          "Qúa lạnh",
          "Qúa lạnh",
          "Qúa lạnh",
          "Qúa lạnh",
          "Qúa lạnh",
          "Qúa lạnh",
          "Qúa lạnh",
          "Qúa lạnh",
          "Qúa lạnh",
          "Qúa lạnh",
          "Qúa lạnh",
          "Qúa lạnh",
          "Qúa lạnh",
          "Qúa lạnh",
          "Qúa lạnh",
          "Qúa lạnh",
          "Qúa lạnh",
          "Qúa lạnh",
          "Qúa lạnh",
          "Qúa lạnh",
          "Qúa lạnh",
          "Qúa lạnh",
          "Qúa lạnh",
          "Qúa lạnh",
          "Qúa lạnh",
          "Qúa lạnh",
          "Qúa lạnh",
          "Qúa lạnh",
          "Qúa lạnh",
          "Qúa lạnh",
          "Qúa lạnh",
          "Qúa lạnh",
          "Qúa lạnh",
          "Qúa lạnh",
          "Qúa lạnh",
          "Qúa lạnh",
          "Qúa lạnh",
          "Qúa lạnh",
          "Qúa lạnh",
          "Qúa lạnh",
          "Qúa lạnh",
          "Qúa lạnh",
          "Qúa lạnh",
          "Qúa lạnh",
          "Qúa lạnh",
          "Qúa lạnh",
          "Qúa lạnh",
          "Qúa lạnh",
          "Qúa lạnh",
          "Qúa lạnh",
          "Qúa lạnh",
          "Qúa lạnh",
          "Qúa lạnh",
          "Qúa lạnh",
          "Qúa lạnh",
          "Qúa lạnh",
          "Qúa lạnh",
          "Qúa lạnh",
          "Qúa lạnh",
          "Qúa lạnh",
          "Qúa lạnh",
          "Qúa lạnh",
          "Qúa lạnh",
          "Qúa lạnh",
          "Qúa lạnh",
          "Qúa lạnh",
          "Qúa lạnh",
          "Qúa lạnh",
          "Qúa lạnh",
          "Qúa lạnh",
          "Qúa lạnh",
          "Qúa lạnh",
          "Qúa lạnh",
          "Qúa lạnh",
          "Qúa lạnh",
          "Qúa lạnh",
          "Qúa lạnh",
          "Qúa lạnh",
          "Qúa lạnh",
          "Qúa lạnh",
          "Qúa lạnh",
          "Qúa lạnh",
          "Qúa lạnh",
          "Qúa lạnh",
          "Qúa lạnh",
          "Qúa lạnh",
          "Qúa lạnh",
          "Qúa lạnh",
          "Qúa lạnh",
          "Qúa lạnh",
          "Qúa lạnh",
          "Qúa lạnh",
          "Qúa lạnh",
          "Qúa lạnh",
          "Qúa lạnh",
          "Qúa lạnh",
          "Qúa lạnh",
          "Qúa lạnh",
          "Qúa lạnh",
          "Qúa lạnh",
          "Qúa lạnh",
          "Qúa lạnh",
          "Qúa lạnh",
          "Qúa lạnh",
          "Qúa lạnh",
          "Qúa lạnh",
          "Qúa lạnh",
          "Qúa lạnh",
          "Qúa lạnh",
          "Qúa lạnh",
          "Qúa lạnh",
          "Qúa lạnh",
          "Qúa lạnh",
          "Qúa lạnh",
          "Qúa lạnh",
          "Qúa lạnh",
          "Qúa lạnh",
          "Qúa lạnh",
          "Qúa lạnh",
          "Qúa lạnh",
          "Qúa lạnh",
          "Qúa lạnh",
          "Qúa lạnh",
          "Qúa lạnh",
          "Qúa lạnh",
          "Qúa lạnh",
          "Qúa lạnh",
          "Qúa lạnh",
          "Qúa lạnh",
          "Qúa lạnh",
          "Qúa lạnh",
          "Qúa lạnh",
          "Qúa lạnh",
          "Qúa lạnh",
          "Qúa lạnh",
          "Qúa lạnh",
          "Qúa lạnh",
          "Qúa lạnh"
         ],
         "xaxis": "x",
         "yaxis": "y"
        }
       ],
       "layout": {
        "barmode": "relative",
        "legend": {
         "title": {
          "text": "Thời tiết"
         },
         "tracegroupgap": 0
        },
        "template": {
         "data": {
          "bar": [
           {
            "error_x": {
             "color": "#2a3f5f"
            },
            "error_y": {
             "color": "#2a3f5f"
            },
            "marker": {
             "line": {
              "color": "#E5ECF6",
              "width": 0.5
             },
             "pattern": {
              "fillmode": "overlay",
              "size": 10,
              "solidity": 0.2
             }
            },
            "type": "bar"
           }
          ],
          "barpolar": [
           {
            "marker": {
             "line": {
              "color": "#E5ECF6",
              "width": 0.5
             },
             "pattern": {
              "fillmode": "overlay",
              "size": 10,
              "solidity": 0.2
             }
            },
            "type": "barpolar"
           }
          ],
          "carpet": [
           {
            "aaxis": {
             "endlinecolor": "#2a3f5f",
             "gridcolor": "white",
             "linecolor": "white",
             "minorgridcolor": "white",
             "startlinecolor": "#2a3f5f"
            },
            "baxis": {
             "endlinecolor": "#2a3f5f",
             "gridcolor": "white",
             "linecolor": "white",
             "minorgridcolor": "white",
             "startlinecolor": "#2a3f5f"
            },
            "type": "carpet"
           }
          ],
          "choropleth": [
           {
            "colorbar": {
             "outlinewidth": 0,
             "ticks": ""
            },
            "type": "choropleth"
           }
          ],
          "contour": [
           {
            "colorbar": {
             "outlinewidth": 0,
             "ticks": ""
            },
            "colorscale": [
             [
              0,
              "#0d0887"
             ],
             [
              0.1111111111111111,
              "#46039f"
             ],
             [
              0.2222222222222222,
              "#7201a8"
             ],
             [
              0.3333333333333333,
              "#9c179e"
             ],
             [
              0.4444444444444444,
              "#bd3786"
             ],
             [
              0.5555555555555556,
              "#d8576b"
             ],
             [
              0.6666666666666666,
              "#ed7953"
             ],
             [
              0.7777777777777778,
              "#fb9f3a"
             ],
             [
              0.8888888888888888,
              "#fdca26"
             ],
             [
              1,
              "#f0f921"
             ]
            ],
            "type": "contour"
           }
          ],
          "contourcarpet": [
           {
            "colorbar": {
             "outlinewidth": 0,
             "ticks": ""
            },
            "type": "contourcarpet"
           }
          ],
          "heatmap": [
           {
            "colorbar": {
             "outlinewidth": 0,
             "ticks": ""
            },
            "colorscale": [
             [
              0,
              "#0d0887"
             ],
             [
              0.1111111111111111,
              "#46039f"
             ],
             [
              0.2222222222222222,
              "#7201a8"
             ],
             [
              0.3333333333333333,
              "#9c179e"
             ],
             [
              0.4444444444444444,
              "#bd3786"
             ],
             [
              0.5555555555555556,
              "#d8576b"
             ],
             [
              0.6666666666666666,
              "#ed7953"
             ],
             [
              0.7777777777777778,
              "#fb9f3a"
             ],
             [
              0.8888888888888888,
              "#fdca26"
             ],
             [
              1,
              "#f0f921"
             ]
            ],
            "type": "heatmap"
           }
          ],
          "heatmapgl": [
           {
            "colorbar": {
             "outlinewidth": 0,
             "ticks": ""
            },
            "colorscale": [
             [
              0,
              "#0d0887"
             ],
             [
              0.1111111111111111,
              "#46039f"
             ],
             [
              0.2222222222222222,
              "#7201a8"
             ],
             [
              0.3333333333333333,
              "#9c179e"
             ],
             [
              0.4444444444444444,
              "#bd3786"
             ],
             [
              0.5555555555555556,
              "#d8576b"
             ],
             [
              0.6666666666666666,
              "#ed7953"
             ],
             [
              0.7777777777777778,
              "#fb9f3a"
             ],
             [
              0.8888888888888888,
              "#fdca26"
             ],
             [
              1,
              "#f0f921"
             ]
            ],
            "type": "heatmapgl"
           }
          ],
          "histogram": [
           {
            "marker": {
             "pattern": {
              "fillmode": "overlay",
              "size": 10,
              "solidity": 0.2
             }
            },
            "type": "histogram"
           }
          ],
          "histogram2d": [
           {
            "colorbar": {
             "outlinewidth": 0,
             "ticks": ""
            },
            "colorscale": [
             [
              0,
              "#0d0887"
             ],
             [
              0.1111111111111111,
              "#46039f"
             ],
             [
              0.2222222222222222,
              "#7201a8"
             ],
             [
              0.3333333333333333,
              "#9c179e"
             ],
             [
              0.4444444444444444,
              "#bd3786"
             ],
             [
              0.5555555555555556,
              "#d8576b"
             ],
             [
              0.6666666666666666,
              "#ed7953"
             ],
             [
              0.7777777777777778,
              "#fb9f3a"
             ],
             [
              0.8888888888888888,
              "#fdca26"
             ],
             [
              1,
              "#f0f921"
             ]
            ],
            "type": "histogram2d"
           }
          ],
          "histogram2dcontour": [
           {
            "colorbar": {
             "outlinewidth": 0,
             "ticks": ""
            },
            "colorscale": [
             [
              0,
              "#0d0887"
             ],
             [
              0.1111111111111111,
              "#46039f"
             ],
             [
              0.2222222222222222,
              "#7201a8"
             ],
             [
              0.3333333333333333,
              "#9c179e"
             ],
             [
              0.4444444444444444,
              "#bd3786"
             ],
             [
              0.5555555555555556,
              "#d8576b"
             ],
             [
              0.6666666666666666,
              "#ed7953"
             ],
             [
              0.7777777777777778,
              "#fb9f3a"
             ],
             [
              0.8888888888888888,
              "#fdca26"
             ],
             [
              1,
              "#f0f921"
             ]
            ],
            "type": "histogram2dcontour"
           }
          ],
          "mesh3d": [
           {
            "colorbar": {
             "outlinewidth": 0,
             "ticks": ""
            },
            "type": "mesh3d"
           }
          ],
          "parcoords": [
           {
            "line": {
             "colorbar": {
              "outlinewidth": 0,
              "ticks": ""
             }
            },
            "type": "parcoords"
           }
          ],
          "pie": [
           {
            "automargin": true,
            "type": "pie"
           }
          ],
          "scatter": [
           {
            "fillpattern": {
             "fillmode": "overlay",
             "size": 10,
             "solidity": 0.2
            },
            "type": "scatter"
           }
          ],
          "scatter3d": [
           {
            "line": {
             "colorbar": {
              "outlinewidth": 0,
              "ticks": ""
             }
            },
            "marker": {
             "colorbar": {
              "outlinewidth": 0,
              "ticks": ""
             }
            },
            "type": "scatter3d"
           }
          ],
          "scattercarpet": [
           {
            "marker": {
             "colorbar": {
              "outlinewidth": 0,
              "ticks": ""
             }
            },
            "type": "scattercarpet"
           }
          ],
          "scattergeo": [
           {
            "marker": {
             "colorbar": {
              "outlinewidth": 0,
              "ticks": ""
             }
            },
            "type": "scattergeo"
           }
          ],
          "scattergl": [
           {
            "marker": {
             "colorbar": {
              "outlinewidth": 0,
              "ticks": ""
             }
            },
            "type": "scattergl"
           }
          ],
          "scattermapbox": [
           {
            "marker": {
             "colorbar": {
              "outlinewidth": 0,
              "ticks": ""
             }
            },
            "type": "scattermapbox"
           }
          ],
          "scatterpolar": [
           {
            "marker": {
             "colorbar": {
              "outlinewidth": 0,
              "ticks": ""
             }
            },
            "type": "scatterpolar"
           }
          ],
          "scatterpolargl": [
           {
            "marker": {
             "colorbar": {
              "outlinewidth": 0,
              "ticks": ""
             }
            },
            "type": "scatterpolargl"
           }
          ],
          "scatterternary": [
           {
            "marker": {
             "colorbar": {
              "outlinewidth": 0,
              "ticks": ""
             }
            },
            "type": "scatterternary"
           }
          ],
          "surface": [
           {
            "colorbar": {
             "outlinewidth": 0,
             "ticks": ""
            },
            "colorscale": [
             [
              0,
              "#0d0887"
             ],
             [
              0.1111111111111111,
              "#46039f"
             ],
             [
              0.2222222222222222,
              "#7201a8"
             ],
             [
              0.3333333333333333,
              "#9c179e"
             ],
             [
              0.4444444444444444,
              "#bd3786"
             ],
             [
              0.5555555555555556,
              "#d8576b"
             ],
             [
              0.6666666666666666,
              "#ed7953"
             ],
             [
              0.7777777777777778,
              "#fb9f3a"
             ],
             [
              0.8888888888888888,
              "#fdca26"
             ],
             [
              1,
              "#f0f921"
             ]
            ],
            "type": "surface"
           }
          ],
          "table": [
           {
            "cells": {
             "fill": {
              "color": "#EBF0F8"
             },
             "line": {
              "color": "white"
             }
            },
            "header": {
             "fill": {
              "color": "#C8D4E3"
             },
             "line": {
              "color": "white"
             }
            },
            "type": "table"
           }
          ]
         },
         "layout": {
          "annotationdefaults": {
           "arrowcolor": "#2a3f5f",
           "arrowhead": 0,
           "arrowwidth": 1
          },
          "autotypenumbers": "strict",
          "coloraxis": {
           "colorbar": {
            "outlinewidth": 0,
            "ticks": ""
           }
          },
          "colorscale": {
           "diverging": [
            [
             0,
             "#8e0152"
            ],
            [
             0.1,
             "#c51b7d"
            ],
            [
             0.2,
             "#de77ae"
            ],
            [
             0.3,
             "#f1b6da"
            ],
            [
             0.4,
             "#fde0ef"
            ],
            [
             0.5,
             "#f7f7f7"
            ],
            [
             0.6,
             "#e6f5d0"
            ],
            [
             0.7,
             "#b8e186"
            ],
            [
             0.8,
             "#7fbc41"
            ],
            [
             0.9,
             "#4d9221"
            ],
            [
             1,
             "#276419"
            ]
           ],
           "sequential": [
            [
             0,
             "#0d0887"
            ],
            [
             0.1111111111111111,
             "#46039f"
            ],
            [
             0.2222222222222222,
             "#7201a8"
            ],
            [
             0.3333333333333333,
             "#9c179e"
            ],
            [
             0.4444444444444444,
             "#bd3786"
            ],
            [
             0.5555555555555556,
             "#d8576b"
            ],
            [
             0.6666666666666666,
             "#ed7953"
            ],
            [
             0.7777777777777778,
             "#fb9f3a"
            ],
            [
             0.8888888888888888,
             "#fdca26"
            ],
            [
             1,
             "#f0f921"
            ]
           ],
           "sequentialminus": [
            [
             0,
             "#0d0887"
            ],
            [
             0.1111111111111111,
             "#46039f"
            ],
            [
             0.2222222222222222,
             "#7201a8"
            ],
            [
             0.3333333333333333,
             "#9c179e"
            ],
            [
             0.4444444444444444,
             "#bd3786"
            ],
            [
             0.5555555555555556,
             "#d8576b"
            ],
            [
             0.6666666666666666,
             "#ed7953"
            ],
            [
             0.7777777777777778,
             "#fb9f3a"
            ],
            [
             0.8888888888888888,
             "#fdca26"
            ],
            [
             1,
             "#f0f921"
            ]
           ]
          },
          "colorway": [
           "#636efa",
           "#EF553B",
           "#00cc96",
           "#ab63fa",
           "#FFA15A",
           "#19d3f3",
           "#FF6692",
           "#B6E880",
           "#FF97FF",
           "#FECB52"
          ],
          "font": {
           "color": "#2a3f5f"
          },
          "geo": {
           "bgcolor": "white",
           "lakecolor": "white",
           "landcolor": "#E5ECF6",
           "showlakes": true,
           "showland": true,
           "subunitcolor": "white"
          },
          "hoverlabel": {
           "align": "left"
          },
          "hovermode": "closest",
          "mapbox": {
           "style": "light"
          },
          "paper_bgcolor": "white",
          "plot_bgcolor": "#E5ECF6",
          "polar": {
           "angularaxis": {
            "gridcolor": "white",
            "linecolor": "white",
            "ticks": ""
           },
           "bgcolor": "#E5ECF6",
           "radialaxis": {
            "gridcolor": "white",
            "linecolor": "white",
            "ticks": ""
           }
          },
          "scene": {
           "xaxis": {
            "backgroundcolor": "#E5ECF6",
            "gridcolor": "white",
            "gridwidth": 2,
            "linecolor": "white",
            "showbackground": true,
            "ticks": "",
            "zerolinecolor": "white"
           },
           "yaxis": {
            "backgroundcolor": "#E5ECF6",
            "gridcolor": "white",
            "gridwidth": 2,
            "linecolor": "white",
            "showbackground": true,
            "ticks": "",
            "zerolinecolor": "white"
           },
           "zaxis": {
            "backgroundcolor": "#E5ECF6",
            "gridcolor": "white",
            "gridwidth": 2,
            "linecolor": "white",
            "showbackground": true,
            "ticks": "",
            "zerolinecolor": "white"
           }
          },
          "shapedefaults": {
           "line": {
            "color": "#2a3f5f"
           }
          },
          "ternary": {
           "aaxis": {
            "gridcolor": "white",
            "linecolor": "white",
            "ticks": ""
           },
           "baxis": {
            "gridcolor": "white",
            "linecolor": "white",
            "ticks": ""
           },
           "bgcolor": "#E5ECF6",
           "caxis": {
            "gridcolor": "white",
            "linecolor": "white",
            "ticks": ""
           }
          },
          "title": {
           "x": 0.05
          },
          "xaxis": {
           "automargin": true,
           "gridcolor": "white",
           "linecolor": "white",
           "ticks": "",
           "title": {
            "standoff": 15
           },
           "zerolinecolor": "white",
           "zerolinewidth": 2
          },
          "yaxis": {
           "automargin": true,
           "gridcolor": "white",
           "linecolor": "white",
           "ticks": "",
           "title": {
            "standoff": 15
           },
           "zerolinecolor": "white",
           "zerolinewidth": 2
          }
         }
        },
        "title": {
         "text": "Thời tiết Distribution"
        },
        "xaxis": {
         "anchor": "y",
         "categoryarray": [
          "Lạnh",
          "Nóng",
          "Hơi lạnh",
          "Quá Nóng",
          "Mát",
          "Hơi Nóng",
          "Qúa lạnh"
         ],
         "categoryorder": "array",
         "domain": [
          0,
          1
         ],
         "title": {
          "text": "Buổi"
         }
        },
        "yaxis": {
         "anchor": "x",
         "domain": [
          0,
          1
         ],
         "title": {
          "text": "Count"
         }
        }
       }
      }
     },
     "metadata": {},
     "output_type": "display_data"
    }
   ],
   "source": [
    "fig = px.histogram(data, x='Thời tiết', color='Thời tiết', title='Thời tiết Distribution')\n",
    "fig.update_layout(xaxis_title='Buổi', yaxis_title='Count')\n",
    "fig.show()"
   ]
  },
  {
   "cell_type": "code",
   "execution_count": 32,
   "metadata": {},
   "outputs": [
    {
     "data": {
      "application/vnd.plotly.v1+json": {
       "config": {
        "plotlyServerURL": "https://plot.ly"
       },
       "data": [
        {
         "alignmentgroup": "True",
         "bingroup": "x",
         "hovertemplate": "Phong cách ẩm thực=%{x}<br>count=%{y}<extra></extra>",
         "legendgroup": "Trung quốc",
         "marker": {
          "color": "#636efa",
          "pattern": {
           "shape": ""
          }
         },
         "name": "Trung quốc",
         "offsetgroup": "Trung quốc",
         "orientation": "v",
         "showlegend": true,
         "type": "histogram",
         "x": [
          "Trung quốc",
          "Trung quốc",
          "Trung quốc",
          "Trung quốc",
          "Trung quốc",
          "Trung quốc",
          "Trung quốc",
          "Trung quốc",
          "Trung quốc",
          "Trung quốc",
          "Trung quốc",
          "Trung quốc",
          "Trung quốc",
          "Trung quốc",
          "Trung quốc",
          "Trung quốc",
          "Trung quốc",
          "Trung quốc",
          "Trung quốc",
          "Trung quốc",
          "Trung quốc",
          "Trung quốc",
          "Trung quốc",
          "Trung quốc",
          "Trung quốc",
          "Trung quốc",
          "Trung quốc",
          "Trung quốc",
          "Trung quốc",
          "Trung quốc",
          "Trung quốc",
          "Trung quốc",
          "Trung quốc",
          "Trung quốc",
          "Trung quốc",
          "Trung quốc",
          "Trung quốc",
          "Trung quốc",
          "Trung quốc",
          "Trung quốc",
          "Trung quốc",
          "Trung quốc",
          "Trung quốc",
          "Trung quốc",
          "Trung quốc",
          "Trung quốc",
          "Trung quốc",
          "Trung quốc",
          "Trung quốc",
          "Trung quốc",
          "Trung quốc",
          "Trung quốc",
          "Trung quốc",
          "Trung quốc",
          "Trung quốc",
          "Trung quốc",
          "Trung quốc",
          "Trung quốc",
          "Trung quốc",
          "Trung quốc",
          "Trung quốc",
          "Trung quốc",
          "Trung quốc",
          "Trung quốc",
          "Trung quốc",
          "Trung quốc",
          "Trung quốc",
          "Trung quốc",
          "Trung quốc",
          "Trung quốc",
          "Trung quốc",
          "Trung quốc",
          "Trung quốc",
          "Trung quốc",
          "Trung quốc",
          "Trung quốc",
          "Trung quốc",
          "Trung quốc",
          "Trung quốc",
          "Trung quốc",
          "Trung quốc",
          "Trung quốc",
          "Trung quốc",
          "Trung quốc",
          "Trung quốc",
          "Trung quốc",
          "Trung quốc",
          "Trung quốc",
          "Trung quốc",
          "Trung quốc",
          "Trung quốc",
          "Trung quốc",
          "Trung quốc",
          "Trung quốc",
          "Trung quốc",
          "Trung quốc",
          "Trung quốc",
          "Trung quốc",
          "Trung quốc",
          "Trung quốc",
          "Trung quốc",
          "Trung quốc",
          "Trung quốc",
          "Trung quốc",
          "Trung quốc",
          "Trung quốc",
          "Trung quốc",
          "Trung quốc",
          "Trung quốc",
          "Trung quốc",
          "Trung quốc",
          "Trung quốc",
          "Trung quốc",
          "Trung quốc",
          "Trung quốc",
          "Trung quốc",
          "Trung quốc",
          "Trung quốc",
          "Trung quốc",
          "Trung quốc",
          "Trung quốc",
          "Trung quốc",
          "Trung quốc",
          "Trung quốc",
          "Trung quốc",
          "Trung quốc",
          "Trung quốc",
          "Trung quốc",
          "Trung quốc",
          "Trung quốc",
          "Trung quốc",
          "Trung quốc",
          "Trung quốc",
          "Trung quốc",
          "Trung quốc",
          "Trung quốc",
          "Trung quốc",
          "Trung quốc",
          "Trung quốc",
          "Trung quốc",
          "Trung quốc",
          "Trung quốc",
          "Trung quốc",
          "Trung quốc",
          "Trung quốc",
          "Trung quốc",
          "Trung quốc",
          "Trung quốc",
          "Trung quốc",
          "Trung quốc",
          "Trung quốc",
          "Trung quốc",
          "Trung quốc",
          "Trung quốc",
          "Trung quốc",
          "Trung quốc",
          "Trung quốc",
          "Trung quốc",
          "Trung quốc",
          "Trung quốc",
          "Trung quốc",
          "Trung quốc",
          "Trung quốc",
          "Trung quốc",
          "Trung quốc",
          "Trung quốc",
          "Trung quốc",
          "Trung quốc",
          "Trung quốc",
          "Trung quốc",
          "Trung quốc",
          "Trung quốc",
          "Trung quốc"
         ],
         "xaxis": "x",
         "yaxis": "y"
        },
        {
         "alignmentgroup": "True",
         "bingroup": "x",
         "hovertemplate": "Phong cách ẩm thực=%{x}<br>count=%{y}<extra></extra>",
         "legendgroup": "Việt nam",
         "marker": {
          "color": "#EF553B",
          "pattern": {
           "shape": ""
          }
         },
         "name": "Việt nam",
         "offsetgroup": "Việt nam",
         "orientation": "v",
         "showlegend": true,
         "type": "histogram",
         "x": [
          "Việt nam",
          "Việt nam",
          "Việt nam",
          "Việt nam",
          "Việt nam",
          "Việt nam",
          "Việt nam",
          "Việt nam",
          "Việt nam",
          "Việt nam",
          "Việt nam",
          "Việt nam",
          "Việt nam",
          "Việt nam",
          "Việt nam",
          "Việt nam",
          "Việt nam",
          "Việt nam",
          "Việt nam",
          "Việt nam",
          "Việt nam",
          "Việt nam",
          "Việt nam",
          "Việt nam",
          "Việt nam",
          "Việt nam",
          "Việt nam",
          "Việt nam",
          "Việt nam",
          "Việt nam",
          "Việt nam",
          "Việt nam",
          "Việt nam",
          "Việt nam",
          "Việt nam",
          "Việt nam",
          "Việt nam",
          "Việt nam",
          "Việt nam",
          "Việt nam",
          "Việt nam",
          "Việt nam",
          "Việt nam",
          "Việt nam",
          "Việt nam",
          "Việt nam",
          "Việt nam",
          "Việt nam",
          "Việt nam",
          "Việt nam",
          "Việt nam",
          "Việt nam",
          "Việt nam",
          "Việt nam",
          "Việt nam",
          "Việt nam",
          "Việt nam",
          "Việt nam",
          "Việt nam",
          "Việt nam",
          "Việt nam",
          "Việt nam",
          "Việt nam",
          "Việt nam",
          "Việt nam",
          "Việt nam",
          "Việt nam",
          "Việt nam",
          "Việt nam",
          "Việt nam",
          "Việt nam",
          "Việt nam",
          "Việt nam",
          "Việt nam",
          "Việt nam",
          "Việt nam",
          "Việt nam",
          "Việt nam",
          "Việt nam",
          "Việt nam",
          "Việt nam",
          "Việt nam",
          "Việt nam",
          "Việt nam",
          "Việt nam",
          "Việt nam",
          "Việt nam",
          "Việt nam",
          "Việt nam",
          "Việt nam",
          "Việt nam",
          "Việt nam",
          "Việt nam",
          "Việt nam",
          "Việt nam",
          "Việt nam",
          "Việt nam",
          "Việt nam",
          "Việt nam",
          "Việt nam",
          "Việt nam",
          "Việt nam",
          "Việt nam",
          "Việt nam",
          "Việt nam",
          "Việt nam",
          "Việt nam",
          "Việt nam",
          "Việt nam",
          "Việt nam",
          "Việt nam",
          "Việt nam",
          "Việt nam",
          "Việt nam",
          "Việt nam",
          "Việt nam",
          "Việt nam",
          "Việt nam",
          "Việt nam",
          "Việt nam",
          "Việt nam",
          "Việt nam",
          "Việt nam",
          "Việt nam",
          "Việt nam",
          "Việt nam",
          "Việt nam",
          "Việt nam",
          "Việt nam",
          "Việt nam",
          "Việt nam",
          "Việt nam",
          "Việt nam",
          "Việt nam",
          "Việt nam",
          "Việt nam",
          "Việt nam",
          "Việt nam",
          "Việt nam",
          "Việt nam",
          "Việt nam",
          "Việt nam",
          "Việt nam",
          "Việt nam",
          "Việt nam",
          "Việt nam",
          "Việt nam",
          "Việt nam",
          "Việt nam",
          "Việt nam",
          "Việt nam",
          "Việt nam",
          "Việt nam",
          "Việt nam",
          "Việt nam",
          "Việt nam"
         ],
         "xaxis": "x",
         "yaxis": "y"
        },
        {
         "alignmentgroup": "True",
         "bingroup": "x",
         "hovertemplate": "Phong cách ẩm thực=%{x}<br>count=%{y}<extra></extra>",
         "legendgroup": "miền nam",
         "marker": {
          "color": "#00cc96",
          "pattern": {
           "shape": ""
          }
         },
         "name": "miền nam",
         "offsetgroup": "miền nam",
         "orientation": "v",
         "showlegend": true,
         "type": "histogram",
         "x": [
          "miền nam",
          "miền nam",
          "miền nam",
          "miền nam",
          "miền nam",
          "miền nam",
          "miền nam",
          "miền nam",
          "miền nam",
          "miền nam",
          "miền nam",
          "miền nam",
          "miền nam",
          "miền nam",
          "miền nam",
          "miền nam",
          "miền nam",
          "miền nam",
          "miền nam",
          "miền nam",
          "miền nam",
          "miền nam",
          "miền nam",
          "miền nam",
          "miền nam",
          "miền nam",
          "miền nam",
          "miền nam",
          "miền nam",
          "miền nam",
          "miền nam",
          "miền nam",
          "miền nam",
          "miền nam",
          "miền nam",
          "miền nam",
          "miền nam",
          "miền nam",
          "miền nam",
          "miền nam",
          "miền nam",
          "miền nam",
          "miền nam",
          "miền nam",
          "miền nam",
          "miền nam",
          "miền nam",
          "miền nam",
          "miền nam",
          "miền nam",
          "miền nam",
          "miền nam",
          "miền nam",
          "miền nam",
          "miền nam",
          "miền nam",
          "miền nam",
          "miền nam",
          "miền nam",
          "miền nam",
          "miền nam",
          "miền nam",
          "miền nam",
          "miền nam",
          "miền nam",
          "miền nam",
          "miền nam",
          "miền nam",
          "miền nam",
          "miền nam",
          "miền nam",
          "miền nam",
          "miền nam",
          "miền nam",
          "miền nam",
          "miền nam",
          "miền nam",
          "miền nam",
          "miền nam",
          "miền nam",
          "miền nam",
          "miền nam",
          "miền nam",
          "miền nam",
          "miền nam",
          "miền nam",
          "miền nam",
          "miền nam",
          "miền nam",
          "miền nam",
          "miền nam",
          "miền nam",
          "miền nam",
          "miền nam",
          "miền nam",
          "miền nam",
          "miền nam",
          "miền nam",
          "miền nam",
          "miền nam",
          "miền nam",
          "miền nam",
          "miền nam",
          "miền nam",
          "miền nam",
          "miền nam",
          "miền nam",
          "miền nam",
          "miền nam",
          "miền nam",
          "miền nam",
          "miền nam",
          "miền nam",
          "miền nam",
          "miền nam",
          "miền nam",
          "miền nam",
          "miền nam",
          "miền nam",
          "miền nam",
          "miền nam",
          "miền nam",
          "miền nam",
          "miền nam",
          "miền nam",
          "miền nam",
          "miền nam",
          "miền nam",
          "miền nam",
          "miền nam",
          "miền nam",
          "miền nam",
          "miền nam",
          "miền nam",
          "miền nam",
          "miền nam",
          "miền nam",
          "miền nam",
          "miền nam",
          "miền nam",
          "miền nam",
          "miền nam",
          "miền nam",
          "miền nam",
          "miền nam",
          "miền nam",
          "miền nam",
          "miền nam",
          "miền nam",
          "miền nam",
          "miền nam",
          "miền nam",
          "miền nam",
          "miền nam",
          "miền nam",
          "miền nam",
          "miền nam",
          "miền nam",
          "miền nam",
          "miền nam",
          "miền nam",
          "miền nam",
          "miền nam",
          "miền nam",
          "miền nam",
          "miền nam",
          "miền nam",
          "miền nam",
          "miền nam",
          "miền nam",
          "miền nam",
          "miền nam"
         ],
         "xaxis": "x",
         "yaxis": "y"
        },
        {
         "alignmentgroup": "True",
         "bingroup": "x",
         "hovertemplate": "Phong cách ẩm thực=%{x}<br>count=%{y}<extra></extra>",
         "legendgroup": "hàn quốc",
         "marker": {
          "color": "#ab63fa",
          "pattern": {
           "shape": ""
          }
         },
         "name": "hàn quốc",
         "offsetgroup": "hàn quốc",
         "orientation": "v",
         "showlegend": true,
         "type": "histogram",
         "x": [
          "hàn quốc",
          "hàn quốc",
          "hàn quốc",
          "hàn quốc",
          "hàn quốc",
          "hàn quốc",
          "hàn quốc",
          "hàn quốc",
          "hàn quốc",
          "hàn quốc",
          "hàn quốc",
          "hàn quốc",
          "hàn quốc",
          "hàn quốc",
          "hàn quốc",
          "hàn quốc",
          "hàn quốc",
          "hàn quốc",
          "hàn quốc",
          "hàn quốc",
          "hàn quốc",
          "hàn quốc",
          "hàn quốc",
          "hàn quốc",
          "hàn quốc",
          "hàn quốc",
          "hàn quốc",
          "hàn quốc",
          "hàn quốc",
          "hàn quốc",
          "hàn quốc",
          "hàn quốc",
          "hàn quốc",
          "hàn quốc",
          "hàn quốc",
          "hàn quốc",
          "hàn quốc",
          "hàn quốc",
          "hàn quốc",
          "hàn quốc",
          "hàn quốc",
          "hàn quốc",
          "hàn quốc",
          "hàn quốc",
          "hàn quốc",
          "hàn quốc",
          "hàn quốc",
          "hàn quốc",
          "hàn quốc",
          "hàn quốc",
          "hàn quốc",
          "hàn quốc",
          "hàn quốc",
          "hàn quốc",
          "hàn quốc",
          "hàn quốc",
          "hàn quốc",
          "hàn quốc",
          "hàn quốc",
          "hàn quốc",
          "hàn quốc",
          "hàn quốc",
          "hàn quốc",
          "hàn quốc",
          "hàn quốc",
          "hàn quốc",
          "hàn quốc",
          "hàn quốc",
          "hàn quốc",
          "hàn quốc",
          "hàn quốc",
          "hàn quốc",
          "hàn quốc",
          "hàn quốc",
          "hàn quốc",
          "hàn quốc",
          "hàn quốc",
          "hàn quốc",
          "hàn quốc",
          "hàn quốc",
          "hàn quốc",
          "hàn quốc",
          "hàn quốc",
          "hàn quốc",
          "hàn quốc",
          "hàn quốc",
          "hàn quốc",
          "hàn quốc",
          "hàn quốc",
          "hàn quốc",
          "hàn quốc",
          "hàn quốc",
          "hàn quốc",
          "hàn quốc",
          "hàn quốc",
          "hàn quốc",
          "hàn quốc",
          "hàn quốc",
          "hàn quốc",
          "hàn quốc",
          "hàn quốc",
          "hàn quốc",
          "hàn quốc",
          "hàn quốc",
          "hàn quốc",
          "hàn quốc",
          "hàn quốc",
          "hàn quốc",
          "hàn quốc",
          "hàn quốc",
          "hàn quốc",
          "hàn quốc",
          "hàn quốc",
          "hàn quốc",
          "hàn quốc",
          "hàn quốc",
          "hàn quốc",
          "hàn quốc",
          "hàn quốc",
          "hàn quốc",
          "hàn quốc",
          "hàn quốc",
          "hàn quốc",
          "hàn quốc",
          "hàn quốc",
          "hàn quốc",
          "hàn quốc",
          "hàn quốc",
          "hàn quốc",
          "hàn quốc",
          "hàn quốc",
          "hàn quốc",
          "hàn quốc",
          "hàn quốc",
          "hàn quốc",
          "hàn quốc",
          "hàn quốc",
          "hàn quốc",
          "hàn quốc",
          "hàn quốc",
          "hàn quốc",
          "hàn quốc",
          "hàn quốc",
          "hàn quốc",
          "hàn quốc",
          "hàn quốc",
          "hàn quốc",
          "hàn quốc",
          "hàn quốc",
          "hàn quốc",
          "hàn quốc",
          "hàn quốc",
          "hàn quốc",
          "hàn quốc",
          "hàn quốc",
          "hàn quốc",
          "hàn quốc",
          "hàn quốc",
          "hàn quốc"
         ],
         "xaxis": "x",
         "yaxis": "y"
        },
        {
         "alignmentgroup": "True",
         "bingroup": "x",
         "hovertemplate": "Phong cách ẩm thực=%{x}<br>count=%{y}<extra></extra>",
         "legendgroup": "Món cho trẻ em",
         "marker": {
          "color": "#FFA15A",
          "pattern": {
           "shape": ""
          }
         },
         "name": "Món cho trẻ em",
         "offsetgroup": "Món cho trẻ em",
         "orientation": "v",
         "showlegend": true,
         "type": "histogram",
         "x": [
          "Món cho trẻ em",
          "Món cho trẻ em",
          "Món cho trẻ em",
          "Món cho trẻ em",
          "Món cho trẻ em",
          "Món cho trẻ em",
          "Món cho trẻ em",
          "Món cho trẻ em",
          "Món cho trẻ em",
          "Món cho trẻ em",
          "Món cho trẻ em",
          "Món cho trẻ em",
          "Món cho trẻ em",
          "Món cho trẻ em",
          "Món cho trẻ em",
          "Món cho trẻ em",
          "Món cho trẻ em",
          "Món cho trẻ em",
          "Món cho trẻ em",
          "Món cho trẻ em",
          "Món cho trẻ em",
          "Món cho trẻ em",
          "Món cho trẻ em",
          "Món cho trẻ em",
          "Món cho trẻ em",
          "Món cho trẻ em",
          "Món cho trẻ em",
          "Món cho trẻ em",
          "Món cho trẻ em",
          "Món cho trẻ em",
          "Món cho trẻ em",
          "Món cho trẻ em",
          "Món cho trẻ em",
          "Món cho trẻ em",
          "Món cho trẻ em",
          "Món cho trẻ em",
          "Món cho trẻ em",
          "Món cho trẻ em",
          "Món cho trẻ em",
          "Món cho trẻ em",
          "Món cho trẻ em",
          "Món cho trẻ em",
          "Món cho trẻ em",
          "Món cho trẻ em",
          "Món cho trẻ em",
          "Món cho trẻ em",
          "Món cho trẻ em",
          "Món cho trẻ em",
          "Món cho trẻ em",
          "Món cho trẻ em",
          "Món cho trẻ em",
          "Món cho trẻ em",
          "Món cho trẻ em",
          "Món cho trẻ em",
          "Món cho trẻ em",
          "Món cho trẻ em",
          "Món cho trẻ em",
          "Món cho trẻ em",
          "Món cho trẻ em",
          "Món cho trẻ em",
          "Món cho trẻ em",
          "Món cho trẻ em",
          "Món cho trẻ em",
          "Món cho trẻ em",
          "Món cho trẻ em",
          "Món cho trẻ em",
          "Món cho trẻ em",
          "Món cho trẻ em",
          "Món cho trẻ em",
          "Món cho trẻ em",
          "Món cho trẻ em",
          "Món cho trẻ em",
          "Món cho trẻ em",
          "Món cho trẻ em",
          "Món cho trẻ em",
          "Món cho trẻ em",
          "Món cho trẻ em",
          "Món cho trẻ em",
          "Món cho trẻ em",
          "Món cho trẻ em",
          "Món cho trẻ em",
          "Món cho trẻ em",
          "Món cho trẻ em",
          "Món cho trẻ em",
          "Món cho trẻ em",
          "Món cho trẻ em",
          "Món cho trẻ em",
          "Món cho trẻ em",
          "Món cho trẻ em",
          "Món cho trẻ em",
          "Món cho trẻ em",
          "Món cho trẻ em",
          "Món cho trẻ em",
          "Món cho trẻ em",
          "Món cho trẻ em",
          "Món cho trẻ em",
          "Món cho trẻ em",
          "Món cho trẻ em",
          "Món cho trẻ em",
          "Món cho trẻ em",
          "Món cho trẻ em",
          "Món cho trẻ em",
          "Món cho trẻ em",
          "Món cho trẻ em",
          "Món cho trẻ em",
          "Món cho trẻ em",
          "Món cho trẻ em",
          "Món cho trẻ em",
          "Món cho trẻ em",
          "Món cho trẻ em",
          "Món cho trẻ em",
          "Món cho trẻ em",
          "Món cho trẻ em",
          "Món cho trẻ em",
          "Món cho trẻ em",
          "Món cho trẻ em",
          "Món cho trẻ em",
          "Món cho trẻ em",
          "Món cho trẻ em",
          "Món cho trẻ em",
          "Món cho trẻ em",
          "Món cho trẻ em",
          "Món cho trẻ em",
          "Món cho trẻ em",
          "Món cho trẻ em",
          "Món cho trẻ em",
          "Món cho trẻ em",
          "Món cho trẻ em",
          "Món cho trẻ em",
          "Món cho trẻ em",
          "Món cho trẻ em",
          "Món cho trẻ em",
          "Món cho trẻ em",
          "Món cho trẻ em",
          "Món cho trẻ em",
          "Món cho trẻ em",
          "Món cho trẻ em",
          "Món cho trẻ em",
          "Món cho trẻ em",
          "Món cho trẻ em",
          "Món cho trẻ em",
          "Món cho trẻ em",
          "Món cho trẻ em",
          "Món cho trẻ em",
          "Món cho trẻ em",
          "Món cho trẻ em",
          "Món cho trẻ em",
          "Món cho trẻ em",
          "Món cho trẻ em",
          "Món cho trẻ em",
          "Món cho trẻ em",
          "Món cho trẻ em",
          "Món cho trẻ em",
          "Món cho trẻ em",
          "Món cho trẻ em",
          "Món cho trẻ em",
          "Món cho trẻ em",
          "Món cho trẻ em",
          "Món cho trẻ em",
          "Món cho trẻ em",
          "Món cho trẻ em",
          "Món cho trẻ em",
          "Món cho trẻ em",
          "Món cho trẻ em",
          "Món cho trẻ em",
          "Món cho trẻ em",
          "Món cho trẻ em",
          "Món cho trẻ em",
          "Món cho trẻ em",
          "Món cho trẻ em",
          "Món cho trẻ em",
          "Món cho trẻ em",
          "Món cho trẻ em",
          "Món cho trẻ em",
          "Món cho trẻ em",
          "Món cho trẻ em",
          "Món cho trẻ em"
         ],
         "xaxis": "x",
         "yaxis": "y"
        },
        {
         "alignmentgroup": "True",
         "bingroup": "x",
         "hovertemplate": "Phong cách ẩm thực=%{x}<br>count=%{y}<extra></extra>",
         "legendgroup": "đồ ăn vặt",
         "marker": {
          "color": "#19d3f3",
          "pattern": {
           "shape": ""
          }
         },
         "name": "đồ ăn vặt",
         "offsetgroup": "đồ ăn vặt",
         "orientation": "v",
         "showlegend": true,
         "type": "histogram",
         "x": [
          "đồ ăn vặt",
          "đồ ăn vặt",
          "đồ ăn vặt",
          "đồ ăn vặt",
          "đồ ăn vặt",
          "đồ ăn vặt",
          "đồ ăn vặt",
          "đồ ăn vặt",
          "đồ ăn vặt",
          "đồ ăn vặt",
          "đồ ăn vặt",
          "đồ ăn vặt",
          "đồ ăn vặt",
          "đồ ăn vặt",
          "đồ ăn vặt",
          "đồ ăn vặt",
          "đồ ăn vặt",
          "đồ ăn vặt",
          "đồ ăn vặt",
          "đồ ăn vặt",
          "đồ ăn vặt",
          "đồ ăn vặt",
          "đồ ăn vặt",
          "đồ ăn vặt",
          "đồ ăn vặt",
          "đồ ăn vặt",
          "đồ ăn vặt",
          "đồ ăn vặt",
          "đồ ăn vặt",
          "đồ ăn vặt",
          "đồ ăn vặt",
          "đồ ăn vặt",
          "đồ ăn vặt",
          "đồ ăn vặt",
          "đồ ăn vặt",
          "đồ ăn vặt",
          "đồ ăn vặt",
          "đồ ăn vặt",
          "đồ ăn vặt",
          "đồ ăn vặt",
          "đồ ăn vặt",
          "đồ ăn vặt",
          "đồ ăn vặt",
          "đồ ăn vặt",
          "đồ ăn vặt",
          "đồ ăn vặt",
          "đồ ăn vặt",
          "đồ ăn vặt",
          "đồ ăn vặt",
          "đồ ăn vặt",
          "đồ ăn vặt",
          "đồ ăn vặt",
          "đồ ăn vặt",
          "đồ ăn vặt",
          "đồ ăn vặt",
          "đồ ăn vặt",
          "đồ ăn vặt",
          "đồ ăn vặt",
          "đồ ăn vặt",
          "đồ ăn vặt",
          "đồ ăn vặt",
          "đồ ăn vặt",
          "đồ ăn vặt",
          "đồ ăn vặt",
          "đồ ăn vặt",
          "đồ ăn vặt",
          "đồ ăn vặt",
          "đồ ăn vặt",
          "đồ ăn vặt",
          "đồ ăn vặt",
          "đồ ăn vặt",
          "đồ ăn vặt",
          "đồ ăn vặt",
          "đồ ăn vặt",
          "đồ ăn vặt",
          "đồ ăn vặt",
          "đồ ăn vặt",
          "đồ ăn vặt",
          "đồ ăn vặt",
          "đồ ăn vặt",
          "đồ ăn vặt",
          "đồ ăn vặt",
          "đồ ăn vặt",
          "đồ ăn vặt",
          "đồ ăn vặt",
          "đồ ăn vặt",
          "đồ ăn vặt",
          "đồ ăn vặt",
          "đồ ăn vặt",
          "đồ ăn vặt",
          "đồ ăn vặt",
          "đồ ăn vặt",
          "đồ ăn vặt",
          "đồ ăn vặt",
          "đồ ăn vặt",
          "đồ ăn vặt",
          "đồ ăn vặt",
          "đồ ăn vặt",
          "đồ ăn vặt",
          "đồ ăn vặt",
          "đồ ăn vặt",
          "đồ ăn vặt",
          "đồ ăn vặt",
          "đồ ăn vặt",
          "đồ ăn vặt",
          "đồ ăn vặt",
          "đồ ăn vặt",
          "đồ ăn vặt",
          "đồ ăn vặt",
          "đồ ăn vặt",
          "đồ ăn vặt",
          "đồ ăn vặt",
          "đồ ăn vặt",
          "đồ ăn vặt",
          "đồ ăn vặt",
          "đồ ăn vặt",
          "đồ ăn vặt",
          "đồ ăn vặt",
          "đồ ăn vặt",
          "đồ ăn vặt",
          "đồ ăn vặt",
          "đồ ăn vặt",
          "đồ ăn vặt",
          "đồ ăn vặt",
          "đồ ăn vặt",
          "đồ ăn vặt",
          "đồ ăn vặt",
          "đồ ăn vặt",
          "đồ ăn vặt",
          "đồ ăn vặt",
          "đồ ăn vặt",
          "đồ ăn vặt",
          "đồ ăn vặt",
          "đồ ăn vặt",
          "đồ ăn vặt",
          "đồ ăn vặt",
          "đồ ăn vặt",
          "đồ ăn vặt",
          "đồ ăn vặt",
          "đồ ăn vặt",
          "đồ ăn vặt",
          "đồ ăn vặt",
          "đồ ăn vặt",
          "đồ ăn vặt",
          "đồ ăn vặt",
          "đồ ăn vặt",
          "đồ ăn vặt",
          "đồ ăn vặt",
          "đồ ăn vặt",
          "đồ ăn vặt",
          "đồ ăn vặt",
          "đồ ăn vặt",
          "đồ ăn vặt",
          "đồ ăn vặt",
          "đồ ăn vặt",
          "đồ ăn vặt",
          "đồ ăn vặt",
          "đồ ăn vặt",
          "đồ ăn vặt",
          "đồ ăn vặt"
         ],
         "xaxis": "x",
         "yaxis": "y"
        }
       ],
       "layout": {
        "barmode": "relative",
        "legend": {
         "title": {
          "text": "Phong cách ẩm thực"
         },
         "tracegroupgap": 0
        },
        "template": {
         "data": {
          "bar": [
           {
            "error_x": {
             "color": "#2a3f5f"
            },
            "error_y": {
             "color": "#2a3f5f"
            },
            "marker": {
             "line": {
              "color": "#E5ECF6",
              "width": 0.5
             },
             "pattern": {
              "fillmode": "overlay",
              "size": 10,
              "solidity": 0.2
             }
            },
            "type": "bar"
           }
          ],
          "barpolar": [
           {
            "marker": {
             "line": {
              "color": "#E5ECF6",
              "width": 0.5
             },
             "pattern": {
              "fillmode": "overlay",
              "size": 10,
              "solidity": 0.2
             }
            },
            "type": "barpolar"
           }
          ],
          "carpet": [
           {
            "aaxis": {
             "endlinecolor": "#2a3f5f",
             "gridcolor": "white",
             "linecolor": "white",
             "minorgridcolor": "white",
             "startlinecolor": "#2a3f5f"
            },
            "baxis": {
             "endlinecolor": "#2a3f5f",
             "gridcolor": "white",
             "linecolor": "white",
             "minorgridcolor": "white",
             "startlinecolor": "#2a3f5f"
            },
            "type": "carpet"
           }
          ],
          "choropleth": [
           {
            "colorbar": {
             "outlinewidth": 0,
             "ticks": ""
            },
            "type": "choropleth"
           }
          ],
          "contour": [
           {
            "colorbar": {
             "outlinewidth": 0,
             "ticks": ""
            },
            "colorscale": [
             [
              0,
              "#0d0887"
             ],
             [
              0.1111111111111111,
              "#46039f"
             ],
             [
              0.2222222222222222,
              "#7201a8"
             ],
             [
              0.3333333333333333,
              "#9c179e"
             ],
             [
              0.4444444444444444,
              "#bd3786"
             ],
             [
              0.5555555555555556,
              "#d8576b"
             ],
             [
              0.6666666666666666,
              "#ed7953"
             ],
             [
              0.7777777777777778,
              "#fb9f3a"
             ],
             [
              0.8888888888888888,
              "#fdca26"
             ],
             [
              1,
              "#f0f921"
             ]
            ],
            "type": "contour"
           }
          ],
          "contourcarpet": [
           {
            "colorbar": {
             "outlinewidth": 0,
             "ticks": ""
            },
            "type": "contourcarpet"
           }
          ],
          "heatmap": [
           {
            "colorbar": {
             "outlinewidth": 0,
             "ticks": ""
            },
            "colorscale": [
             [
              0,
              "#0d0887"
             ],
             [
              0.1111111111111111,
              "#46039f"
             ],
             [
              0.2222222222222222,
              "#7201a8"
             ],
             [
              0.3333333333333333,
              "#9c179e"
             ],
             [
              0.4444444444444444,
              "#bd3786"
             ],
             [
              0.5555555555555556,
              "#d8576b"
             ],
             [
              0.6666666666666666,
              "#ed7953"
             ],
             [
              0.7777777777777778,
              "#fb9f3a"
             ],
             [
              0.8888888888888888,
              "#fdca26"
             ],
             [
              1,
              "#f0f921"
             ]
            ],
            "type": "heatmap"
           }
          ],
          "heatmapgl": [
           {
            "colorbar": {
             "outlinewidth": 0,
             "ticks": ""
            },
            "colorscale": [
             [
              0,
              "#0d0887"
             ],
             [
              0.1111111111111111,
              "#46039f"
             ],
             [
              0.2222222222222222,
              "#7201a8"
             ],
             [
              0.3333333333333333,
              "#9c179e"
             ],
             [
              0.4444444444444444,
              "#bd3786"
             ],
             [
              0.5555555555555556,
              "#d8576b"
             ],
             [
              0.6666666666666666,
              "#ed7953"
             ],
             [
              0.7777777777777778,
              "#fb9f3a"
             ],
             [
              0.8888888888888888,
              "#fdca26"
             ],
             [
              1,
              "#f0f921"
             ]
            ],
            "type": "heatmapgl"
           }
          ],
          "histogram": [
           {
            "marker": {
             "pattern": {
              "fillmode": "overlay",
              "size": 10,
              "solidity": 0.2
             }
            },
            "type": "histogram"
           }
          ],
          "histogram2d": [
           {
            "colorbar": {
             "outlinewidth": 0,
             "ticks": ""
            },
            "colorscale": [
             [
              0,
              "#0d0887"
             ],
             [
              0.1111111111111111,
              "#46039f"
             ],
             [
              0.2222222222222222,
              "#7201a8"
             ],
             [
              0.3333333333333333,
              "#9c179e"
             ],
             [
              0.4444444444444444,
              "#bd3786"
             ],
             [
              0.5555555555555556,
              "#d8576b"
             ],
             [
              0.6666666666666666,
              "#ed7953"
             ],
             [
              0.7777777777777778,
              "#fb9f3a"
             ],
             [
              0.8888888888888888,
              "#fdca26"
             ],
             [
              1,
              "#f0f921"
             ]
            ],
            "type": "histogram2d"
           }
          ],
          "histogram2dcontour": [
           {
            "colorbar": {
             "outlinewidth": 0,
             "ticks": ""
            },
            "colorscale": [
             [
              0,
              "#0d0887"
             ],
             [
              0.1111111111111111,
              "#46039f"
             ],
             [
              0.2222222222222222,
              "#7201a8"
             ],
             [
              0.3333333333333333,
              "#9c179e"
             ],
             [
              0.4444444444444444,
              "#bd3786"
             ],
             [
              0.5555555555555556,
              "#d8576b"
             ],
             [
              0.6666666666666666,
              "#ed7953"
             ],
             [
              0.7777777777777778,
              "#fb9f3a"
             ],
             [
              0.8888888888888888,
              "#fdca26"
             ],
             [
              1,
              "#f0f921"
             ]
            ],
            "type": "histogram2dcontour"
           }
          ],
          "mesh3d": [
           {
            "colorbar": {
             "outlinewidth": 0,
             "ticks": ""
            },
            "type": "mesh3d"
           }
          ],
          "parcoords": [
           {
            "line": {
             "colorbar": {
              "outlinewidth": 0,
              "ticks": ""
             }
            },
            "type": "parcoords"
           }
          ],
          "pie": [
           {
            "automargin": true,
            "type": "pie"
           }
          ],
          "scatter": [
           {
            "fillpattern": {
             "fillmode": "overlay",
             "size": 10,
             "solidity": 0.2
            },
            "type": "scatter"
           }
          ],
          "scatter3d": [
           {
            "line": {
             "colorbar": {
              "outlinewidth": 0,
              "ticks": ""
             }
            },
            "marker": {
             "colorbar": {
              "outlinewidth": 0,
              "ticks": ""
             }
            },
            "type": "scatter3d"
           }
          ],
          "scattercarpet": [
           {
            "marker": {
             "colorbar": {
              "outlinewidth": 0,
              "ticks": ""
             }
            },
            "type": "scattercarpet"
           }
          ],
          "scattergeo": [
           {
            "marker": {
             "colorbar": {
              "outlinewidth": 0,
              "ticks": ""
             }
            },
            "type": "scattergeo"
           }
          ],
          "scattergl": [
           {
            "marker": {
             "colorbar": {
              "outlinewidth": 0,
              "ticks": ""
             }
            },
            "type": "scattergl"
           }
          ],
          "scattermapbox": [
           {
            "marker": {
             "colorbar": {
              "outlinewidth": 0,
              "ticks": ""
             }
            },
            "type": "scattermapbox"
           }
          ],
          "scatterpolar": [
           {
            "marker": {
             "colorbar": {
              "outlinewidth": 0,
              "ticks": ""
             }
            },
            "type": "scatterpolar"
           }
          ],
          "scatterpolargl": [
           {
            "marker": {
             "colorbar": {
              "outlinewidth": 0,
              "ticks": ""
             }
            },
            "type": "scatterpolargl"
           }
          ],
          "scatterternary": [
           {
            "marker": {
             "colorbar": {
              "outlinewidth": 0,
              "ticks": ""
             }
            },
            "type": "scatterternary"
           }
          ],
          "surface": [
           {
            "colorbar": {
             "outlinewidth": 0,
             "ticks": ""
            },
            "colorscale": [
             [
              0,
              "#0d0887"
             ],
             [
              0.1111111111111111,
              "#46039f"
             ],
             [
              0.2222222222222222,
              "#7201a8"
             ],
             [
              0.3333333333333333,
              "#9c179e"
             ],
             [
              0.4444444444444444,
              "#bd3786"
             ],
             [
              0.5555555555555556,
              "#d8576b"
             ],
             [
              0.6666666666666666,
              "#ed7953"
             ],
             [
              0.7777777777777778,
              "#fb9f3a"
             ],
             [
              0.8888888888888888,
              "#fdca26"
             ],
             [
              1,
              "#f0f921"
             ]
            ],
            "type": "surface"
           }
          ],
          "table": [
           {
            "cells": {
             "fill": {
              "color": "#EBF0F8"
             },
             "line": {
              "color": "white"
             }
            },
            "header": {
             "fill": {
              "color": "#C8D4E3"
             },
             "line": {
              "color": "white"
             }
            },
            "type": "table"
           }
          ]
         },
         "layout": {
          "annotationdefaults": {
           "arrowcolor": "#2a3f5f",
           "arrowhead": 0,
           "arrowwidth": 1
          },
          "autotypenumbers": "strict",
          "coloraxis": {
           "colorbar": {
            "outlinewidth": 0,
            "ticks": ""
           }
          },
          "colorscale": {
           "diverging": [
            [
             0,
             "#8e0152"
            ],
            [
             0.1,
             "#c51b7d"
            ],
            [
             0.2,
             "#de77ae"
            ],
            [
             0.3,
             "#f1b6da"
            ],
            [
             0.4,
             "#fde0ef"
            ],
            [
             0.5,
             "#f7f7f7"
            ],
            [
             0.6,
             "#e6f5d0"
            ],
            [
             0.7,
             "#b8e186"
            ],
            [
             0.8,
             "#7fbc41"
            ],
            [
             0.9,
             "#4d9221"
            ],
            [
             1,
             "#276419"
            ]
           ],
           "sequential": [
            [
             0,
             "#0d0887"
            ],
            [
             0.1111111111111111,
             "#46039f"
            ],
            [
             0.2222222222222222,
             "#7201a8"
            ],
            [
             0.3333333333333333,
             "#9c179e"
            ],
            [
             0.4444444444444444,
             "#bd3786"
            ],
            [
             0.5555555555555556,
             "#d8576b"
            ],
            [
             0.6666666666666666,
             "#ed7953"
            ],
            [
             0.7777777777777778,
             "#fb9f3a"
            ],
            [
             0.8888888888888888,
             "#fdca26"
            ],
            [
             1,
             "#f0f921"
            ]
           ],
           "sequentialminus": [
            [
             0,
             "#0d0887"
            ],
            [
             0.1111111111111111,
             "#46039f"
            ],
            [
             0.2222222222222222,
             "#7201a8"
            ],
            [
             0.3333333333333333,
             "#9c179e"
            ],
            [
             0.4444444444444444,
             "#bd3786"
            ],
            [
             0.5555555555555556,
             "#d8576b"
            ],
            [
             0.6666666666666666,
             "#ed7953"
            ],
            [
             0.7777777777777778,
             "#fb9f3a"
            ],
            [
             0.8888888888888888,
             "#fdca26"
            ],
            [
             1,
             "#f0f921"
            ]
           ]
          },
          "colorway": [
           "#636efa",
           "#EF553B",
           "#00cc96",
           "#ab63fa",
           "#FFA15A",
           "#19d3f3",
           "#FF6692",
           "#B6E880",
           "#FF97FF",
           "#FECB52"
          ],
          "font": {
           "color": "#2a3f5f"
          },
          "geo": {
           "bgcolor": "white",
           "lakecolor": "white",
           "landcolor": "#E5ECF6",
           "showlakes": true,
           "showland": true,
           "subunitcolor": "white"
          },
          "hoverlabel": {
           "align": "left"
          },
          "hovermode": "closest",
          "mapbox": {
           "style": "light"
          },
          "paper_bgcolor": "white",
          "plot_bgcolor": "#E5ECF6",
          "polar": {
           "angularaxis": {
            "gridcolor": "white",
            "linecolor": "white",
            "ticks": ""
           },
           "bgcolor": "#E5ECF6",
           "radialaxis": {
            "gridcolor": "white",
            "linecolor": "white",
            "ticks": ""
           }
          },
          "scene": {
           "xaxis": {
            "backgroundcolor": "#E5ECF6",
            "gridcolor": "white",
            "gridwidth": 2,
            "linecolor": "white",
            "showbackground": true,
            "ticks": "",
            "zerolinecolor": "white"
           },
           "yaxis": {
            "backgroundcolor": "#E5ECF6",
            "gridcolor": "white",
            "gridwidth": 2,
            "linecolor": "white",
            "showbackground": true,
            "ticks": "",
            "zerolinecolor": "white"
           },
           "zaxis": {
            "backgroundcolor": "#E5ECF6",
            "gridcolor": "white",
            "gridwidth": 2,
            "linecolor": "white",
            "showbackground": true,
            "ticks": "",
            "zerolinecolor": "white"
           }
          },
          "shapedefaults": {
           "line": {
            "color": "#2a3f5f"
           }
          },
          "ternary": {
           "aaxis": {
            "gridcolor": "white",
            "linecolor": "white",
            "ticks": ""
           },
           "baxis": {
            "gridcolor": "white",
            "linecolor": "white",
            "ticks": ""
           },
           "bgcolor": "#E5ECF6",
           "caxis": {
            "gridcolor": "white",
            "linecolor": "white",
            "ticks": ""
           }
          },
          "title": {
           "x": 0.05
          },
          "xaxis": {
           "automargin": true,
           "gridcolor": "white",
           "linecolor": "white",
           "ticks": "",
           "title": {
            "standoff": 15
           },
           "zerolinecolor": "white",
           "zerolinewidth": 2
          },
          "yaxis": {
           "automargin": true,
           "gridcolor": "white",
           "linecolor": "white",
           "ticks": "",
           "title": {
            "standoff": 15
           },
           "zerolinecolor": "white",
           "zerolinewidth": 2
          }
         }
        },
        "title": {
         "text": "Phong cách ẩm thực Distribution"
        },
        "xaxis": {
         "anchor": "y",
         "categoryarray": [
          "Trung quốc",
          "Việt nam",
          "miền nam",
          "hàn quốc",
          "Món cho trẻ em",
          "đồ ăn vặt"
         ],
         "categoryorder": "array",
         "domain": [
          0,
          1
         ],
         "title": {
          "text": "Phong cách"
         }
        },
        "yaxis": {
         "anchor": "x",
         "domain": [
          0,
          1
         ],
         "title": {
          "text": "Count"
         }
        }
       }
      }
     },
     "metadata": {},
     "output_type": "display_data"
    }
   ],
   "source": [
    "fig = px.histogram(data, x='Phong cách ẩm thực', color='Phong cách ẩm thực', title='Phong cách ẩm thực Distribution')\n",
    "fig.update_layout(xaxis_title='Phong cách', yaxis_title='Count')\n",
    "fig.show()"
   ]
  },
  {
   "cell_type": "code",
   "execution_count": 33,
   "metadata": {},
   "outputs": [
    {
     "data": {
      "application/vnd.plotly.v1+json": {
       "config": {
        "plotlyServerURL": "https://plot.ly"
       },
       "data": [
        {
         "alignmentgroup": "True",
         "bingroup": "x",
         "hovertemplate": "Loại hình quán ăn=%{x}<br>count=%{y}<extra></extra>",
         "legendgroup": "Nhà Hàng Sang Trọng",
         "marker": {
          "color": "#636efa",
          "pattern": {
           "shape": ""
          }
         },
         "name": "Nhà Hàng Sang Trọng",
         "offsetgroup": "Nhà Hàng Sang Trọng",
         "orientation": "v",
         "showlegend": true,
         "type": "histogram",
         "x": [
          "Nhà Hàng Sang Trọng",
          "Nhà Hàng Sang Trọng",
          "Nhà Hàng Sang Trọng",
          "Nhà Hàng Sang Trọng",
          "Nhà Hàng Sang Trọng",
          "Nhà Hàng Sang Trọng",
          "Nhà Hàng Sang Trọng",
          "Nhà Hàng Sang Trọng",
          "Nhà Hàng Sang Trọng",
          "Nhà Hàng Sang Trọng",
          "Nhà Hàng Sang Trọng",
          "Nhà Hàng Sang Trọng",
          "Nhà Hàng Sang Trọng",
          "Nhà Hàng Sang Trọng",
          "Nhà Hàng Sang Trọng",
          "Nhà Hàng Sang Trọng",
          "Nhà Hàng Sang Trọng",
          "Nhà Hàng Sang Trọng",
          "Nhà Hàng Sang Trọng",
          "Nhà Hàng Sang Trọng",
          "Nhà Hàng Sang Trọng",
          "Nhà Hàng Sang Trọng",
          "Nhà Hàng Sang Trọng",
          "Nhà Hàng Sang Trọng",
          "Nhà Hàng Sang Trọng",
          "Nhà Hàng Sang Trọng",
          "Nhà Hàng Sang Trọng",
          "Nhà Hàng Sang Trọng",
          "Nhà Hàng Sang Trọng",
          "Nhà Hàng Sang Trọng",
          "Nhà Hàng Sang Trọng",
          "Nhà Hàng Sang Trọng",
          "Nhà Hàng Sang Trọng",
          "Nhà Hàng Sang Trọng",
          "Nhà Hàng Sang Trọng",
          "Nhà Hàng Sang Trọng",
          "Nhà Hàng Sang Trọng",
          "Nhà Hàng Sang Trọng",
          "Nhà Hàng Sang Trọng",
          "Nhà Hàng Sang Trọng",
          "Nhà Hàng Sang Trọng",
          "Nhà Hàng Sang Trọng",
          "Nhà Hàng Sang Trọng",
          "Nhà Hàng Sang Trọng",
          "Nhà Hàng Sang Trọng",
          "Nhà Hàng Sang Trọng",
          "Nhà Hàng Sang Trọng",
          "Nhà Hàng Sang Trọng",
          "Nhà Hàng Sang Trọng",
          "Nhà Hàng Sang Trọng",
          "Nhà Hàng Sang Trọng",
          "Nhà Hàng Sang Trọng",
          "Nhà Hàng Sang Trọng",
          "Nhà Hàng Sang Trọng",
          "Nhà Hàng Sang Trọng",
          "Nhà Hàng Sang Trọng",
          "Nhà Hàng Sang Trọng",
          "Nhà Hàng Sang Trọng",
          "Nhà Hàng Sang Trọng",
          "Nhà Hàng Sang Trọng",
          "Nhà Hàng Sang Trọng",
          "Nhà Hàng Sang Trọng",
          "Nhà Hàng Sang Trọng",
          "Nhà Hàng Sang Trọng",
          "Nhà Hàng Sang Trọng",
          "Nhà Hàng Sang Trọng",
          "Nhà Hàng Sang Trọng",
          "Nhà Hàng Sang Trọng",
          "Nhà Hàng Sang Trọng",
          "Nhà Hàng Sang Trọng",
          "Nhà Hàng Sang Trọng",
          "Nhà Hàng Sang Trọng",
          "Nhà Hàng Sang Trọng",
          "Nhà Hàng Sang Trọng",
          "Nhà Hàng Sang Trọng",
          "Nhà Hàng Sang Trọng",
          "Nhà Hàng Sang Trọng",
          "Nhà Hàng Sang Trọng",
          "Nhà Hàng Sang Trọng",
          "Nhà Hàng Sang Trọng",
          "Nhà Hàng Sang Trọng",
          "Nhà Hàng Sang Trọng",
          "Nhà Hàng Sang Trọng",
          "Nhà Hàng Sang Trọng",
          "Nhà Hàng Sang Trọng",
          "Nhà Hàng Sang Trọng",
          "Nhà Hàng Sang Trọng",
          "Nhà Hàng Sang Trọng",
          "Nhà Hàng Sang Trọng",
          "Nhà Hàng Sang Trọng",
          "Nhà Hàng Sang Trọng",
          "Nhà Hàng Sang Trọng",
          "Nhà Hàng Sang Trọng",
          "Nhà Hàng Sang Trọng",
          "Nhà Hàng Sang Trọng",
          "Nhà Hàng Sang Trọng",
          "Nhà Hàng Sang Trọng",
          "Nhà Hàng Sang Trọng",
          "Nhà Hàng Sang Trọng",
          "Nhà Hàng Sang Trọng",
          "Nhà Hàng Sang Trọng",
          "Nhà Hàng Sang Trọng",
          "Nhà Hàng Sang Trọng",
          "Nhà Hàng Sang Trọng",
          "Nhà Hàng Sang Trọng",
          "Nhà Hàng Sang Trọng",
          "Nhà Hàng Sang Trọng",
          "Nhà Hàng Sang Trọng",
          "Nhà Hàng Sang Trọng",
          "Nhà Hàng Sang Trọng",
          "Nhà Hàng Sang Trọng",
          "Nhà Hàng Sang Trọng",
          "Nhà Hàng Sang Trọng",
          "Nhà Hàng Sang Trọng",
          "Nhà Hàng Sang Trọng",
          "Nhà Hàng Sang Trọng",
          "Nhà Hàng Sang Trọng",
          "Nhà Hàng Sang Trọng",
          "Nhà Hàng Sang Trọng",
          "Nhà Hàng Sang Trọng",
          "Nhà Hàng Sang Trọng",
          "Nhà Hàng Sang Trọng",
          "Nhà Hàng Sang Trọng",
          "Nhà Hàng Sang Trọng",
          "Nhà Hàng Sang Trọng",
          "Nhà Hàng Sang Trọng",
          "Nhà Hàng Sang Trọng",
          "Nhà Hàng Sang Trọng",
          "Nhà Hàng Sang Trọng",
          "Nhà Hàng Sang Trọng",
          "Nhà Hàng Sang Trọng",
          "Nhà Hàng Sang Trọng",
          "Nhà Hàng Sang Trọng",
          "Nhà Hàng Sang Trọng",
          "Nhà Hàng Sang Trọng",
          "Nhà Hàng Sang Trọng",
          "Nhà Hàng Sang Trọng",
          "Nhà Hàng Sang Trọng",
          "Nhà Hàng Sang Trọng",
          "Nhà Hàng Sang Trọng",
          "Nhà Hàng Sang Trọng",
          "Nhà Hàng Sang Trọng",
          "Nhà Hàng Sang Trọng",
          "Nhà Hàng Sang Trọng",
          "Nhà Hàng Sang Trọng",
          "Nhà Hàng Sang Trọng",
          "Nhà Hàng Sang Trọng",
          "Nhà Hàng Sang Trọng",
          "Nhà Hàng Sang Trọng",
          "Nhà Hàng Sang Trọng",
          "Nhà Hàng Sang Trọng",
          "Nhà Hàng Sang Trọng",
          "Nhà Hàng Sang Trọng",
          "Nhà Hàng Sang Trọng",
          "Nhà Hàng Sang Trọng",
          "Nhà Hàng Sang Trọng",
          "Nhà Hàng Sang Trọng",
          "Nhà Hàng Sang Trọng",
          "Nhà Hàng Sang Trọng",
          "Nhà Hàng Sang Trọng",
          "Nhà Hàng Sang Trọng",
          "Nhà Hàng Sang Trọng",
          "Nhà Hàng Sang Trọng",
          "Nhà Hàng Sang Trọng",
          "Nhà Hàng Sang Trọng",
          "Nhà Hàng Sang Trọng",
          "Nhà Hàng Sang Trọng",
          "Nhà Hàng Sang Trọng",
          "Nhà Hàng Sang Trọng",
          "Nhà Hàng Sang Trọng",
          "Nhà Hàng Sang Trọng",
          "Nhà Hàng Sang Trọng",
          "Nhà Hàng Sang Trọng",
          "Nhà Hàng Sang Trọng",
          "Nhà Hàng Sang Trọng",
          "Nhà Hàng Sang Trọng",
          "Nhà Hàng Sang Trọng",
          "Nhà Hàng Sang Trọng",
          "Nhà Hàng Sang Trọng",
          "Nhà Hàng Sang Trọng",
          "Nhà Hàng Sang Trọng",
          "Nhà Hàng Sang Trọng",
          "Nhà Hàng Sang Trọng",
          "Nhà Hàng Sang Trọng",
          "Nhà Hàng Sang Trọng",
          "Nhà Hàng Sang Trọng",
          "Nhà Hàng Sang Trọng",
          "Nhà Hàng Sang Trọng",
          "Nhà Hàng Sang Trọng",
          "Nhà Hàng Sang Trọng",
          "Nhà Hàng Sang Trọng",
          "Nhà Hàng Sang Trọng",
          "Nhà Hàng Sang Trọng",
          "Nhà Hàng Sang Trọng",
          "Nhà Hàng Sang Trọng",
          "Nhà Hàng Sang Trọng",
          "Nhà Hàng Sang Trọng",
          "Nhà Hàng Sang Trọng",
          "Nhà Hàng Sang Trọng",
          "Nhà Hàng Sang Trọng",
          "Nhà Hàng Sang Trọng",
          "Nhà Hàng Sang Trọng",
          "Nhà Hàng Sang Trọng",
          "Nhà Hàng Sang Trọng",
          "Nhà Hàng Sang Trọng",
          "Nhà Hàng Sang Trọng",
          "Nhà Hàng Sang Trọng",
          "Nhà Hàng Sang Trọng",
          "Nhà Hàng Sang Trọng",
          "Nhà Hàng Sang Trọng",
          "Nhà Hàng Sang Trọng",
          "Nhà Hàng Sang Trọng",
          "Nhà Hàng Sang Trọng",
          "Nhà Hàng Sang Trọng",
          "Nhà Hàng Sang Trọng",
          "Nhà Hàng Sang Trọng",
          "Nhà Hàng Sang Trọng",
          "Nhà Hàng Sang Trọng",
          "Nhà Hàng Sang Trọng",
          "Nhà Hàng Sang Trọng",
          "Nhà Hàng Sang Trọng",
          "Nhà Hàng Sang Trọng",
          "Nhà Hàng Sang Trọng",
          "Nhà Hàng Sang Trọng",
          "Nhà Hàng Sang Trọng",
          "Nhà Hàng Sang Trọng",
          "Nhà Hàng Sang Trọng",
          "Nhà Hàng Sang Trọng",
          "Nhà Hàng Sang Trọng",
          "Nhà Hàng Sang Trọng",
          "Nhà Hàng Sang Trọng",
          "Nhà Hàng Sang Trọng",
          "Nhà Hàng Sang Trọng",
          "Nhà Hàng Sang Trọng",
          "Nhà Hàng Sang Trọng",
          "Nhà Hàng Sang Trọng",
          "Nhà Hàng Sang Trọng",
          "Nhà Hàng Sang Trọng",
          "Nhà Hàng Sang Trọng",
          "Nhà Hàng Sang Trọng",
          "Nhà Hàng Sang Trọng",
          "Nhà Hàng Sang Trọng",
          "Nhà Hàng Sang Trọng",
          "Nhà Hàng Sang Trọng",
          "Nhà Hàng Sang Trọng",
          "Nhà Hàng Sang Trọng",
          "Nhà Hàng Sang Trọng",
          "Nhà Hàng Sang Trọng",
          "Nhà Hàng Sang Trọng",
          "Nhà Hàng Sang Trọng",
          "Nhà Hàng Sang Trọng",
          "Nhà Hàng Sang Trọng",
          "Nhà Hàng Sang Trọng",
          "Nhà Hàng Sang Trọng",
          "Nhà Hàng Sang Trọng",
          "Nhà Hàng Sang Trọng",
          "Nhà Hàng Sang Trọng",
          "Nhà Hàng Sang Trọng",
          "Nhà Hàng Sang Trọng",
          "Nhà Hàng Sang Trọng",
          "Nhà Hàng Sang Trọng",
          "Nhà Hàng Sang Trọng",
          "Nhà Hàng Sang Trọng",
          "Nhà Hàng Sang Trọng",
          "Nhà Hàng Sang Trọng",
          "Nhà Hàng Sang Trọng",
          "Nhà Hàng Sang Trọng",
          "Nhà Hàng Sang Trọng",
          "Nhà Hàng Sang Trọng",
          "Nhà Hàng Sang Trọng",
          "Nhà Hàng Sang Trọng",
          "Nhà Hàng Sang Trọng",
          "Nhà Hàng Sang Trọng",
          "Nhà Hàng Sang Trọng",
          "Nhà Hàng Sang Trọng",
          "Nhà Hàng Sang Trọng",
          "Nhà Hàng Sang Trọng",
          "Nhà Hàng Sang Trọng",
          "Nhà Hàng Sang Trọng",
          "Nhà Hàng Sang Trọng",
          "Nhà Hàng Sang Trọng",
          "Nhà Hàng Sang Trọng",
          "Nhà Hàng Sang Trọng",
          "Nhà Hàng Sang Trọng",
          "Nhà Hàng Sang Trọng",
          "Nhà Hàng Sang Trọng",
          "Nhà Hàng Sang Trọng",
          "Nhà Hàng Sang Trọng",
          "Nhà Hàng Sang Trọng",
          "Nhà Hàng Sang Trọng",
          "Nhà Hàng Sang Trọng",
          "Nhà Hàng Sang Trọng",
          "Nhà Hàng Sang Trọng",
          "Nhà Hàng Sang Trọng",
          "Nhà Hàng Sang Trọng",
          "Nhà Hàng Sang Trọng",
          "Nhà Hàng Sang Trọng",
          "Nhà Hàng Sang Trọng",
          "Nhà Hàng Sang Trọng",
          "Nhà Hàng Sang Trọng",
          "Nhà Hàng Sang Trọng",
          "Nhà Hàng Sang Trọng",
          "Nhà Hàng Sang Trọng",
          "Nhà Hàng Sang Trọng",
          "Nhà Hàng Sang Trọng",
          "Nhà Hàng Sang Trọng",
          "Nhà Hàng Sang Trọng",
          "Nhà Hàng Sang Trọng",
          "Nhà Hàng Sang Trọng",
          "Nhà Hàng Sang Trọng",
          "Nhà Hàng Sang Trọng",
          "Nhà Hàng Sang Trọng",
          "Nhà Hàng Sang Trọng",
          "Nhà Hàng Sang Trọng",
          "Nhà Hàng Sang Trọng",
          "Nhà Hàng Sang Trọng",
          "Nhà Hàng Sang Trọng",
          "Nhà Hàng Sang Trọng",
          "Nhà Hàng Sang Trọng",
          "Nhà Hàng Sang Trọng",
          "Nhà Hàng Sang Trọng",
          "Nhà Hàng Sang Trọng",
          "Nhà Hàng Sang Trọng",
          "Nhà Hàng Sang Trọng",
          "Nhà Hàng Sang Trọng",
          "Nhà Hàng Sang Trọng",
          "Nhà Hàng Sang Trọng",
          "Nhà Hàng Sang Trọng",
          "Nhà Hàng Sang Trọng",
          "Nhà Hàng Sang Trọng",
          "Nhà Hàng Sang Trọng",
          "Nhà Hàng Sang Trọng",
          "Nhà Hàng Sang Trọng",
          "Nhà Hàng Sang Trọng",
          "Nhà Hàng Sang Trọng",
          "Nhà Hàng Sang Trọng",
          "Nhà Hàng Sang Trọng",
          "Nhà Hàng Sang Trọng",
          "Nhà Hàng Sang Trọng",
          "Nhà Hàng Sang Trọng",
          "Nhà Hàng Sang Trọng",
          "Nhà Hàng Sang Trọng",
          "Nhà Hàng Sang Trọng"
         ],
         "xaxis": "x",
         "yaxis": "y"
        },
        {
         "alignmentgroup": "True",
         "bingroup": "x",
         "hovertemplate": "Loại hình quán ăn=%{x}<br>count=%{y}<extra></extra>",
         "legendgroup": "Quán Vỉa Hè",
         "marker": {
          "color": "#EF553B",
          "pattern": {
           "shape": ""
          }
         },
         "name": "Quán Vỉa Hè",
         "offsetgroup": "Quán Vỉa Hè",
         "orientation": "v",
         "showlegend": true,
         "type": "histogram",
         "x": [
          "Quán Vỉa Hè",
          "Quán Vỉa Hè",
          "Quán Vỉa Hè",
          "Quán Vỉa Hè",
          "Quán Vỉa Hè",
          "Quán Vỉa Hè",
          "Quán Vỉa Hè",
          "Quán Vỉa Hè",
          "Quán Vỉa Hè",
          "Quán Vỉa Hè",
          "Quán Vỉa Hè",
          "Quán Vỉa Hè",
          "Quán Vỉa Hè",
          "Quán Vỉa Hè",
          "Quán Vỉa Hè",
          "Quán Vỉa Hè",
          "Quán Vỉa Hè",
          "Quán Vỉa Hè",
          "Quán Vỉa Hè",
          "Quán Vỉa Hè",
          "Quán Vỉa Hè",
          "Quán Vỉa Hè",
          "Quán Vỉa Hè",
          "Quán Vỉa Hè",
          "Quán Vỉa Hè",
          "Quán Vỉa Hè",
          "Quán Vỉa Hè",
          "Quán Vỉa Hè",
          "Quán Vỉa Hè",
          "Quán Vỉa Hè",
          "Quán Vỉa Hè",
          "Quán Vỉa Hè",
          "Quán Vỉa Hè",
          "Quán Vỉa Hè",
          "Quán Vỉa Hè",
          "Quán Vỉa Hè",
          "Quán Vỉa Hè",
          "Quán Vỉa Hè",
          "Quán Vỉa Hè",
          "Quán Vỉa Hè",
          "Quán Vỉa Hè",
          "Quán Vỉa Hè",
          "Quán Vỉa Hè",
          "Quán Vỉa Hè",
          "Quán Vỉa Hè",
          "Quán Vỉa Hè",
          "Quán Vỉa Hè",
          "Quán Vỉa Hè",
          "Quán Vỉa Hè",
          "Quán Vỉa Hè",
          "Quán Vỉa Hè",
          "Quán Vỉa Hè",
          "Quán Vỉa Hè",
          "Quán Vỉa Hè",
          "Quán Vỉa Hè",
          "Quán Vỉa Hè",
          "Quán Vỉa Hè",
          "Quán Vỉa Hè",
          "Quán Vỉa Hè",
          "Quán Vỉa Hè",
          "Quán Vỉa Hè",
          "Quán Vỉa Hè",
          "Quán Vỉa Hè",
          "Quán Vỉa Hè",
          "Quán Vỉa Hè",
          "Quán Vỉa Hè",
          "Quán Vỉa Hè",
          "Quán Vỉa Hè",
          "Quán Vỉa Hè",
          "Quán Vỉa Hè",
          "Quán Vỉa Hè",
          "Quán Vỉa Hè",
          "Quán Vỉa Hè",
          "Quán Vỉa Hè",
          "Quán Vỉa Hè",
          "Quán Vỉa Hè",
          "Quán Vỉa Hè",
          "Quán Vỉa Hè",
          "Quán Vỉa Hè",
          "Quán Vỉa Hè",
          "Quán Vỉa Hè",
          "Quán Vỉa Hè",
          "Quán Vỉa Hè",
          "Quán Vỉa Hè",
          "Quán Vỉa Hè",
          "Quán Vỉa Hè",
          "Quán Vỉa Hè",
          "Quán Vỉa Hè",
          "Quán Vỉa Hè",
          "Quán Vỉa Hè",
          "Quán Vỉa Hè",
          "Quán Vỉa Hè",
          "Quán Vỉa Hè",
          "Quán Vỉa Hè",
          "Quán Vỉa Hè",
          "Quán Vỉa Hè",
          "Quán Vỉa Hè",
          "Quán Vỉa Hè",
          "Quán Vỉa Hè",
          "Quán Vỉa Hè",
          "Quán Vỉa Hè",
          "Quán Vỉa Hè",
          "Quán Vỉa Hè",
          "Quán Vỉa Hè",
          "Quán Vỉa Hè",
          "Quán Vỉa Hè",
          "Quán Vỉa Hè",
          "Quán Vỉa Hè",
          "Quán Vỉa Hè",
          "Quán Vỉa Hè",
          "Quán Vỉa Hè",
          "Quán Vỉa Hè",
          "Quán Vỉa Hè",
          "Quán Vỉa Hè",
          "Quán Vỉa Hè",
          "Quán Vỉa Hè",
          "Quán Vỉa Hè",
          "Quán Vỉa Hè",
          "Quán Vỉa Hè",
          "Quán Vỉa Hè",
          "Quán Vỉa Hè",
          "Quán Vỉa Hè",
          "Quán Vỉa Hè",
          "Quán Vỉa Hè",
          "Quán Vỉa Hè",
          "Quán Vỉa Hè",
          "Quán Vỉa Hè",
          "Quán Vỉa Hè",
          "Quán Vỉa Hè",
          "Quán Vỉa Hè",
          "Quán Vỉa Hè",
          "Quán Vỉa Hè",
          "Quán Vỉa Hè",
          "Quán Vỉa Hè",
          "Quán Vỉa Hè",
          "Quán Vỉa Hè",
          "Quán Vỉa Hè",
          "Quán Vỉa Hè",
          "Quán Vỉa Hè",
          "Quán Vỉa Hè",
          "Quán Vỉa Hè",
          "Quán Vỉa Hè",
          "Quán Vỉa Hè",
          "Quán Vỉa Hè",
          "Quán Vỉa Hè",
          "Quán Vỉa Hè",
          "Quán Vỉa Hè",
          "Quán Vỉa Hè",
          "Quán Vỉa Hè",
          "Quán Vỉa Hè",
          "Quán Vỉa Hè",
          "Quán Vỉa Hè",
          "Quán Vỉa Hè",
          "Quán Vỉa Hè",
          "Quán Vỉa Hè",
          "Quán Vỉa Hè",
          "Quán Vỉa Hè",
          "Quán Vỉa Hè",
          "Quán Vỉa Hè",
          "Quán Vỉa Hè",
          "Quán Vỉa Hè",
          "Quán Vỉa Hè",
          "Quán Vỉa Hè",
          "Quán Vỉa Hè",
          "Quán Vỉa Hè",
          "Quán Vỉa Hè",
          "Quán Vỉa Hè",
          "Quán Vỉa Hè",
          "Quán Vỉa Hè",
          "Quán Vỉa Hè",
          "Quán Vỉa Hè",
          "Quán Vỉa Hè",
          "Quán Vỉa Hè",
          "Quán Vỉa Hè",
          "Quán Vỉa Hè",
          "Quán Vỉa Hè",
          "Quán Vỉa Hè",
          "Quán Vỉa Hè",
          "Quán Vỉa Hè",
          "Quán Vỉa Hè",
          "Quán Vỉa Hè",
          "Quán Vỉa Hè",
          "Quán Vỉa Hè",
          "Quán Vỉa Hè",
          "Quán Vỉa Hè",
          "Quán Vỉa Hè",
          "Quán Vỉa Hè",
          "Quán Vỉa Hè",
          "Quán Vỉa Hè",
          "Quán Vỉa Hè",
          "Quán Vỉa Hè",
          "Quán Vỉa Hè",
          "Quán Vỉa Hè",
          "Quán Vỉa Hè",
          "Quán Vỉa Hè",
          "Quán Vỉa Hè",
          "Quán Vỉa Hè",
          "Quán Vỉa Hè",
          "Quán Vỉa Hè",
          "Quán Vỉa Hè",
          "Quán Vỉa Hè",
          "Quán Vỉa Hè",
          "Quán Vỉa Hè",
          "Quán Vỉa Hè",
          "Quán Vỉa Hè",
          "Quán Vỉa Hè",
          "Quán Vỉa Hè",
          "Quán Vỉa Hè",
          "Quán Vỉa Hè",
          "Quán Vỉa Hè",
          "Quán Vỉa Hè",
          "Quán Vỉa Hè",
          "Quán Vỉa Hè",
          "Quán Vỉa Hè",
          "Quán Vỉa Hè",
          "Quán Vỉa Hè",
          "Quán Vỉa Hè",
          "Quán Vỉa Hè",
          "Quán Vỉa Hè",
          "Quán Vỉa Hè",
          "Quán Vỉa Hè",
          "Quán Vỉa Hè",
          "Quán Vỉa Hè",
          "Quán Vỉa Hè",
          "Quán Vỉa Hè",
          "Quán Vỉa Hè",
          "Quán Vỉa Hè",
          "Quán Vỉa Hè",
          "Quán Vỉa Hè",
          "Quán Vỉa Hè",
          "Quán Vỉa Hè",
          "Quán Vỉa Hè",
          "Quán Vỉa Hè",
          "Quán Vỉa Hè",
          "Quán Vỉa Hè",
          "Quán Vỉa Hè",
          "Quán Vỉa Hè",
          "Quán Vỉa Hè",
          "Quán Vỉa Hè",
          "Quán Vỉa Hè",
          "Quán Vỉa Hè",
          "Quán Vỉa Hè",
          "Quán Vỉa Hè",
          "Quán Vỉa Hè",
          "Quán Vỉa Hè",
          "Quán Vỉa Hè",
          "Quán Vỉa Hè",
          "Quán Vỉa Hè",
          "Quán Vỉa Hè",
          "Quán Vỉa Hè",
          "Quán Vỉa Hè",
          "Quán Vỉa Hè",
          "Quán Vỉa Hè",
          "Quán Vỉa Hè",
          "Quán Vỉa Hè",
          "Quán Vỉa Hè",
          "Quán Vỉa Hè",
          "Quán Vỉa Hè",
          "Quán Vỉa Hè",
          "Quán Vỉa Hè",
          "Quán Vỉa Hè",
          "Quán Vỉa Hè",
          "Quán Vỉa Hè",
          "Quán Vỉa Hè",
          "Quán Vỉa Hè",
          "Quán Vỉa Hè",
          "Quán Vỉa Hè",
          "Quán Vỉa Hè",
          "Quán Vỉa Hè",
          "Quán Vỉa Hè",
          "Quán Vỉa Hè",
          "Quán Vỉa Hè",
          "Quán Vỉa Hè",
          "Quán Vỉa Hè",
          "Quán Vỉa Hè",
          "Quán Vỉa Hè",
          "Quán Vỉa Hè",
          "Quán Vỉa Hè",
          "Quán Vỉa Hè",
          "Quán Vỉa Hè",
          "Quán Vỉa Hè",
          "Quán Vỉa Hè",
          "Quán Vỉa Hè",
          "Quán Vỉa Hè",
          "Quán Vỉa Hè",
          "Quán Vỉa Hè",
          "Quán Vỉa Hè",
          "Quán Vỉa Hè",
          "Quán Vỉa Hè",
          "Quán Vỉa Hè",
          "Quán Vỉa Hè",
          "Quán Vỉa Hè",
          "Quán Vỉa Hè",
          "Quán Vỉa Hè",
          "Quán Vỉa Hè",
          "Quán Vỉa Hè",
          "Quán Vỉa Hè",
          "Quán Vỉa Hè",
          "Quán Vỉa Hè",
          "Quán Vỉa Hè",
          "Quán Vỉa Hè",
          "Quán Vỉa Hè",
          "Quán Vỉa Hè",
          "Quán Vỉa Hè",
          "Quán Vỉa Hè",
          "Quán Vỉa Hè",
          "Quán Vỉa Hè",
          "Quán Vỉa Hè",
          "Quán Vỉa Hè",
          "Quán Vỉa Hè",
          "Quán Vỉa Hè",
          "Quán Vỉa Hè",
          "Quán Vỉa Hè",
          "Quán Vỉa Hè",
          "Quán Vỉa Hè",
          "Quán Vỉa Hè",
          "Quán Vỉa Hè",
          "Quán Vỉa Hè",
          "Quán Vỉa Hè",
          "Quán Vỉa Hè",
          "Quán Vỉa Hè",
          "Quán Vỉa Hè",
          "Quán Vỉa Hè",
          "Quán Vỉa Hè",
          "Quán Vỉa Hè",
          "Quán Vỉa Hè",
          "Quán Vỉa Hè",
          "Quán Vỉa Hè"
         ],
         "xaxis": "x",
         "yaxis": "y"
        },
        {
         "alignmentgroup": "True",
         "bingroup": "x",
         "hovertemplate": "Loại hình quán ăn=%{x}<br>count=%{y}<extra></extra>",
         "legendgroup": "Nhà hàng bình dân",
         "marker": {
          "color": "#00cc96",
          "pattern": {
           "shape": ""
          }
         },
         "name": "Nhà hàng bình dân",
         "offsetgroup": "Nhà hàng bình dân",
         "orientation": "v",
         "showlegend": true,
         "type": "histogram",
         "x": [
          "Nhà hàng bình dân",
          "Nhà hàng bình dân",
          "Nhà hàng bình dân",
          "Nhà hàng bình dân",
          "Nhà hàng bình dân",
          "Nhà hàng bình dân",
          "Nhà hàng bình dân",
          "Nhà hàng bình dân",
          "Nhà hàng bình dân",
          "Nhà hàng bình dân",
          "Nhà hàng bình dân",
          "Nhà hàng bình dân",
          "Nhà hàng bình dân",
          "Nhà hàng bình dân",
          "Nhà hàng bình dân",
          "Nhà hàng bình dân",
          "Nhà hàng bình dân",
          "Nhà hàng bình dân",
          "Nhà hàng bình dân",
          "Nhà hàng bình dân",
          "Nhà hàng bình dân",
          "Nhà hàng bình dân",
          "Nhà hàng bình dân",
          "Nhà hàng bình dân",
          "Nhà hàng bình dân",
          "Nhà hàng bình dân",
          "Nhà hàng bình dân",
          "Nhà hàng bình dân",
          "Nhà hàng bình dân",
          "Nhà hàng bình dân",
          "Nhà hàng bình dân",
          "Nhà hàng bình dân",
          "Nhà hàng bình dân",
          "Nhà hàng bình dân",
          "Nhà hàng bình dân",
          "Nhà hàng bình dân",
          "Nhà hàng bình dân",
          "Nhà hàng bình dân",
          "Nhà hàng bình dân",
          "Nhà hàng bình dân",
          "Nhà hàng bình dân",
          "Nhà hàng bình dân",
          "Nhà hàng bình dân",
          "Nhà hàng bình dân",
          "Nhà hàng bình dân",
          "Nhà hàng bình dân",
          "Nhà hàng bình dân",
          "Nhà hàng bình dân",
          "Nhà hàng bình dân",
          "Nhà hàng bình dân",
          "Nhà hàng bình dân",
          "Nhà hàng bình dân",
          "Nhà hàng bình dân",
          "Nhà hàng bình dân",
          "Nhà hàng bình dân",
          "Nhà hàng bình dân",
          "Nhà hàng bình dân",
          "Nhà hàng bình dân",
          "Nhà hàng bình dân",
          "Nhà hàng bình dân",
          "Nhà hàng bình dân",
          "Nhà hàng bình dân",
          "Nhà hàng bình dân",
          "Nhà hàng bình dân",
          "Nhà hàng bình dân",
          "Nhà hàng bình dân",
          "Nhà hàng bình dân",
          "Nhà hàng bình dân",
          "Nhà hàng bình dân",
          "Nhà hàng bình dân",
          "Nhà hàng bình dân",
          "Nhà hàng bình dân",
          "Nhà hàng bình dân",
          "Nhà hàng bình dân",
          "Nhà hàng bình dân",
          "Nhà hàng bình dân",
          "Nhà hàng bình dân",
          "Nhà hàng bình dân",
          "Nhà hàng bình dân",
          "Nhà hàng bình dân",
          "Nhà hàng bình dân",
          "Nhà hàng bình dân",
          "Nhà hàng bình dân",
          "Nhà hàng bình dân",
          "Nhà hàng bình dân",
          "Nhà hàng bình dân",
          "Nhà hàng bình dân",
          "Nhà hàng bình dân",
          "Nhà hàng bình dân",
          "Nhà hàng bình dân",
          "Nhà hàng bình dân",
          "Nhà hàng bình dân",
          "Nhà hàng bình dân",
          "Nhà hàng bình dân",
          "Nhà hàng bình dân",
          "Nhà hàng bình dân",
          "Nhà hàng bình dân",
          "Nhà hàng bình dân",
          "Nhà hàng bình dân",
          "Nhà hàng bình dân",
          "Nhà hàng bình dân",
          "Nhà hàng bình dân",
          "Nhà hàng bình dân",
          "Nhà hàng bình dân",
          "Nhà hàng bình dân",
          "Nhà hàng bình dân",
          "Nhà hàng bình dân",
          "Nhà hàng bình dân",
          "Nhà hàng bình dân",
          "Nhà hàng bình dân",
          "Nhà hàng bình dân",
          "Nhà hàng bình dân",
          "Nhà hàng bình dân",
          "Nhà hàng bình dân",
          "Nhà hàng bình dân",
          "Nhà hàng bình dân",
          "Nhà hàng bình dân",
          "Nhà hàng bình dân",
          "Nhà hàng bình dân",
          "Nhà hàng bình dân",
          "Nhà hàng bình dân",
          "Nhà hàng bình dân",
          "Nhà hàng bình dân",
          "Nhà hàng bình dân",
          "Nhà hàng bình dân",
          "Nhà hàng bình dân",
          "Nhà hàng bình dân",
          "Nhà hàng bình dân",
          "Nhà hàng bình dân",
          "Nhà hàng bình dân",
          "Nhà hàng bình dân",
          "Nhà hàng bình dân",
          "Nhà hàng bình dân",
          "Nhà hàng bình dân",
          "Nhà hàng bình dân",
          "Nhà hàng bình dân",
          "Nhà hàng bình dân",
          "Nhà hàng bình dân",
          "Nhà hàng bình dân",
          "Nhà hàng bình dân",
          "Nhà hàng bình dân",
          "Nhà hàng bình dân",
          "Nhà hàng bình dân",
          "Nhà hàng bình dân",
          "Nhà hàng bình dân",
          "Nhà hàng bình dân",
          "Nhà hàng bình dân",
          "Nhà hàng bình dân",
          "Nhà hàng bình dân",
          "Nhà hàng bình dân",
          "Nhà hàng bình dân",
          "Nhà hàng bình dân",
          "Nhà hàng bình dân",
          "Nhà hàng bình dân",
          "Nhà hàng bình dân",
          "Nhà hàng bình dân",
          "Nhà hàng bình dân",
          "Nhà hàng bình dân",
          "Nhà hàng bình dân",
          "Nhà hàng bình dân",
          "Nhà hàng bình dân",
          "Nhà hàng bình dân",
          "Nhà hàng bình dân",
          "Nhà hàng bình dân",
          "Nhà hàng bình dân",
          "Nhà hàng bình dân",
          "Nhà hàng bình dân",
          "Nhà hàng bình dân",
          "Nhà hàng bình dân",
          "Nhà hàng bình dân",
          "Nhà hàng bình dân",
          "Nhà hàng bình dân",
          "Nhà hàng bình dân",
          "Nhà hàng bình dân",
          "Nhà hàng bình dân",
          "Nhà hàng bình dân",
          "Nhà hàng bình dân",
          "Nhà hàng bình dân",
          "Nhà hàng bình dân",
          "Nhà hàng bình dân",
          "Nhà hàng bình dân",
          "Nhà hàng bình dân",
          "Nhà hàng bình dân",
          "Nhà hàng bình dân",
          "Nhà hàng bình dân",
          "Nhà hàng bình dân",
          "Nhà hàng bình dân",
          "Nhà hàng bình dân",
          "Nhà hàng bình dân",
          "Nhà hàng bình dân",
          "Nhà hàng bình dân",
          "Nhà hàng bình dân",
          "Nhà hàng bình dân",
          "Nhà hàng bình dân",
          "Nhà hàng bình dân",
          "Nhà hàng bình dân",
          "Nhà hàng bình dân",
          "Nhà hàng bình dân",
          "Nhà hàng bình dân",
          "Nhà hàng bình dân",
          "Nhà hàng bình dân",
          "Nhà hàng bình dân",
          "Nhà hàng bình dân",
          "Nhà hàng bình dân",
          "Nhà hàng bình dân",
          "Nhà hàng bình dân",
          "Nhà hàng bình dân",
          "Nhà hàng bình dân",
          "Nhà hàng bình dân",
          "Nhà hàng bình dân",
          "Nhà hàng bình dân",
          "Nhà hàng bình dân",
          "Nhà hàng bình dân",
          "Nhà hàng bình dân",
          "Nhà hàng bình dân",
          "Nhà hàng bình dân",
          "Nhà hàng bình dân",
          "Nhà hàng bình dân",
          "Nhà hàng bình dân",
          "Nhà hàng bình dân",
          "Nhà hàng bình dân",
          "Nhà hàng bình dân",
          "Nhà hàng bình dân",
          "Nhà hàng bình dân",
          "Nhà hàng bình dân",
          "Nhà hàng bình dân",
          "Nhà hàng bình dân",
          "Nhà hàng bình dân",
          "Nhà hàng bình dân",
          "Nhà hàng bình dân",
          "Nhà hàng bình dân",
          "Nhà hàng bình dân",
          "Nhà hàng bình dân",
          "Nhà hàng bình dân",
          "Nhà hàng bình dân",
          "Nhà hàng bình dân",
          "Nhà hàng bình dân",
          "Nhà hàng bình dân",
          "Nhà hàng bình dân",
          "Nhà hàng bình dân",
          "Nhà hàng bình dân",
          "Nhà hàng bình dân",
          "Nhà hàng bình dân",
          "Nhà hàng bình dân",
          "Nhà hàng bình dân",
          "Nhà hàng bình dân",
          "Nhà hàng bình dân",
          "Nhà hàng bình dân",
          "Nhà hàng bình dân",
          "Nhà hàng bình dân",
          "Nhà hàng bình dân",
          "Nhà hàng bình dân",
          "Nhà hàng bình dân",
          "Nhà hàng bình dân",
          "Nhà hàng bình dân",
          "Nhà hàng bình dân",
          "Nhà hàng bình dân",
          "Nhà hàng bình dân",
          "Nhà hàng bình dân",
          "Nhà hàng bình dân",
          "Nhà hàng bình dân",
          "Nhà hàng bình dân",
          "Nhà hàng bình dân",
          "Nhà hàng bình dân",
          "Nhà hàng bình dân",
          "Nhà hàng bình dân",
          "Nhà hàng bình dân",
          "Nhà hàng bình dân",
          "Nhà hàng bình dân",
          "Nhà hàng bình dân",
          "Nhà hàng bình dân",
          "Nhà hàng bình dân",
          "Nhà hàng bình dân",
          "Nhà hàng bình dân",
          "Nhà hàng bình dân",
          "Nhà hàng bình dân",
          "Nhà hàng bình dân",
          "Nhà hàng bình dân",
          "Nhà hàng bình dân",
          "Nhà hàng bình dân",
          "Nhà hàng bình dân",
          "Nhà hàng bình dân",
          "Nhà hàng bình dân",
          "Nhà hàng bình dân",
          "Nhà hàng bình dân",
          "Nhà hàng bình dân",
          "Nhà hàng bình dân",
          "Nhà hàng bình dân",
          "Nhà hàng bình dân",
          "Nhà hàng bình dân",
          "Nhà hàng bình dân",
          "Nhà hàng bình dân",
          "Nhà hàng bình dân",
          "Nhà hàng bình dân",
          "Nhà hàng bình dân",
          "Nhà hàng bình dân",
          "Nhà hàng bình dân",
          "Nhà hàng bình dân",
          "Nhà hàng bình dân",
          "Nhà hàng bình dân",
          "Nhà hàng bình dân",
          "Nhà hàng bình dân",
          "Nhà hàng bình dân",
          "Nhà hàng bình dân",
          "Nhà hàng bình dân",
          "Nhà hàng bình dân",
          "Nhà hàng bình dân",
          "Nhà hàng bình dân",
          "Nhà hàng bình dân",
          "Nhà hàng bình dân",
          "Nhà hàng bình dân",
          "Nhà hàng bình dân",
          "Nhà hàng bình dân",
          "Nhà hàng bình dân",
          "Nhà hàng bình dân",
          "Nhà hàng bình dân",
          "Nhà hàng bình dân",
          "Nhà hàng bình dân",
          "Nhà hàng bình dân",
          "Nhà hàng bình dân",
          "Nhà hàng bình dân",
          "Nhà hàng bình dân",
          "Nhà hàng bình dân",
          "Nhà hàng bình dân",
          "Nhà hàng bình dân",
          "Nhà hàng bình dân"
         ],
         "xaxis": "x",
         "yaxis": "y"
        }
       ],
       "layout": {
        "barmode": "relative",
        "legend": {
         "title": {
          "text": "Loại hình quán ăn"
         },
         "tracegroupgap": 0
        },
        "template": {
         "data": {
          "bar": [
           {
            "error_x": {
             "color": "#2a3f5f"
            },
            "error_y": {
             "color": "#2a3f5f"
            },
            "marker": {
             "line": {
              "color": "#E5ECF6",
              "width": 0.5
             },
             "pattern": {
              "fillmode": "overlay",
              "size": 10,
              "solidity": 0.2
             }
            },
            "type": "bar"
           }
          ],
          "barpolar": [
           {
            "marker": {
             "line": {
              "color": "#E5ECF6",
              "width": 0.5
             },
             "pattern": {
              "fillmode": "overlay",
              "size": 10,
              "solidity": 0.2
             }
            },
            "type": "barpolar"
           }
          ],
          "carpet": [
           {
            "aaxis": {
             "endlinecolor": "#2a3f5f",
             "gridcolor": "white",
             "linecolor": "white",
             "minorgridcolor": "white",
             "startlinecolor": "#2a3f5f"
            },
            "baxis": {
             "endlinecolor": "#2a3f5f",
             "gridcolor": "white",
             "linecolor": "white",
             "minorgridcolor": "white",
             "startlinecolor": "#2a3f5f"
            },
            "type": "carpet"
           }
          ],
          "choropleth": [
           {
            "colorbar": {
             "outlinewidth": 0,
             "ticks": ""
            },
            "type": "choropleth"
           }
          ],
          "contour": [
           {
            "colorbar": {
             "outlinewidth": 0,
             "ticks": ""
            },
            "colorscale": [
             [
              0,
              "#0d0887"
             ],
             [
              0.1111111111111111,
              "#46039f"
             ],
             [
              0.2222222222222222,
              "#7201a8"
             ],
             [
              0.3333333333333333,
              "#9c179e"
             ],
             [
              0.4444444444444444,
              "#bd3786"
             ],
             [
              0.5555555555555556,
              "#d8576b"
             ],
             [
              0.6666666666666666,
              "#ed7953"
             ],
             [
              0.7777777777777778,
              "#fb9f3a"
             ],
             [
              0.8888888888888888,
              "#fdca26"
             ],
             [
              1,
              "#f0f921"
             ]
            ],
            "type": "contour"
           }
          ],
          "contourcarpet": [
           {
            "colorbar": {
             "outlinewidth": 0,
             "ticks": ""
            },
            "type": "contourcarpet"
           }
          ],
          "heatmap": [
           {
            "colorbar": {
             "outlinewidth": 0,
             "ticks": ""
            },
            "colorscale": [
             [
              0,
              "#0d0887"
             ],
             [
              0.1111111111111111,
              "#46039f"
             ],
             [
              0.2222222222222222,
              "#7201a8"
             ],
             [
              0.3333333333333333,
              "#9c179e"
             ],
             [
              0.4444444444444444,
              "#bd3786"
             ],
             [
              0.5555555555555556,
              "#d8576b"
             ],
             [
              0.6666666666666666,
              "#ed7953"
             ],
             [
              0.7777777777777778,
              "#fb9f3a"
             ],
             [
              0.8888888888888888,
              "#fdca26"
             ],
             [
              1,
              "#f0f921"
             ]
            ],
            "type": "heatmap"
           }
          ],
          "heatmapgl": [
           {
            "colorbar": {
             "outlinewidth": 0,
             "ticks": ""
            },
            "colorscale": [
             [
              0,
              "#0d0887"
             ],
             [
              0.1111111111111111,
              "#46039f"
             ],
             [
              0.2222222222222222,
              "#7201a8"
             ],
             [
              0.3333333333333333,
              "#9c179e"
             ],
             [
              0.4444444444444444,
              "#bd3786"
             ],
             [
              0.5555555555555556,
              "#d8576b"
             ],
             [
              0.6666666666666666,
              "#ed7953"
             ],
             [
              0.7777777777777778,
              "#fb9f3a"
             ],
             [
              0.8888888888888888,
              "#fdca26"
             ],
             [
              1,
              "#f0f921"
             ]
            ],
            "type": "heatmapgl"
           }
          ],
          "histogram": [
           {
            "marker": {
             "pattern": {
              "fillmode": "overlay",
              "size": 10,
              "solidity": 0.2
             }
            },
            "type": "histogram"
           }
          ],
          "histogram2d": [
           {
            "colorbar": {
             "outlinewidth": 0,
             "ticks": ""
            },
            "colorscale": [
             [
              0,
              "#0d0887"
             ],
             [
              0.1111111111111111,
              "#46039f"
             ],
             [
              0.2222222222222222,
              "#7201a8"
             ],
             [
              0.3333333333333333,
              "#9c179e"
             ],
             [
              0.4444444444444444,
              "#bd3786"
             ],
             [
              0.5555555555555556,
              "#d8576b"
             ],
             [
              0.6666666666666666,
              "#ed7953"
             ],
             [
              0.7777777777777778,
              "#fb9f3a"
             ],
             [
              0.8888888888888888,
              "#fdca26"
             ],
             [
              1,
              "#f0f921"
             ]
            ],
            "type": "histogram2d"
           }
          ],
          "histogram2dcontour": [
           {
            "colorbar": {
             "outlinewidth": 0,
             "ticks": ""
            },
            "colorscale": [
             [
              0,
              "#0d0887"
             ],
             [
              0.1111111111111111,
              "#46039f"
             ],
             [
              0.2222222222222222,
              "#7201a8"
             ],
             [
              0.3333333333333333,
              "#9c179e"
             ],
             [
              0.4444444444444444,
              "#bd3786"
             ],
             [
              0.5555555555555556,
              "#d8576b"
             ],
             [
              0.6666666666666666,
              "#ed7953"
             ],
             [
              0.7777777777777778,
              "#fb9f3a"
             ],
             [
              0.8888888888888888,
              "#fdca26"
             ],
             [
              1,
              "#f0f921"
             ]
            ],
            "type": "histogram2dcontour"
           }
          ],
          "mesh3d": [
           {
            "colorbar": {
             "outlinewidth": 0,
             "ticks": ""
            },
            "type": "mesh3d"
           }
          ],
          "parcoords": [
           {
            "line": {
             "colorbar": {
              "outlinewidth": 0,
              "ticks": ""
             }
            },
            "type": "parcoords"
           }
          ],
          "pie": [
           {
            "automargin": true,
            "type": "pie"
           }
          ],
          "scatter": [
           {
            "fillpattern": {
             "fillmode": "overlay",
             "size": 10,
             "solidity": 0.2
            },
            "type": "scatter"
           }
          ],
          "scatter3d": [
           {
            "line": {
             "colorbar": {
              "outlinewidth": 0,
              "ticks": ""
             }
            },
            "marker": {
             "colorbar": {
              "outlinewidth": 0,
              "ticks": ""
             }
            },
            "type": "scatter3d"
           }
          ],
          "scattercarpet": [
           {
            "marker": {
             "colorbar": {
              "outlinewidth": 0,
              "ticks": ""
             }
            },
            "type": "scattercarpet"
           }
          ],
          "scattergeo": [
           {
            "marker": {
             "colorbar": {
              "outlinewidth": 0,
              "ticks": ""
             }
            },
            "type": "scattergeo"
           }
          ],
          "scattergl": [
           {
            "marker": {
             "colorbar": {
              "outlinewidth": 0,
              "ticks": ""
             }
            },
            "type": "scattergl"
           }
          ],
          "scattermapbox": [
           {
            "marker": {
             "colorbar": {
              "outlinewidth": 0,
              "ticks": ""
             }
            },
            "type": "scattermapbox"
           }
          ],
          "scatterpolar": [
           {
            "marker": {
             "colorbar": {
              "outlinewidth": 0,
              "ticks": ""
             }
            },
            "type": "scatterpolar"
           }
          ],
          "scatterpolargl": [
           {
            "marker": {
             "colorbar": {
              "outlinewidth": 0,
              "ticks": ""
             }
            },
            "type": "scatterpolargl"
           }
          ],
          "scatterternary": [
           {
            "marker": {
             "colorbar": {
              "outlinewidth": 0,
              "ticks": ""
             }
            },
            "type": "scatterternary"
           }
          ],
          "surface": [
           {
            "colorbar": {
             "outlinewidth": 0,
             "ticks": ""
            },
            "colorscale": [
             [
              0,
              "#0d0887"
             ],
             [
              0.1111111111111111,
              "#46039f"
             ],
             [
              0.2222222222222222,
              "#7201a8"
             ],
             [
              0.3333333333333333,
              "#9c179e"
             ],
             [
              0.4444444444444444,
              "#bd3786"
             ],
             [
              0.5555555555555556,
              "#d8576b"
             ],
             [
              0.6666666666666666,
              "#ed7953"
             ],
             [
              0.7777777777777778,
              "#fb9f3a"
             ],
             [
              0.8888888888888888,
              "#fdca26"
             ],
             [
              1,
              "#f0f921"
             ]
            ],
            "type": "surface"
           }
          ],
          "table": [
           {
            "cells": {
             "fill": {
              "color": "#EBF0F8"
             },
             "line": {
              "color": "white"
             }
            },
            "header": {
             "fill": {
              "color": "#C8D4E3"
             },
             "line": {
              "color": "white"
             }
            },
            "type": "table"
           }
          ]
         },
         "layout": {
          "annotationdefaults": {
           "arrowcolor": "#2a3f5f",
           "arrowhead": 0,
           "arrowwidth": 1
          },
          "autotypenumbers": "strict",
          "coloraxis": {
           "colorbar": {
            "outlinewidth": 0,
            "ticks": ""
           }
          },
          "colorscale": {
           "diverging": [
            [
             0,
             "#8e0152"
            ],
            [
             0.1,
             "#c51b7d"
            ],
            [
             0.2,
             "#de77ae"
            ],
            [
             0.3,
             "#f1b6da"
            ],
            [
             0.4,
             "#fde0ef"
            ],
            [
             0.5,
             "#f7f7f7"
            ],
            [
             0.6,
             "#e6f5d0"
            ],
            [
             0.7,
             "#b8e186"
            ],
            [
             0.8,
             "#7fbc41"
            ],
            [
             0.9,
             "#4d9221"
            ],
            [
             1,
             "#276419"
            ]
           ],
           "sequential": [
            [
             0,
             "#0d0887"
            ],
            [
             0.1111111111111111,
             "#46039f"
            ],
            [
             0.2222222222222222,
             "#7201a8"
            ],
            [
             0.3333333333333333,
             "#9c179e"
            ],
            [
             0.4444444444444444,
             "#bd3786"
            ],
            [
             0.5555555555555556,
             "#d8576b"
            ],
            [
             0.6666666666666666,
             "#ed7953"
            ],
            [
             0.7777777777777778,
             "#fb9f3a"
            ],
            [
             0.8888888888888888,
             "#fdca26"
            ],
            [
             1,
             "#f0f921"
            ]
           ],
           "sequentialminus": [
            [
             0,
             "#0d0887"
            ],
            [
             0.1111111111111111,
             "#46039f"
            ],
            [
             0.2222222222222222,
             "#7201a8"
            ],
            [
             0.3333333333333333,
             "#9c179e"
            ],
            [
             0.4444444444444444,
             "#bd3786"
            ],
            [
             0.5555555555555556,
             "#d8576b"
            ],
            [
             0.6666666666666666,
             "#ed7953"
            ],
            [
             0.7777777777777778,
             "#fb9f3a"
            ],
            [
             0.8888888888888888,
             "#fdca26"
            ],
            [
             1,
             "#f0f921"
            ]
           ]
          },
          "colorway": [
           "#636efa",
           "#EF553B",
           "#00cc96",
           "#ab63fa",
           "#FFA15A",
           "#19d3f3",
           "#FF6692",
           "#B6E880",
           "#FF97FF",
           "#FECB52"
          ],
          "font": {
           "color": "#2a3f5f"
          },
          "geo": {
           "bgcolor": "white",
           "lakecolor": "white",
           "landcolor": "#E5ECF6",
           "showlakes": true,
           "showland": true,
           "subunitcolor": "white"
          },
          "hoverlabel": {
           "align": "left"
          },
          "hovermode": "closest",
          "mapbox": {
           "style": "light"
          },
          "paper_bgcolor": "white",
          "plot_bgcolor": "#E5ECF6",
          "polar": {
           "angularaxis": {
            "gridcolor": "white",
            "linecolor": "white",
            "ticks": ""
           },
           "bgcolor": "#E5ECF6",
           "radialaxis": {
            "gridcolor": "white",
            "linecolor": "white",
            "ticks": ""
           }
          },
          "scene": {
           "xaxis": {
            "backgroundcolor": "#E5ECF6",
            "gridcolor": "white",
            "gridwidth": 2,
            "linecolor": "white",
            "showbackground": true,
            "ticks": "",
            "zerolinecolor": "white"
           },
           "yaxis": {
            "backgroundcolor": "#E5ECF6",
            "gridcolor": "white",
            "gridwidth": 2,
            "linecolor": "white",
            "showbackground": true,
            "ticks": "",
            "zerolinecolor": "white"
           },
           "zaxis": {
            "backgroundcolor": "#E5ECF6",
            "gridcolor": "white",
            "gridwidth": 2,
            "linecolor": "white",
            "showbackground": true,
            "ticks": "",
            "zerolinecolor": "white"
           }
          },
          "shapedefaults": {
           "line": {
            "color": "#2a3f5f"
           }
          },
          "ternary": {
           "aaxis": {
            "gridcolor": "white",
            "linecolor": "white",
            "ticks": ""
           },
           "baxis": {
            "gridcolor": "white",
            "linecolor": "white",
            "ticks": ""
           },
           "bgcolor": "#E5ECF6",
           "caxis": {
            "gridcolor": "white",
            "linecolor": "white",
            "ticks": ""
           }
          },
          "title": {
           "x": 0.05
          },
          "xaxis": {
           "automargin": true,
           "gridcolor": "white",
           "linecolor": "white",
           "ticks": "",
           "title": {
            "standoff": 15
           },
           "zerolinecolor": "white",
           "zerolinewidth": 2
          },
          "yaxis": {
           "automargin": true,
           "gridcolor": "white",
           "linecolor": "white",
           "ticks": "",
           "title": {
            "standoff": 15
           },
           "zerolinecolor": "white",
           "zerolinewidth": 2
          }
         }
        },
        "title": {
         "text": "Buổi Distribution"
        },
        "xaxis": {
         "anchor": "y",
         "categoryarray": [
          "Nhà Hàng Sang Trọng",
          "Quán Vỉa Hè",
          "Nhà hàng bình dân"
         ],
         "categoryorder": "array",
         "domain": [
          0,
          1
         ],
         "title": {
          "text": "Buổi"
         }
        },
        "yaxis": {
         "anchor": "x",
         "domain": [
          0,
          1
         ],
         "title": {
          "text": "Count"
         }
        }
       }
      }
     },
     "metadata": {},
     "output_type": "display_data"
    }
   ],
   "source": [
    "fig = px.histogram(data, x='Loại hình quán ăn', color='Loại hình quán ăn', title='Buổi Distribution')\n",
    "fig.update_layout(xaxis_title='Buổi', yaxis_title='Count')\n",
    "fig.show()"
   ]
  },
  {
   "cell_type": "code",
   "execution_count": 34,
   "metadata": {},
   "outputs": [
    {
     "data": {
      "application/vnd.plotly.v1+json": {
       "config": {
        "plotlyServerURL": "https://plot.ly"
       },
       "data": [
        {
         "alignmentgroup": "True",
         "bingroup": "x",
         "hovertemplate": "Chế độ ăn=%{x}<br>count=%{y}<extra></extra>",
         "legendgroup": "ăn thoải mái",
         "marker": {
          "color": "#636efa",
          "pattern": {
           "shape": ""
          }
         },
         "name": "ăn thoải mái",
         "offsetgroup": "ăn thoải mái",
         "orientation": "v",
         "showlegend": true,
         "type": "histogram",
         "x": [
          "ăn thoải mái",
          "ăn thoải mái",
          "ăn thoải mái",
          "ăn thoải mái",
          "ăn thoải mái",
          "ăn thoải mái",
          "ăn thoải mái",
          "ăn thoải mái",
          "ăn thoải mái",
          "ăn thoải mái",
          "ăn thoải mái",
          "ăn thoải mái",
          "ăn thoải mái",
          "ăn thoải mái",
          "ăn thoải mái",
          "ăn thoải mái",
          "ăn thoải mái",
          "ăn thoải mái",
          "ăn thoải mái",
          "ăn thoải mái",
          "ăn thoải mái",
          "ăn thoải mái",
          "ăn thoải mái",
          "ăn thoải mái",
          "ăn thoải mái",
          "ăn thoải mái",
          "ăn thoải mái",
          "ăn thoải mái",
          "ăn thoải mái",
          "ăn thoải mái",
          "ăn thoải mái",
          "ăn thoải mái",
          "ăn thoải mái",
          "ăn thoải mái",
          "ăn thoải mái",
          "ăn thoải mái",
          "ăn thoải mái",
          "ăn thoải mái",
          "ăn thoải mái",
          "ăn thoải mái",
          "ăn thoải mái",
          "ăn thoải mái",
          "ăn thoải mái",
          "ăn thoải mái",
          "ăn thoải mái",
          "ăn thoải mái",
          "ăn thoải mái",
          "ăn thoải mái",
          "ăn thoải mái",
          "ăn thoải mái",
          "ăn thoải mái",
          "ăn thoải mái",
          "ăn thoải mái",
          "ăn thoải mái",
          "ăn thoải mái",
          "ăn thoải mái",
          "ăn thoải mái",
          "ăn thoải mái",
          "ăn thoải mái",
          "ăn thoải mái",
          "ăn thoải mái",
          "ăn thoải mái",
          "ăn thoải mái",
          "ăn thoải mái",
          "ăn thoải mái",
          "ăn thoải mái",
          "ăn thoải mái",
          "ăn thoải mái",
          "ăn thoải mái",
          "ăn thoải mái",
          "ăn thoải mái",
          "ăn thoải mái",
          "ăn thoải mái",
          "ăn thoải mái",
          "ăn thoải mái",
          "ăn thoải mái",
          "ăn thoải mái",
          "ăn thoải mái",
          "ăn thoải mái",
          "ăn thoải mái",
          "ăn thoải mái",
          "ăn thoải mái",
          "ăn thoải mái",
          "ăn thoải mái",
          "ăn thoải mái",
          "ăn thoải mái",
          "ăn thoải mái",
          "ăn thoải mái",
          "ăn thoải mái",
          "ăn thoải mái",
          "ăn thoải mái",
          "ăn thoải mái",
          "ăn thoải mái",
          "ăn thoải mái",
          "ăn thoải mái",
          "ăn thoải mái",
          "ăn thoải mái",
          "ăn thoải mái",
          "ăn thoải mái",
          "ăn thoải mái",
          "ăn thoải mái",
          "ăn thoải mái",
          "ăn thoải mái",
          "ăn thoải mái",
          "ăn thoải mái",
          "ăn thoải mái",
          "ăn thoải mái",
          "ăn thoải mái",
          "ăn thoải mái",
          "ăn thoải mái",
          "ăn thoải mái",
          "ăn thoải mái",
          "ăn thoải mái",
          "ăn thoải mái",
          "ăn thoải mái",
          "ăn thoải mái",
          "ăn thoải mái",
          "ăn thoải mái",
          "ăn thoải mái",
          "ăn thoải mái",
          "ăn thoải mái",
          "ăn thoải mái",
          "ăn thoải mái",
          "ăn thoải mái",
          "ăn thoải mái",
          "ăn thoải mái",
          "ăn thoải mái",
          "ăn thoải mái",
          "ăn thoải mái",
          "ăn thoải mái",
          "ăn thoải mái",
          "ăn thoải mái",
          "ăn thoải mái",
          "ăn thoải mái",
          "ăn thoải mái",
          "ăn thoải mái",
          "ăn thoải mái",
          "ăn thoải mái",
          "ăn thoải mái",
          "ăn thoải mái",
          "ăn thoải mái",
          "ăn thoải mái",
          "ăn thoải mái",
          "ăn thoải mái",
          "ăn thoải mái",
          "ăn thoải mái",
          "ăn thoải mái",
          "ăn thoải mái",
          "ăn thoải mái",
          "ăn thoải mái",
          "ăn thoải mái",
          "ăn thoải mái",
          "ăn thoải mái",
          "ăn thoải mái",
          "ăn thoải mái",
          "ăn thoải mái",
          "ăn thoải mái",
          "ăn thoải mái",
          "ăn thoải mái",
          "ăn thoải mái",
          "ăn thoải mái",
          "ăn thoải mái",
          "ăn thoải mái",
          "ăn thoải mái",
          "ăn thoải mái",
          "ăn thoải mái",
          "ăn thoải mái",
          "ăn thoải mái",
          "ăn thoải mái",
          "ăn thoải mái",
          "ăn thoải mái",
          "ăn thoải mái",
          "ăn thoải mái",
          "ăn thoải mái",
          "ăn thoải mái",
          "ăn thoải mái",
          "ăn thoải mái",
          "ăn thoải mái",
          "ăn thoải mái",
          "ăn thoải mái",
          "ăn thoải mái",
          "ăn thoải mái",
          "ăn thoải mái",
          "ăn thoải mái",
          "ăn thoải mái",
          "ăn thoải mái",
          "ăn thoải mái",
          "ăn thoải mái",
          "ăn thoải mái",
          "ăn thoải mái",
          "ăn thoải mái",
          "ăn thoải mái",
          "ăn thoải mái",
          "ăn thoải mái",
          "ăn thoải mái",
          "ăn thoải mái",
          "ăn thoải mái",
          "ăn thoải mái",
          "ăn thoải mái",
          "ăn thoải mái",
          "ăn thoải mái",
          "ăn thoải mái",
          "ăn thoải mái",
          "ăn thoải mái",
          "ăn thoải mái",
          "ăn thoải mái",
          "ăn thoải mái",
          "ăn thoải mái",
          "ăn thoải mái",
          "ăn thoải mái",
          "ăn thoải mái",
          "ăn thoải mái",
          "ăn thoải mái",
          "ăn thoải mái",
          "ăn thoải mái",
          "ăn thoải mái",
          "ăn thoải mái",
          "ăn thoải mái",
          "ăn thoải mái",
          "ăn thoải mái",
          "ăn thoải mái",
          "ăn thoải mái",
          "ăn thoải mái",
          "ăn thoải mái",
          "ăn thoải mái",
          "ăn thoải mái",
          "ăn thoải mái",
          "ăn thoải mái",
          "ăn thoải mái",
          "ăn thoải mái",
          "ăn thoải mái",
          "ăn thoải mái",
          "ăn thoải mái",
          "ăn thoải mái",
          "ăn thoải mái",
          "ăn thoải mái",
          "ăn thoải mái",
          "ăn thoải mái",
          "ăn thoải mái",
          "ăn thoải mái",
          "ăn thoải mái",
          "ăn thoải mái",
          "ăn thoải mái",
          "ăn thoải mái",
          "ăn thoải mái",
          "ăn thoải mái",
          "ăn thoải mái",
          "ăn thoải mái",
          "ăn thoải mái",
          "ăn thoải mái",
          "ăn thoải mái",
          "ăn thoải mái",
          "ăn thoải mái",
          "ăn thoải mái",
          "ăn thoải mái",
          "ăn thoải mái",
          "ăn thoải mái",
          "ăn thoải mái",
          "ăn thoải mái",
          "ăn thoải mái",
          "ăn thoải mái",
          "ăn thoải mái",
          "ăn thoải mái",
          "ăn thoải mái",
          "ăn thoải mái",
          "ăn thoải mái",
          "ăn thoải mái",
          "ăn thoải mái",
          "ăn thoải mái",
          "ăn thoải mái",
          "ăn thoải mái",
          "ăn thoải mái",
          "ăn thoải mái",
          "ăn thoải mái",
          "ăn thoải mái",
          "ăn thoải mái",
          "ăn thoải mái",
          "ăn thoải mái",
          "ăn thoải mái",
          "ăn thoải mái",
          "ăn thoải mái",
          "ăn thoải mái",
          "ăn thoải mái",
          "ăn thoải mái",
          "ăn thoải mái",
          "ăn thoải mái",
          "ăn thoải mái",
          "ăn thoải mái",
          "ăn thoải mái",
          "ăn thoải mái",
          "ăn thoải mái",
          "ăn thoải mái",
          "ăn thoải mái",
          "ăn thoải mái",
          "ăn thoải mái",
          "ăn thoải mái",
          "ăn thoải mái",
          "ăn thoải mái",
          "ăn thoải mái",
          "ăn thoải mái",
          "ăn thoải mái",
          "ăn thoải mái",
          "ăn thoải mái",
          "ăn thoải mái",
          "ăn thoải mái",
          "ăn thoải mái",
          "ăn thoải mái",
          "ăn thoải mái",
          "ăn thoải mái",
          "ăn thoải mái",
          "ăn thoải mái",
          "ăn thoải mái",
          "ăn thoải mái",
          "ăn thoải mái",
          "ăn thoải mái",
          "ăn thoải mái",
          "ăn thoải mái",
          "ăn thoải mái",
          "ăn thoải mái",
          "ăn thoải mái",
          "ăn thoải mái"
         ],
         "xaxis": "x",
         "yaxis": "y"
        },
        {
         "alignmentgroup": "True",
         "bingroup": "x",
         "hovertemplate": "Chế độ ăn=%{x}<br>count=%{y}<extra></extra>",
         "legendgroup": "ăn chay",
         "marker": {
          "color": "#EF553B",
          "pattern": {
           "shape": ""
          }
         },
         "name": "ăn chay",
         "offsetgroup": "ăn chay",
         "orientation": "v",
         "showlegend": true,
         "type": "histogram",
         "x": [
          "ăn chay",
          "ăn chay",
          "ăn chay",
          "ăn chay",
          "ăn chay",
          "ăn chay",
          "ăn chay",
          "ăn chay",
          "ăn chay",
          "ăn chay",
          "ăn chay",
          "ăn chay",
          "ăn chay",
          "ăn chay",
          "ăn chay",
          "ăn chay",
          "ăn chay",
          "ăn chay",
          "ăn chay",
          "ăn chay",
          "ăn chay",
          "ăn chay",
          "ăn chay",
          "ăn chay",
          "ăn chay",
          "ăn chay",
          "ăn chay",
          "ăn chay",
          "ăn chay",
          "ăn chay",
          "ăn chay",
          "ăn chay",
          "ăn chay",
          "ăn chay",
          "ăn chay",
          "ăn chay",
          "ăn chay",
          "ăn chay",
          "ăn chay",
          "ăn chay",
          "ăn chay",
          "ăn chay",
          "ăn chay",
          "ăn chay",
          "ăn chay",
          "ăn chay",
          "ăn chay",
          "ăn chay",
          "ăn chay",
          "ăn chay",
          "ăn chay",
          "ăn chay",
          "ăn chay",
          "ăn chay",
          "ăn chay",
          "ăn chay",
          "ăn chay",
          "ăn chay",
          "ăn chay",
          "ăn chay",
          "ăn chay",
          "ăn chay",
          "ăn chay",
          "ăn chay",
          "ăn chay",
          "ăn chay",
          "ăn chay",
          "ăn chay",
          "ăn chay",
          "ăn chay",
          "ăn chay",
          "ăn chay",
          "ăn chay",
          "ăn chay",
          "ăn chay",
          "ăn chay",
          "ăn chay",
          "ăn chay",
          "ăn chay",
          "ăn chay",
          "ăn chay",
          "ăn chay",
          "ăn chay",
          "ăn chay",
          "ăn chay",
          "ăn chay",
          "ăn chay",
          "ăn chay",
          "ăn chay",
          "ăn chay",
          "ăn chay",
          "ăn chay",
          "ăn chay",
          "ăn chay",
          "ăn chay",
          "ăn chay",
          "ăn chay",
          "ăn chay",
          "ăn chay",
          "ăn chay",
          "ăn chay",
          "ăn chay",
          "ăn chay",
          "ăn chay",
          "ăn chay",
          "ăn chay",
          "ăn chay",
          "ăn chay",
          "ăn chay",
          "ăn chay",
          "ăn chay",
          "ăn chay",
          "ăn chay",
          "ăn chay",
          "ăn chay",
          "ăn chay",
          "ăn chay",
          "ăn chay",
          "ăn chay",
          "ăn chay",
          "ăn chay",
          "ăn chay",
          "ăn chay",
          "ăn chay",
          "ăn chay",
          "ăn chay",
          "ăn chay",
          "ăn chay",
          "ăn chay",
          "ăn chay",
          "ăn chay",
          "ăn chay",
          "ăn chay",
          "ăn chay",
          "ăn chay",
          "ăn chay",
          "ăn chay",
          "ăn chay",
          "ăn chay",
          "ăn chay",
          "ăn chay",
          "ăn chay",
          "ăn chay",
          "ăn chay",
          "ăn chay",
          "ăn chay",
          "ăn chay",
          "ăn chay",
          "ăn chay",
          "ăn chay",
          "ăn chay",
          "ăn chay",
          "ăn chay",
          "ăn chay",
          "ăn chay",
          "ăn chay",
          "ăn chay",
          "ăn chay",
          "ăn chay",
          "ăn chay",
          "ăn chay",
          "ăn chay",
          "ăn chay",
          "ăn chay",
          "ăn chay",
          "ăn chay",
          "ăn chay",
          "ăn chay",
          "ăn chay",
          "ăn chay",
          "ăn chay",
          "ăn chay",
          "ăn chay",
          "ăn chay",
          "ăn chay",
          "ăn chay",
          "ăn chay",
          "ăn chay",
          "ăn chay",
          "ăn chay",
          "ăn chay",
          "ăn chay",
          "ăn chay",
          "ăn chay",
          "ăn chay",
          "ăn chay",
          "ăn chay",
          "ăn chay",
          "ăn chay",
          "ăn chay",
          "ăn chay",
          "ăn chay",
          "ăn chay",
          "ăn chay",
          "ăn chay",
          "ăn chay",
          "ăn chay",
          "ăn chay",
          "ăn chay",
          "ăn chay",
          "ăn chay",
          "ăn chay",
          "ăn chay",
          "ăn chay",
          "ăn chay",
          "ăn chay",
          "ăn chay",
          "ăn chay",
          "ăn chay",
          "ăn chay",
          "ăn chay",
          "ăn chay",
          "ăn chay",
          "ăn chay",
          "ăn chay",
          "ăn chay",
          "ăn chay",
          "ăn chay",
          "ăn chay",
          "ăn chay",
          "ăn chay",
          "ăn chay",
          "ăn chay",
          "ăn chay",
          "ăn chay",
          "ăn chay",
          "ăn chay",
          "ăn chay",
          "ăn chay",
          "ăn chay",
          "ăn chay",
          "ăn chay",
          "ăn chay",
          "ăn chay",
          "ăn chay",
          "ăn chay",
          "ăn chay",
          "ăn chay",
          "ăn chay",
          "ăn chay",
          "ăn chay",
          "ăn chay",
          "ăn chay",
          "ăn chay",
          "ăn chay",
          "ăn chay",
          "ăn chay",
          "ăn chay",
          "ăn chay",
          "ăn chay",
          "ăn chay",
          "ăn chay",
          "ăn chay",
          "ăn chay",
          "ăn chay",
          "ăn chay",
          "ăn chay",
          "ăn chay",
          "ăn chay",
          "ăn chay",
          "ăn chay",
          "ăn chay",
          "ăn chay",
          "ăn chay",
          "ăn chay",
          "ăn chay",
          "ăn chay",
          "ăn chay",
          "ăn chay",
          "ăn chay",
          "ăn chay",
          "ăn chay",
          "ăn chay",
          "ăn chay",
          "ăn chay",
          "ăn chay",
          "ăn chay",
          "ăn chay",
          "ăn chay",
          "ăn chay",
          "ăn chay",
          "ăn chay",
          "ăn chay",
          "ăn chay",
          "ăn chay",
          "ăn chay",
          "ăn chay",
          "ăn chay",
          "ăn chay",
          "ăn chay",
          "ăn chay",
          "ăn chay",
          "ăn chay",
          "ăn chay",
          "ăn chay",
          "ăn chay",
          "ăn chay",
          "ăn chay",
          "ăn chay",
          "ăn chay",
          "ăn chay",
          "ăn chay",
          "ăn chay",
          "ăn chay",
          "ăn chay",
          "ăn chay",
          "ăn chay",
          "ăn chay",
          "ăn chay",
          "ăn chay",
          "ăn chay",
          "ăn chay",
          "ăn chay",
          "ăn chay",
          "ăn chay",
          "ăn chay",
          "ăn chay",
          "ăn chay",
          "ăn chay",
          "ăn chay",
          "ăn chay",
          "ăn chay",
          "ăn chay",
          "ăn chay",
          "ăn chay",
          "ăn chay",
          "ăn chay",
          "ăn chay",
          "ăn chay",
          "ăn chay",
          "ăn chay",
          "ăn chay",
          "ăn chay",
          "ăn chay",
          "ăn chay",
          "ăn chay",
          "ăn chay",
          "ăn chay",
          "ăn chay",
          "ăn chay",
          "ăn chay",
          "ăn chay",
          "ăn chay",
          "ăn chay",
          "ăn chay",
          "ăn chay",
          "ăn chay",
          "ăn chay",
          "ăn chay",
          "ăn chay",
          "ăn chay",
          "ăn chay",
          "ăn chay",
          "ăn chay",
          "ăn chay",
          "ăn chay",
          "ăn chay"
         ],
         "xaxis": "x",
         "yaxis": "y"
        },
        {
         "alignmentgroup": "True",
         "bingroup": "x",
         "hovertemplate": "Chế độ ăn=%{x}<br>count=%{y}<extra></extra>",
         "legendgroup": "ăn kiêng",
         "marker": {
          "color": "#00cc96",
          "pattern": {
           "shape": ""
          }
         },
         "name": "ăn kiêng",
         "offsetgroup": "ăn kiêng",
         "orientation": "v",
         "showlegend": true,
         "type": "histogram",
         "x": [
          "ăn kiêng",
          "ăn kiêng",
          "ăn kiêng",
          "ăn kiêng",
          "ăn kiêng",
          "ăn kiêng",
          "ăn kiêng",
          "ăn kiêng",
          "ăn kiêng",
          "ăn kiêng",
          "ăn kiêng",
          "ăn kiêng",
          "ăn kiêng",
          "ăn kiêng",
          "ăn kiêng",
          "ăn kiêng",
          "ăn kiêng",
          "ăn kiêng",
          "ăn kiêng",
          "ăn kiêng",
          "ăn kiêng",
          "ăn kiêng",
          "ăn kiêng",
          "ăn kiêng",
          "ăn kiêng",
          "ăn kiêng",
          "ăn kiêng",
          "ăn kiêng",
          "ăn kiêng",
          "ăn kiêng",
          "ăn kiêng",
          "ăn kiêng",
          "ăn kiêng",
          "ăn kiêng",
          "ăn kiêng",
          "ăn kiêng",
          "ăn kiêng",
          "ăn kiêng",
          "ăn kiêng",
          "ăn kiêng",
          "ăn kiêng",
          "ăn kiêng",
          "ăn kiêng",
          "ăn kiêng",
          "ăn kiêng",
          "ăn kiêng",
          "ăn kiêng",
          "ăn kiêng",
          "ăn kiêng",
          "ăn kiêng",
          "ăn kiêng",
          "ăn kiêng",
          "ăn kiêng",
          "ăn kiêng",
          "ăn kiêng",
          "ăn kiêng",
          "ăn kiêng",
          "ăn kiêng",
          "ăn kiêng",
          "ăn kiêng",
          "ăn kiêng",
          "ăn kiêng",
          "ăn kiêng",
          "ăn kiêng",
          "ăn kiêng",
          "ăn kiêng",
          "ăn kiêng",
          "ăn kiêng",
          "ăn kiêng",
          "ăn kiêng",
          "ăn kiêng",
          "ăn kiêng",
          "ăn kiêng",
          "ăn kiêng",
          "ăn kiêng",
          "ăn kiêng",
          "ăn kiêng",
          "ăn kiêng",
          "ăn kiêng",
          "ăn kiêng",
          "ăn kiêng",
          "ăn kiêng",
          "ăn kiêng",
          "ăn kiêng",
          "ăn kiêng",
          "ăn kiêng",
          "ăn kiêng",
          "ăn kiêng",
          "ăn kiêng",
          "ăn kiêng",
          "ăn kiêng",
          "ăn kiêng",
          "ăn kiêng",
          "ăn kiêng",
          "ăn kiêng",
          "ăn kiêng",
          "ăn kiêng",
          "ăn kiêng",
          "ăn kiêng",
          "ăn kiêng",
          "ăn kiêng",
          "ăn kiêng",
          "ăn kiêng",
          "ăn kiêng",
          "ăn kiêng",
          "ăn kiêng",
          "ăn kiêng",
          "ăn kiêng",
          "ăn kiêng",
          "ăn kiêng",
          "ăn kiêng",
          "ăn kiêng",
          "ăn kiêng",
          "ăn kiêng",
          "ăn kiêng",
          "ăn kiêng",
          "ăn kiêng",
          "ăn kiêng",
          "ăn kiêng",
          "ăn kiêng",
          "ăn kiêng",
          "ăn kiêng",
          "ăn kiêng",
          "ăn kiêng",
          "ăn kiêng",
          "ăn kiêng",
          "ăn kiêng",
          "ăn kiêng",
          "ăn kiêng",
          "ăn kiêng",
          "ăn kiêng",
          "ăn kiêng",
          "ăn kiêng",
          "ăn kiêng",
          "ăn kiêng",
          "ăn kiêng",
          "ăn kiêng",
          "ăn kiêng",
          "ăn kiêng",
          "ăn kiêng",
          "ăn kiêng",
          "ăn kiêng",
          "ăn kiêng",
          "ăn kiêng",
          "ăn kiêng",
          "ăn kiêng",
          "ăn kiêng",
          "ăn kiêng",
          "ăn kiêng",
          "ăn kiêng",
          "ăn kiêng",
          "ăn kiêng",
          "ăn kiêng",
          "ăn kiêng",
          "ăn kiêng",
          "ăn kiêng",
          "ăn kiêng",
          "ăn kiêng",
          "ăn kiêng",
          "ăn kiêng",
          "ăn kiêng",
          "ăn kiêng",
          "ăn kiêng",
          "ăn kiêng",
          "ăn kiêng",
          "ăn kiêng",
          "ăn kiêng",
          "ăn kiêng",
          "ăn kiêng",
          "ăn kiêng",
          "ăn kiêng",
          "ăn kiêng",
          "ăn kiêng",
          "ăn kiêng",
          "ăn kiêng",
          "ăn kiêng",
          "ăn kiêng",
          "ăn kiêng",
          "ăn kiêng",
          "ăn kiêng",
          "ăn kiêng",
          "ăn kiêng",
          "ăn kiêng",
          "ăn kiêng",
          "ăn kiêng",
          "ăn kiêng",
          "ăn kiêng",
          "ăn kiêng",
          "ăn kiêng",
          "ăn kiêng",
          "ăn kiêng",
          "ăn kiêng",
          "ăn kiêng",
          "ăn kiêng",
          "ăn kiêng",
          "ăn kiêng",
          "ăn kiêng",
          "ăn kiêng",
          "ăn kiêng",
          "ăn kiêng",
          "ăn kiêng",
          "ăn kiêng",
          "ăn kiêng",
          "ăn kiêng",
          "ăn kiêng",
          "ăn kiêng",
          "ăn kiêng",
          "ăn kiêng",
          "ăn kiêng",
          "ăn kiêng",
          "ăn kiêng",
          "ăn kiêng",
          "ăn kiêng",
          "ăn kiêng",
          "ăn kiêng",
          "ăn kiêng",
          "ăn kiêng",
          "ăn kiêng",
          "ăn kiêng",
          "ăn kiêng",
          "ăn kiêng",
          "ăn kiêng",
          "ăn kiêng",
          "ăn kiêng",
          "ăn kiêng",
          "ăn kiêng",
          "ăn kiêng",
          "ăn kiêng",
          "ăn kiêng",
          "ăn kiêng",
          "ăn kiêng",
          "ăn kiêng",
          "ăn kiêng",
          "ăn kiêng",
          "ăn kiêng",
          "ăn kiêng",
          "ăn kiêng",
          "ăn kiêng",
          "ăn kiêng",
          "ăn kiêng",
          "ăn kiêng",
          "ăn kiêng",
          "ăn kiêng",
          "ăn kiêng",
          "ăn kiêng",
          "ăn kiêng",
          "ăn kiêng",
          "ăn kiêng",
          "ăn kiêng",
          "ăn kiêng",
          "ăn kiêng",
          "ăn kiêng",
          "ăn kiêng",
          "ăn kiêng",
          "ăn kiêng",
          "ăn kiêng",
          "ăn kiêng",
          "ăn kiêng",
          "ăn kiêng",
          "ăn kiêng",
          "ăn kiêng",
          "ăn kiêng",
          "ăn kiêng",
          "ăn kiêng",
          "ăn kiêng",
          "ăn kiêng",
          "ăn kiêng",
          "ăn kiêng",
          "ăn kiêng",
          "ăn kiêng",
          "ăn kiêng",
          "ăn kiêng",
          "ăn kiêng",
          "ăn kiêng",
          "ăn kiêng",
          "ăn kiêng",
          "ăn kiêng",
          "ăn kiêng",
          "ăn kiêng",
          "ăn kiêng",
          "ăn kiêng",
          "ăn kiêng",
          "ăn kiêng",
          "ăn kiêng",
          "ăn kiêng",
          "ăn kiêng",
          "ăn kiêng",
          "ăn kiêng",
          "ăn kiêng",
          "ăn kiêng",
          "ăn kiêng",
          "ăn kiêng",
          "ăn kiêng",
          "ăn kiêng",
          "ăn kiêng",
          "ăn kiêng",
          "ăn kiêng",
          "ăn kiêng",
          "ăn kiêng",
          "ăn kiêng",
          "ăn kiêng",
          "ăn kiêng",
          "ăn kiêng",
          "ăn kiêng",
          "ăn kiêng",
          "ăn kiêng",
          "ăn kiêng",
          "ăn kiêng",
          "ăn kiêng",
          "ăn kiêng",
          "ăn kiêng",
          "ăn kiêng",
          "ăn kiêng",
          "ăn kiêng",
          "ăn kiêng",
          "ăn kiêng",
          "ăn kiêng",
          "ăn kiêng",
          "ăn kiêng"
         ],
         "xaxis": "x",
         "yaxis": "y"
        }
       ],
       "layout": {
        "barmode": "relative",
        "legend": {
         "title": {
          "text": "Chế độ ăn"
         },
         "tracegroupgap": 0
        },
        "template": {
         "data": {
          "bar": [
           {
            "error_x": {
             "color": "#2a3f5f"
            },
            "error_y": {
             "color": "#2a3f5f"
            },
            "marker": {
             "line": {
              "color": "#E5ECF6",
              "width": 0.5
             },
             "pattern": {
              "fillmode": "overlay",
              "size": 10,
              "solidity": 0.2
             }
            },
            "type": "bar"
           }
          ],
          "barpolar": [
           {
            "marker": {
             "line": {
              "color": "#E5ECF6",
              "width": 0.5
             },
             "pattern": {
              "fillmode": "overlay",
              "size": 10,
              "solidity": 0.2
             }
            },
            "type": "barpolar"
           }
          ],
          "carpet": [
           {
            "aaxis": {
             "endlinecolor": "#2a3f5f",
             "gridcolor": "white",
             "linecolor": "white",
             "minorgridcolor": "white",
             "startlinecolor": "#2a3f5f"
            },
            "baxis": {
             "endlinecolor": "#2a3f5f",
             "gridcolor": "white",
             "linecolor": "white",
             "minorgridcolor": "white",
             "startlinecolor": "#2a3f5f"
            },
            "type": "carpet"
           }
          ],
          "choropleth": [
           {
            "colorbar": {
             "outlinewidth": 0,
             "ticks": ""
            },
            "type": "choropleth"
           }
          ],
          "contour": [
           {
            "colorbar": {
             "outlinewidth": 0,
             "ticks": ""
            },
            "colorscale": [
             [
              0,
              "#0d0887"
             ],
             [
              0.1111111111111111,
              "#46039f"
             ],
             [
              0.2222222222222222,
              "#7201a8"
             ],
             [
              0.3333333333333333,
              "#9c179e"
             ],
             [
              0.4444444444444444,
              "#bd3786"
             ],
             [
              0.5555555555555556,
              "#d8576b"
             ],
             [
              0.6666666666666666,
              "#ed7953"
             ],
             [
              0.7777777777777778,
              "#fb9f3a"
             ],
             [
              0.8888888888888888,
              "#fdca26"
             ],
             [
              1,
              "#f0f921"
             ]
            ],
            "type": "contour"
           }
          ],
          "contourcarpet": [
           {
            "colorbar": {
             "outlinewidth": 0,
             "ticks": ""
            },
            "type": "contourcarpet"
           }
          ],
          "heatmap": [
           {
            "colorbar": {
             "outlinewidth": 0,
             "ticks": ""
            },
            "colorscale": [
             [
              0,
              "#0d0887"
             ],
             [
              0.1111111111111111,
              "#46039f"
             ],
             [
              0.2222222222222222,
              "#7201a8"
             ],
             [
              0.3333333333333333,
              "#9c179e"
             ],
             [
              0.4444444444444444,
              "#bd3786"
             ],
             [
              0.5555555555555556,
              "#d8576b"
             ],
             [
              0.6666666666666666,
              "#ed7953"
             ],
             [
              0.7777777777777778,
              "#fb9f3a"
             ],
             [
              0.8888888888888888,
              "#fdca26"
             ],
             [
              1,
              "#f0f921"
             ]
            ],
            "type": "heatmap"
           }
          ],
          "heatmapgl": [
           {
            "colorbar": {
             "outlinewidth": 0,
             "ticks": ""
            },
            "colorscale": [
             [
              0,
              "#0d0887"
             ],
             [
              0.1111111111111111,
              "#46039f"
             ],
             [
              0.2222222222222222,
              "#7201a8"
             ],
             [
              0.3333333333333333,
              "#9c179e"
             ],
             [
              0.4444444444444444,
              "#bd3786"
             ],
             [
              0.5555555555555556,
              "#d8576b"
             ],
             [
              0.6666666666666666,
              "#ed7953"
             ],
             [
              0.7777777777777778,
              "#fb9f3a"
             ],
             [
              0.8888888888888888,
              "#fdca26"
             ],
             [
              1,
              "#f0f921"
             ]
            ],
            "type": "heatmapgl"
           }
          ],
          "histogram": [
           {
            "marker": {
             "pattern": {
              "fillmode": "overlay",
              "size": 10,
              "solidity": 0.2
             }
            },
            "type": "histogram"
           }
          ],
          "histogram2d": [
           {
            "colorbar": {
             "outlinewidth": 0,
             "ticks": ""
            },
            "colorscale": [
             [
              0,
              "#0d0887"
             ],
             [
              0.1111111111111111,
              "#46039f"
             ],
             [
              0.2222222222222222,
              "#7201a8"
             ],
             [
              0.3333333333333333,
              "#9c179e"
             ],
             [
              0.4444444444444444,
              "#bd3786"
             ],
             [
              0.5555555555555556,
              "#d8576b"
             ],
             [
              0.6666666666666666,
              "#ed7953"
             ],
             [
              0.7777777777777778,
              "#fb9f3a"
             ],
             [
              0.8888888888888888,
              "#fdca26"
             ],
             [
              1,
              "#f0f921"
             ]
            ],
            "type": "histogram2d"
           }
          ],
          "histogram2dcontour": [
           {
            "colorbar": {
             "outlinewidth": 0,
             "ticks": ""
            },
            "colorscale": [
             [
              0,
              "#0d0887"
             ],
             [
              0.1111111111111111,
              "#46039f"
             ],
             [
              0.2222222222222222,
              "#7201a8"
             ],
             [
              0.3333333333333333,
              "#9c179e"
             ],
             [
              0.4444444444444444,
              "#bd3786"
             ],
             [
              0.5555555555555556,
              "#d8576b"
             ],
             [
              0.6666666666666666,
              "#ed7953"
             ],
             [
              0.7777777777777778,
              "#fb9f3a"
             ],
             [
              0.8888888888888888,
              "#fdca26"
             ],
             [
              1,
              "#f0f921"
             ]
            ],
            "type": "histogram2dcontour"
           }
          ],
          "mesh3d": [
           {
            "colorbar": {
             "outlinewidth": 0,
             "ticks": ""
            },
            "type": "mesh3d"
           }
          ],
          "parcoords": [
           {
            "line": {
             "colorbar": {
              "outlinewidth": 0,
              "ticks": ""
             }
            },
            "type": "parcoords"
           }
          ],
          "pie": [
           {
            "automargin": true,
            "type": "pie"
           }
          ],
          "scatter": [
           {
            "fillpattern": {
             "fillmode": "overlay",
             "size": 10,
             "solidity": 0.2
            },
            "type": "scatter"
           }
          ],
          "scatter3d": [
           {
            "line": {
             "colorbar": {
              "outlinewidth": 0,
              "ticks": ""
             }
            },
            "marker": {
             "colorbar": {
              "outlinewidth": 0,
              "ticks": ""
             }
            },
            "type": "scatter3d"
           }
          ],
          "scattercarpet": [
           {
            "marker": {
             "colorbar": {
              "outlinewidth": 0,
              "ticks": ""
             }
            },
            "type": "scattercarpet"
           }
          ],
          "scattergeo": [
           {
            "marker": {
             "colorbar": {
              "outlinewidth": 0,
              "ticks": ""
             }
            },
            "type": "scattergeo"
           }
          ],
          "scattergl": [
           {
            "marker": {
             "colorbar": {
              "outlinewidth": 0,
              "ticks": ""
             }
            },
            "type": "scattergl"
           }
          ],
          "scattermapbox": [
           {
            "marker": {
             "colorbar": {
              "outlinewidth": 0,
              "ticks": ""
             }
            },
            "type": "scattermapbox"
           }
          ],
          "scatterpolar": [
           {
            "marker": {
             "colorbar": {
              "outlinewidth": 0,
              "ticks": ""
             }
            },
            "type": "scatterpolar"
           }
          ],
          "scatterpolargl": [
           {
            "marker": {
             "colorbar": {
              "outlinewidth": 0,
              "ticks": ""
             }
            },
            "type": "scatterpolargl"
           }
          ],
          "scatterternary": [
           {
            "marker": {
             "colorbar": {
              "outlinewidth": 0,
              "ticks": ""
             }
            },
            "type": "scatterternary"
           }
          ],
          "surface": [
           {
            "colorbar": {
             "outlinewidth": 0,
             "ticks": ""
            },
            "colorscale": [
             [
              0,
              "#0d0887"
             ],
             [
              0.1111111111111111,
              "#46039f"
             ],
             [
              0.2222222222222222,
              "#7201a8"
             ],
             [
              0.3333333333333333,
              "#9c179e"
             ],
             [
              0.4444444444444444,
              "#bd3786"
             ],
             [
              0.5555555555555556,
              "#d8576b"
             ],
             [
              0.6666666666666666,
              "#ed7953"
             ],
             [
              0.7777777777777778,
              "#fb9f3a"
             ],
             [
              0.8888888888888888,
              "#fdca26"
             ],
             [
              1,
              "#f0f921"
             ]
            ],
            "type": "surface"
           }
          ],
          "table": [
           {
            "cells": {
             "fill": {
              "color": "#EBF0F8"
             },
             "line": {
              "color": "white"
             }
            },
            "header": {
             "fill": {
              "color": "#C8D4E3"
             },
             "line": {
              "color": "white"
             }
            },
            "type": "table"
           }
          ]
         },
         "layout": {
          "annotationdefaults": {
           "arrowcolor": "#2a3f5f",
           "arrowhead": 0,
           "arrowwidth": 1
          },
          "autotypenumbers": "strict",
          "coloraxis": {
           "colorbar": {
            "outlinewidth": 0,
            "ticks": ""
           }
          },
          "colorscale": {
           "diverging": [
            [
             0,
             "#8e0152"
            ],
            [
             0.1,
             "#c51b7d"
            ],
            [
             0.2,
             "#de77ae"
            ],
            [
             0.3,
             "#f1b6da"
            ],
            [
             0.4,
             "#fde0ef"
            ],
            [
             0.5,
             "#f7f7f7"
            ],
            [
             0.6,
             "#e6f5d0"
            ],
            [
             0.7,
             "#b8e186"
            ],
            [
             0.8,
             "#7fbc41"
            ],
            [
             0.9,
             "#4d9221"
            ],
            [
             1,
             "#276419"
            ]
           ],
           "sequential": [
            [
             0,
             "#0d0887"
            ],
            [
             0.1111111111111111,
             "#46039f"
            ],
            [
             0.2222222222222222,
             "#7201a8"
            ],
            [
             0.3333333333333333,
             "#9c179e"
            ],
            [
             0.4444444444444444,
             "#bd3786"
            ],
            [
             0.5555555555555556,
             "#d8576b"
            ],
            [
             0.6666666666666666,
             "#ed7953"
            ],
            [
             0.7777777777777778,
             "#fb9f3a"
            ],
            [
             0.8888888888888888,
             "#fdca26"
            ],
            [
             1,
             "#f0f921"
            ]
           ],
           "sequentialminus": [
            [
             0,
             "#0d0887"
            ],
            [
             0.1111111111111111,
             "#46039f"
            ],
            [
             0.2222222222222222,
             "#7201a8"
            ],
            [
             0.3333333333333333,
             "#9c179e"
            ],
            [
             0.4444444444444444,
             "#bd3786"
            ],
            [
             0.5555555555555556,
             "#d8576b"
            ],
            [
             0.6666666666666666,
             "#ed7953"
            ],
            [
             0.7777777777777778,
             "#fb9f3a"
            ],
            [
             0.8888888888888888,
             "#fdca26"
            ],
            [
             1,
             "#f0f921"
            ]
           ]
          },
          "colorway": [
           "#636efa",
           "#EF553B",
           "#00cc96",
           "#ab63fa",
           "#FFA15A",
           "#19d3f3",
           "#FF6692",
           "#B6E880",
           "#FF97FF",
           "#FECB52"
          ],
          "font": {
           "color": "#2a3f5f"
          },
          "geo": {
           "bgcolor": "white",
           "lakecolor": "white",
           "landcolor": "#E5ECF6",
           "showlakes": true,
           "showland": true,
           "subunitcolor": "white"
          },
          "hoverlabel": {
           "align": "left"
          },
          "hovermode": "closest",
          "mapbox": {
           "style": "light"
          },
          "paper_bgcolor": "white",
          "plot_bgcolor": "#E5ECF6",
          "polar": {
           "angularaxis": {
            "gridcolor": "white",
            "linecolor": "white",
            "ticks": ""
           },
           "bgcolor": "#E5ECF6",
           "radialaxis": {
            "gridcolor": "white",
            "linecolor": "white",
            "ticks": ""
           }
          },
          "scene": {
           "xaxis": {
            "backgroundcolor": "#E5ECF6",
            "gridcolor": "white",
            "gridwidth": 2,
            "linecolor": "white",
            "showbackground": true,
            "ticks": "",
            "zerolinecolor": "white"
           },
           "yaxis": {
            "backgroundcolor": "#E5ECF6",
            "gridcolor": "white",
            "gridwidth": 2,
            "linecolor": "white",
            "showbackground": true,
            "ticks": "",
            "zerolinecolor": "white"
           },
           "zaxis": {
            "backgroundcolor": "#E5ECF6",
            "gridcolor": "white",
            "gridwidth": 2,
            "linecolor": "white",
            "showbackground": true,
            "ticks": "",
            "zerolinecolor": "white"
           }
          },
          "shapedefaults": {
           "line": {
            "color": "#2a3f5f"
           }
          },
          "ternary": {
           "aaxis": {
            "gridcolor": "white",
            "linecolor": "white",
            "ticks": ""
           },
           "baxis": {
            "gridcolor": "white",
            "linecolor": "white",
            "ticks": ""
           },
           "bgcolor": "#E5ECF6",
           "caxis": {
            "gridcolor": "white",
            "linecolor": "white",
            "ticks": ""
           }
          },
          "title": {
           "x": 0.05
          },
          "xaxis": {
           "automargin": true,
           "gridcolor": "white",
           "linecolor": "white",
           "ticks": "",
           "title": {
            "standoff": 15
           },
           "zerolinecolor": "white",
           "zerolinewidth": 2
          },
          "yaxis": {
           "automargin": true,
           "gridcolor": "white",
           "linecolor": "white",
           "ticks": "",
           "title": {
            "standoff": 15
           },
           "zerolinecolor": "white",
           "zerolinewidth": 2
          }
         }
        },
        "title": {
         "text": "Buổi Distribution"
        },
        "xaxis": {
         "anchor": "y",
         "categoryarray": [
          "ăn thoải mái",
          "ăn chay",
          "ăn kiêng"
         ],
         "categoryorder": "array",
         "domain": [
          0,
          1
         ],
         "title": {
          "text": "Buổi"
         }
        },
        "yaxis": {
         "anchor": "x",
         "domain": [
          0,
          1
         ],
         "title": {
          "text": "Count"
         }
        }
       }
      }
     },
     "metadata": {},
     "output_type": "display_data"
    }
   ],
   "source": [
    "fig = px.histogram(data, x='Chế độ ăn', color='Chế độ ăn', title='Buổi Distribution')\n",
    "fig.update_layout(xaxis_title='Buổi', yaxis_title='Count')\n",
    "fig.show()"
   ]
  },
  {
   "cell_type": "code",
   "execution_count": 35,
   "metadata": {},
   "outputs": [
    {
     "data": {
      "application/vnd.plotly.v1+json": {
       "config": {
        "plotlyServerURL": "https://plot.ly"
       },
       "data": [
        {
         "alignmentgroup": "True",
         "bingroup": "x",
         "hovertemplate": "Đặc Biệt=%{x}<br>count=%{y}<extra></extra>",
         "legendgroup": "có chỗ đỗ xe",
         "marker": {
          "color": "#636efa",
          "pattern": {
           "shape": ""
          }
         },
         "name": "có chỗ đỗ xe",
         "offsetgroup": "có chỗ đỗ xe",
         "orientation": "v",
         "showlegend": true,
         "type": "histogram",
         "x": [
          "có chỗ đỗ xe",
          "có chỗ đỗ xe",
          "có chỗ đỗ xe",
          "có chỗ đỗ xe",
          "có chỗ đỗ xe",
          "có chỗ đỗ xe",
          "có chỗ đỗ xe",
          "có chỗ đỗ xe",
          "có chỗ đỗ xe",
          "có chỗ đỗ xe",
          "có chỗ đỗ xe",
          "có chỗ đỗ xe",
          "có chỗ đỗ xe",
          "có chỗ đỗ xe",
          "có chỗ đỗ xe",
          "có chỗ đỗ xe",
          "có chỗ đỗ xe",
          "có chỗ đỗ xe",
          "có chỗ đỗ xe",
          "có chỗ đỗ xe",
          "có chỗ đỗ xe",
          "có chỗ đỗ xe",
          "có chỗ đỗ xe",
          "có chỗ đỗ xe",
          "có chỗ đỗ xe",
          "có chỗ đỗ xe",
          "có chỗ đỗ xe",
          "có chỗ đỗ xe",
          "có chỗ đỗ xe",
          "có chỗ đỗ xe",
          "có chỗ đỗ xe",
          "có chỗ đỗ xe",
          "có chỗ đỗ xe",
          "có chỗ đỗ xe",
          "có chỗ đỗ xe",
          "có chỗ đỗ xe",
          "có chỗ đỗ xe",
          "có chỗ đỗ xe",
          "có chỗ đỗ xe",
          "có chỗ đỗ xe",
          "có chỗ đỗ xe",
          "có chỗ đỗ xe",
          "có chỗ đỗ xe",
          "có chỗ đỗ xe",
          "có chỗ đỗ xe",
          "có chỗ đỗ xe",
          "có chỗ đỗ xe",
          "có chỗ đỗ xe",
          "có chỗ đỗ xe",
          "có chỗ đỗ xe",
          "có chỗ đỗ xe",
          "có chỗ đỗ xe",
          "có chỗ đỗ xe",
          "có chỗ đỗ xe",
          "có chỗ đỗ xe",
          "có chỗ đỗ xe",
          "có chỗ đỗ xe",
          "có chỗ đỗ xe",
          "có chỗ đỗ xe",
          "có chỗ đỗ xe",
          "có chỗ đỗ xe",
          "có chỗ đỗ xe",
          "có chỗ đỗ xe",
          "có chỗ đỗ xe",
          "có chỗ đỗ xe",
          "có chỗ đỗ xe",
          "có chỗ đỗ xe",
          "có chỗ đỗ xe",
          "có chỗ đỗ xe",
          "có chỗ đỗ xe",
          "có chỗ đỗ xe",
          "có chỗ đỗ xe",
          "có chỗ đỗ xe",
          "có chỗ đỗ xe",
          "có chỗ đỗ xe",
          "có chỗ đỗ xe",
          "có chỗ đỗ xe",
          "có chỗ đỗ xe",
          "có chỗ đỗ xe",
          "có chỗ đỗ xe",
          "có chỗ đỗ xe",
          "có chỗ đỗ xe",
          "có chỗ đỗ xe",
          "có chỗ đỗ xe",
          "có chỗ đỗ xe",
          "có chỗ đỗ xe",
          "có chỗ đỗ xe",
          "có chỗ đỗ xe",
          "có chỗ đỗ xe",
          "có chỗ đỗ xe",
          "có chỗ đỗ xe",
          "có chỗ đỗ xe",
          "có chỗ đỗ xe",
          "có chỗ đỗ xe",
          "có chỗ đỗ xe",
          "có chỗ đỗ xe",
          "có chỗ đỗ xe",
          "có chỗ đỗ xe",
          "có chỗ đỗ xe",
          "có chỗ đỗ xe",
          "có chỗ đỗ xe",
          "có chỗ đỗ xe",
          "có chỗ đỗ xe",
          "có chỗ đỗ xe",
          "có chỗ đỗ xe",
          "có chỗ đỗ xe",
          "có chỗ đỗ xe",
          "có chỗ đỗ xe",
          "có chỗ đỗ xe",
          "có chỗ đỗ xe",
          "có chỗ đỗ xe",
          "có chỗ đỗ xe",
          "có chỗ đỗ xe",
          "có chỗ đỗ xe",
          "có chỗ đỗ xe",
          "có chỗ đỗ xe",
          "có chỗ đỗ xe",
          "có chỗ đỗ xe",
          "có chỗ đỗ xe",
          "có chỗ đỗ xe",
          "có chỗ đỗ xe",
          "có chỗ đỗ xe",
          "có chỗ đỗ xe",
          "có chỗ đỗ xe",
          "có chỗ đỗ xe",
          "có chỗ đỗ xe",
          "có chỗ đỗ xe",
          "có chỗ đỗ xe",
          "có chỗ đỗ xe",
          "có chỗ đỗ xe",
          "có chỗ đỗ xe",
          "có chỗ đỗ xe"
         ],
         "xaxis": "x",
         "yaxis": "y"
        },
        {
         "alignmentgroup": "True",
         "bingroup": "x",
         "hovertemplate": "Đặc Biệt=%{x}<br>count=%{y}<extra></extra>",
         "legendgroup": "có phòng trông trẻ",
         "marker": {
          "color": "#EF553B",
          "pattern": {
           "shape": ""
          }
         },
         "name": "có phòng trông trẻ",
         "offsetgroup": "có phòng trông trẻ",
         "orientation": "v",
         "showlegend": true,
         "type": "histogram",
         "x": [
          "có phòng trông trẻ",
          "có phòng trông trẻ",
          "có phòng trông trẻ",
          "có phòng trông trẻ",
          "có phòng trông trẻ",
          "có phòng trông trẻ",
          "có phòng trông trẻ",
          "có phòng trông trẻ",
          "có phòng trông trẻ",
          "có phòng trông trẻ",
          "có phòng trông trẻ",
          "có phòng trông trẻ",
          "có phòng trông trẻ",
          "có phòng trông trẻ",
          "có phòng trông trẻ",
          "có phòng trông trẻ",
          "có phòng trông trẻ",
          "có phòng trông trẻ",
          "có phòng trông trẻ",
          "có phòng trông trẻ",
          "có phòng trông trẻ",
          "có phòng trông trẻ",
          "có phòng trông trẻ",
          "có phòng trông trẻ",
          "có phòng trông trẻ",
          "có phòng trông trẻ",
          "có phòng trông trẻ",
          "có phòng trông trẻ",
          "có phòng trông trẻ",
          "có phòng trông trẻ",
          "có phòng trông trẻ",
          "có phòng trông trẻ",
          "có phòng trông trẻ",
          "có phòng trông trẻ",
          "có phòng trông trẻ",
          "có phòng trông trẻ",
          "có phòng trông trẻ",
          "có phòng trông trẻ",
          "có phòng trông trẻ",
          "có phòng trông trẻ",
          "có phòng trông trẻ",
          "có phòng trông trẻ",
          "có phòng trông trẻ",
          "có phòng trông trẻ",
          "có phòng trông trẻ",
          "có phòng trông trẻ",
          "có phòng trông trẻ",
          "có phòng trông trẻ",
          "có phòng trông trẻ",
          "có phòng trông trẻ",
          "có phòng trông trẻ",
          "có phòng trông trẻ",
          "có phòng trông trẻ",
          "có phòng trông trẻ",
          "có phòng trông trẻ",
          "có phòng trông trẻ",
          "có phòng trông trẻ",
          "có phòng trông trẻ",
          "có phòng trông trẻ",
          "có phòng trông trẻ",
          "có phòng trông trẻ",
          "có phòng trông trẻ",
          "có phòng trông trẻ",
          "có phòng trông trẻ",
          "có phòng trông trẻ",
          "có phòng trông trẻ",
          "có phòng trông trẻ",
          "có phòng trông trẻ",
          "có phòng trông trẻ",
          "có phòng trông trẻ",
          "có phòng trông trẻ",
          "có phòng trông trẻ",
          "có phòng trông trẻ",
          "có phòng trông trẻ",
          "có phòng trông trẻ",
          "có phòng trông trẻ",
          "có phòng trông trẻ",
          "có phòng trông trẻ",
          "có phòng trông trẻ",
          "có phòng trông trẻ",
          "có phòng trông trẻ",
          "có phòng trông trẻ",
          "có phòng trông trẻ",
          "có phòng trông trẻ",
          "có phòng trông trẻ",
          "có phòng trông trẻ",
          "có phòng trông trẻ",
          "có phòng trông trẻ",
          "có phòng trông trẻ",
          "có phòng trông trẻ",
          "có phòng trông trẻ",
          "có phòng trông trẻ",
          "có phòng trông trẻ",
          "có phòng trông trẻ",
          "có phòng trông trẻ",
          "có phòng trông trẻ",
          "có phòng trông trẻ",
          "có phòng trông trẻ",
          "có phòng trông trẻ",
          "có phòng trông trẻ",
          "có phòng trông trẻ",
          "có phòng trông trẻ",
          "có phòng trông trẻ",
          "có phòng trông trẻ",
          "có phòng trông trẻ",
          "có phòng trông trẻ",
          "có phòng trông trẻ",
          "có phòng trông trẻ",
          "có phòng trông trẻ",
          "có phòng trông trẻ",
          "có phòng trông trẻ",
          "có phòng trông trẻ",
          "có phòng trông trẻ",
          "có phòng trông trẻ",
          "có phòng trông trẻ",
          "có phòng trông trẻ",
          "có phòng trông trẻ",
          "có phòng trông trẻ",
          "có phòng trông trẻ",
          "có phòng trông trẻ",
          "có phòng trông trẻ",
          "có phòng trông trẻ",
          "có phòng trông trẻ",
          "có phòng trông trẻ",
          "có phòng trông trẻ",
          "có phòng trông trẻ",
          "có phòng trông trẻ",
          "có phòng trông trẻ",
          "có phòng trông trẻ",
          "có phòng trông trẻ",
          "có phòng trông trẻ",
          "có phòng trông trẻ",
          "có phòng trông trẻ",
          "có phòng trông trẻ"
         ],
         "xaxis": "x",
         "yaxis": "y"
        },
        {
         "alignmentgroup": "True",
         "bingroup": "x",
         "hovertemplate": "Đặc Biệt=%{x}<br>count=%{y}<extra></extra>",
         "legendgroup": "có phòng hút thuốc",
         "marker": {
          "color": "#00cc96",
          "pattern": {
           "shape": ""
          }
         },
         "name": "có phòng hút thuốc",
         "offsetgroup": "có phòng hút thuốc",
         "orientation": "v",
         "showlegend": true,
         "type": "histogram",
         "x": [
          "có phòng hút thuốc",
          "có phòng hút thuốc",
          "có phòng hút thuốc",
          "có phòng hút thuốc",
          "có phòng hút thuốc",
          "có phòng hút thuốc",
          "có phòng hút thuốc",
          "có phòng hút thuốc",
          "có phòng hút thuốc",
          "có phòng hút thuốc",
          "có phòng hút thuốc",
          "có phòng hút thuốc",
          "có phòng hút thuốc",
          "có phòng hút thuốc",
          "có phòng hút thuốc",
          "có phòng hút thuốc",
          "có phòng hút thuốc",
          "có phòng hút thuốc",
          "có phòng hút thuốc",
          "có phòng hút thuốc",
          "có phòng hút thuốc",
          "có phòng hút thuốc",
          "có phòng hút thuốc",
          "có phòng hút thuốc",
          "có phòng hút thuốc",
          "có phòng hút thuốc",
          "có phòng hút thuốc",
          "có phòng hút thuốc",
          "có phòng hút thuốc",
          "có phòng hút thuốc",
          "có phòng hút thuốc",
          "có phòng hút thuốc",
          "có phòng hút thuốc",
          "có phòng hút thuốc",
          "có phòng hút thuốc",
          "có phòng hút thuốc",
          "có phòng hút thuốc",
          "có phòng hút thuốc",
          "có phòng hút thuốc",
          "có phòng hút thuốc",
          "có phòng hút thuốc",
          "có phòng hút thuốc",
          "có phòng hút thuốc",
          "có phòng hút thuốc",
          "có phòng hút thuốc",
          "có phòng hút thuốc",
          "có phòng hút thuốc",
          "có phòng hút thuốc",
          "có phòng hút thuốc",
          "có phòng hút thuốc",
          "có phòng hút thuốc",
          "có phòng hút thuốc",
          "có phòng hút thuốc",
          "có phòng hút thuốc",
          "có phòng hút thuốc",
          "có phòng hút thuốc",
          "có phòng hút thuốc",
          "có phòng hút thuốc",
          "có phòng hút thuốc",
          "có phòng hút thuốc",
          "có phòng hút thuốc",
          "có phòng hút thuốc",
          "có phòng hút thuốc",
          "có phòng hút thuốc",
          "có phòng hút thuốc",
          "có phòng hút thuốc",
          "có phòng hút thuốc",
          "có phòng hút thuốc",
          "có phòng hút thuốc",
          "có phòng hút thuốc",
          "có phòng hút thuốc",
          "có phòng hút thuốc",
          "có phòng hút thuốc",
          "có phòng hút thuốc",
          "có phòng hút thuốc",
          "có phòng hút thuốc",
          "có phòng hút thuốc",
          "có phòng hút thuốc",
          "có phòng hút thuốc",
          "có phòng hút thuốc",
          "có phòng hút thuốc",
          "có phòng hút thuốc",
          "có phòng hút thuốc",
          "có phòng hút thuốc",
          "có phòng hút thuốc",
          "có phòng hút thuốc",
          "có phòng hút thuốc",
          "có phòng hút thuốc",
          "có phòng hút thuốc",
          "có phòng hút thuốc",
          "có phòng hút thuốc",
          "có phòng hút thuốc",
          "có phòng hút thuốc",
          "có phòng hút thuốc",
          "có phòng hút thuốc",
          "có phòng hút thuốc",
          "có phòng hút thuốc",
          "có phòng hút thuốc",
          "có phòng hút thuốc",
          "có phòng hút thuốc",
          "có phòng hút thuốc",
          "có phòng hút thuốc",
          "có phòng hút thuốc",
          "có phòng hút thuốc",
          "có phòng hút thuốc",
          "có phòng hút thuốc",
          "có phòng hút thuốc",
          "có phòng hút thuốc",
          "có phòng hút thuốc",
          "có phòng hút thuốc",
          "có phòng hút thuốc",
          "có phòng hút thuốc",
          "có phòng hút thuốc",
          "có phòng hút thuốc",
          "có phòng hút thuốc",
          "có phòng hút thuốc",
          "có phòng hút thuốc",
          "có phòng hút thuốc",
          "có phòng hút thuốc",
          "có phòng hút thuốc",
          "có phòng hút thuốc",
          "có phòng hút thuốc",
          "có phòng hút thuốc",
          "có phòng hút thuốc",
          "có phòng hút thuốc",
          "có phòng hút thuốc",
          "có phòng hút thuốc",
          "có phòng hút thuốc",
          "có phòng hút thuốc",
          "có phòng hút thuốc",
          "có phòng hút thuốc",
          "có phòng hút thuốc",
          "có phòng hút thuốc",
          "có phòng hút thuốc",
          "có phòng hút thuốc",
          "có phòng hút thuốc",
          "có phòng hút thuốc",
          "có phòng hút thuốc",
          "có phòng hút thuốc",
          "có phòng hút thuốc",
          "có phòng hút thuốc"
         ],
         "xaxis": "x",
         "yaxis": "y"
        },
        {
         "alignmentgroup": "True",
         "bingroup": "x",
         "hovertemplate": "Đặc Biệt=%{x}<br>count=%{y}<extra></extra>",
         "legendgroup": "Đang giảm giá",
         "marker": {
          "color": "#ab63fa",
          "pattern": {
           "shape": ""
          }
         },
         "name": "Đang giảm giá",
         "offsetgroup": "Đang giảm giá",
         "orientation": "v",
         "showlegend": true,
         "type": "histogram",
         "x": [
          "Đang giảm giá",
          "Đang giảm giá",
          "Đang giảm giá",
          "Đang giảm giá",
          "Đang giảm giá",
          "Đang giảm giá",
          "Đang giảm giá",
          "Đang giảm giá",
          "Đang giảm giá",
          "Đang giảm giá",
          "Đang giảm giá",
          "Đang giảm giá",
          "Đang giảm giá",
          "Đang giảm giá",
          "Đang giảm giá",
          "Đang giảm giá",
          "Đang giảm giá",
          "Đang giảm giá",
          "Đang giảm giá",
          "Đang giảm giá",
          "Đang giảm giá",
          "Đang giảm giá",
          "Đang giảm giá",
          "Đang giảm giá",
          "Đang giảm giá",
          "Đang giảm giá",
          "Đang giảm giá",
          "Đang giảm giá",
          "Đang giảm giá",
          "Đang giảm giá",
          "Đang giảm giá",
          "Đang giảm giá",
          "Đang giảm giá",
          "Đang giảm giá",
          "Đang giảm giá",
          "Đang giảm giá",
          "Đang giảm giá",
          "Đang giảm giá",
          "Đang giảm giá",
          "Đang giảm giá",
          "Đang giảm giá",
          "Đang giảm giá",
          "Đang giảm giá",
          "Đang giảm giá",
          "Đang giảm giá",
          "Đang giảm giá",
          "Đang giảm giá",
          "Đang giảm giá",
          "Đang giảm giá",
          "Đang giảm giá",
          "Đang giảm giá",
          "Đang giảm giá",
          "Đang giảm giá",
          "Đang giảm giá",
          "Đang giảm giá",
          "Đang giảm giá",
          "Đang giảm giá",
          "Đang giảm giá",
          "Đang giảm giá",
          "Đang giảm giá",
          "Đang giảm giá",
          "Đang giảm giá",
          "Đang giảm giá",
          "Đang giảm giá",
          "Đang giảm giá",
          "Đang giảm giá",
          "Đang giảm giá",
          "Đang giảm giá",
          "Đang giảm giá",
          "Đang giảm giá",
          "Đang giảm giá",
          "Đang giảm giá",
          "Đang giảm giá",
          "Đang giảm giá",
          "Đang giảm giá",
          "Đang giảm giá",
          "Đang giảm giá",
          "Đang giảm giá",
          "Đang giảm giá",
          "Đang giảm giá",
          "Đang giảm giá",
          "Đang giảm giá",
          "Đang giảm giá",
          "Đang giảm giá",
          "Đang giảm giá",
          "Đang giảm giá",
          "Đang giảm giá",
          "Đang giảm giá",
          "Đang giảm giá",
          "Đang giảm giá",
          "Đang giảm giá",
          "Đang giảm giá",
          "Đang giảm giá",
          "Đang giảm giá",
          "Đang giảm giá",
          "Đang giảm giá",
          "Đang giảm giá",
          "Đang giảm giá",
          "Đang giảm giá",
          "Đang giảm giá",
          "Đang giảm giá",
          "Đang giảm giá",
          "Đang giảm giá",
          "Đang giảm giá",
          "Đang giảm giá",
          "Đang giảm giá",
          "Đang giảm giá",
          "Đang giảm giá",
          "Đang giảm giá",
          "Đang giảm giá",
          "Đang giảm giá",
          "Đang giảm giá",
          "Đang giảm giá",
          "Đang giảm giá",
          "Đang giảm giá",
          "Đang giảm giá",
          "Đang giảm giá",
          "Đang giảm giá",
          "Đang giảm giá",
          "Đang giảm giá",
          "Đang giảm giá",
          "Đang giảm giá",
          "Đang giảm giá",
          "Đang giảm giá",
          "Đang giảm giá",
          "Đang giảm giá",
          "Đang giảm giá",
          "Đang giảm giá",
          "Đang giảm giá",
          "Đang giảm giá",
          "Đang giảm giá",
          "Đang giảm giá",
          "Đang giảm giá"
         ],
         "xaxis": "x",
         "yaxis": "y"
        },
        {
         "alignmentgroup": "True",
         "bingroup": "x",
         "hovertemplate": "Đặc Biệt=%{x}<br>count=%{y}<extra></extra>",
         "legendgroup": "có không gian ngoài trời",
         "marker": {
          "color": "#FFA15A",
          "pattern": {
           "shape": ""
          }
         },
         "name": "có không gian ngoài trời",
         "offsetgroup": "có không gian ngoài trời",
         "orientation": "v",
         "showlegend": true,
         "type": "histogram",
         "x": [
          "có không gian ngoài trời",
          "có không gian ngoài trời",
          "có không gian ngoài trời",
          "có không gian ngoài trời",
          "có không gian ngoài trời",
          "có không gian ngoài trời",
          "có không gian ngoài trời",
          "có không gian ngoài trời",
          "có không gian ngoài trời",
          "có không gian ngoài trời",
          "có không gian ngoài trời",
          "có không gian ngoài trời",
          "có không gian ngoài trời",
          "có không gian ngoài trời",
          "có không gian ngoài trời",
          "có không gian ngoài trời",
          "có không gian ngoài trời",
          "có không gian ngoài trời",
          "có không gian ngoài trời",
          "có không gian ngoài trời",
          "có không gian ngoài trời",
          "có không gian ngoài trời",
          "có không gian ngoài trời",
          "có không gian ngoài trời",
          "có không gian ngoài trời",
          "có không gian ngoài trời",
          "có không gian ngoài trời",
          "có không gian ngoài trời",
          "có không gian ngoài trời",
          "có không gian ngoài trời",
          "có không gian ngoài trời",
          "có không gian ngoài trời",
          "có không gian ngoài trời",
          "có không gian ngoài trời",
          "có không gian ngoài trời",
          "có không gian ngoài trời",
          "có không gian ngoài trời",
          "có không gian ngoài trời",
          "có không gian ngoài trời",
          "có không gian ngoài trời",
          "có không gian ngoài trời",
          "có không gian ngoài trời",
          "có không gian ngoài trời",
          "có không gian ngoài trời",
          "có không gian ngoài trời",
          "có không gian ngoài trời",
          "có không gian ngoài trời",
          "có không gian ngoài trời",
          "có không gian ngoài trời",
          "có không gian ngoài trời",
          "có không gian ngoài trời",
          "có không gian ngoài trời",
          "có không gian ngoài trời",
          "có không gian ngoài trời",
          "có không gian ngoài trời",
          "có không gian ngoài trời",
          "có không gian ngoài trời",
          "có không gian ngoài trời",
          "có không gian ngoài trời",
          "có không gian ngoài trời",
          "có không gian ngoài trời",
          "có không gian ngoài trời",
          "có không gian ngoài trời",
          "có không gian ngoài trời",
          "có không gian ngoài trời",
          "có không gian ngoài trời",
          "có không gian ngoài trời",
          "có không gian ngoài trời",
          "có không gian ngoài trời",
          "có không gian ngoài trời",
          "có không gian ngoài trời",
          "có không gian ngoài trời",
          "có không gian ngoài trời",
          "có không gian ngoài trời",
          "có không gian ngoài trời",
          "có không gian ngoài trời",
          "có không gian ngoài trời",
          "có không gian ngoài trời",
          "có không gian ngoài trời",
          "có không gian ngoài trời",
          "có không gian ngoài trời",
          "có không gian ngoài trời",
          "có không gian ngoài trời",
          "có không gian ngoài trời",
          "có không gian ngoài trời",
          "có không gian ngoài trời",
          "có không gian ngoài trời",
          "có không gian ngoài trời",
          "có không gian ngoài trời",
          "có không gian ngoài trời",
          "có không gian ngoài trời",
          "có không gian ngoài trời",
          "có không gian ngoài trời",
          "có không gian ngoài trời",
          "có không gian ngoài trời",
          "có không gian ngoài trời",
          "có không gian ngoài trời",
          "có không gian ngoài trời",
          "có không gian ngoài trời",
          "có không gian ngoài trời",
          "có không gian ngoài trời",
          "có không gian ngoài trời",
          "có không gian ngoài trời",
          "có không gian ngoài trời",
          "có không gian ngoài trời",
          "có không gian ngoài trời",
          "có không gian ngoài trời",
          "có không gian ngoài trời",
          "có không gian ngoài trời",
          "có không gian ngoài trời",
          "có không gian ngoài trời",
          "có không gian ngoài trời",
          "có không gian ngoài trời",
          "có không gian ngoài trời",
          "có không gian ngoài trời",
          "có không gian ngoài trời",
          "có không gian ngoài trời",
          "có không gian ngoài trời",
          "có không gian ngoài trời",
          "có không gian ngoài trời",
          "có không gian ngoài trời",
          "có không gian ngoài trời",
          "có không gian ngoài trời",
          "có không gian ngoài trời",
          "có không gian ngoài trời",
          "có không gian ngoài trời",
          "có không gian ngoài trời",
          "có không gian ngoài trời",
          "có không gian ngoài trời",
          "có không gian ngoài trời",
          "có không gian ngoài trời",
          "có không gian ngoài trời",
          "có không gian ngoài trời",
          "có không gian ngoài trời",
          "có không gian ngoài trời",
          "có không gian ngoài trời",
          "có không gian ngoài trời",
          "có không gian ngoài trời",
          "có không gian ngoài trời",
          "có không gian ngoài trời",
          "có không gian ngoài trời",
          "có không gian ngoài trời",
          "có không gian ngoài trời",
          "có không gian ngoài trời"
         ],
         "xaxis": "x",
         "yaxis": "y"
        },
        {
         "alignmentgroup": "True",
         "bingroup": "x",
         "hovertemplate": "Đặc Biệt=%{x}<br>count=%{y}<extra></extra>",
         "legendgroup": "wifi miễn phí",
         "marker": {
          "color": "#19d3f3",
          "pattern": {
           "shape": ""
          }
         },
         "name": "wifi miễn phí",
         "offsetgroup": "wifi miễn phí",
         "orientation": "v",
         "showlegend": true,
         "type": "histogram",
         "x": [
          "wifi miễn phí",
          "wifi miễn phí",
          "wifi miễn phí",
          "wifi miễn phí",
          "wifi miễn phí",
          "wifi miễn phí",
          "wifi miễn phí",
          "wifi miễn phí",
          "wifi miễn phí",
          "wifi miễn phí",
          "wifi miễn phí",
          "wifi miễn phí",
          "wifi miễn phí",
          "wifi miễn phí",
          "wifi miễn phí",
          "wifi miễn phí",
          "wifi miễn phí",
          "wifi miễn phí",
          "wifi miễn phí",
          "wifi miễn phí",
          "wifi miễn phí",
          "wifi miễn phí",
          "wifi miễn phí",
          "wifi miễn phí",
          "wifi miễn phí",
          "wifi miễn phí",
          "wifi miễn phí",
          "wifi miễn phí",
          "wifi miễn phí",
          "wifi miễn phí",
          "wifi miễn phí",
          "wifi miễn phí",
          "wifi miễn phí",
          "wifi miễn phí",
          "wifi miễn phí",
          "wifi miễn phí",
          "wifi miễn phí",
          "wifi miễn phí",
          "wifi miễn phí",
          "wifi miễn phí",
          "wifi miễn phí",
          "wifi miễn phí",
          "wifi miễn phí",
          "wifi miễn phí",
          "wifi miễn phí",
          "wifi miễn phí",
          "wifi miễn phí",
          "wifi miễn phí",
          "wifi miễn phí",
          "wifi miễn phí",
          "wifi miễn phí",
          "wifi miễn phí",
          "wifi miễn phí",
          "wifi miễn phí",
          "wifi miễn phí",
          "wifi miễn phí",
          "wifi miễn phí",
          "wifi miễn phí",
          "wifi miễn phí",
          "wifi miễn phí",
          "wifi miễn phí",
          "wifi miễn phí",
          "wifi miễn phí",
          "wifi miễn phí",
          "wifi miễn phí",
          "wifi miễn phí",
          "wifi miễn phí",
          "wifi miễn phí",
          "wifi miễn phí",
          "wifi miễn phí",
          "wifi miễn phí",
          "wifi miễn phí",
          "wifi miễn phí",
          "wifi miễn phí",
          "wifi miễn phí",
          "wifi miễn phí",
          "wifi miễn phí",
          "wifi miễn phí",
          "wifi miễn phí",
          "wifi miễn phí",
          "wifi miễn phí",
          "wifi miễn phí",
          "wifi miễn phí",
          "wifi miễn phí",
          "wifi miễn phí",
          "wifi miễn phí",
          "wifi miễn phí",
          "wifi miễn phí",
          "wifi miễn phí",
          "wifi miễn phí",
          "wifi miễn phí",
          "wifi miễn phí",
          "wifi miễn phí",
          "wifi miễn phí",
          "wifi miễn phí",
          "wifi miễn phí",
          "wifi miễn phí",
          "wifi miễn phí",
          "wifi miễn phí",
          "wifi miễn phí",
          "wifi miễn phí",
          "wifi miễn phí",
          "wifi miễn phí",
          "wifi miễn phí",
          "wifi miễn phí",
          "wifi miễn phí",
          "wifi miễn phí",
          "wifi miễn phí",
          "wifi miễn phí",
          "wifi miễn phí",
          "wifi miễn phí",
          "wifi miễn phí",
          "wifi miễn phí",
          "wifi miễn phí",
          "wifi miễn phí",
          "wifi miễn phí",
          "wifi miễn phí",
          "wifi miễn phí",
          "wifi miễn phí",
          "wifi miễn phí",
          "wifi miễn phí",
          "wifi miễn phí",
          "wifi miễn phí",
          "wifi miễn phí",
          "wifi miễn phí",
          "wifi miễn phí",
          "wifi miễn phí",
          "wifi miễn phí",
          "wifi miễn phí",
          "wifi miễn phí",
          "wifi miễn phí",
          "wifi miễn phí",
          "wifi miễn phí",
          "wifi miễn phí",
          "wifi miễn phí",
          "wifi miễn phí",
          "wifi miễn phí",
          "wifi miễn phí",
          "wifi miễn phí",
          "wifi miễn phí",
          "wifi miễn phí",
          "wifi miễn phí",
          "wifi miễn phí",
          "wifi miễn phí",
          "wifi miễn phí",
          "wifi miễn phí",
          "wifi miễn phí",
          "wifi miễn phí",
          "wifi miễn phí",
          "wifi miễn phí",
          "wifi miễn phí",
          "wifi miễn phí",
          "wifi miễn phí",
          "wifi miễn phí",
          "wifi miễn phí",
          "wifi miễn phí",
          "wifi miễn phí",
          "wifi miễn phí",
          "wifi miễn phí",
          "wifi miễn phí"
         ],
         "xaxis": "x",
         "yaxis": "y"
        },
        {
         "alignmentgroup": "True",
         "bingroup": "x",
         "hovertemplate": "Đặc Biệt=%{x}<br>count=%{y}<extra></extra>",
         "legendgroup": "Có giao hàng free",
         "marker": {
          "color": "#FF6692",
          "pattern": {
           "shape": ""
          }
         },
         "name": "Có giao hàng free",
         "offsetgroup": "Có giao hàng free",
         "orientation": "v",
         "showlegend": true,
         "type": "histogram",
         "x": [
          "Có giao hàng free",
          "Có giao hàng free",
          "Có giao hàng free",
          "Có giao hàng free",
          "Có giao hàng free",
          "Có giao hàng free",
          "Có giao hàng free",
          "Có giao hàng free",
          "Có giao hàng free",
          "Có giao hàng free",
          "Có giao hàng free",
          "Có giao hàng free",
          "Có giao hàng free",
          "Có giao hàng free",
          "Có giao hàng free",
          "Có giao hàng free",
          "Có giao hàng free",
          "Có giao hàng free",
          "Có giao hàng free",
          "Có giao hàng free",
          "Có giao hàng free",
          "Có giao hàng free",
          "Có giao hàng free",
          "Có giao hàng free",
          "Có giao hàng free",
          "Có giao hàng free",
          "Có giao hàng free",
          "Có giao hàng free",
          "Có giao hàng free",
          "Có giao hàng free",
          "Có giao hàng free",
          "Có giao hàng free",
          "Có giao hàng free",
          "Có giao hàng free",
          "Có giao hàng free",
          "Có giao hàng free",
          "Có giao hàng free",
          "Có giao hàng free",
          "Có giao hàng free",
          "Có giao hàng free",
          "Có giao hàng free",
          "Có giao hàng free",
          "Có giao hàng free",
          "Có giao hàng free",
          "Có giao hàng free",
          "Có giao hàng free",
          "Có giao hàng free",
          "Có giao hàng free",
          "Có giao hàng free",
          "Có giao hàng free",
          "Có giao hàng free",
          "Có giao hàng free",
          "Có giao hàng free",
          "Có giao hàng free",
          "Có giao hàng free",
          "Có giao hàng free",
          "Có giao hàng free",
          "Có giao hàng free",
          "Có giao hàng free",
          "Có giao hàng free",
          "Có giao hàng free",
          "Có giao hàng free",
          "Có giao hàng free",
          "Có giao hàng free",
          "Có giao hàng free",
          "Có giao hàng free",
          "Có giao hàng free",
          "Có giao hàng free",
          "Có giao hàng free",
          "Có giao hàng free",
          "Có giao hàng free",
          "Có giao hàng free",
          "Có giao hàng free",
          "Có giao hàng free",
          "Có giao hàng free",
          "Có giao hàng free",
          "Có giao hàng free",
          "Có giao hàng free",
          "Có giao hàng free",
          "Có giao hàng free",
          "Có giao hàng free",
          "Có giao hàng free",
          "Có giao hàng free",
          "Có giao hàng free",
          "Có giao hàng free",
          "Có giao hàng free",
          "Có giao hàng free",
          "Có giao hàng free",
          "Có giao hàng free",
          "Có giao hàng free",
          "Có giao hàng free",
          "Có giao hàng free",
          "Có giao hàng free",
          "Có giao hàng free",
          "Có giao hàng free",
          "Có giao hàng free",
          "Có giao hàng free",
          "Có giao hàng free",
          "Có giao hàng free",
          "Có giao hàng free",
          "Có giao hàng free",
          "Có giao hàng free",
          "Có giao hàng free",
          "Có giao hàng free",
          "Có giao hàng free",
          "Có giao hàng free",
          "Có giao hàng free",
          "Có giao hàng free",
          "Có giao hàng free",
          "Có giao hàng free",
          "Có giao hàng free",
          "Có giao hàng free",
          "Có giao hàng free",
          "Có giao hàng free",
          "Có giao hàng free",
          "Có giao hàng free",
          "Có giao hàng free",
          "Có giao hàng free",
          "Có giao hàng free",
          "Có giao hàng free",
          "Có giao hàng free",
          "Có giao hàng free",
          "Có giao hàng free",
          "Có giao hàng free",
          "Có giao hàng free",
          "Có giao hàng free",
          "Có giao hàng free",
          "Có giao hàng free",
          "Có giao hàng free",
          "Có giao hàng free",
          "Có giao hàng free",
          "Có giao hàng free",
          "Có giao hàng free",
          "Có giao hàng free",
          "Có giao hàng free",
          "Có giao hàng free",
          "Có giao hàng free",
          "Có giao hàng free",
          "Có giao hàng free",
          "Có giao hàng free",
          "Có giao hàng free",
          "Có giao hàng free",
          "Có giao hàng free",
          "Có giao hàng free",
          "Có giao hàng free",
          "Có giao hàng free",
          "Có giao hàng free",
          "Có giao hàng free",
          "Có giao hàng free",
          "Có giao hàng free",
          "Có giao hàng free",
          "Có giao hàng free",
          "Có giao hàng free"
         ],
         "xaxis": "x",
         "yaxis": "y"
        }
       ],
       "layout": {
        "barmode": "relative",
        "legend": {
         "title": {
          "text": "Đặc Biệt"
         },
         "tracegroupgap": 0
        },
        "template": {
         "data": {
          "bar": [
           {
            "error_x": {
             "color": "#2a3f5f"
            },
            "error_y": {
             "color": "#2a3f5f"
            },
            "marker": {
             "line": {
              "color": "#E5ECF6",
              "width": 0.5
             },
             "pattern": {
              "fillmode": "overlay",
              "size": 10,
              "solidity": 0.2
             }
            },
            "type": "bar"
           }
          ],
          "barpolar": [
           {
            "marker": {
             "line": {
              "color": "#E5ECF6",
              "width": 0.5
             },
             "pattern": {
              "fillmode": "overlay",
              "size": 10,
              "solidity": 0.2
             }
            },
            "type": "barpolar"
           }
          ],
          "carpet": [
           {
            "aaxis": {
             "endlinecolor": "#2a3f5f",
             "gridcolor": "white",
             "linecolor": "white",
             "minorgridcolor": "white",
             "startlinecolor": "#2a3f5f"
            },
            "baxis": {
             "endlinecolor": "#2a3f5f",
             "gridcolor": "white",
             "linecolor": "white",
             "minorgridcolor": "white",
             "startlinecolor": "#2a3f5f"
            },
            "type": "carpet"
           }
          ],
          "choropleth": [
           {
            "colorbar": {
             "outlinewidth": 0,
             "ticks": ""
            },
            "type": "choropleth"
           }
          ],
          "contour": [
           {
            "colorbar": {
             "outlinewidth": 0,
             "ticks": ""
            },
            "colorscale": [
             [
              0,
              "#0d0887"
             ],
             [
              0.1111111111111111,
              "#46039f"
             ],
             [
              0.2222222222222222,
              "#7201a8"
             ],
             [
              0.3333333333333333,
              "#9c179e"
             ],
             [
              0.4444444444444444,
              "#bd3786"
             ],
             [
              0.5555555555555556,
              "#d8576b"
             ],
             [
              0.6666666666666666,
              "#ed7953"
             ],
             [
              0.7777777777777778,
              "#fb9f3a"
             ],
             [
              0.8888888888888888,
              "#fdca26"
             ],
             [
              1,
              "#f0f921"
             ]
            ],
            "type": "contour"
           }
          ],
          "contourcarpet": [
           {
            "colorbar": {
             "outlinewidth": 0,
             "ticks": ""
            },
            "type": "contourcarpet"
           }
          ],
          "heatmap": [
           {
            "colorbar": {
             "outlinewidth": 0,
             "ticks": ""
            },
            "colorscale": [
             [
              0,
              "#0d0887"
             ],
             [
              0.1111111111111111,
              "#46039f"
             ],
             [
              0.2222222222222222,
              "#7201a8"
             ],
             [
              0.3333333333333333,
              "#9c179e"
             ],
             [
              0.4444444444444444,
              "#bd3786"
             ],
             [
              0.5555555555555556,
              "#d8576b"
             ],
             [
              0.6666666666666666,
              "#ed7953"
             ],
             [
              0.7777777777777778,
              "#fb9f3a"
             ],
             [
              0.8888888888888888,
              "#fdca26"
             ],
             [
              1,
              "#f0f921"
             ]
            ],
            "type": "heatmap"
           }
          ],
          "heatmapgl": [
           {
            "colorbar": {
             "outlinewidth": 0,
             "ticks": ""
            },
            "colorscale": [
             [
              0,
              "#0d0887"
             ],
             [
              0.1111111111111111,
              "#46039f"
             ],
             [
              0.2222222222222222,
              "#7201a8"
             ],
             [
              0.3333333333333333,
              "#9c179e"
             ],
             [
              0.4444444444444444,
              "#bd3786"
             ],
             [
              0.5555555555555556,
              "#d8576b"
             ],
             [
              0.6666666666666666,
              "#ed7953"
             ],
             [
              0.7777777777777778,
              "#fb9f3a"
             ],
             [
              0.8888888888888888,
              "#fdca26"
             ],
             [
              1,
              "#f0f921"
             ]
            ],
            "type": "heatmapgl"
           }
          ],
          "histogram": [
           {
            "marker": {
             "pattern": {
              "fillmode": "overlay",
              "size": 10,
              "solidity": 0.2
             }
            },
            "type": "histogram"
           }
          ],
          "histogram2d": [
           {
            "colorbar": {
             "outlinewidth": 0,
             "ticks": ""
            },
            "colorscale": [
             [
              0,
              "#0d0887"
             ],
             [
              0.1111111111111111,
              "#46039f"
             ],
             [
              0.2222222222222222,
              "#7201a8"
             ],
             [
              0.3333333333333333,
              "#9c179e"
             ],
             [
              0.4444444444444444,
              "#bd3786"
             ],
             [
              0.5555555555555556,
              "#d8576b"
             ],
             [
              0.6666666666666666,
              "#ed7953"
             ],
             [
              0.7777777777777778,
              "#fb9f3a"
             ],
             [
              0.8888888888888888,
              "#fdca26"
             ],
             [
              1,
              "#f0f921"
             ]
            ],
            "type": "histogram2d"
           }
          ],
          "histogram2dcontour": [
           {
            "colorbar": {
             "outlinewidth": 0,
             "ticks": ""
            },
            "colorscale": [
             [
              0,
              "#0d0887"
             ],
             [
              0.1111111111111111,
              "#46039f"
             ],
             [
              0.2222222222222222,
              "#7201a8"
             ],
             [
              0.3333333333333333,
              "#9c179e"
             ],
             [
              0.4444444444444444,
              "#bd3786"
             ],
             [
              0.5555555555555556,
              "#d8576b"
             ],
             [
              0.6666666666666666,
              "#ed7953"
             ],
             [
              0.7777777777777778,
              "#fb9f3a"
             ],
             [
              0.8888888888888888,
              "#fdca26"
             ],
             [
              1,
              "#f0f921"
             ]
            ],
            "type": "histogram2dcontour"
           }
          ],
          "mesh3d": [
           {
            "colorbar": {
             "outlinewidth": 0,
             "ticks": ""
            },
            "type": "mesh3d"
           }
          ],
          "parcoords": [
           {
            "line": {
             "colorbar": {
              "outlinewidth": 0,
              "ticks": ""
             }
            },
            "type": "parcoords"
           }
          ],
          "pie": [
           {
            "automargin": true,
            "type": "pie"
           }
          ],
          "scatter": [
           {
            "fillpattern": {
             "fillmode": "overlay",
             "size": 10,
             "solidity": 0.2
            },
            "type": "scatter"
           }
          ],
          "scatter3d": [
           {
            "line": {
             "colorbar": {
              "outlinewidth": 0,
              "ticks": ""
             }
            },
            "marker": {
             "colorbar": {
              "outlinewidth": 0,
              "ticks": ""
             }
            },
            "type": "scatter3d"
           }
          ],
          "scattercarpet": [
           {
            "marker": {
             "colorbar": {
              "outlinewidth": 0,
              "ticks": ""
             }
            },
            "type": "scattercarpet"
           }
          ],
          "scattergeo": [
           {
            "marker": {
             "colorbar": {
              "outlinewidth": 0,
              "ticks": ""
             }
            },
            "type": "scattergeo"
           }
          ],
          "scattergl": [
           {
            "marker": {
             "colorbar": {
              "outlinewidth": 0,
              "ticks": ""
             }
            },
            "type": "scattergl"
           }
          ],
          "scattermapbox": [
           {
            "marker": {
             "colorbar": {
              "outlinewidth": 0,
              "ticks": ""
             }
            },
            "type": "scattermapbox"
           }
          ],
          "scatterpolar": [
           {
            "marker": {
             "colorbar": {
              "outlinewidth": 0,
              "ticks": ""
             }
            },
            "type": "scatterpolar"
           }
          ],
          "scatterpolargl": [
           {
            "marker": {
             "colorbar": {
              "outlinewidth": 0,
              "ticks": ""
             }
            },
            "type": "scatterpolargl"
           }
          ],
          "scatterternary": [
           {
            "marker": {
             "colorbar": {
              "outlinewidth": 0,
              "ticks": ""
             }
            },
            "type": "scatterternary"
           }
          ],
          "surface": [
           {
            "colorbar": {
             "outlinewidth": 0,
             "ticks": ""
            },
            "colorscale": [
             [
              0,
              "#0d0887"
             ],
             [
              0.1111111111111111,
              "#46039f"
             ],
             [
              0.2222222222222222,
              "#7201a8"
             ],
             [
              0.3333333333333333,
              "#9c179e"
             ],
             [
              0.4444444444444444,
              "#bd3786"
             ],
             [
              0.5555555555555556,
              "#d8576b"
             ],
             [
              0.6666666666666666,
              "#ed7953"
             ],
             [
              0.7777777777777778,
              "#fb9f3a"
             ],
             [
              0.8888888888888888,
              "#fdca26"
             ],
             [
              1,
              "#f0f921"
             ]
            ],
            "type": "surface"
           }
          ],
          "table": [
           {
            "cells": {
             "fill": {
              "color": "#EBF0F8"
             },
             "line": {
              "color": "white"
             }
            },
            "header": {
             "fill": {
              "color": "#C8D4E3"
             },
             "line": {
              "color": "white"
             }
            },
            "type": "table"
           }
          ]
         },
         "layout": {
          "annotationdefaults": {
           "arrowcolor": "#2a3f5f",
           "arrowhead": 0,
           "arrowwidth": 1
          },
          "autotypenumbers": "strict",
          "coloraxis": {
           "colorbar": {
            "outlinewidth": 0,
            "ticks": ""
           }
          },
          "colorscale": {
           "diverging": [
            [
             0,
             "#8e0152"
            ],
            [
             0.1,
             "#c51b7d"
            ],
            [
             0.2,
             "#de77ae"
            ],
            [
             0.3,
             "#f1b6da"
            ],
            [
             0.4,
             "#fde0ef"
            ],
            [
             0.5,
             "#f7f7f7"
            ],
            [
             0.6,
             "#e6f5d0"
            ],
            [
             0.7,
             "#b8e186"
            ],
            [
             0.8,
             "#7fbc41"
            ],
            [
             0.9,
             "#4d9221"
            ],
            [
             1,
             "#276419"
            ]
           ],
           "sequential": [
            [
             0,
             "#0d0887"
            ],
            [
             0.1111111111111111,
             "#46039f"
            ],
            [
             0.2222222222222222,
             "#7201a8"
            ],
            [
             0.3333333333333333,
             "#9c179e"
            ],
            [
             0.4444444444444444,
             "#bd3786"
            ],
            [
             0.5555555555555556,
             "#d8576b"
            ],
            [
             0.6666666666666666,
             "#ed7953"
            ],
            [
             0.7777777777777778,
             "#fb9f3a"
            ],
            [
             0.8888888888888888,
             "#fdca26"
            ],
            [
             1,
             "#f0f921"
            ]
           ],
           "sequentialminus": [
            [
             0,
             "#0d0887"
            ],
            [
             0.1111111111111111,
             "#46039f"
            ],
            [
             0.2222222222222222,
             "#7201a8"
            ],
            [
             0.3333333333333333,
             "#9c179e"
            ],
            [
             0.4444444444444444,
             "#bd3786"
            ],
            [
             0.5555555555555556,
             "#d8576b"
            ],
            [
             0.6666666666666666,
             "#ed7953"
            ],
            [
             0.7777777777777778,
             "#fb9f3a"
            ],
            [
             0.8888888888888888,
             "#fdca26"
            ],
            [
             1,
             "#f0f921"
            ]
           ]
          },
          "colorway": [
           "#636efa",
           "#EF553B",
           "#00cc96",
           "#ab63fa",
           "#FFA15A",
           "#19d3f3",
           "#FF6692",
           "#B6E880",
           "#FF97FF",
           "#FECB52"
          ],
          "font": {
           "color": "#2a3f5f"
          },
          "geo": {
           "bgcolor": "white",
           "lakecolor": "white",
           "landcolor": "#E5ECF6",
           "showlakes": true,
           "showland": true,
           "subunitcolor": "white"
          },
          "hoverlabel": {
           "align": "left"
          },
          "hovermode": "closest",
          "mapbox": {
           "style": "light"
          },
          "paper_bgcolor": "white",
          "plot_bgcolor": "#E5ECF6",
          "polar": {
           "angularaxis": {
            "gridcolor": "white",
            "linecolor": "white",
            "ticks": ""
           },
           "bgcolor": "#E5ECF6",
           "radialaxis": {
            "gridcolor": "white",
            "linecolor": "white",
            "ticks": ""
           }
          },
          "scene": {
           "xaxis": {
            "backgroundcolor": "#E5ECF6",
            "gridcolor": "white",
            "gridwidth": 2,
            "linecolor": "white",
            "showbackground": true,
            "ticks": "",
            "zerolinecolor": "white"
           },
           "yaxis": {
            "backgroundcolor": "#E5ECF6",
            "gridcolor": "white",
            "gridwidth": 2,
            "linecolor": "white",
            "showbackground": true,
            "ticks": "",
            "zerolinecolor": "white"
           },
           "zaxis": {
            "backgroundcolor": "#E5ECF6",
            "gridcolor": "white",
            "gridwidth": 2,
            "linecolor": "white",
            "showbackground": true,
            "ticks": "",
            "zerolinecolor": "white"
           }
          },
          "shapedefaults": {
           "line": {
            "color": "#2a3f5f"
           }
          },
          "ternary": {
           "aaxis": {
            "gridcolor": "white",
            "linecolor": "white",
            "ticks": ""
           },
           "baxis": {
            "gridcolor": "white",
            "linecolor": "white",
            "ticks": ""
           },
           "bgcolor": "#E5ECF6",
           "caxis": {
            "gridcolor": "white",
            "linecolor": "white",
            "ticks": ""
           }
          },
          "title": {
           "x": 0.05
          },
          "xaxis": {
           "automargin": true,
           "gridcolor": "white",
           "linecolor": "white",
           "ticks": "",
           "title": {
            "standoff": 15
           },
           "zerolinecolor": "white",
           "zerolinewidth": 2
          },
          "yaxis": {
           "automargin": true,
           "gridcolor": "white",
           "linecolor": "white",
           "ticks": "",
           "title": {
            "standoff": 15
           },
           "zerolinecolor": "white",
           "zerolinewidth": 2
          }
         }
        },
        "title": {
         "text": "Buổi Distribution"
        },
        "xaxis": {
         "anchor": "y",
         "categoryarray": [
          "có chỗ đỗ xe",
          "có phòng trông trẻ",
          "có phòng hút thuốc",
          "Đang giảm giá",
          "có không gian ngoài trời",
          "wifi miễn phí",
          "Có giao hàng free"
         ],
         "categoryorder": "array",
         "domain": [
          0,
          1
         ],
         "title": {
          "text": "Buổi"
         }
        },
        "yaxis": {
         "anchor": "x",
         "domain": [
          0,
          1
         ],
         "title": {
          "text": "Count"
         }
        }
       }
      }
     },
     "metadata": {},
     "output_type": "display_data"
    }
   ],
   "source": [
    "fig = px.histogram(data, x='Đặc Biệt', color='Đặc Biệt', title='Buổi Distribution')\n",
    "fig.update_layout(xaxis_title='Buổi', yaxis_title='Count')\n",
    "fig.show()"
   ]
  },
  {
   "cell_type": "code",
   "execution_count": 36,
   "metadata": {},
   "outputs": [
    {
     "data": {
      "application/vnd.plotly.v1+json": {
       "config": {
        "plotlyServerURL": "https://plot.ly"
       },
       "data": [
        {
         "alignmentgroup": "True",
         "bingroup": "x",
         "hovertemplate": "Độ phổ biến=%{x}<br>count=%{y}<extra></extra>",
         "legendgroup": "hot trend",
         "marker": {
          "color": "#636efa",
          "pattern": {
           "shape": ""
          }
         },
         "name": "hot trend",
         "offsetgroup": "hot trend",
         "orientation": "v",
         "showlegend": true,
         "type": "histogram",
         "x": [
          "hot trend",
          "hot trend",
          "hot trend",
          "hot trend",
          "hot trend",
          "hot trend",
          "hot trend",
          "hot trend",
          "hot trend",
          "hot trend",
          "hot trend",
          "hot trend",
          "hot trend",
          "hot trend",
          "hot trend",
          "hot trend",
          "hot trend",
          "hot trend",
          "hot trend",
          "hot trend",
          "hot trend",
          "hot trend",
          "hot trend",
          "hot trend",
          "hot trend",
          "hot trend",
          "hot trend",
          "hot trend",
          "hot trend",
          "hot trend",
          "hot trend",
          "hot trend",
          "hot trend",
          "hot trend",
          "hot trend",
          "hot trend",
          "hot trend",
          "hot trend",
          "hot trend",
          "hot trend",
          "hot trend",
          "hot trend",
          "hot trend",
          "hot trend",
          "hot trend",
          "hot trend",
          "hot trend",
          "hot trend",
          "hot trend",
          "hot trend",
          "hot trend",
          "hot trend",
          "hot trend",
          "hot trend",
          "hot trend",
          "hot trend",
          "hot trend",
          "hot trend",
          "hot trend",
          "hot trend",
          "hot trend",
          "hot trend",
          "hot trend",
          "hot trend",
          "hot trend",
          "hot trend",
          "hot trend",
          "hot trend",
          "hot trend",
          "hot trend",
          "hot trend",
          "hot trend",
          "hot trend",
          "hot trend",
          "hot trend",
          "hot trend",
          "hot trend",
          "hot trend",
          "hot trend",
          "hot trend",
          "hot trend",
          "hot trend",
          "hot trend",
          "hot trend",
          "hot trend",
          "hot trend",
          "hot trend",
          "hot trend",
          "hot trend",
          "hot trend",
          "hot trend",
          "hot trend",
          "hot trend",
          "hot trend",
          "hot trend",
          "hot trend",
          "hot trend",
          "hot trend",
          "hot trend",
          "hot trend",
          "hot trend",
          "hot trend",
          "hot trend",
          "hot trend",
          "hot trend",
          "hot trend",
          "hot trend",
          "hot trend",
          "hot trend",
          "hot trend",
          "hot trend",
          "hot trend",
          "hot trend",
          "hot trend",
          "hot trend",
          "hot trend",
          "hot trend",
          "hot trend",
          "hot trend",
          "hot trend",
          "hot trend",
          "hot trend",
          "hot trend",
          "hot trend",
          "hot trend",
          "hot trend",
          "hot trend",
          "hot trend",
          "hot trend",
          "hot trend",
          "hot trend",
          "hot trend",
          "hot trend",
          "hot trend",
          "hot trend",
          "hot trend",
          "hot trend",
          "hot trend",
          "hot trend",
          "hot trend",
          "hot trend",
          "hot trend",
          "hot trend",
          "hot trend",
          "hot trend",
          "hot trend",
          "hot trend",
          "hot trend",
          "hot trend",
          "hot trend",
          "hot trend",
          "hot trend",
          "hot trend",
          "hot trend",
          "hot trend",
          "hot trend",
          "hot trend",
          "hot trend",
          "hot trend",
          "hot trend",
          "hot trend",
          "hot trend",
          "hot trend",
          "hot trend",
          "hot trend",
          "hot trend",
          "hot trend",
          "hot trend",
          "hot trend",
          "hot trend",
          "hot trend",
          "hot trend",
          "hot trend",
          "hot trend",
          "hot trend",
          "hot trend",
          "hot trend",
          "hot trend",
          "hot trend",
          "hot trend",
          "hot trend",
          "hot trend",
          "hot trend",
          "hot trend",
          "hot trend",
          "hot trend",
          "hot trend",
          "hot trend",
          "hot trend",
          "hot trend",
          "hot trend",
          "hot trend",
          "hot trend",
          "hot trend",
          "hot trend",
          "hot trend",
          "hot trend",
          "hot trend",
          "hot trend",
          "hot trend",
          "hot trend",
          "hot trend",
          "hot trend",
          "hot trend",
          "hot trend",
          "hot trend",
          "hot trend",
          "hot trend",
          "hot trend",
          "hot trend",
          "hot trend",
          "hot trend",
          "hot trend",
          "hot trend",
          "hot trend",
          "hot trend",
          "hot trend",
          "hot trend",
          "hot trend",
          "hot trend",
          "hot trend",
          "hot trend",
          "hot trend",
          "hot trend",
          "hot trend",
          "hot trend",
          "hot trend",
          "hot trend",
          "hot trend",
          "hot trend",
          "hot trend",
          "hot trend",
          "hot trend",
          "hot trend",
          "hot trend",
          "hot trend",
          "hot trend",
          "hot trend",
          "hot trend",
          "hot trend",
          "hot trend",
          "hot trend",
          "hot trend",
          "hot trend",
          "hot trend"
         ],
         "xaxis": "x",
         "yaxis": "y"
        },
        {
         "alignmentgroup": "True",
         "bingroup": "x",
         "hovertemplate": "Độ phổ biến=%{x}<br>count=%{y}<extra></extra>",
         "legendgroup": "đặc sản",
         "marker": {
          "color": "#EF553B",
          "pattern": {
           "shape": ""
          }
         },
         "name": "đặc sản",
         "offsetgroup": "đặc sản",
         "orientation": "v",
         "showlegend": true,
         "type": "histogram",
         "x": [
          "đặc sản",
          "đặc sản",
          "đặc sản",
          "đặc sản",
          "đặc sản",
          "đặc sản",
          "đặc sản",
          "đặc sản",
          "đặc sản",
          "đặc sản",
          "đặc sản",
          "đặc sản",
          "đặc sản",
          "đặc sản",
          "đặc sản",
          "đặc sản",
          "đặc sản",
          "đặc sản",
          "đặc sản",
          "đặc sản",
          "đặc sản",
          "đặc sản",
          "đặc sản",
          "đặc sản",
          "đặc sản",
          "đặc sản",
          "đặc sản",
          "đặc sản",
          "đặc sản",
          "đặc sản",
          "đặc sản",
          "đặc sản",
          "đặc sản",
          "đặc sản",
          "đặc sản",
          "đặc sản",
          "đặc sản",
          "đặc sản",
          "đặc sản",
          "đặc sản",
          "đặc sản",
          "đặc sản",
          "đặc sản",
          "đặc sản",
          "đặc sản",
          "đặc sản",
          "đặc sản",
          "đặc sản",
          "đặc sản",
          "đặc sản",
          "đặc sản",
          "đặc sản",
          "đặc sản",
          "đặc sản",
          "đặc sản",
          "đặc sản",
          "đặc sản",
          "đặc sản",
          "đặc sản",
          "đặc sản",
          "đặc sản",
          "đặc sản",
          "đặc sản",
          "đặc sản",
          "đặc sản",
          "đặc sản",
          "đặc sản",
          "đặc sản",
          "đặc sản",
          "đặc sản",
          "đặc sản",
          "đặc sản",
          "đặc sản",
          "đặc sản",
          "đặc sản",
          "đặc sản",
          "đặc sản",
          "đặc sản",
          "đặc sản",
          "đặc sản",
          "đặc sản",
          "đặc sản",
          "đặc sản",
          "đặc sản",
          "đặc sản",
          "đặc sản",
          "đặc sản",
          "đặc sản",
          "đặc sản",
          "đặc sản",
          "đặc sản",
          "đặc sản",
          "đặc sản",
          "đặc sản",
          "đặc sản",
          "đặc sản",
          "đặc sản",
          "đặc sản",
          "đặc sản",
          "đặc sản",
          "đặc sản",
          "đặc sản",
          "đặc sản",
          "đặc sản",
          "đặc sản",
          "đặc sản",
          "đặc sản",
          "đặc sản",
          "đặc sản",
          "đặc sản",
          "đặc sản",
          "đặc sản",
          "đặc sản",
          "đặc sản",
          "đặc sản",
          "đặc sản",
          "đặc sản",
          "đặc sản",
          "đặc sản",
          "đặc sản",
          "đặc sản",
          "đặc sản",
          "đặc sản",
          "đặc sản",
          "đặc sản",
          "đặc sản",
          "đặc sản",
          "đặc sản",
          "đặc sản",
          "đặc sản",
          "đặc sản",
          "đặc sản",
          "đặc sản",
          "đặc sản",
          "đặc sản",
          "đặc sản",
          "đặc sản",
          "đặc sản",
          "đặc sản",
          "đặc sản",
          "đặc sản",
          "đặc sản",
          "đặc sản",
          "đặc sản",
          "đặc sản",
          "đặc sản",
          "đặc sản",
          "đặc sản",
          "đặc sản",
          "đặc sản",
          "đặc sản",
          "đặc sản",
          "đặc sản",
          "đặc sản",
          "đặc sản",
          "đặc sản",
          "đặc sản",
          "đặc sản",
          "đặc sản",
          "đặc sản",
          "đặc sản",
          "đặc sản",
          "đặc sản",
          "đặc sản",
          "đặc sản",
          "đặc sản",
          "đặc sản",
          "đặc sản",
          "đặc sản",
          "đặc sản",
          "đặc sản",
          "đặc sản",
          "đặc sản",
          "đặc sản",
          "đặc sản",
          "đặc sản",
          "đặc sản",
          "đặc sản",
          "đặc sản",
          "đặc sản",
          "đặc sản",
          "đặc sản",
          "đặc sản",
          "đặc sản",
          "đặc sản",
          "đặc sản",
          "đặc sản",
          "đặc sản",
          "đặc sản",
          "đặc sản",
          "đặc sản",
          "đặc sản",
          "đặc sản",
          "đặc sản",
          "đặc sản",
          "đặc sản",
          "đặc sản",
          "đặc sản",
          "đặc sản",
          "đặc sản",
          "đặc sản",
          "đặc sản",
          "đặc sản",
          "đặc sản",
          "đặc sản",
          "đặc sản",
          "đặc sản",
          "đặc sản",
          "đặc sản",
          "đặc sản",
          "đặc sản",
          "đặc sản",
          "đặc sản",
          "đặc sản",
          "đặc sản",
          "đặc sản",
          "đặc sản",
          "đặc sản",
          "đặc sản",
          "đặc sản",
          "đặc sản",
          "đặc sản",
          "đặc sản",
          "đặc sản",
          "đặc sản",
          "đặc sản",
          "đặc sản",
          "đặc sản",
          "đặc sản",
          "đặc sản",
          "đặc sản",
          "đặc sản",
          "đặc sản",
          "đặc sản",
          "đặc sản",
          "đặc sản",
          "đặc sản",
          "đặc sản",
          "đặc sản",
          "đặc sản",
          "đặc sản"
         ],
         "xaxis": "x",
         "yaxis": "y"
        },
        {
         "alignmentgroup": "True",
         "bingroup": "x",
         "hovertemplate": "Độ phổ biến=%{x}<br>count=%{y}<extra></extra>",
         "legendgroup": "bestseller",
         "marker": {
          "color": "#00cc96",
          "pattern": {
           "shape": ""
          }
         },
         "name": "bestseller",
         "offsetgroup": "bestseller",
         "orientation": "v",
         "showlegend": true,
         "type": "histogram",
         "x": [
          "bestseller",
          "bestseller",
          "bestseller",
          "bestseller",
          "bestseller",
          "bestseller",
          "bestseller",
          "bestseller",
          "bestseller",
          "bestseller",
          "bestseller",
          "bestseller",
          "bestseller",
          "bestseller",
          "bestseller",
          "bestseller",
          "bestseller",
          "bestseller",
          "bestseller",
          "bestseller",
          "bestseller",
          "bestseller",
          "bestseller",
          "bestseller",
          "bestseller",
          "bestseller",
          "bestseller",
          "bestseller",
          "bestseller",
          "bestseller",
          "bestseller",
          "bestseller",
          "bestseller",
          "bestseller",
          "bestseller",
          "bestseller",
          "bestseller",
          "bestseller",
          "bestseller",
          "bestseller",
          "bestseller",
          "bestseller",
          "bestseller",
          "bestseller",
          "bestseller",
          "bestseller",
          "bestseller",
          "bestseller",
          "bestseller",
          "bestseller",
          "bestseller",
          "bestseller",
          "bestseller",
          "bestseller",
          "bestseller",
          "bestseller",
          "bestseller",
          "bestseller",
          "bestseller",
          "bestseller",
          "bestseller",
          "bestseller",
          "bestseller",
          "bestseller",
          "bestseller",
          "bestseller",
          "bestseller",
          "bestseller",
          "bestseller",
          "bestseller",
          "bestseller",
          "bestseller",
          "bestseller",
          "bestseller",
          "bestseller",
          "bestseller",
          "bestseller",
          "bestseller",
          "bestseller",
          "bestseller",
          "bestseller",
          "bestseller",
          "bestseller",
          "bestseller",
          "bestseller",
          "bestseller",
          "bestseller",
          "bestseller",
          "bestseller",
          "bestseller",
          "bestseller",
          "bestseller",
          "bestseller",
          "bestseller",
          "bestseller",
          "bestseller",
          "bestseller",
          "bestseller",
          "bestseller",
          "bestseller",
          "bestseller",
          "bestseller",
          "bestseller",
          "bestseller",
          "bestseller",
          "bestseller",
          "bestseller",
          "bestseller",
          "bestseller",
          "bestseller",
          "bestseller",
          "bestseller",
          "bestseller",
          "bestseller",
          "bestseller",
          "bestseller",
          "bestseller",
          "bestseller",
          "bestseller",
          "bestseller",
          "bestseller",
          "bestseller",
          "bestseller",
          "bestseller",
          "bestseller",
          "bestseller",
          "bestseller",
          "bestseller",
          "bestseller",
          "bestseller",
          "bestseller",
          "bestseller",
          "bestseller",
          "bestseller",
          "bestseller",
          "bestseller",
          "bestseller",
          "bestseller",
          "bestseller",
          "bestseller",
          "bestseller",
          "bestseller",
          "bestseller",
          "bestseller",
          "bestseller",
          "bestseller",
          "bestseller",
          "bestseller",
          "bestseller",
          "bestseller",
          "bestseller",
          "bestseller",
          "bestseller",
          "bestseller",
          "bestseller",
          "bestseller",
          "bestseller",
          "bestseller",
          "bestseller",
          "bestseller",
          "bestseller",
          "bestseller",
          "bestseller",
          "bestseller",
          "bestseller",
          "bestseller",
          "bestseller",
          "bestseller",
          "bestseller",
          "bestseller",
          "bestseller",
          "bestseller",
          "bestseller",
          "bestseller",
          "bestseller",
          "bestseller",
          "bestseller",
          "bestseller",
          "bestseller",
          "bestseller",
          "bestseller",
          "bestseller",
          "bestseller",
          "bestseller",
          "bestseller",
          "bestseller",
          "bestseller",
          "bestseller",
          "bestseller",
          "bestseller",
          "bestseller",
          "bestseller",
          "bestseller",
          "bestseller",
          "bestseller",
          "bestseller",
          "bestseller",
          "bestseller",
          "bestseller",
          "bestseller",
          "bestseller",
          "bestseller",
          "bestseller",
          "bestseller",
          "bestseller",
          "bestseller",
          "bestseller",
          "bestseller",
          "bestseller",
          "bestseller",
          "bestseller",
          "bestseller",
          "bestseller",
          "bestseller",
          "bestseller",
          "bestseller",
          "bestseller",
          "bestseller",
          "bestseller",
          "bestseller",
          "bestseller",
          "bestseller",
          "bestseller",
          "bestseller",
          "bestseller",
          "bestseller",
          "bestseller",
          "bestseller",
          "bestseller",
          "bestseller",
          "bestseller",
          "bestseller",
          "bestseller",
          "bestseller",
          "bestseller",
          "bestseller",
          "bestseller",
          "bestseller",
          "bestseller",
          "bestseller",
          "bestseller",
          "bestseller",
          "bestseller",
          "bestseller",
          "bestseller",
          "bestseller",
          "bestseller",
          "bestseller",
          "bestseller",
          "bestseller",
          "bestseller",
          "bestseller",
          "bestseller",
          "bestseller",
          "bestseller",
          "bestseller",
          "bestseller",
          "bestseller",
          "bestseller"
         ],
         "xaxis": "x",
         "yaxis": "y"
        },
        {
         "alignmentgroup": "True",
         "bingroup": "x",
         "hovertemplate": "Độ phổ biến=%{x}<br>count=%{y}<extra></extra>",
         "legendgroup": "bình thường",
         "marker": {
          "color": "#ab63fa",
          "pattern": {
           "shape": ""
          }
         },
         "name": "bình thường",
         "offsetgroup": "bình thường",
         "orientation": "v",
         "showlegend": true,
         "type": "histogram",
         "x": [
          "bình thường",
          "bình thường",
          "bình thường",
          "bình thường",
          "bình thường",
          "bình thường",
          "bình thường",
          "bình thường",
          "bình thường",
          "bình thường",
          "bình thường",
          "bình thường",
          "bình thường",
          "bình thường",
          "bình thường",
          "bình thường",
          "bình thường",
          "bình thường",
          "bình thường",
          "bình thường",
          "bình thường",
          "bình thường",
          "bình thường",
          "bình thường",
          "bình thường",
          "bình thường",
          "bình thường",
          "bình thường",
          "bình thường",
          "bình thường",
          "bình thường",
          "bình thường",
          "bình thường",
          "bình thường",
          "bình thường",
          "bình thường",
          "bình thường",
          "bình thường",
          "bình thường",
          "bình thường",
          "bình thường",
          "bình thường",
          "bình thường",
          "bình thường",
          "bình thường",
          "bình thường",
          "bình thường",
          "bình thường",
          "bình thường",
          "bình thường",
          "bình thường",
          "bình thường",
          "bình thường",
          "bình thường",
          "bình thường",
          "bình thường",
          "bình thường",
          "bình thường",
          "bình thường",
          "bình thường",
          "bình thường",
          "bình thường",
          "bình thường",
          "bình thường",
          "bình thường",
          "bình thường",
          "bình thường",
          "bình thường",
          "bình thường",
          "bình thường",
          "bình thường",
          "bình thường",
          "bình thường",
          "bình thường",
          "bình thường",
          "bình thường",
          "bình thường",
          "bình thường",
          "bình thường",
          "bình thường",
          "bình thường",
          "bình thường",
          "bình thường",
          "bình thường",
          "bình thường",
          "bình thường",
          "bình thường",
          "bình thường",
          "bình thường",
          "bình thường",
          "bình thường",
          "bình thường",
          "bình thường",
          "bình thường",
          "bình thường",
          "bình thường",
          "bình thường",
          "bình thường",
          "bình thường",
          "bình thường",
          "bình thường",
          "bình thường",
          "bình thường",
          "bình thường",
          "bình thường",
          "bình thường",
          "bình thường",
          "bình thường",
          "bình thường",
          "bình thường",
          "bình thường",
          "bình thường",
          "bình thường",
          "bình thường",
          "bình thường",
          "bình thường",
          "bình thường",
          "bình thường",
          "bình thường",
          "bình thường",
          "bình thường",
          "bình thường",
          "bình thường",
          "bình thường",
          "bình thường",
          "bình thường",
          "bình thường",
          "bình thường",
          "bình thường",
          "bình thường",
          "bình thường",
          "bình thường",
          "bình thường",
          "bình thường",
          "bình thường",
          "bình thường",
          "bình thường",
          "bình thường",
          "bình thường",
          "bình thường",
          "bình thường",
          "bình thường",
          "bình thường",
          "bình thường",
          "bình thường",
          "bình thường",
          "bình thường",
          "bình thường",
          "bình thường",
          "bình thường",
          "bình thường",
          "bình thường",
          "bình thường",
          "bình thường",
          "bình thường",
          "bình thường",
          "bình thường",
          "bình thường",
          "bình thường",
          "bình thường",
          "bình thường",
          "bình thường",
          "bình thường",
          "bình thường",
          "bình thường",
          "bình thường",
          "bình thường",
          "bình thường",
          "bình thường",
          "bình thường",
          "bình thường",
          "bình thường",
          "bình thường",
          "bình thường",
          "bình thường",
          "bình thường",
          "bình thường",
          "bình thường",
          "bình thường",
          "bình thường",
          "bình thường",
          "bình thường",
          "bình thường",
          "bình thường",
          "bình thường",
          "bình thường",
          "bình thường",
          "bình thường",
          "bình thường",
          "bình thường",
          "bình thường",
          "bình thường",
          "bình thường",
          "bình thường",
          "bình thường",
          "bình thường",
          "bình thường",
          "bình thường",
          "bình thường",
          "bình thường",
          "bình thường",
          "bình thường",
          "bình thường",
          "bình thường",
          "bình thường",
          "bình thường",
          "bình thường",
          "bình thường",
          "bình thường",
          "bình thường",
          "bình thường",
          "bình thường",
          "bình thường",
          "bình thường",
          "bình thường",
          "bình thường",
          "bình thường",
          "bình thường",
          "bình thường",
          "bình thường",
          "bình thường",
          "bình thường",
          "bình thường",
          "bình thường",
          "bình thường",
          "bình thường",
          "bình thường",
          "bình thường",
          "bình thường",
          "bình thường",
          "bình thường",
          "bình thường",
          "bình thường",
          "bình thường",
          "bình thường",
          "bình thường",
          "bình thường",
          "bình thường",
          "bình thường",
          "bình thường",
          "bình thường",
          "bình thường",
          "bình thường",
          "bình thường",
          "bình thường",
          "bình thường",
          "bình thường",
          "bình thường",
          "bình thường",
          "bình thường",
          "bình thường",
          "bình thường"
         ],
         "xaxis": "x",
         "yaxis": "y"
        }
       ],
       "layout": {
        "barmode": "relative",
        "legend": {
         "title": {
          "text": "Độ phổ biến"
         },
         "tracegroupgap": 0
        },
        "template": {
         "data": {
          "bar": [
           {
            "error_x": {
             "color": "#2a3f5f"
            },
            "error_y": {
             "color": "#2a3f5f"
            },
            "marker": {
             "line": {
              "color": "#E5ECF6",
              "width": 0.5
             },
             "pattern": {
              "fillmode": "overlay",
              "size": 10,
              "solidity": 0.2
             }
            },
            "type": "bar"
           }
          ],
          "barpolar": [
           {
            "marker": {
             "line": {
              "color": "#E5ECF6",
              "width": 0.5
             },
             "pattern": {
              "fillmode": "overlay",
              "size": 10,
              "solidity": 0.2
             }
            },
            "type": "barpolar"
           }
          ],
          "carpet": [
           {
            "aaxis": {
             "endlinecolor": "#2a3f5f",
             "gridcolor": "white",
             "linecolor": "white",
             "minorgridcolor": "white",
             "startlinecolor": "#2a3f5f"
            },
            "baxis": {
             "endlinecolor": "#2a3f5f",
             "gridcolor": "white",
             "linecolor": "white",
             "minorgridcolor": "white",
             "startlinecolor": "#2a3f5f"
            },
            "type": "carpet"
           }
          ],
          "choropleth": [
           {
            "colorbar": {
             "outlinewidth": 0,
             "ticks": ""
            },
            "type": "choropleth"
           }
          ],
          "contour": [
           {
            "colorbar": {
             "outlinewidth": 0,
             "ticks": ""
            },
            "colorscale": [
             [
              0,
              "#0d0887"
             ],
             [
              0.1111111111111111,
              "#46039f"
             ],
             [
              0.2222222222222222,
              "#7201a8"
             ],
             [
              0.3333333333333333,
              "#9c179e"
             ],
             [
              0.4444444444444444,
              "#bd3786"
             ],
             [
              0.5555555555555556,
              "#d8576b"
             ],
             [
              0.6666666666666666,
              "#ed7953"
             ],
             [
              0.7777777777777778,
              "#fb9f3a"
             ],
             [
              0.8888888888888888,
              "#fdca26"
             ],
             [
              1,
              "#f0f921"
             ]
            ],
            "type": "contour"
           }
          ],
          "contourcarpet": [
           {
            "colorbar": {
             "outlinewidth": 0,
             "ticks": ""
            },
            "type": "contourcarpet"
           }
          ],
          "heatmap": [
           {
            "colorbar": {
             "outlinewidth": 0,
             "ticks": ""
            },
            "colorscale": [
             [
              0,
              "#0d0887"
             ],
             [
              0.1111111111111111,
              "#46039f"
             ],
             [
              0.2222222222222222,
              "#7201a8"
             ],
             [
              0.3333333333333333,
              "#9c179e"
             ],
             [
              0.4444444444444444,
              "#bd3786"
             ],
             [
              0.5555555555555556,
              "#d8576b"
             ],
             [
              0.6666666666666666,
              "#ed7953"
             ],
             [
              0.7777777777777778,
              "#fb9f3a"
             ],
             [
              0.8888888888888888,
              "#fdca26"
             ],
             [
              1,
              "#f0f921"
             ]
            ],
            "type": "heatmap"
           }
          ],
          "heatmapgl": [
           {
            "colorbar": {
             "outlinewidth": 0,
             "ticks": ""
            },
            "colorscale": [
             [
              0,
              "#0d0887"
             ],
             [
              0.1111111111111111,
              "#46039f"
             ],
             [
              0.2222222222222222,
              "#7201a8"
             ],
             [
              0.3333333333333333,
              "#9c179e"
             ],
             [
              0.4444444444444444,
              "#bd3786"
             ],
             [
              0.5555555555555556,
              "#d8576b"
             ],
             [
              0.6666666666666666,
              "#ed7953"
             ],
             [
              0.7777777777777778,
              "#fb9f3a"
             ],
             [
              0.8888888888888888,
              "#fdca26"
             ],
             [
              1,
              "#f0f921"
             ]
            ],
            "type": "heatmapgl"
           }
          ],
          "histogram": [
           {
            "marker": {
             "pattern": {
              "fillmode": "overlay",
              "size": 10,
              "solidity": 0.2
             }
            },
            "type": "histogram"
           }
          ],
          "histogram2d": [
           {
            "colorbar": {
             "outlinewidth": 0,
             "ticks": ""
            },
            "colorscale": [
             [
              0,
              "#0d0887"
             ],
             [
              0.1111111111111111,
              "#46039f"
             ],
             [
              0.2222222222222222,
              "#7201a8"
             ],
             [
              0.3333333333333333,
              "#9c179e"
             ],
             [
              0.4444444444444444,
              "#bd3786"
             ],
             [
              0.5555555555555556,
              "#d8576b"
             ],
             [
              0.6666666666666666,
              "#ed7953"
             ],
             [
              0.7777777777777778,
              "#fb9f3a"
             ],
             [
              0.8888888888888888,
              "#fdca26"
             ],
             [
              1,
              "#f0f921"
             ]
            ],
            "type": "histogram2d"
           }
          ],
          "histogram2dcontour": [
           {
            "colorbar": {
             "outlinewidth": 0,
             "ticks": ""
            },
            "colorscale": [
             [
              0,
              "#0d0887"
             ],
             [
              0.1111111111111111,
              "#46039f"
             ],
             [
              0.2222222222222222,
              "#7201a8"
             ],
             [
              0.3333333333333333,
              "#9c179e"
             ],
             [
              0.4444444444444444,
              "#bd3786"
             ],
             [
              0.5555555555555556,
              "#d8576b"
             ],
             [
              0.6666666666666666,
              "#ed7953"
             ],
             [
              0.7777777777777778,
              "#fb9f3a"
             ],
             [
              0.8888888888888888,
              "#fdca26"
             ],
             [
              1,
              "#f0f921"
             ]
            ],
            "type": "histogram2dcontour"
           }
          ],
          "mesh3d": [
           {
            "colorbar": {
             "outlinewidth": 0,
             "ticks": ""
            },
            "type": "mesh3d"
           }
          ],
          "parcoords": [
           {
            "line": {
             "colorbar": {
              "outlinewidth": 0,
              "ticks": ""
             }
            },
            "type": "parcoords"
           }
          ],
          "pie": [
           {
            "automargin": true,
            "type": "pie"
           }
          ],
          "scatter": [
           {
            "fillpattern": {
             "fillmode": "overlay",
             "size": 10,
             "solidity": 0.2
            },
            "type": "scatter"
           }
          ],
          "scatter3d": [
           {
            "line": {
             "colorbar": {
              "outlinewidth": 0,
              "ticks": ""
             }
            },
            "marker": {
             "colorbar": {
              "outlinewidth": 0,
              "ticks": ""
             }
            },
            "type": "scatter3d"
           }
          ],
          "scattercarpet": [
           {
            "marker": {
             "colorbar": {
              "outlinewidth": 0,
              "ticks": ""
             }
            },
            "type": "scattercarpet"
           }
          ],
          "scattergeo": [
           {
            "marker": {
             "colorbar": {
              "outlinewidth": 0,
              "ticks": ""
             }
            },
            "type": "scattergeo"
           }
          ],
          "scattergl": [
           {
            "marker": {
             "colorbar": {
              "outlinewidth": 0,
              "ticks": ""
             }
            },
            "type": "scattergl"
           }
          ],
          "scattermapbox": [
           {
            "marker": {
             "colorbar": {
              "outlinewidth": 0,
              "ticks": ""
             }
            },
            "type": "scattermapbox"
           }
          ],
          "scatterpolar": [
           {
            "marker": {
             "colorbar": {
              "outlinewidth": 0,
              "ticks": ""
             }
            },
            "type": "scatterpolar"
           }
          ],
          "scatterpolargl": [
           {
            "marker": {
             "colorbar": {
              "outlinewidth": 0,
              "ticks": ""
             }
            },
            "type": "scatterpolargl"
           }
          ],
          "scatterternary": [
           {
            "marker": {
             "colorbar": {
              "outlinewidth": 0,
              "ticks": ""
             }
            },
            "type": "scatterternary"
           }
          ],
          "surface": [
           {
            "colorbar": {
             "outlinewidth": 0,
             "ticks": ""
            },
            "colorscale": [
             [
              0,
              "#0d0887"
             ],
             [
              0.1111111111111111,
              "#46039f"
             ],
             [
              0.2222222222222222,
              "#7201a8"
             ],
             [
              0.3333333333333333,
              "#9c179e"
             ],
             [
              0.4444444444444444,
              "#bd3786"
             ],
             [
              0.5555555555555556,
              "#d8576b"
             ],
             [
              0.6666666666666666,
              "#ed7953"
             ],
             [
              0.7777777777777778,
              "#fb9f3a"
             ],
             [
              0.8888888888888888,
              "#fdca26"
             ],
             [
              1,
              "#f0f921"
             ]
            ],
            "type": "surface"
           }
          ],
          "table": [
           {
            "cells": {
             "fill": {
              "color": "#EBF0F8"
             },
             "line": {
              "color": "white"
             }
            },
            "header": {
             "fill": {
              "color": "#C8D4E3"
             },
             "line": {
              "color": "white"
             }
            },
            "type": "table"
           }
          ]
         },
         "layout": {
          "annotationdefaults": {
           "arrowcolor": "#2a3f5f",
           "arrowhead": 0,
           "arrowwidth": 1
          },
          "autotypenumbers": "strict",
          "coloraxis": {
           "colorbar": {
            "outlinewidth": 0,
            "ticks": ""
           }
          },
          "colorscale": {
           "diverging": [
            [
             0,
             "#8e0152"
            ],
            [
             0.1,
             "#c51b7d"
            ],
            [
             0.2,
             "#de77ae"
            ],
            [
             0.3,
             "#f1b6da"
            ],
            [
             0.4,
             "#fde0ef"
            ],
            [
             0.5,
             "#f7f7f7"
            ],
            [
             0.6,
             "#e6f5d0"
            ],
            [
             0.7,
             "#b8e186"
            ],
            [
             0.8,
             "#7fbc41"
            ],
            [
             0.9,
             "#4d9221"
            ],
            [
             1,
             "#276419"
            ]
           ],
           "sequential": [
            [
             0,
             "#0d0887"
            ],
            [
             0.1111111111111111,
             "#46039f"
            ],
            [
             0.2222222222222222,
             "#7201a8"
            ],
            [
             0.3333333333333333,
             "#9c179e"
            ],
            [
             0.4444444444444444,
             "#bd3786"
            ],
            [
             0.5555555555555556,
             "#d8576b"
            ],
            [
             0.6666666666666666,
             "#ed7953"
            ],
            [
             0.7777777777777778,
             "#fb9f3a"
            ],
            [
             0.8888888888888888,
             "#fdca26"
            ],
            [
             1,
             "#f0f921"
            ]
           ],
           "sequentialminus": [
            [
             0,
             "#0d0887"
            ],
            [
             0.1111111111111111,
             "#46039f"
            ],
            [
             0.2222222222222222,
             "#7201a8"
            ],
            [
             0.3333333333333333,
             "#9c179e"
            ],
            [
             0.4444444444444444,
             "#bd3786"
            ],
            [
             0.5555555555555556,
             "#d8576b"
            ],
            [
             0.6666666666666666,
             "#ed7953"
            ],
            [
             0.7777777777777778,
             "#fb9f3a"
            ],
            [
             0.8888888888888888,
             "#fdca26"
            ],
            [
             1,
             "#f0f921"
            ]
           ]
          },
          "colorway": [
           "#636efa",
           "#EF553B",
           "#00cc96",
           "#ab63fa",
           "#FFA15A",
           "#19d3f3",
           "#FF6692",
           "#B6E880",
           "#FF97FF",
           "#FECB52"
          ],
          "font": {
           "color": "#2a3f5f"
          },
          "geo": {
           "bgcolor": "white",
           "lakecolor": "white",
           "landcolor": "#E5ECF6",
           "showlakes": true,
           "showland": true,
           "subunitcolor": "white"
          },
          "hoverlabel": {
           "align": "left"
          },
          "hovermode": "closest",
          "mapbox": {
           "style": "light"
          },
          "paper_bgcolor": "white",
          "plot_bgcolor": "#E5ECF6",
          "polar": {
           "angularaxis": {
            "gridcolor": "white",
            "linecolor": "white",
            "ticks": ""
           },
           "bgcolor": "#E5ECF6",
           "radialaxis": {
            "gridcolor": "white",
            "linecolor": "white",
            "ticks": ""
           }
          },
          "scene": {
           "xaxis": {
            "backgroundcolor": "#E5ECF6",
            "gridcolor": "white",
            "gridwidth": 2,
            "linecolor": "white",
            "showbackground": true,
            "ticks": "",
            "zerolinecolor": "white"
           },
           "yaxis": {
            "backgroundcolor": "#E5ECF6",
            "gridcolor": "white",
            "gridwidth": 2,
            "linecolor": "white",
            "showbackground": true,
            "ticks": "",
            "zerolinecolor": "white"
           },
           "zaxis": {
            "backgroundcolor": "#E5ECF6",
            "gridcolor": "white",
            "gridwidth": 2,
            "linecolor": "white",
            "showbackground": true,
            "ticks": "",
            "zerolinecolor": "white"
           }
          },
          "shapedefaults": {
           "line": {
            "color": "#2a3f5f"
           }
          },
          "ternary": {
           "aaxis": {
            "gridcolor": "white",
            "linecolor": "white",
            "ticks": ""
           },
           "baxis": {
            "gridcolor": "white",
            "linecolor": "white",
            "ticks": ""
           },
           "bgcolor": "#E5ECF6",
           "caxis": {
            "gridcolor": "white",
            "linecolor": "white",
            "ticks": ""
           }
          },
          "title": {
           "x": 0.05
          },
          "xaxis": {
           "automargin": true,
           "gridcolor": "white",
           "linecolor": "white",
           "ticks": "",
           "title": {
            "standoff": 15
           },
           "zerolinecolor": "white",
           "zerolinewidth": 2
          },
          "yaxis": {
           "automargin": true,
           "gridcolor": "white",
           "linecolor": "white",
           "ticks": "",
           "title": {
            "standoff": 15
           },
           "zerolinecolor": "white",
           "zerolinewidth": 2
          }
         }
        },
        "title": {
         "text": "Buổi Distribution"
        },
        "xaxis": {
         "anchor": "y",
         "categoryarray": [
          "hot trend",
          "đặc sản",
          "bestseller",
          "bình thường"
         ],
         "categoryorder": "array",
         "domain": [
          0,
          1
         ],
         "title": {
          "text": "Buổi"
         }
        },
        "yaxis": {
         "anchor": "x",
         "domain": [
          0,
          1
         ],
         "title": {
          "text": "Count"
         }
        }
       }
      }
     },
     "metadata": {},
     "output_type": "display_data"
    }
   ],
   "source": [
    "fig = px.histogram(data, x='Độ phổ biến', color='Độ phổ biến', title='Buổi Distribution')\n",
    "fig.update_layout(xaxis_title='Buổi', yaxis_title='Count')\n",
    "fig.show()"
   ]
  },
  {
   "cell_type": "code",
   "execution_count": 37,
   "metadata": {},
   "outputs": [
    {
     "data": {
      "application/vnd.plotly.v1+json": {
       "config": {
        "plotlyServerURL": "https://plot.ly"
       },
       "data": [
        {
         "alignmentgroup": "True",
         "bingroup": "x",
         "hovertemplate": "Loại đồ ăn=%{x}<br>count=%{y}<extra></extra>",
         "legendgroup": "Món nước",
         "marker": {
          "color": "#636efa",
          "pattern": {
           "shape": ""
          }
         },
         "name": "Món nước",
         "offsetgroup": "Món nước",
         "orientation": "v",
         "showlegend": true,
         "type": "histogram",
         "x": [
          "Món nước",
          "Món nước",
          "Món nước",
          "Món nước",
          "Món nước",
          "Món nước",
          "Món nước",
          "Món nước",
          "Món nước",
          "Món nước",
          "Món nước",
          "Món nước",
          "Món nước",
          "Món nước",
          "Món nước",
          "Món nước",
          "Món nước",
          "Món nước",
          "Món nước",
          "Món nước",
          "Món nước",
          "Món nước",
          "Món nước",
          "Món nước",
          "Món nước",
          "Món nước",
          "Món nước",
          "Món nước",
          "Món nước",
          "Món nước",
          "Món nước",
          "Món nước",
          "Món nước",
          "Món nước",
          "Món nước",
          "Món nước",
          "Món nước",
          "Món nước",
          "Món nước",
          "Món nước",
          "Món nước",
          "Món nước",
          "Món nước",
          "Món nước",
          "Món nước",
          "Món nước",
          "Món nước",
          "Món nước",
          "Món nước",
          "Món nước",
          "Món nước",
          "Món nước",
          "Món nước",
          "Món nước",
          "Món nước",
          "Món nước",
          "Món nước",
          "Món nước",
          "Món nước",
          "Món nước",
          "Món nước",
          "Món nước",
          "Món nước",
          "Món nước",
          "Món nước",
          "Món nước",
          "Món nước",
          "Món nước",
          "Món nước",
          "Món nước",
          "Món nước",
          "Món nước",
          "Món nước",
          "Món nước",
          "Món nước",
          "Món nước",
          "Món nước",
          "Món nước",
          "Món nước",
          "Món nước",
          "Món nước",
          "Món nước",
          "Món nước",
          "Món nước",
          "Món nước",
          "Món nước",
          "Món nước",
          "Món nước",
          "Món nước",
          "Món nước",
          "Món nước",
          "Món nước",
          "Món nước",
          "Món nước",
          "Món nước",
          "Món nước",
          "Món nước",
          "Món nước",
          "Món nước",
          "Món nước",
          "Món nước",
          "Món nước",
          "Món nước",
          "Món nước",
          "Món nước",
          "Món nước",
          "Món nước",
          "Món nước",
          "Món nước",
          "Món nước",
          "Món nước",
          "Món nước",
          "Món nước",
          "Món nước",
          "Món nước",
          "Món nước",
          "Món nước",
          "Món nước",
          "Món nước",
          "Món nước",
          "Món nước",
          "Món nước",
          "Món nước",
          "Món nước",
          "Món nước",
          "Món nước",
          "Món nước",
          "Món nước",
          "Món nước",
          "Món nước",
          "Món nước",
          "Món nước",
          "Món nước",
          "Món nước",
          "Món nước",
          "Món nước",
          "Món nước",
          "Món nước",
          "Món nước",
          "Món nước",
          "Món nước",
          "Món nước",
          "Món nước",
          "Món nước",
          "Món nước",
          "Món nước",
          "Món nước",
          "Món nước",
          "Món nước",
          "Món nước",
          "Món nước",
          "Món nước",
          "Món nước",
          "Món nước",
          "Món nước",
          "Món nước",
          "Món nước",
          "Món nước",
          "Món nước",
          "Món nước",
          "Món nước",
          "Món nước",
          "Món nước",
          "Món nước",
          "Món nước",
          "Món nước",
          "Món nước",
          "Món nước",
          "Món nước",
          "Món nước",
          "Món nước",
          "Món nước",
          "Món nước",
          "Món nước",
          "Món nước",
          "Món nước",
          "Món nước",
          "Món nước",
          "Món nước",
          "Món nước",
          "Món nước",
          "Món nước",
          "Món nước",
          "Món nước",
          "Món nước",
          "Món nước",
          "Món nước",
          "Món nước",
          "Món nước",
          "Món nước",
          "Món nước",
          "Món nước",
          "Món nước",
          "Món nước",
          "Món nước",
          "Món nước",
          "Món nước",
          "Món nước",
          "Món nước",
          "Món nước"
         ],
         "xaxis": "x",
         "yaxis": "y"
        },
        {
         "alignmentgroup": "True",
         "bingroup": "x",
         "hovertemplate": "Loại đồ ăn=%{x}<br>count=%{y}<extra></extra>",
         "legendgroup": "Món lạnh",
         "marker": {
          "color": "#EF553B",
          "pattern": {
           "shape": ""
          }
         },
         "name": "Món lạnh",
         "offsetgroup": "Món lạnh",
         "orientation": "v",
         "showlegend": true,
         "type": "histogram",
         "x": [
          "Món lạnh",
          "Món lạnh",
          "Món lạnh",
          "Món lạnh",
          "Món lạnh",
          "Món lạnh",
          "Món lạnh",
          "Món lạnh",
          "Món lạnh",
          "Món lạnh",
          "Món lạnh",
          "Món lạnh",
          "Món lạnh",
          "Món lạnh",
          "Món lạnh",
          "Món lạnh",
          "Món lạnh",
          "Món lạnh",
          "Món lạnh",
          "Món lạnh",
          "Món lạnh",
          "Món lạnh",
          "Món lạnh",
          "Món lạnh",
          "Món lạnh",
          "Món lạnh",
          "Món lạnh",
          "Món lạnh",
          "Món lạnh",
          "Món lạnh",
          "Món lạnh",
          "Món lạnh",
          "Món lạnh",
          "Món lạnh",
          "Món lạnh",
          "Món lạnh",
          "Món lạnh",
          "Món lạnh",
          "Món lạnh",
          "Món lạnh",
          "Món lạnh",
          "Món lạnh",
          "Món lạnh",
          "Món lạnh",
          "Món lạnh",
          "Món lạnh",
          "Món lạnh",
          "Món lạnh",
          "Món lạnh",
          "Món lạnh",
          "Món lạnh",
          "Món lạnh",
          "Món lạnh",
          "Món lạnh",
          "Món lạnh",
          "Món lạnh",
          "Món lạnh",
          "Món lạnh",
          "Món lạnh",
          "Món lạnh",
          "Món lạnh",
          "Món lạnh",
          "Món lạnh",
          "Món lạnh",
          "Món lạnh",
          "Món lạnh",
          "Món lạnh",
          "Món lạnh",
          "Món lạnh",
          "Món lạnh",
          "Món lạnh",
          "Món lạnh",
          "Món lạnh",
          "Món lạnh",
          "Món lạnh",
          "Món lạnh",
          "Món lạnh",
          "Món lạnh",
          "Món lạnh",
          "Món lạnh",
          "Món lạnh",
          "Món lạnh",
          "Món lạnh",
          "Món lạnh",
          "Món lạnh",
          "Món lạnh",
          "Món lạnh",
          "Món lạnh",
          "Món lạnh",
          "Món lạnh",
          "Món lạnh",
          "Món lạnh",
          "Món lạnh",
          "Món lạnh",
          "Món lạnh",
          "Món lạnh",
          "Món lạnh",
          "Món lạnh",
          "Món lạnh",
          "Món lạnh",
          "Món lạnh",
          "Món lạnh",
          "Món lạnh",
          "Món lạnh",
          "Món lạnh",
          "Món lạnh",
          "Món lạnh",
          "Món lạnh",
          "Món lạnh",
          "Món lạnh",
          "Món lạnh",
          "Món lạnh",
          "Món lạnh",
          "Món lạnh",
          "Món lạnh",
          "Món lạnh",
          "Món lạnh",
          "Món lạnh",
          "Món lạnh",
          "Món lạnh",
          "Món lạnh",
          "Món lạnh",
          "Món lạnh",
          "Món lạnh",
          "Món lạnh",
          "Món lạnh",
          "Món lạnh",
          "Món lạnh",
          "Món lạnh",
          "Món lạnh",
          "Món lạnh",
          "Món lạnh",
          "Món lạnh",
          "Món lạnh",
          "Món lạnh",
          "Món lạnh",
          "Món lạnh",
          "Món lạnh",
          "Món lạnh",
          "Món lạnh",
          "Món lạnh",
          "Món lạnh",
          "Món lạnh",
          "Món lạnh",
          "Món lạnh",
          "Món lạnh",
          "Món lạnh",
          "Món lạnh",
          "Món lạnh",
          "Món lạnh",
          "Món lạnh",
          "Món lạnh",
          "Món lạnh",
          "Món lạnh",
          "Món lạnh",
          "Món lạnh",
          "Món lạnh",
          "Món lạnh",
          "Món lạnh",
          "Món lạnh",
          "Món lạnh",
          "Món lạnh",
          "Món lạnh",
          "Món lạnh",
          "Món lạnh",
          "Món lạnh",
          "Món lạnh",
          "Món lạnh",
          "Món lạnh",
          "Món lạnh",
          "Món lạnh",
          "Món lạnh",
          "Món lạnh",
          "Món lạnh",
          "Món lạnh",
          "Món lạnh",
          "Món lạnh",
          "Món lạnh",
          "Món lạnh",
          "Món lạnh",
          "Món lạnh",
          "Món lạnh",
          "Món lạnh",
          "Món lạnh",
          "Món lạnh",
          "Món lạnh",
          "Món lạnh",
          "Món lạnh",
          "Món lạnh",
          "Món lạnh",
          "Món lạnh",
          "Món lạnh",
          "Món lạnh",
          "Món lạnh",
          "Món lạnh",
          "Món lạnh",
          "Món lạnh",
          "Món lạnh",
          "Món lạnh",
          "Món lạnh",
          "Món lạnh",
          "Món lạnh",
          "Món lạnh",
          "Món lạnh"
         ],
         "xaxis": "x",
         "yaxis": "y"
        },
        {
         "alignmentgroup": "True",
         "bingroup": "x",
         "hovertemplate": "Loại đồ ăn=%{x}<br>count=%{y}<extra></extra>",
         "legendgroup": "Món Tráng miệng",
         "marker": {
          "color": "#00cc96",
          "pattern": {
           "shape": ""
          }
         },
         "name": "Món Tráng miệng",
         "offsetgroup": "Món Tráng miệng",
         "orientation": "v",
         "showlegend": true,
         "type": "histogram",
         "x": [
          "Món Tráng miệng",
          "Món Tráng miệng",
          "Món Tráng miệng",
          "Món Tráng miệng",
          "Món Tráng miệng",
          "Món Tráng miệng",
          "Món Tráng miệng",
          "Món Tráng miệng",
          "Món Tráng miệng",
          "Món Tráng miệng",
          "Món Tráng miệng",
          "Món Tráng miệng",
          "Món Tráng miệng",
          "Món Tráng miệng",
          "Món Tráng miệng",
          "Món Tráng miệng",
          "Món Tráng miệng",
          "Món Tráng miệng",
          "Món Tráng miệng",
          "Món Tráng miệng",
          "Món Tráng miệng",
          "Món Tráng miệng",
          "Món Tráng miệng",
          "Món Tráng miệng",
          "Món Tráng miệng",
          "Món Tráng miệng",
          "Món Tráng miệng",
          "Món Tráng miệng",
          "Món Tráng miệng",
          "Món Tráng miệng",
          "Món Tráng miệng",
          "Món Tráng miệng",
          "Món Tráng miệng",
          "Món Tráng miệng",
          "Món Tráng miệng",
          "Món Tráng miệng",
          "Món Tráng miệng",
          "Món Tráng miệng",
          "Món Tráng miệng",
          "Món Tráng miệng",
          "Món Tráng miệng",
          "Món Tráng miệng",
          "Món Tráng miệng",
          "Món Tráng miệng",
          "Món Tráng miệng",
          "Món Tráng miệng",
          "Món Tráng miệng",
          "Món Tráng miệng",
          "Món Tráng miệng",
          "Món Tráng miệng",
          "Món Tráng miệng",
          "Món Tráng miệng",
          "Món Tráng miệng",
          "Món Tráng miệng",
          "Món Tráng miệng",
          "Món Tráng miệng",
          "Món Tráng miệng",
          "Món Tráng miệng",
          "Món Tráng miệng",
          "Món Tráng miệng",
          "Món Tráng miệng",
          "Món Tráng miệng",
          "Món Tráng miệng",
          "Món Tráng miệng",
          "Món Tráng miệng",
          "Món Tráng miệng",
          "Món Tráng miệng",
          "Món Tráng miệng",
          "Món Tráng miệng",
          "Món Tráng miệng",
          "Món Tráng miệng",
          "Món Tráng miệng",
          "Món Tráng miệng",
          "Món Tráng miệng",
          "Món Tráng miệng",
          "Món Tráng miệng",
          "Món Tráng miệng",
          "Món Tráng miệng",
          "Món Tráng miệng",
          "Món Tráng miệng",
          "Món Tráng miệng",
          "Món Tráng miệng",
          "Món Tráng miệng",
          "Món Tráng miệng",
          "Món Tráng miệng",
          "Món Tráng miệng",
          "Món Tráng miệng",
          "Món Tráng miệng",
          "Món Tráng miệng",
          "Món Tráng miệng",
          "Món Tráng miệng",
          "Món Tráng miệng",
          "Món Tráng miệng",
          "Món Tráng miệng",
          "Món Tráng miệng",
          "Món Tráng miệng",
          "Món Tráng miệng",
          "Món Tráng miệng",
          "Món Tráng miệng",
          "Món Tráng miệng",
          "Món Tráng miệng",
          "Món Tráng miệng",
          "Món Tráng miệng",
          "Món Tráng miệng",
          "Món Tráng miệng",
          "Món Tráng miệng",
          "Món Tráng miệng",
          "Món Tráng miệng",
          "Món Tráng miệng",
          "Món Tráng miệng",
          "Món Tráng miệng",
          "Món Tráng miệng",
          "Món Tráng miệng",
          "Món Tráng miệng",
          "Món Tráng miệng",
          "Món Tráng miệng",
          "Món Tráng miệng",
          "Món Tráng miệng",
          "Món Tráng miệng",
          "Món Tráng miệng",
          "Món Tráng miệng",
          "Món Tráng miệng",
          "Món Tráng miệng",
          "Món Tráng miệng",
          "Món Tráng miệng",
          "Món Tráng miệng",
          "Món Tráng miệng",
          "Món Tráng miệng",
          "Món Tráng miệng",
          "Món Tráng miệng",
          "Món Tráng miệng",
          "Món Tráng miệng",
          "Món Tráng miệng",
          "Món Tráng miệng",
          "Món Tráng miệng",
          "Món Tráng miệng",
          "Món Tráng miệng",
          "Món Tráng miệng",
          "Món Tráng miệng",
          "Món Tráng miệng",
          "Món Tráng miệng",
          "Món Tráng miệng",
          "Món Tráng miệng",
          "Món Tráng miệng",
          "Món Tráng miệng",
          "Món Tráng miệng",
          "Món Tráng miệng",
          "Món Tráng miệng",
          "Món Tráng miệng",
          "Món Tráng miệng",
          "Món Tráng miệng",
          "Món Tráng miệng",
          "Món Tráng miệng",
          "Món Tráng miệng",
          "Món Tráng miệng",
          "Món Tráng miệng",
          "Món Tráng miệng",
          "Món Tráng miệng",
          "Món Tráng miệng",
          "Món Tráng miệng",
          "Món Tráng miệng",
          "Món Tráng miệng",
          "Món Tráng miệng",
          "Món Tráng miệng",
          "Món Tráng miệng",
          "Món Tráng miệng",
          "Món Tráng miệng",
          "Món Tráng miệng",
          "Món Tráng miệng",
          "Món Tráng miệng",
          "Món Tráng miệng",
          "Món Tráng miệng",
          "Món Tráng miệng",
          "Món Tráng miệng",
          "Món Tráng miệng",
          "Món Tráng miệng",
          "Món Tráng miệng",
          "Món Tráng miệng",
          "Món Tráng miệng",
          "Món Tráng miệng",
          "Món Tráng miệng",
          "Món Tráng miệng",
          "Món Tráng miệng",
          "Món Tráng miệng",
          "Món Tráng miệng",
          "Món Tráng miệng"
         ],
         "xaxis": "x",
         "yaxis": "y"
        },
        {
         "alignmentgroup": "True",
         "bingroup": "x",
         "hovertemplate": "Loại đồ ăn=%{x}<br>count=%{y}<extra></extra>",
         "legendgroup": "đồ ăn vặt",
         "marker": {
          "color": "#ab63fa",
          "pattern": {
           "shape": ""
          }
         },
         "name": "đồ ăn vặt",
         "offsetgroup": "đồ ăn vặt",
         "orientation": "v",
         "showlegend": true,
         "type": "histogram",
         "x": [
          "đồ ăn vặt",
          "đồ ăn vặt",
          "đồ ăn vặt",
          "đồ ăn vặt",
          "đồ ăn vặt",
          "đồ ăn vặt",
          "đồ ăn vặt",
          "đồ ăn vặt",
          "đồ ăn vặt",
          "đồ ăn vặt",
          "đồ ăn vặt",
          "đồ ăn vặt",
          "đồ ăn vặt",
          "đồ ăn vặt",
          "đồ ăn vặt",
          "đồ ăn vặt",
          "đồ ăn vặt",
          "đồ ăn vặt",
          "đồ ăn vặt",
          "đồ ăn vặt",
          "đồ ăn vặt",
          "đồ ăn vặt",
          "đồ ăn vặt",
          "đồ ăn vặt",
          "đồ ăn vặt",
          "đồ ăn vặt",
          "đồ ăn vặt",
          "đồ ăn vặt",
          "đồ ăn vặt",
          "đồ ăn vặt",
          "đồ ăn vặt",
          "đồ ăn vặt",
          "đồ ăn vặt",
          "đồ ăn vặt",
          "đồ ăn vặt",
          "đồ ăn vặt",
          "đồ ăn vặt",
          "đồ ăn vặt",
          "đồ ăn vặt",
          "đồ ăn vặt",
          "đồ ăn vặt",
          "đồ ăn vặt",
          "đồ ăn vặt",
          "đồ ăn vặt",
          "đồ ăn vặt",
          "đồ ăn vặt",
          "đồ ăn vặt",
          "đồ ăn vặt",
          "đồ ăn vặt",
          "đồ ăn vặt",
          "đồ ăn vặt",
          "đồ ăn vặt",
          "đồ ăn vặt",
          "đồ ăn vặt",
          "đồ ăn vặt",
          "đồ ăn vặt",
          "đồ ăn vặt",
          "đồ ăn vặt",
          "đồ ăn vặt",
          "đồ ăn vặt",
          "đồ ăn vặt",
          "đồ ăn vặt",
          "đồ ăn vặt",
          "đồ ăn vặt",
          "đồ ăn vặt",
          "đồ ăn vặt",
          "đồ ăn vặt",
          "đồ ăn vặt",
          "đồ ăn vặt",
          "đồ ăn vặt",
          "đồ ăn vặt",
          "đồ ăn vặt",
          "đồ ăn vặt",
          "đồ ăn vặt",
          "đồ ăn vặt",
          "đồ ăn vặt",
          "đồ ăn vặt",
          "đồ ăn vặt",
          "đồ ăn vặt",
          "đồ ăn vặt",
          "đồ ăn vặt",
          "đồ ăn vặt",
          "đồ ăn vặt",
          "đồ ăn vặt",
          "đồ ăn vặt",
          "đồ ăn vặt",
          "đồ ăn vặt",
          "đồ ăn vặt",
          "đồ ăn vặt",
          "đồ ăn vặt",
          "đồ ăn vặt",
          "đồ ăn vặt",
          "đồ ăn vặt",
          "đồ ăn vặt",
          "đồ ăn vặt",
          "đồ ăn vặt",
          "đồ ăn vặt",
          "đồ ăn vặt",
          "đồ ăn vặt",
          "đồ ăn vặt",
          "đồ ăn vặt",
          "đồ ăn vặt",
          "đồ ăn vặt",
          "đồ ăn vặt",
          "đồ ăn vặt",
          "đồ ăn vặt",
          "đồ ăn vặt",
          "đồ ăn vặt",
          "đồ ăn vặt",
          "đồ ăn vặt",
          "đồ ăn vặt",
          "đồ ăn vặt",
          "đồ ăn vặt",
          "đồ ăn vặt",
          "đồ ăn vặt",
          "đồ ăn vặt",
          "đồ ăn vặt",
          "đồ ăn vặt",
          "đồ ăn vặt",
          "đồ ăn vặt",
          "đồ ăn vặt",
          "đồ ăn vặt",
          "đồ ăn vặt",
          "đồ ăn vặt",
          "đồ ăn vặt",
          "đồ ăn vặt",
          "đồ ăn vặt",
          "đồ ăn vặt",
          "đồ ăn vặt",
          "đồ ăn vặt",
          "đồ ăn vặt",
          "đồ ăn vặt",
          "đồ ăn vặt",
          "đồ ăn vặt",
          "đồ ăn vặt",
          "đồ ăn vặt",
          "đồ ăn vặt",
          "đồ ăn vặt",
          "đồ ăn vặt",
          "đồ ăn vặt",
          "đồ ăn vặt",
          "đồ ăn vặt",
          "đồ ăn vặt",
          "đồ ăn vặt",
          "đồ ăn vặt",
          "đồ ăn vặt",
          "đồ ăn vặt",
          "đồ ăn vặt",
          "đồ ăn vặt",
          "đồ ăn vặt",
          "đồ ăn vặt",
          "đồ ăn vặt",
          "đồ ăn vặt",
          "đồ ăn vặt",
          "đồ ăn vặt",
          "đồ ăn vặt",
          "đồ ăn vặt",
          "đồ ăn vặt",
          "đồ ăn vặt",
          "đồ ăn vặt",
          "đồ ăn vặt",
          "đồ ăn vặt",
          "đồ ăn vặt",
          "đồ ăn vặt",
          "đồ ăn vặt",
          "đồ ăn vặt",
          "đồ ăn vặt",
          "đồ ăn vặt",
          "đồ ăn vặt",
          "đồ ăn vặt",
          "đồ ăn vặt",
          "đồ ăn vặt",
          "đồ ăn vặt",
          "đồ ăn vặt",
          "đồ ăn vặt",
          "đồ ăn vặt",
          "đồ ăn vặt",
          "đồ ăn vặt",
          "đồ ăn vặt",
          "đồ ăn vặt",
          "đồ ăn vặt",
          "đồ ăn vặt",
          "đồ ăn vặt",
          "đồ ăn vặt",
          "đồ ăn vặt",
          "đồ ăn vặt",
          "đồ ăn vặt",
          "đồ ăn vặt",
          "đồ ăn vặt",
          "đồ ăn vặt",
          "đồ ăn vặt",
          "đồ ăn vặt",
          "đồ ăn vặt",
          "đồ ăn vặt",
          "đồ ăn vặt",
          "đồ ăn vặt",
          "đồ ăn vặt",
          "đồ ăn vặt",
          "đồ ăn vặt",
          "đồ ăn vặt",
          "đồ ăn vặt",
          "đồ ăn vặt",
          "đồ ăn vặt",
          "đồ ăn vặt",
          "đồ ăn vặt"
         ],
         "xaxis": "x",
         "yaxis": "y"
        },
        {
         "alignmentgroup": "True",
         "bingroup": "x",
         "hovertemplate": "Loại đồ ăn=%{x}<br>count=%{y}<extra></extra>",
         "legendgroup": "Món cho trẻ em",
         "marker": {
          "color": "#FFA15A",
          "pattern": {
           "shape": ""
          }
         },
         "name": "Món cho trẻ em",
         "offsetgroup": "Món cho trẻ em",
         "orientation": "v",
         "showlegend": true,
         "type": "histogram",
         "x": [
          "Món cho trẻ em",
          "Món cho trẻ em",
          "Món cho trẻ em",
          "Món cho trẻ em",
          "Món cho trẻ em",
          "Món cho trẻ em",
          "Món cho trẻ em",
          "Món cho trẻ em",
          "Món cho trẻ em",
          "Món cho trẻ em",
          "Món cho trẻ em",
          "Món cho trẻ em",
          "Món cho trẻ em",
          "Món cho trẻ em",
          "Món cho trẻ em",
          "Món cho trẻ em",
          "Món cho trẻ em",
          "Món cho trẻ em",
          "Món cho trẻ em",
          "Món cho trẻ em",
          "Món cho trẻ em",
          "Món cho trẻ em",
          "Món cho trẻ em",
          "Món cho trẻ em",
          "Món cho trẻ em",
          "Món cho trẻ em",
          "Món cho trẻ em",
          "Món cho trẻ em",
          "Món cho trẻ em",
          "Món cho trẻ em",
          "Món cho trẻ em",
          "Món cho trẻ em",
          "Món cho trẻ em",
          "Món cho trẻ em",
          "Món cho trẻ em",
          "Món cho trẻ em",
          "Món cho trẻ em",
          "Món cho trẻ em",
          "Món cho trẻ em",
          "Món cho trẻ em",
          "Món cho trẻ em",
          "Món cho trẻ em",
          "Món cho trẻ em",
          "Món cho trẻ em",
          "Món cho trẻ em",
          "Món cho trẻ em",
          "Món cho trẻ em",
          "Món cho trẻ em",
          "Món cho trẻ em",
          "Món cho trẻ em",
          "Món cho trẻ em",
          "Món cho trẻ em",
          "Món cho trẻ em",
          "Món cho trẻ em",
          "Món cho trẻ em",
          "Món cho trẻ em",
          "Món cho trẻ em",
          "Món cho trẻ em",
          "Món cho trẻ em",
          "Món cho trẻ em",
          "Món cho trẻ em",
          "Món cho trẻ em",
          "Món cho trẻ em",
          "Món cho trẻ em",
          "Món cho trẻ em",
          "Món cho trẻ em",
          "Món cho trẻ em",
          "Món cho trẻ em",
          "Món cho trẻ em",
          "Món cho trẻ em",
          "Món cho trẻ em",
          "Món cho trẻ em",
          "Món cho trẻ em",
          "Món cho trẻ em",
          "Món cho trẻ em",
          "Món cho trẻ em",
          "Món cho trẻ em",
          "Món cho trẻ em",
          "Món cho trẻ em",
          "Món cho trẻ em",
          "Món cho trẻ em",
          "Món cho trẻ em",
          "Món cho trẻ em",
          "Món cho trẻ em",
          "Món cho trẻ em",
          "Món cho trẻ em",
          "Món cho trẻ em",
          "Món cho trẻ em",
          "Món cho trẻ em",
          "Món cho trẻ em",
          "Món cho trẻ em",
          "Món cho trẻ em",
          "Món cho trẻ em",
          "Món cho trẻ em",
          "Món cho trẻ em",
          "Món cho trẻ em",
          "Món cho trẻ em",
          "Món cho trẻ em",
          "Món cho trẻ em",
          "Món cho trẻ em",
          "Món cho trẻ em",
          "Món cho trẻ em",
          "Món cho trẻ em",
          "Món cho trẻ em",
          "Món cho trẻ em",
          "Món cho trẻ em",
          "Món cho trẻ em",
          "Món cho trẻ em",
          "Món cho trẻ em",
          "Món cho trẻ em",
          "Món cho trẻ em",
          "Món cho trẻ em",
          "Món cho trẻ em",
          "Món cho trẻ em",
          "Món cho trẻ em",
          "Món cho trẻ em",
          "Món cho trẻ em",
          "Món cho trẻ em",
          "Món cho trẻ em",
          "Món cho trẻ em",
          "Món cho trẻ em",
          "Món cho trẻ em",
          "Món cho trẻ em",
          "Món cho trẻ em",
          "Món cho trẻ em",
          "Món cho trẻ em",
          "Món cho trẻ em",
          "Món cho trẻ em",
          "Món cho trẻ em",
          "Món cho trẻ em",
          "Món cho trẻ em",
          "Món cho trẻ em",
          "Món cho trẻ em",
          "Món cho trẻ em",
          "Món cho trẻ em",
          "Món cho trẻ em",
          "Món cho trẻ em",
          "Món cho trẻ em",
          "Món cho trẻ em",
          "Món cho trẻ em",
          "Món cho trẻ em",
          "Món cho trẻ em",
          "Món cho trẻ em",
          "Món cho trẻ em",
          "Món cho trẻ em",
          "Món cho trẻ em",
          "Món cho trẻ em",
          "Món cho trẻ em",
          "Món cho trẻ em",
          "Món cho trẻ em",
          "Món cho trẻ em",
          "Món cho trẻ em",
          "Món cho trẻ em",
          "Món cho trẻ em",
          "Món cho trẻ em",
          "Món cho trẻ em",
          "Món cho trẻ em",
          "Món cho trẻ em",
          "Món cho trẻ em",
          "Món cho trẻ em",
          "Món cho trẻ em",
          "Món cho trẻ em",
          "Món cho trẻ em",
          "Món cho trẻ em",
          "Món cho trẻ em",
          "Món cho trẻ em",
          "Món cho trẻ em",
          "Món cho trẻ em",
          "Món cho trẻ em",
          "Món cho trẻ em",
          "Món cho trẻ em",
          "Món cho trẻ em",
          "Món cho trẻ em",
          "Món cho trẻ em",
          "Món cho trẻ em",
          "Món cho trẻ em",
          "Món cho trẻ em",
          "Món cho trẻ em",
          "Món cho trẻ em",
          "Món cho trẻ em",
          "Món cho trẻ em",
          "Món cho trẻ em",
          "Món cho trẻ em",
          "Món cho trẻ em",
          "Món cho trẻ em",
          "Món cho trẻ em",
          "Món cho trẻ em",
          "Món cho trẻ em",
          "Món cho trẻ em",
          "Món cho trẻ em",
          "Món cho trẻ em",
          "Món cho trẻ em",
          "Món cho trẻ em",
          "Món cho trẻ em",
          "Món cho trẻ em",
          "Món cho trẻ em",
          "Món cho trẻ em",
          "Món cho trẻ em",
          "Món cho trẻ em",
          "Món cho trẻ em",
          "Món cho trẻ em",
          "Món cho trẻ em"
         ],
         "xaxis": "x",
         "yaxis": "y"
        }
       ],
       "layout": {
        "barmode": "relative",
        "legend": {
         "title": {
          "text": "Loại đồ ăn"
         },
         "tracegroupgap": 0
        },
        "template": {
         "data": {
          "bar": [
           {
            "error_x": {
             "color": "#2a3f5f"
            },
            "error_y": {
             "color": "#2a3f5f"
            },
            "marker": {
             "line": {
              "color": "#E5ECF6",
              "width": 0.5
             },
             "pattern": {
              "fillmode": "overlay",
              "size": 10,
              "solidity": 0.2
             }
            },
            "type": "bar"
           }
          ],
          "barpolar": [
           {
            "marker": {
             "line": {
              "color": "#E5ECF6",
              "width": 0.5
             },
             "pattern": {
              "fillmode": "overlay",
              "size": 10,
              "solidity": 0.2
             }
            },
            "type": "barpolar"
           }
          ],
          "carpet": [
           {
            "aaxis": {
             "endlinecolor": "#2a3f5f",
             "gridcolor": "white",
             "linecolor": "white",
             "minorgridcolor": "white",
             "startlinecolor": "#2a3f5f"
            },
            "baxis": {
             "endlinecolor": "#2a3f5f",
             "gridcolor": "white",
             "linecolor": "white",
             "minorgridcolor": "white",
             "startlinecolor": "#2a3f5f"
            },
            "type": "carpet"
           }
          ],
          "choropleth": [
           {
            "colorbar": {
             "outlinewidth": 0,
             "ticks": ""
            },
            "type": "choropleth"
           }
          ],
          "contour": [
           {
            "colorbar": {
             "outlinewidth": 0,
             "ticks": ""
            },
            "colorscale": [
             [
              0,
              "#0d0887"
             ],
             [
              0.1111111111111111,
              "#46039f"
             ],
             [
              0.2222222222222222,
              "#7201a8"
             ],
             [
              0.3333333333333333,
              "#9c179e"
             ],
             [
              0.4444444444444444,
              "#bd3786"
             ],
             [
              0.5555555555555556,
              "#d8576b"
             ],
             [
              0.6666666666666666,
              "#ed7953"
             ],
             [
              0.7777777777777778,
              "#fb9f3a"
             ],
             [
              0.8888888888888888,
              "#fdca26"
             ],
             [
              1,
              "#f0f921"
             ]
            ],
            "type": "contour"
           }
          ],
          "contourcarpet": [
           {
            "colorbar": {
             "outlinewidth": 0,
             "ticks": ""
            },
            "type": "contourcarpet"
           }
          ],
          "heatmap": [
           {
            "colorbar": {
             "outlinewidth": 0,
             "ticks": ""
            },
            "colorscale": [
             [
              0,
              "#0d0887"
             ],
             [
              0.1111111111111111,
              "#46039f"
             ],
             [
              0.2222222222222222,
              "#7201a8"
             ],
             [
              0.3333333333333333,
              "#9c179e"
             ],
             [
              0.4444444444444444,
              "#bd3786"
             ],
             [
              0.5555555555555556,
              "#d8576b"
             ],
             [
              0.6666666666666666,
              "#ed7953"
             ],
             [
              0.7777777777777778,
              "#fb9f3a"
             ],
             [
              0.8888888888888888,
              "#fdca26"
             ],
             [
              1,
              "#f0f921"
             ]
            ],
            "type": "heatmap"
           }
          ],
          "heatmapgl": [
           {
            "colorbar": {
             "outlinewidth": 0,
             "ticks": ""
            },
            "colorscale": [
             [
              0,
              "#0d0887"
             ],
             [
              0.1111111111111111,
              "#46039f"
             ],
             [
              0.2222222222222222,
              "#7201a8"
             ],
             [
              0.3333333333333333,
              "#9c179e"
             ],
             [
              0.4444444444444444,
              "#bd3786"
             ],
             [
              0.5555555555555556,
              "#d8576b"
             ],
             [
              0.6666666666666666,
              "#ed7953"
             ],
             [
              0.7777777777777778,
              "#fb9f3a"
             ],
             [
              0.8888888888888888,
              "#fdca26"
             ],
             [
              1,
              "#f0f921"
             ]
            ],
            "type": "heatmapgl"
           }
          ],
          "histogram": [
           {
            "marker": {
             "pattern": {
              "fillmode": "overlay",
              "size": 10,
              "solidity": 0.2
             }
            },
            "type": "histogram"
           }
          ],
          "histogram2d": [
           {
            "colorbar": {
             "outlinewidth": 0,
             "ticks": ""
            },
            "colorscale": [
             [
              0,
              "#0d0887"
             ],
             [
              0.1111111111111111,
              "#46039f"
             ],
             [
              0.2222222222222222,
              "#7201a8"
             ],
             [
              0.3333333333333333,
              "#9c179e"
             ],
             [
              0.4444444444444444,
              "#bd3786"
             ],
             [
              0.5555555555555556,
              "#d8576b"
             ],
             [
              0.6666666666666666,
              "#ed7953"
             ],
             [
              0.7777777777777778,
              "#fb9f3a"
             ],
             [
              0.8888888888888888,
              "#fdca26"
             ],
             [
              1,
              "#f0f921"
             ]
            ],
            "type": "histogram2d"
           }
          ],
          "histogram2dcontour": [
           {
            "colorbar": {
             "outlinewidth": 0,
             "ticks": ""
            },
            "colorscale": [
             [
              0,
              "#0d0887"
             ],
             [
              0.1111111111111111,
              "#46039f"
             ],
             [
              0.2222222222222222,
              "#7201a8"
             ],
             [
              0.3333333333333333,
              "#9c179e"
             ],
             [
              0.4444444444444444,
              "#bd3786"
             ],
             [
              0.5555555555555556,
              "#d8576b"
             ],
             [
              0.6666666666666666,
              "#ed7953"
             ],
             [
              0.7777777777777778,
              "#fb9f3a"
             ],
             [
              0.8888888888888888,
              "#fdca26"
             ],
             [
              1,
              "#f0f921"
             ]
            ],
            "type": "histogram2dcontour"
           }
          ],
          "mesh3d": [
           {
            "colorbar": {
             "outlinewidth": 0,
             "ticks": ""
            },
            "type": "mesh3d"
           }
          ],
          "parcoords": [
           {
            "line": {
             "colorbar": {
              "outlinewidth": 0,
              "ticks": ""
             }
            },
            "type": "parcoords"
           }
          ],
          "pie": [
           {
            "automargin": true,
            "type": "pie"
           }
          ],
          "scatter": [
           {
            "fillpattern": {
             "fillmode": "overlay",
             "size": 10,
             "solidity": 0.2
            },
            "type": "scatter"
           }
          ],
          "scatter3d": [
           {
            "line": {
             "colorbar": {
              "outlinewidth": 0,
              "ticks": ""
             }
            },
            "marker": {
             "colorbar": {
              "outlinewidth": 0,
              "ticks": ""
             }
            },
            "type": "scatter3d"
           }
          ],
          "scattercarpet": [
           {
            "marker": {
             "colorbar": {
              "outlinewidth": 0,
              "ticks": ""
             }
            },
            "type": "scattercarpet"
           }
          ],
          "scattergeo": [
           {
            "marker": {
             "colorbar": {
              "outlinewidth": 0,
              "ticks": ""
             }
            },
            "type": "scattergeo"
           }
          ],
          "scattergl": [
           {
            "marker": {
             "colorbar": {
              "outlinewidth": 0,
              "ticks": ""
             }
            },
            "type": "scattergl"
           }
          ],
          "scattermapbox": [
           {
            "marker": {
             "colorbar": {
              "outlinewidth": 0,
              "ticks": ""
             }
            },
            "type": "scattermapbox"
           }
          ],
          "scatterpolar": [
           {
            "marker": {
             "colorbar": {
              "outlinewidth": 0,
              "ticks": ""
             }
            },
            "type": "scatterpolar"
           }
          ],
          "scatterpolargl": [
           {
            "marker": {
             "colorbar": {
              "outlinewidth": 0,
              "ticks": ""
             }
            },
            "type": "scatterpolargl"
           }
          ],
          "scatterternary": [
           {
            "marker": {
             "colorbar": {
              "outlinewidth": 0,
              "ticks": ""
             }
            },
            "type": "scatterternary"
           }
          ],
          "surface": [
           {
            "colorbar": {
             "outlinewidth": 0,
             "ticks": ""
            },
            "colorscale": [
             [
              0,
              "#0d0887"
             ],
             [
              0.1111111111111111,
              "#46039f"
             ],
             [
              0.2222222222222222,
              "#7201a8"
             ],
             [
              0.3333333333333333,
              "#9c179e"
             ],
             [
              0.4444444444444444,
              "#bd3786"
             ],
             [
              0.5555555555555556,
              "#d8576b"
             ],
             [
              0.6666666666666666,
              "#ed7953"
             ],
             [
              0.7777777777777778,
              "#fb9f3a"
             ],
             [
              0.8888888888888888,
              "#fdca26"
             ],
             [
              1,
              "#f0f921"
             ]
            ],
            "type": "surface"
           }
          ],
          "table": [
           {
            "cells": {
             "fill": {
              "color": "#EBF0F8"
             },
             "line": {
              "color": "white"
             }
            },
            "header": {
             "fill": {
              "color": "#C8D4E3"
             },
             "line": {
              "color": "white"
             }
            },
            "type": "table"
           }
          ]
         },
         "layout": {
          "annotationdefaults": {
           "arrowcolor": "#2a3f5f",
           "arrowhead": 0,
           "arrowwidth": 1
          },
          "autotypenumbers": "strict",
          "coloraxis": {
           "colorbar": {
            "outlinewidth": 0,
            "ticks": ""
           }
          },
          "colorscale": {
           "diverging": [
            [
             0,
             "#8e0152"
            ],
            [
             0.1,
             "#c51b7d"
            ],
            [
             0.2,
             "#de77ae"
            ],
            [
             0.3,
             "#f1b6da"
            ],
            [
             0.4,
             "#fde0ef"
            ],
            [
             0.5,
             "#f7f7f7"
            ],
            [
             0.6,
             "#e6f5d0"
            ],
            [
             0.7,
             "#b8e186"
            ],
            [
             0.8,
             "#7fbc41"
            ],
            [
             0.9,
             "#4d9221"
            ],
            [
             1,
             "#276419"
            ]
           ],
           "sequential": [
            [
             0,
             "#0d0887"
            ],
            [
             0.1111111111111111,
             "#46039f"
            ],
            [
             0.2222222222222222,
             "#7201a8"
            ],
            [
             0.3333333333333333,
             "#9c179e"
            ],
            [
             0.4444444444444444,
             "#bd3786"
            ],
            [
             0.5555555555555556,
             "#d8576b"
            ],
            [
             0.6666666666666666,
             "#ed7953"
            ],
            [
             0.7777777777777778,
             "#fb9f3a"
            ],
            [
             0.8888888888888888,
             "#fdca26"
            ],
            [
             1,
             "#f0f921"
            ]
           ],
           "sequentialminus": [
            [
             0,
             "#0d0887"
            ],
            [
             0.1111111111111111,
             "#46039f"
            ],
            [
             0.2222222222222222,
             "#7201a8"
            ],
            [
             0.3333333333333333,
             "#9c179e"
            ],
            [
             0.4444444444444444,
             "#bd3786"
            ],
            [
             0.5555555555555556,
             "#d8576b"
            ],
            [
             0.6666666666666666,
             "#ed7953"
            ],
            [
             0.7777777777777778,
             "#fb9f3a"
            ],
            [
             0.8888888888888888,
             "#fdca26"
            ],
            [
             1,
             "#f0f921"
            ]
           ]
          },
          "colorway": [
           "#636efa",
           "#EF553B",
           "#00cc96",
           "#ab63fa",
           "#FFA15A",
           "#19d3f3",
           "#FF6692",
           "#B6E880",
           "#FF97FF",
           "#FECB52"
          ],
          "font": {
           "color": "#2a3f5f"
          },
          "geo": {
           "bgcolor": "white",
           "lakecolor": "white",
           "landcolor": "#E5ECF6",
           "showlakes": true,
           "showland": true,
           "subunitcolor": "white"
          },
          "hoverlabel": {
           "align": "left"
          },
          "hovermode": "closest",
          "mapbox": {
           "style": "light"
          },
          "paper_bgcolor": "white",
          "plot_bgcolor": "#E5ECF6",
          "polar": {
           "angularaxis": {
            "gridcolor": "white",
            "linecolor": "white",
            "ticks": ""
           },
           "bgcolor": "#E5ECF6",
           "radialaxis": {
            "gridcolor": "white",
            "linecolor": "white",
            "ticks": ""
           }
          },
          "scene": {
           "xaxis": {
            "backgroundcolor": "#E5ECF6",
            "gridcolor": "white",
            "gridwidth": 2,
            "linecolor": "white",
            "showbackground": true,
            "ticks": "",
            "zerolinecolor": "white"
           },
           "yaxis": {
            "backgroundcolor": "#E5ECF6",
            "gridcolor": "white",
            "gridwidth": 2,
            "linecolor": "white",
            "showbackground": true,
            "ticks": "",
            "zerolinecolor": "white"
           },
           "zaxis": {
            "backgroundcolor": "#E5ECF6",
            "gridcolor": "white",
            "gridwidth": 2,
            "linecolor": "white",
            "showbackground": true,
            "ticks": "",
            "zerolinecolor": "white"
           }
          },
          "shapedefaults": {
           "line": {
            "color": "#2a3f5f"
           }
          },
          "ternary": {
           "aaxis": {
            "gridcolor": "white",
            "linecolor": "white",
            "ticks": ""
           },
           "baxis": {
            "gridcolor": "white",
            "linecolor": "white",
            "ticks": ""
           },
           "bgcolor": "#E5ECF6",
           "caxis": {
            "gridcolor": "white",
            "linecolor": "white",
            "ticks": ""
           }
          },
          "title": {
           "x": 0.05
          },
          "xaxis": {
           "automargin": true,
           "gridcolor": "white",
           "linecolor": "white",
           "ticks": "",
           "title": {
            "standoff": 15
           },
           "zerolinecolor": "white",
           "zerolinewidth": 2
          },
          "yaxis": {
           "automargin": true,
           "gridcolor": "white",
           "linecolor": "white",
           "ticks": "",
           "title": {
            "standoff": 15
           },
           "zerolinecolor": "white",
           "zerolinewidth": 2
          }
         }
        },
        "title": {
         "text": "Buổi Distribution"
        },
        "xaxis": {
         "anchor": "y",
         "categoryarray": [
          "Món nước",
          "Món lạnh",
          "Món Tráng miệng",
          "đồ ăn vặt",
          "Món cho trẻ em"
         ],
         "categoryorder": "array",
         "domain": [
          0,
          1
         ],
         "title": {
          "text": "Loại đồ ăn"
         }
        },
        "yaxis": {
         "anchor": "x",
         "domain": [
          0,
          1
         ],
         "title": {
          "text": "Count"
         }
        }
       }
      }
     },
     "metadata": {},
     "output_type": "display_data"
    }
   ],
   "source": [
    "fig = px.histogram(data, x='Loại đồ ăn', color='Loại đồ ăn', title='Buổi Distribution')\n",
    "fig.update_layout(xaxis_title='Loại đồ ăn', yaxis_title='Count')\n",
    "fig.show()"
   ]
  },
  {
   "cell_type": "code",
   "execution_count": 38,
   "metadata": {},
   "outputs": [],
   "source": [
    "def preprocessing(data):\n",
    "    data['Buổi'] = data['Buổi'].apply(lambda x: 0 if x == 'Sáng' \n",
    "                                                else (1 if x == 'Trưa'\n",
    "                                                else (2 if x == 'Chiều'\n",
    "                                                else (3 if x == 'Tối'\n",
    "                                                else 4))))\n",
    "    data['Cảm xúc'] = data['Cảm xúc'].apply(lambda x: 0 if x == 'Vui'\n",
    "                                                else (1 if x == 'Buồn'\n",
    "                                                else (2 if x == 'Khó chịu'\n",
    "                                                else 3)))\n",
    "    data['Thời tiết'] = data['Thời tiết'].apply(lambda x: 0 if x == 'Lạnh' or x == 'Hơi lạnh' or x == 'Qúa lạnh'\n",
    "                                                else (1 if x == 'Nóng' or x == 'Hơi nóng' or x == 'Quá nóng'\n",
    "                                                else 2))\n",
    "    data['Phong cách ẩm thực'] = data['Phong cách ẩm thực'].apply(lambda x: 0 if x == 'Trung quốc' \n",
    "                                                else (1 if x == 'hàn quốc'\n",
    "                                                else (2 if x == 'Món cho trẻ em'\n",
    "                                                else (3 if x == 'đồ ăn vặt'\n",
    "                                                else (4 if x == 'miền nam'\n",
    "                                                else 5)))))\n",
    "    data['Loại hình quán ăn'] = data['Loại hình quán ăn'].apply(lambda x: 0 if x == 'Quán Vỉa Hè'\n",
    "                                                else (1 if x == 'Nhà hàng bình dân'\n",
    "                                                else 2))\n",
    "    data['Chế độ ăn'] = data['Chế độ ăn'].apply(lambda x: 0 if x == 'ăn kiêng'\n",
    "                                                else (1 if x == 'ăn chay'\n",
    "                                                else 2))\n",
    "    data['Đặc Biệt'] = data['Đặc Biệt'].apply(lambda x: 0 if x == 'có chỗ đỗ xe'\n",
    "                                                else (1 if x == 'có phòng trông trẻ'\n",
    "                                                else (2 if x == 'có phòng hút thuốc'\n",
    "                                                else (3 if x == 'Đang giảm giá'\n",
    "                                                else (4 if x == 'có không gian ngoài trời'\n",
    "                                                else (5 if x == 'wifi miễn phí'\n",
    "                                                else 6))))))\n",
    "    data['Độ phổ biến'] = data['Độ phổ biến'].apply(lambda x: 0 if x == 'hot trend'\n",
    "                                                else (1 if x == 'đặc sản'\n",
    "                                                else (2 if x == 'bestseller'\n",
    "                                                else 3)))\n",
    "    \n",
    "    data['Loại đồ ăn'] = data['Loại đồ ăn'].apply(lambda x: 0 if x == 'Món nước'\n",
    "                                                else (1 if x == 'Món lạnh'\n",
    "                                                else (2 if x == 'Món Tráng miệng'\n",
    "                                                else (3 if x == 'đồ ăn vặt'\n",
    "                                                else 4))))\n",
    "\n",
    "preprocessing(data)\n"
   ]
  },
  {
   "cell_type": "code",
   "execution_count": 39,
   "metadata": {},
   "outputs": [],
   "source": [
    "X = data.iloc[:, :-1].values\n",
    "y = data.iloc[:, -1].values"
   ]
  },
  {
   "cell_type": "code",
   "execution_count": 40,
   "metadata": {},
   "outputs": [
    {
     "data": {
      "text/plain": [
       "array([[ 0,  0, 10, ...,  2,  0,  0],\n",
       "       [ 1,  3, 21, ...,  1,  1,  1],\n",
       "       [ 2,  2, 12, ...,  0,  2,  2],\n",
       "       ...,\n",
       "       [ 4,  1, 11, ...,  0,  3,  3],\n",
       "       [ 2,  2, 16, ...,  1,  5,  0],\n",
       "       [ 1,  1, 16, ...,  0,  5,  2]], dtype=int64)"
      ]
     },
     "execution_count": 40,
     "metadata": {},
     "output_type": "execute_result"
    }
   ],
   "source": [
    "X"
   ]
  },
  {
   "cell_type": "code",
   "execution_count": 41,
   "metadata": {},
   "outputs": [
    {
     "data": {
      "text/plain": [
       "array([0, 1, 2, 2, 1, 1, 3, 2, 0, 3, 2, 3, 0, 3, 0, 3, 1, 1, 4, 1, 2, 1,\n",
       "       2, 1, 3, 4, 2, 2, 1, 3, 4, 0, 0, 1, 2, 2, 3, 3, 3, 3, 2, 4, 2, 4,\n",
       "       1, 1, 1, 3, 4, 0, 4, 4, 2, 2, 4, 3, 2, 3, 4, 3, 4, 0, 3, 1, 0, 4,\n",
       "       2, 0, 1, 1, 2, 2, 3, 3, 3, 3, 3, 0, 1, 3, 1, 0, 0, 4, 0, 4, 1, 1,\n",
       "       0, 4, 4, 1, 4, 4, 0, 2, 4, 3, 1, 1, 2, 4, 4, 0, 2, 4, 3, 4, 3, 1,\n",
       "       0, 3, 3, 1, 0, 4, 2, 0, 1, 4, 4, 4, 3, 2, 3, 0, 1, 4, 3, 0, 0, 4,\n",
       "       0, 0, 4, 3, 4, 0, 3, 0, 3, 4, 2, 2, 4, 0, 4, 0, 4, 3, 1, 4, 4, 2,\n",
       "       0, 3, 0, 2, 3, 0, 1, 1, 1, 2, 1, 2, 3, 2, 3, 1, 0, 3, 0, 1, 4, 2,\n",
       "       4, 3, 3, 2, 2, 1, 0, 3, 1, 2, 3, 1, 4, 1, 1, 1, 1, 2, 0, 3, 4, 1,\n",
       "       2, 2, 3, 4, 2, 4, 3, 4, 1, 2, 1, 2, 4, 0, 1, 1, 4, 0, 2, 2, 3, 2,\n",
       "       4, 2, 2, 0, 1, 1, 2, 3, 0, 2, 2, 0, 2, 4, 2, 4, 4, 4, 4, 1, 3, 2,\n",
       "       2, 2, 1, 1, 1, 0, 0, 1, 2, 3, 1, 4, 4, 3, 4, 4, 1, 2, 2, 4, 3, 1,\n",
       "       4, 4, 3, 0, 1, 4, 0, 3, 2, 2, 2, 1, 3, 4, 1, 4, 0, 4, 0, 4, 0, 4,\n",
       "       4, 2, 0, 1, 1, 4, 2, 4, 2, 2, 2, 4, 1, 2, 0, 3, 0, 0, 1, 4, 0, 1,\n",
       "       1, 4, 3, 4, 1, 2, 2, 0, 3, 3, 3, 2, 0, 0, 1, 3, 4, 4, 3, 2, 3, 2,\n",
       "       1, 2, 2, 2, 3, 2, 1, 2, 0, 3, 0, 3, 0, 0, 3, 1, 3, 3, 2, 2, 4, 1,\n",
       "       4, 1, 2, 0, 0, 1, 4, 0, 1, 0, 4, 3, 1, 1, 0, 4, 0, 3, 0, 4, 0, 0,\n",
       "       4, 3, 3, 0, 4, 1, 3, 0, 2, 1, 3, 0, 1, 1, 3, 2, 3, 0, 1, 0, 1, 1,\n",
       "       3, 2, 1, 4, 1, 0, 2, 3, 0, 0, 4, 3, 4, 4, 3, 4, 2, 1, 3, 3, 1, 1,\n",
       "       3, 1, 3, 0, 3, 0, 1, 1, 4, 4, 4, 2, 3, 1, 4, 3, 3, 1, 1, 0, 3, 2,\n",
       "       0, 3, 3, 4, 3, 1, 0, 4, 1, 0, 4, 0, 3, 1, 0, 3, 4, 0, 2, 1, 3, 1,\n",
       "       3, 4, 1, 2, 4, 1, 1, 1, 3, 1, 3, 3, 4, 0, 2, 2, 4, 0, 3, 4, 1, 1,\n",
       "       1, 2, 3, 4, 3, 0, 1, 3, 4, 3, 0, 1, 4, 3, 3, 3, 0, 2, 0, 1, 0, 3,\n",
       "       1, 0, 0, 4, 0, 1, 0, 2, 2, 1, 3, 3, 2, 2, 1, 1, 4, 0, 2, 0, 2, 3,\n",
       "       2, 3, 1, 1, 4, 0, 4, 3, 1, 3, 1, 2, 1, 4, 1, 1, 0, 0, 4, 3, 3, 2,\n",
       "       1, 3, 4, 4, 0, 0, 4, 2, 2, 3, 3, 4, 3, 1, 0, 0, 3, 0, 1, 4, 0, 0,\n",
       "       1, 3, 2, 4, 0, 0, 1, 4, 3, 4, 4, 4, 2, 3, 0, 1, 2, 0, 4, 3, 1, 0,\n",
       "       3, 0, 0, 4, 1, 4, 3, 2, 1, 4, 0, 3, 4, 0, 2, 0, 0, 1, 1, 1, 4, 3,\n",
       "       1, 0, 4, 0, 2, 2, 2, 3, 4, 3, 2, 4, 2, 4, 2, 0, 1, 1, 1, 4, 1, 4,\n",
       "       2, 4, 3, 1, 2, 3, 4, 2, 2, 2, 2, 0, 2, 4, 4, 1, 2, 2, 0, 4, 3, 3,\n",
       "       0, 2, 0, 0, 3, 4, 3, 3, 0, 4, 0, 0, 3, 3, 4, 4, 1, 4, 2, 1, 0, 0,\n",
       "       0, 4, 2, 0, 0, 1, 3, 4, 2, 2, 1, 4, 1, 3, 2, 1, 4, 0, 2, 0, 4, 0,\n",
       "       4, 3, 0, 0, 0, 0, 0, 3, 3, 0, 1, 3, 2, 4, 1, 2, 1, 2, 0, 4, 3, 1,\n",
       "       2, 3, 2, 3, 0, 1, 1, 1, 3, 4, 3, 4, 1, 3, 4, 4, 0, 3, 3, 4, 4, 1,\n",
       "       0, 2, 0, 2, 3, 3, 2, 1, 2, 2, 2, 4, 2, 2, 0, 1, 3, 2, 1, 0, 0, 2,\n",
       "       2, 0, 3, 0, 0, 1, 4, 4, 1, 3, 0, 1, 3, 1, 4, 2, 1, 0, 0, 1, 2, 4,\n",
       "       3, 1, 0, 0, 2, 4, 1, 4, 0, 3, 2, 0, 3, 3, 4, 3, 0, 1, 4, 2, 2, 4,\n",
       "       4, 2, 2, 4, 4, 2, 1, 2, 4, 3, 3, 4, 3, 3, 3, 0, 3, 0, 2, 2, 3, 4,\n",
       "       4, 4, 4, 4, 4, 3, 0, 4, 3, 2, 3, 0, 1, 0, 1, 4, 4, 4, 0, 0, 1, 0,\n",
       "       4, 0, 4, 1, 0, 4, 4, 3, 4, 1, 4, 3, 3, 3, 1, 3, 4, 3, 0, 2, 1, 2,\n",
       "       3, 2, 2, 2, 2, 4, 4, 2, 2, 3, 0, 1, 1, 4, 1, 0, 1, 1, 4, 0, 1, 0,\n",
       "       3, 1, 3, 1, 0, 1, 3, 4, 4, 3, 4, 1, 0, 0, 1, 0, 1, 0, 1, 2, 1, 1,\n",
       "       1, 3, 4, 2, 2, 3, 2, 3, 0, 1, 2, 0, 0, 4, 2, 0, 1, 2, 2, 3, 1, 0,\n",
       "       3, 1, 4, 2, 4, 0, 4, 2, 0, 3, 4, 2, 3, 3, 0, 2, 2, 0, 4, 2, 2, 0,\n",
       "       3, 0, 1, 3, 3, 2, 0, 1, 2, 1, 1, 1, 3, 0, 0, 0, 1, 2, 2, 1, 3, 3,\n",
       "       3, 1, 3, 0, 2, 3, 4], dtype=int64)"
      ]
     },
     "execution_count": 41,
     "metadata": {},
     "output_type": "execute_result"
    }
   ],
   "source": [
    "y"
   ]
  },
  {
   "cell_type": "code",
   "execution_count": 42,
   "metadata": {},
   "outputs": [],
   "source": [
    "# from sklearn.preprocessing import LabelEncoder\n",
    "\n",
    "# le = LabelEncoder()\n",
    "# y = le.fit_transform(y)"
   ]
  },
  {
   "cell_type": "code",
   "execution_count": 43,
   "metadata": {},
   "outputs": [
    {
     "data": {
      "text/plain": [
       "(997,)"
      ]
     },
     "execution_count": 43,
     "metadata": {},
     "output_type": "execute_result"
    }
   ],
   "source": [
    "y.shape"
   ]
  },
  {
   "attachments": {},
   "cell_type": "markdown",
   "metadata": {},
   "source": [
    "# Spliting data"
   ]
  },
  {
   "cell_type": "code",
   "execution_count": 44,
   "metadata": {},
   "outputs": [],
   "source": [
    "from sklearn.model_selection import train_test_split\n",
    "\n",
    "X_train, X_test, y_train, y_test = train_test_split(X, y, test_size=0.2, random_state=42)"
   ]
  },
  {
   "cell_type": "code",
   "execution_count": 45,
   "metadata": {},
   "outputs": [
    {
     "data": {
      "text/plain": [
       "array([[ 3,  1, 10, ...,  1,  2,  2],\n",
       "       [ 0,  2, 14, ...,  2,  6,  1],\n",
       "       [ 1,  3, 34, ...,  0,  5,  0],\n",
       "       ...,\n",
       "       [ 3,  1, 40, ...,  1,  4,  2],\n",
       "       [ 2,  2, 21, ...,  2,  0,  0],\n",
       "       [ 0,  2, 36, ...,  0,  2,  1]], dtype=int64)"
      ]
     },
     "execution_count": 45,
     "metadata": {},
     "output_type": "execute_result"
    }
   ],
   "source": [
    "X_train"
   ]
  },
  {
   "cell_type": "code",
   "execution_count": 46,
   "metadata": {},
   "outputs": [],
   "source": [
    "from sklearn.tree import DecisionTreeClassifier\n",
    "\n",
    "d_tree_model = DecisionTreeClassifier()\n",
    "\n",
    "hist = d_tree_model.fit(X_train, y_train)"
   ]
  },
  {
   "cell_type": "code",
   "execution_count": 47,
   "metadata": {},
   "outputs": [],
   "source": [
    "y_pred = d_tree_model.predict(X_test)"
   ]
  },
  {
   "cell_type": "code",
   "execution_count": 48,
   "metadata": {},
   "outputs": [
    {
     "name": "stdout",
     "output_type": "stream",
     "text": [
      "Confussion Matrix: \n",
      " [[10  6  9 12  6]\n",
      " [ 3  6  9 16  4]\n",
      " [ 7  7  5  9 10]\n",
      " [ 7 10  8  9  5]\n",
      " [12 13  8  6  3]] \n",
      "\n",
      "Classification report according to Test prediction: \n",
      "               precision    recall  f1-score   support\n",
      "\n",
      "           0       0.26      0.23      0.24        43\n",
      "           1       0.14      0.16      0.15        38\n",
      "           2       0.13      0.13      0.13        38\n",
      "           3       0.17      0.23      0.20        39\n",
      "           4       0.11      0.07      0.09        42\n",
      "\n",
      "    accuracy                           0.17       200\n",
      "   macro avg       0.16      0.16      0.16       200\n",
      "weighted avg       0.16      0.17      0.16       200\n",
      "\n",
      "Accuracy of Decision Tree: 16.50 %\n"
     ]
    }
   ],
   "source": [
    "from sklearn.metrics import accuracy_score, classification_report, confusion_matrix\n",
    "\n",
    "\n",
    "print(\"Confussion Matrix: \\n\", confusion_matrix(y_test, y_pred),\"\\n\")\n",
    "\n",
    "print(\"Classification report according to Test prediction: \\n\", classification_report(y_test, y_pred))\n",
    "\n",
    "print (\"Accuracy of Decision Tree: %.2f %%\" %(100*accuracy_score(y_test, y_pred)))"
   ]
  },
  {
   "cell_type": "code",
   "execution_count": 49,
   "metadata": {},
   "outputs": [],
   "source": [
    "import pickle\n",
    "file_name = 'embedding_model.pickle'\n",
    "pickle.dump(d_tree_model, open(file_name, \"wb\"))\n"
   ]
  },
  {
   "cell_type": "code",
   "execution_count": 51,
   "metadata": {},
   "outputs": [
    {
     "data": {
      "text/plain": [
       "array([[ 1,  2, 20,  4,  1,  5,  0,  0,  1,  3]], dtype=int64)"
      ]
     },
     "execution_count": 51,
     "metadata": {},
     "output_type": "execute_result"
    }
   ],
   "source": [
    "X_test[:1]"
   ]
  },
  {
   "cell_type": "code",
   "execution_count": 54,
   "metadata": {},
   "outputs": [
    {
     "data": {
      "text/plain": [
       "'quá vui '"
      ]
     },
     "execution_count": 54,
     "metadata": {},
     "output_type": "execute_result"
    }
   ],
   "source": [
    "nam = 'Quá Vui '\n",
    "nam.lower()"
   ]
  }
 ],
 "metadata": {
  "kernelspec": {
   "display_name": "Python 3",
   "language": "python",
   "name": "python3"
  },
  "language_info": {
   "codemirror_mode": {
    "name": "ipython",
    "version": 3
   },
   "file_extension": ".py",
   "mimetype": "text/x-python",
   "name": "python",
   "nbconvert_exporter": "python",
   "pygments_lexer": "ipython3",
   "version": "3.11.3"
  },
  "orig_nbformat": 4
 },
 "nbformat": 4,
 "nbformat_minor": 2
}
