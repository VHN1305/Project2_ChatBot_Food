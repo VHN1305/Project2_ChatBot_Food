{
 "cells": [
  {
   "cell_type": "code",
   "execution_count": 53,
   "metadata": {},
   "outputs": [],
   "source": [
    "import pandas as pd\n",
    "import numpy as np\n",
    "import matplotlib.pyplot as plt"
   ]
  },
  {
   "cell_type": "code",
   "execution_count": 54,
   "metadata": {},
   "outputs": [],
   "source": [
    "data = pd.read_csv('Dataset_food.csv')\n",
    "data.drop(columns=['Unnamed: 11','Unnamed: 12','Unnamed: 13','Unnamed: 14','Unnamed: 15'], inplace=True)"
   ]
  },
  {
   "cell_type": "code",
   "execution_count": 55,
   "metadata": {},
   "outputs": [
    {
     "data": {
      "text/html": [
       "<div>\n",
       "<style scoped>\n",
       "    .dataframe tbody tr th:only-of-type {\n",
       "        vertical-align: middle;\n",
       "    }\n",
       "\n",
       "    .dataframe tbody tr th {\n",
       "        vertical-align: top;\n",
       "    }\n",
       "\n",
       "    .dataframe thead th {\n",
       "        text-align: right;\n",
       "    }\n",
       "</style>\n",
       "<table border=\"1\" class=\"dataframe\">\n",
       "  <thead>\n",
       "    <tr style=\"text-align: right;\">\n",
       "      <th></th>\n",
       "      <th>Buổi</th>\n",
       "      <th>Cảm xúc</th>\n",
       "      <th>Độ tuổi</th>\n",
       "      <th>Số lượng người</th>\n",
       "      <th>Thời tiết</th>\n",
       "      <th>Phong cách ẩm thực</th>\n",
       "      <th>Loại hình quán ăn</th>\n",
       "      <th>Chế độ ăn</th>\n",
       "      <th>Đặc Biệt</th>\n",
       "      <th>Độ phổ biến</th>\n",
       "      <th>Loại đồ ăn</th>\n",
       "    </tr>\n",
       "  </thead>\n",
       "  <tbody>\n",
       "    <tr>\n",
       "      <th>0</th>\n",
       "      <td>Sáng</td>\n",
       "      <td>Vui</td>\n",
       "      <td>10</td>\n",
       "      <td>5</td>\n",
       "      <td>Lạnh</td>\n",
       "      <td>Trung quốc</td>\n",
       "      <td>Nhà Hàng Sang Trọng</td>\n",
       "      <td>ăn thoải mái</td>\n",
       "      <td>có chỗ đỗ xe</td>\n",
       "      <td>hot trend</td>\n",
       "      <td>Món nước</td>\n",
       "    </tr>\n",
       "    <tr>\n",
       "      <th>1</th>\n",
       "      <td>Trưa</td>\n",
       "      <td>Bình thường</td>\n",
       "      <td>21</td>\n",
       "      <td>3</td>\n",
       "      <td>Nóng</td>\n",
       "      <td>Việt nam</td>\n",
       "      <td>Quán Vỉa Hè</td>\n",
       "      <td>ăn chay</td>\n",
       "      <td>có phòng trông trẻ</td>\n",
       "      <td>đặc sản</td>\n",
       "      <td>Món lạnh</td>\n",
       "    </tr>\n",
       "    <tr>\n",
       "      <th>2</th>\n",
       "      <td>Chiều</td>\n",
       "      <td>Khó chịu</td>\n",
       "      <td>12</td>\n",
       "      <td>3</td>\n",
       "      <td>Hơi lạnh</td>\n",
       "      <td>miền nam</td>\n",
       "      <td>Nhà Hàng bình dân</td>\n",
       "      <td>ăn kiêng</td>\n",
       "      <td>có phòng hút thuốc</td>\n",
       "      <td>bestseller</td>\n",
       "      <td>Món Tráng miệng</td>\n",
       "    </tr>\n",
       "    <tr>\n",
       "      <th>3</th>\n",
       "      <td>Tối</td>\n",
       "      <td>Buồn</td>\n",
       "      <td>15</td>\n",
       "      <td>5</td>\n",
       "      <td>Hơi Nóng</td>\n",
       "      <td>miền bắc</td>\n",
       "      <td>Quán Vỉa Hè</td>\n",
       "      <td>ăn chay</td>\n",
       "      <td>wifi miễn phí</td>\n",
       "      <td>hot trend</td>\n",
       "      <td>Món cho trẻ em</td>\n",
       "    </tr>\n",
       "    <tr>\n",
       "      <th>4</th>\n",
       "      <td>Đêm</td>\n",
       "      <td>Vui</td>\n",
       "      <td>19</td>\n",
       "      <td>2</td>\n",
       "      <td>Quá lạnh</td>\n",
       "      <td>tây</td>\n",
       "      <td>Nhà Hàng Sang Trọng</td>\n",
       "      <td>ăn chay</td>\n",
       "      <td>Có giao hàng free</td>\n",
       "      <td>đặc sản</td>\n",
       "      <td>đồ ăn nhanh</td>\n",
       "    </tr>\n",
       "    <tr>\n",
       "      <th>...</th>\n",
       "      <td>...</td>\n",
       "      <td>...</td>\n",
       "      <td>...</td>\n",
       "      <td>...</td>\n",
       "      <td>...</td>\n",
       "      <td>...</td>\n",
       "      <td>...</td>\n",
       "      <td>...</td>\n",
       "      <td>...</td>\n",
       "      <td>...</td>\n",
       "      <td>...</td>\n",
       "    </tr>\n",
       "    <tr>\n",
       "      <th>994</th>\n",
       "      <td>Chiều</td>\n",
       "      <td>Buồn</td>\n",
       "      <td>35</td>\n",
       "      <td>5</td>\n",
       "      <td>Nóng</td>\n",
       "      <td>Món cho trẻ em</td>\n",
       "      <td>Nhà hàng bình dân</td>\n",
       "      <td>ăn kiêng</td>\n",
       "      <td>có phòng trông trẻ</td>\n",
       "      <td>đặc sản</td>\n",
       "      <td>đồ ăn vặt</td>\n",
       "    </tr>\n",
       "    <tr>\n",
       "      <th>995</th>\n",
       "      <td>Trưa</td>\n",
       "      <td>Khó chịu</td>\n",
       "      <td>15</td>\n",
       "      <td>2</td>\n",
       "      <td>Qúa lạnh</td>\n",
       "      <td>đồ ăn vặt</td>\n",
       "      <td>Quán Vỉa Hè</td>\n",
       "      <td>ăn chay</td>\n",
       "      <td>wifi miễn phí</td>\n",
       "      <td>bestseller</td>\n",
       "      <td>Món nước</td>\n",
       "    </tr>\n",
       "    <tr>\n",
       "      <th>996</th>\n",
       "      <td>Đêm</td>\n",
       "      <td>Buồn</td>\n",
       "      <td>11</td>\n",
       "      <td>1</td>\n",
       "      <td>Mát</td>\n",
       "      <td>Việt nam</td>\n",
       "      <td>Nhà hàng bình dân</td>\n",
       "      <td>ăn kiêng</td>\n",
       "      <td>Đang giảm giá</td>\n",
       "      <td>bình thường</td>\n",
       "      <td>Món Tráng miệng</td>\n",
       "    </tr>\n",
       "    <tr>\n",
       "      <th>997</th>\n",
       "      <td>Chiều</td>\n",
       "      <td>Khó chịu</td>\n",
       "      <td>16</td>\n",
       "      <td>5</td>\n",
       "      <td>Nóng</td>\n",
       "      <td>Món cho trẻ em</td>\n",
       "      <td>Nhà Hàng Sang Trọng</td>\n",
       "      <td>ăn chay</td>\n",
       "      <td>wifi miễn phí</td>\n",
       "      <td>hot trend</td>\n",
       "      <td>đồ ăn vặt</td>\n",
       "    </tr>\n",
       "    <tr>\n",
       "      <th>998</th>\n",
       "      <td>Trưa</td>\n",
       "      <td>Buồn</td>\n",
       "      <td>16</td>\n",
       "      <td>2</td>\n",
       "      <td>Quá Nóng</td>\n",
       "      <td>miền nam</td>\n",
       "      <td>Nhà Hàng Sang Trọng</td>\n",
       "      <td>ăn kiêng</td>\n",
       "      <td>wifi miễn phí</td>\n",
       "      <td>bestseller</td>\n",
       "      <td>Món cho trẻ em</td>\n",
       "    </tr>\n",
       "  </tbody>\n",
       "</table>\n",
       "<p>999 rows × 11 columns</p>\n",
       "</div>"
      ],
      "text/plain": [
       "      Buổi      Cảm xúc  Độ tuổi  Số lượng người Thời tiết Phong cách ẩm thực   \n",
       "0     Sáng          Vui       10               5      Lạnh         Trung quốc  \\\n",
       "1     Trưa  Bình thường       21               3      Nóng           Việt nam   \n",
       "2    Chiều     Khó chịu       12               3  Hơi lạnh           miền nam   \n",
       "3      Tối         Buồn       15               5  Hơi Nóng           miền bắc   \n",
       "4      Đêm          Vui       19               2  Quá lạnh               tây    \n",
       "..     ...          ...      ...             ...       ...                ...   \n",
       "994  Chiều         Buồn       35               5      Nóng     Món cho trẻ em   \n",
       "995   Trưa     Khó chịu       15               2  Qúa lạnh          đồ ăn vặt   \n",
       "996    Đêm         Buồn       11               1       Mát           Việt nam   \n",
       "997  Chiều     Khó chịu       16               5      Nóng     Món cho trẻ em   \n",
       "998   Trưa         Buồn       16               2  Quá Nóng           miền nam   \n",
       "\n",
       "       Loại hình quán ăn     Chế độ ăn            Đặc Biệt  Độ phổ biến   \n",
       "0    Nhà Hàng Sang Trọng  ăn thoải mái        có chỗ đỗ xe    hot trend  \\\n",
       "1            Quán Vỉa Hè       ăn chay  có phòng trông trẻ      đặc sản   \n",
       "2      Nhà Hàng bình dân      ăn kiêng  có phòng hút thuốc   bestseller   \n",
       "3            Quán Vỉa Hè       ăn chay       wifi miễn phí    hot trend   \n",
       "4    Nhà Hàng Sang Trọng       ăn chay   Có giao hàng free      đặc sản   \n",
       "..                   ...           ...                 ...          ...   \n",
       "994    Nhà hàng bình dân      ăn kiêng  có phòng trông trẻ      đặc sản   \n",
       "995          Quán Vỉa Hè       ăn chay       wifi miễn phí   bestseller   \n",
       "996    Nhà hàng bình dân      ăn kiêng       Đang giảm giá  bình thường   \n",
       "997  Nhà Hàng Sang Trọng       ăn chay       wifi miễn phí    hot trend   \n",
       "998  Nhà Hàng Sang Trọng      ăn kiêng       wifi miễn phí   bestseller   \n",
       "\n",
       "          Loại đồ ăn  \n",
       "0           Món nước  \n",
       "1           Món lạnh  \n",
       "2    Món Tráng miệng  \n",
       "3     Món cho trẻ em  \n",
       "4        đồ ăn nhanh  \n",
       "..               ...  \n",
       "994        đồ ăn vặt  \n",
       "995         Món nước  \n",
       "996  Món Tráng miệng  \n",
       "997        đồ ăn vặt  \n",
       "998   Món cho trẻ em  \n",
       "\n",
       "[999 rows x 11 columns]"
      ]
     },
     "execution_count": 55,
     "metadata": {},
     "output_type": "execute_result"
    }
   ],
   "source": [
    "data"
   ]
  },
  {
   "cell_type": "code",
   "execution_count": 56,
   "metadata": {},
   "outputs": [],
   "source": [
    "column = data.columns"
   ]
  },
  {
   "cell_type": "code",
   "execution_count": 57,
   "metadata": {},
   "outputs": [
    {
     "name": "stdout",
     "output_type": "stream",
     "text": [
      "<class 'pandas.core.frame.DataFrame'>\n",
      "RangeIndex: 999 entries, 0 to 998\n",
      "Data columns (total 11 columns):\n",
      " #   Column              Non-Null Count  Dtype \n",
      "---  ------              --------------  ----- \n",
      " 0   Buổi                999 non-null    object\n",
      " 1   Cảm xúc             999 non-null    object\n",
      " 2   Độ tuổi             999 non-null    int64 \n",
      " 3   Số lượng người      999 non-null    int64 \n",
      " 4   Thời tiết           999 non-null    object\n",
      " 5   Phong cách ẩm thực  999 non-null    object\n",
      " 6   Loại hình quán ăn   999 non-null    object\n",
      " 7   Chế độ ăn           999 non-null    object\n",
      " 8   Đặc Biệt            999 non-null    object\n",
      " 9   Độ phổ biến         999 non-null    object\n",
      " 10  Loại đồ ăn          999 non-null    object\n",
      "dtypes: int64(2), object(9)\n",
      "memory usage: 86.0+ KB\n"
     ]
    }
   ],
   "source": [
    "data.info()"
   ]
  },
  {
   "cell_type": "code",
   "execution_count": 58,
   "metadata": {},
   "outputs": [
    {
     "data": {
      "text/plain": [
       "array([220, 208, 204, 190, 177], dtype=int64)"
      ]
     },
     "execution_count": 58,
     "metadata": {},
     "output_type": "execute_result"
    }
   ],
   "source": [
    "b = data['Buổi']\n",
    "# b_category = b.cat.categories.to_list()\n",
    "b_category_count = b.value_counts(sort=False).to_numpy()\n",
    "b_category_count"
   ]
  },
  {
   "cell_type": "code",
   "execution_count": 59,
   "metadata": {},
   "outputs": [
    {
     "data": {
      "application/vnd.plotly.v1+json": {
       "config": {
        "plotlyServerURL": "https://plot.ly"
       },
       "data": [
        {
         "alignmentgroup": "True",
         "bingroup": "x",
         "hovertemplate": "Buổi=%{x}<br>count=%{y}<extra></extra>",
         "legendgroup": "Sáng",
         "marker": {
          "color": "#636efa",
          "pattern": {
           "shape": ""
          }
         },
         "name": "Sáng",
         "offsetgroup": "Sáng",
         "orientation": "v",
         "showlegend": true,
         "type": "histogram",
         "x": [
          "Sáng",
          "Sáng",
          "Sáng",
          "Sáng",
          "Sáng",
          "Sáng",
          "Sáng",
          "Sáng",
          "Sáng",
          "Sáng",
          "Sáng",
          "Sáng",
          "Sáng",
          "Sáng",
          "Sáng",
          "Sáng",
          "Sáng",
          "Sáng",
          "Sáng",
          "Sáng",
          "Sáng",
          "Sáng",
          "Sáng",
          "Sáng",
          "Sáng",
          "Sáng",
          "Sáng",
          "Sáng",
          "Sáng",
          "Sáng",
          "Sáng",
          "Sáng",
          "Sáng",
          "Sáng",
          "Sáng",
          "Sáng",
          "Sáng",
          "Sáng",
          "Sáng",
          "Sáng",
          "Sáng",
          "Sáng",
          "Sáng",
          "Sáng",
          "Sáng",
          "Sáng",
          "Sáng",
          "Sáng",
          "Sáng",
          "Sáng",
          "Sáng",
          "Sáng",
          "Sáng",
          "Sáng",
          "Sáng",
          "Sáng",
          "Sáng",
          "Sáng",
          "Sáng",
          "Sáng",
          "Sáng",
          "Sáng",
          "Sáng",
          "Sáng",
          "Sáng",
          "Sáng",
          "Sáng",
          "Sáng",
          "Sáng",
          "Sáng",
          "Sáng",
          "Sáng",
          "Sáng",
          "Sáng",
          "Sáng",
          "Sáng",
          "Sáng",
          "Sáng",
          "Sáng",
          "Sáng",
          "Sáng",
          "Sáng",
          "Sáng",
          "Sáng",
          "Sáng",
          "Sáng",
          "Sáng",
          "Sáng",
          "Sáng",
          "Sáng",
          "Sáng",
          "Sáng",
          "Sáng",
          "Sáng",
          "Sáng",
          "Sáng",
          "Sáng",
          "Sáng",
          "Sáng",
          "Sáng",
          "Sáng",
          "Sáng",
          "Sáng",
          "Sáng",
          "Sáng",
          "Sáng",
          "Sáng",
          "Sáng",
          "Sáng",
          "Sáng",
          "Sáng",
          "Sáng",
          "Sáng",
          "Sáng",
          "Sáng",
          "Sáng",
          "Sáng",
          "Sáng",
          "Sáng",
          "Sáng",
          "Sáng",
          "Sáng",
          "Sáng",
          "Sáng",
          "Sáng",
          "Sáng",
          "Sáng",
          "Sáng",
          "Sáng",
          "Sáng",
          "Sáng",
          "Sáng",
          "Sáng",
          "Sáng",
          "Sáng",
          "Sáng",
          "Sáng",
          "Sáng",
          "Sáng",
          "Sáng",
          "Sáng",
          "Sáng",
          "Sáng",
          "Sáng",
          "Sáng",
          "Sáng",
          "Sáng",
          "Sáng",
          "Sáng",
          "Sáng",
          "Sáng",
          "Sáng",
          "Sáng",
          "Sáng",
          "Sáng",
          "Sáng",
          "Sáng",
          "Sáng",
          "Sáng",
          "Sáng",
          "Sáng",
          "Sáng",
          "Sáng",
          "Sáng",
          "Sáng",
          "Sáng",
          "Sáng",
          "Sáng",
          "Sáng",
          "Sáng",
          "Sáng",
          "Sáng",
          "Sáng",
          "Sáng",
          "Sáng",
          "Sáng",
          "Sáng",
          "Sáng",
          "Sáng",
          "Sáng",
          "Sáng",
          "Sáng",
          "Sáng",
          "Sáng",
          "Sáng",
          "Sáng",
          "Sáng",
          "Sáng",
          "Sáng",
          "Sáng",
          "Sáng",
          "Sáng",
          "Sáng",
          "Sáng",
          "Sáng",
          "Sáng",
          "Sáng",
          "Sáng",
          "Sáng",
          "Sáng",
          "Sáng",
          "Sáng",
          "Sáng",
          "Sáng",
          "Sáng",
          "Sáng",
          "Sáng",
          "Sáng",
          "Sáng",
          "Sáng",
          "Sáng",
          "Sáng",
          "Sáng",
          "Sáng",
          "Sáng",
          "Sáng",
          "Sáng",
          "Sáng",
          "Sáng",
          "Sáng"
         ],
         "xaxis": "x",
         "yaxis": "y"
        },
        {
         "alignmentgroup": "True",
         "bingroup": "x",
         "hovertemplate": "Buổi=%{x}<br>count=%{y}<extra></extra>",
         "legendgroup": "Trưa",
         "marker": {
          "color": "#EF553B",
          "pattern": {
           "shape": ""
          }
         },
         "name": "Trưa",
         "offsetgroup": "Trưa",
         "orientation": "v",
         "showlegend": true,
         "type": "histogram",
         "x": [
          "Trưa",
          "Trưa",
          "Trưa",
          "Trưa",
          "Trưa",
          "Trưa",
          "Trưa",
          "Trưa",
          "Trưa",
          "Trưa",
          "Trưa",
          "Trưa",
          "Trưa",
          "Trưa",
          "Trưa",
          "Trưa",
          "Trưa",
          "Trưa",
          "Trưa",
          "Trưa",
          "Trưa",
          "Trưa",
          "Trưa",
          "Trưa",
          "Trưa",
          "Trưa",
          "Trưa",
          "Trưa",
          "Trưa",
          "Trưa",
          "Trưa",
          "Trưa",
          "Trưa",
          "Trưa",
          "Trưa",
          "Trưa",
          "Trưa",
          "Trưa",
          "Trưa",
          "Trưa",
          "Trưa",
          "Trưa",
          "Trưa",
          "Trưa",
          "Trưa",
          "Trưa",
          "Trưa",
          "Trưa",
          "Trưa",
          "Trưa",
          "Trưa",
          "Trưa",
          "Trưa",
          "Trưa",
          "Trưa",
          "Trưa",
          "Trưa",
          "Trưa",
          "Trưa",
          "Trưa",
          "Trưa",
          "Trưa",
          "Trưa",
          "Trưa",
          "Trưa",
          "Trưa",
          "Trưa",
          "Trưa",
          "Trưa",
          "Trưa",
          "Trưa",
          "Trưa",
          "Trưa",
          "Trưa",
          "Trưa",
          "Trưa",
          "Trưa",
          "Trưa",
          "Trưa",
          "Trưa",
          "Trưa",
          "Trưa",
          "Trưa",
          "Trưa",
          "Trưa",
          "Trưa",
          "Trưa",
          "Trưa",
          "Trưa",
          "Trưa",
          "Trưa",
          "Trưa",
          "Trưa",
          "Trưa",
          "Trưa",
          "Trưa",
          "Trưa",
          "Trưa",
          "Trưa",
          "Trưa",
          "Trưa",
          "Trưa",
          "Trưa",
          "Trưa",
          "Trưa",
          "Trưa",
          "Trưa",
          "Trưa",
          "Trưa",
          "Trưa",
          "Trưa",
          "Trưa",
          "Trưa",
          "Trưa",
          "Trưa",
          "Trưa",
          "Trưa",
          "Trưa",
          "Trưa",
          "Trưa",
          "Trưa",
          "Trưa",
          "Trưa",
          "Trưa",
          "Trưa",
          "Trưa",
          "Trưa",
          "Trưa",
          "Trưa",
          "Trưa",
          "Trưa",
          "Trưa",
          "Trưa",
          "Trưa",
          "Trưa",
          "Trưa",
          "Trưa",
          "Trưa",
          "Trưa",
          "Trưa",
          "Trưa",
          "Trưa",
          "Trưa",
          "Trưa",
          "Trưa",
          "Trưa",
          "Trưa",
          "Trưa",
          "Trưa",
          "Trưa",
          "Trưa",
          "Trưa",
          "Trưa",
          "Trưa",
          "Trưa",
          "Trưa",
          "Trưa",
          "Trưa",
          "Trưa",
          "Trưa",
          "Trưa",
          "Trưa",
          "Trưa",
          "Trưa",
          "Trưa",
          "Trưa",
          "Trưa",
          "Trưa",
          "Trưa",
          "Trưa",
          "Trưa",
          "Trưa",
          "Trưa",
          "Trưa",
          "Trưa",
          "Trưa",
          "Trưa",
          "Trưa",
          "Trưa",
          "Trưa",
          "Trưa",
          "Trưa",
          "Trưa",
          "Trưa",
          "Trưa",
          "Trưa",
          "Trưa",
          "Trưa",
          "Trưa",
          "Trưa",
          "Trưa",
          "Trưa",
          "Trưa",
          "Trưa",
          "Trưa",
          "Trưa",
          "Trưa",
          "Trưa",
          "Trưa",
          "Trưa",
          "Trưa",
          "Trưa",
          "Trưa",
          "Trưa",
          "Trưa",
          "Trưa",
          "Trưa",
          "Trưa"
         ],
         "xaxis": "x",
         "yaxis": "y"
        },
        {
         "alignmentgroup": "True",
         "bingroup": "x",
         "hovertemplate": "Buổi=%{x}<br>count=%{y}<extra></extra>",
         "legendgroup": "Chiều",
         "marker": {
          "color": "#00cc96",
          "pattern": {
           "shape": ""
          }
         },
         "name": "Chiều",
         "offsetgroup": "Chiều",
         "orientation": "v",
         "showlegend": true,
         "type": "histogram",
         "x": [
          "Chiều",
          "Chiều",
          "Chiều",
          "Chiều",
          "Chiều",
          "Chiều",
          "Chiều",
          "Chiều",
          "Chiều",
          "Chiều",
          "Chiều",
          "Chiều",
          "Chiều",
          "Chiều",
          "Chiều",
          "Chiều",
          "Chiều",
          "Chiều",
          "Chiều",
          "Chiều",
          "Chiều",
          "Chiều",
          "Chiều",
          "Chiều",
          "Chiều",
          "Chiều",
          "Chiều",
          "Chiều",
          "Chiều",
          "Chiều",
          "Chiều",
          "Chiều",
          "Chiều",
          "Chiều",
          "Chiều",
          "Chiều",
          "Chiều",
          "Chiều",
          "Chiều",
          "Chiều",
          "Chiều",
          "Chiều",
          "Chiều",
          "Chiều",
          "Chiều",
          "Chiều",
          "Chiều",
          "Chiều",
          "Chiều",
          "Chiều",
          "Chiều",
          "Chiều",
          "Chiều",
          "Chiều",
          "Chiều",
          "Chiều",
          "Chiều",
          "Chiều",
          "Chiều",
          "Chiều",
          "Chiều",
          "Chiều",
          "Chiều",
          "Chiều",
          "Chiều",
          "Chiều",
          "Chiều",
          "Chiều",
          "Chiều",
          "Chiều",
          "Chiều",
          "Chiều",
          "Chiều",
          "Chiều",
          "Chiều",
          "Chiều",
          "Chiều",
          "Chiều",
          "Chiều",
          "Chiều",
          "Chiều",
          "Chiều",
          "Chiều",
          "Chiều",
          "Chiều",
          "Chiều",
          "Chiều",
          "Chiều",
          "Chiều",
          "Chiều",
          "Chiều",
          "Chiều",
          "Chiều",
          "Chiều",
          "Chiều",
          "Chiều",
          "Chiều",
          "Chiều",
          "Chiều",
          "Chiều",
          "Chiều",
          "Chiều",
          "Chiều",
          "Chiều",
          "Chiều",
          "Chiều",
          "Chiều",
          "Chiều",
          "Chiều",
          "Chiều",
          "Chiều",
          "Chiều",
          "Chiều",
          "Chiều",
          "Chiều",
          "Chiều",
          "Chiều",
          "Chiều",
          "Chiều",
          "Chiều",
          "Chiều",
          "Chiều",
          "Chiều",
          "Chiều",
          "Chiều",
          "Chiều",
          "Chiều",
          "Chiều",
          "Chiều",
          "Chiều",
          "Chiều",
          "Chiều",
          "Chiều",
          "Chiều",
          "Chiều",
          "Chiều",
          "Chiều",
          "Chiều",
          "Chiều",
          "Chiều",
          "Chiều",
          "Chiều",
          "Chiều",
          "Chiều",
          "Chiều",
          "Chiều",
          "Chiều",
          "Chiều",
          "Chiều",
          "Chiều",
          "Chiều",
          "Chiều",
          "Chiều",
          "Chiều",
          "Chiều",
          "Chiều",
          "Chiều",
          "Chiều",
          "Chiều",
          "Chiều",
          "Chiều",
          "Chiều",
          "Chiều",
          "Chiều",
          "Chiều",
          "Chiều",
          "Chiều",
          "Chiều",
          "Chiều",
          "Chiều",
          "Chiều",
          "Chiều",
          "Chiều",
          "Chiều",
          "Chiều",
          "Chiều",
          "Chiều",
          "Chiều",
          "Chiều",
          "Chiều",
          "Chiều",
          "Chiều",
          "Chiều",
          "Chiều",
          "Chiều",
          "Chiều",
          "Chiều",
          "Chiều",
          "Chiều",
          "Chiều",
          "Chiều",
          "Chiều",
          "Chiều",
          "Chiều",
          "Chiều",
          "Chiều",
          "Chiều",
          "Chiều",
          "Chiều",
          "Chiều",
          "Chiều",
          "Chiều",
          "Chiều",
          "Chiều"
         ],
         "xaxis": "x",
         "yaxis": "y"
        },
        {
         "alignmentgroup": "True",
         "bingroup": "x",
         "hovertemplate": "Buổi=%{x}<br>count=%{y}<extra></extra>",
         "legendgroup": "Tối",
         "marker": {
          "color": "#ab63fa",
          "pattern": {
           "shape": ""
          }
         },
         "name": "Tối",
         "offsetgroup": "Tối",
         "orientation": "v",
         "showlegend": true,
         "type": "histogram",
         "x": [
          "Tối",
          "Tối",
          "Tối",
          "Tối",
          "Tối",
          "Tối",
          "Tối",
          "Tối",
          "Tối",
          "Tối",
          "Tối",
          "Tối",
          "Tối",
          "Tối",
          "Tối",
          "Tối",
          "Tối",
          "Tối",
          "Tối",
          "Tối",
          "Tối",
          "Tối",
          "Tối",
          "Tối",
          "Tối",
          "Tối",
          "Tối",
          "Tối",
          "Tối",
          "Tối",
          "Tối",
          "Tối",
          "Tối",
          "Tối",
          "Tối",
          "Tối",
          "Tối",
          "Tối",
          "Tối",
          "Tối",
          "Tối",
          "Tối",
          "Tối",
          "Tối",
          "Tối",
          "Tối",
          "Tối",
          "Tối",
          "Tối",
          "Tối",
          "Tối",
          "Tối",
          "Tối",
          "Tối",
          "Tối",
          "Tối",
          "Tối",
          "Tối",
          "Tối",
          "Tối",
          "Tối",
          "Tối",
          "Tối",
          "Tối",
          "Tối",
          "Tối",
          "Tối",
          "Tối",
          "Tối",
          "Tối",
          "Tối",
          "Tối",
          "Tối",
          "Tối",
          "Tối",
          "Tối",
          "Tối",
          "Tối",
          "Tối",
          "Tối",
          "Tối",
          "Tối",
          "Tối",
          "Tối",
          "Tối",
          "Tối",
          "Tối",
          "Tối",
          "Tối",
          "Tối",
          "Tối",
          "Tối",
          "Tối",
          "Tối",
          "Tối",
          "Tối",
          "Tối",
          "Tối",
          "Tối",
          "Tối",
          "Tối",
          "Tối",
          "Tối",
          "Tối",
          "Tối",
          "Tối",
          "Tối",
          "Tối",
          "Tối",
          "Tối",
          "Tối",
          "Tối",
          "Tối",
          "Tối",
          "Tối",
          "Tối",
          "Tối",
          "Tối",
          "Tối",
          "Tối",
          "Tối",
          "Tối",
          "Tối",
          "Tối",
          "Tối",
          "Tối",
          "Tối",
          "Tối",
          "Tối",
          "Tối",
          "Tối",
          "Tối",
          "Tối",
          "Tối",
          "Tối",
          "Tối",
          "Tối",
          "Tối",
          "Tối",
          "Tối",
          "Tối",
          "Tối",
          "Tối",
          "Tối",
          "Tối",
          "Tối",
          "Tối",
          "Tối",
          "Tối",
          "Tối",
          "Tối",
          "Tối",
          "Tối",
          "Tối",
          "Tối",
          "Tối",
          "Tối",
          "Tối",
          "Tối",
          "Tối",
          "Tối",
          "Tối",
          "Tối",
          "Tối",
          "Tối",
          "Tối",
          "Tối",
          "Tối",
          "Tối",
          "Tối",
          "Tối",
          "Tối",
          "Tối",
          "Tối",
          "Tối",
          "Tối",
          "Tối",
          "Tối",
          "Tối",
          "Tối",
          "Tối",
          "Tối",
          "Tối",
          "Tối",
          "Tối",
          "Tối",
          "Tối",
          "Tối",
          "Tối",
          "Tối"
         ],
         "xaxis": "x",
         "yaxis": "y"
        },
        {
         "alignmentgroup": "True",
         "bingroup": "x",
         "hovertemplate": "Buổi=%{x}<br>count=%{y}<extra></extra>",
         "legendgroup": "Đêm",
         "marker": {
          "color": "#FFA15A",
          "pattern": {
           "shape": ""
          }
         },
         "name": "Đêm",
         "offsetgroup": "Đêm",
         "orientation": "v",
         "showlegend": true,
         "type": "histogram",
         "x": [
          "Đêm",
          "Đêm",
          "Đêm",
          "Đêm",
          "Đêm",
          "Đêm",
          "Đêm",
          "Đêm",
          "Đêm",
          "Đêm",
          "Đêm",
          "Đêm",
          "Đêm",
          "Đêm",
          "Đêm",
          "Đêm",
          "Đêm",
          "Đêm",
          "Đêm",
          "Đêm",
          "Đêm",
          "Đêm",
          "Đêm",
          "Đêm",
          "Đêm",
          "Đêm",
          "Đêm",
          "Đêm",
          "Đêm",
          "Đêm",
          "Đêm",
          "Đêm",
          "Đêm",
          "Đêm",
          "Đêm",
          "Đêm",
          "Đêm",
          "Đêm",
          "Đêm",
          "Đêm",
          "Đêm",
          "Đêm",
          "Đêm",
          "Đêm",
          "Đêm",
          "Đêm",
          "Đêm",
          "Đêm",
          "Đêm",
          "Đêm",
          "Đêm",
          "Đêm",
          "Đêm",
          "Đêm",
          "Đêm",
          "Đêm",
          "Đêm",
          "Đêm",
          "Đêm",
          "Đêm",
          "Đêm",
          "Đêm",
          "Đêm",
          "Đêm",
          "Đêm",
          "Đêm",
          "Đêm",
          "Đêm",
          "Đêm",
          "Đêm",
          "Đêm",
          "Đêm",
          "Đêm",
          "Đêm",
          "Đêm",
          "Đêm",
          "Đêm",
          "Đêm",
          "Đêm",
          "Đêm",
          "Đêm",
          "Đêm",
          "Đêm",
          "Đêm",
          "Đêm",
          "Đêm",
          "Đêm",
          "Đêm",
          "Đêm",
          "Đêm",
          "Đêm",
          "Đêm",
          "Đêm",
          "Đêm",
          "Đêm",
          "Đêm",
          "Đêm",
          "Đêm",
          "Đêm",
          "Đêm",
          "Đêm",
          "Đêm",
          "Đêm",
          "Đêm",
          "Đêm",
          "Đêm",
          "Đêm",
          "Đêm",
          "Đêm",
          "Đêm",
          "Đêm",
          "Đêm",
          "Đêm",
          "Đêm",
          "Đêm",
          "Đêm",
          "Đêm",
          "Đêm",
          "Đêm",
          "Đêm",
          "Đêm",
          "Đêm",
          "Đêm",
          "Đêm",
          "Đêm",
          "Đêm",
          "Đêm",
          "Đêm",
          "Đêm",
          "Đêm",
          "Đêm",
          "Đêm",
          "Đêm",
          "Đêm",
          "Đêm",
          "Đêm",
          "Đêm",
          "Đêm",
          "Đêm",
          "Đêm",
          "Đêm",
          "Đêm",
          "Đêm",
          "Đêm",
          "Đêm",
          "Đêm",
          "Đêm",
          "Đêm",
          "Đêm",
          "Đêm",
          "Đêm",
          "Đêm",
          "Đêm",
          "Đêm",
          "Đêm",
          "Đêm",
          "Đêm",
          "Đêm",
          "Đêm",
          "Đêm",
          "Đêm",
          "Đêm",
          "Đêm",
          "Đêm",
          "Đêm",
          "Đêm",
          "Đêm",
          "Đêm",
          "Đêm",
          "Đêm",
          "Đêm",
          "Đêm",
          "Đêm",
          "Đêm",
          "Đêm",
          "Đêm",
          "Đêm"
         ],
         "xaxis": "x",
         "yaxis": "y"
        }
       ],
       "layout": {
        "barmode": "relative",
        "legend": {
         "title": {
          "text": "Buổi"
         },
         "tracegroupgap": 0
        },
        "template": {
         "data": {
          "bar": [
           {
            "error_x": {
             "color": "#2a3f5f"
            },
            "error_y": {
             "color": "#2a3f5f"
            },
            "marker": {
             "line": {
              "color": "#E5ECF6",
              "width": 0.5
             },
             "pattern": {
              "fillmode": "overlay",
              "size": 10,
              "solidity": 0.2
             }
            },
            "type": "bar"
           }
          ],
          "barpolar": [
           {
            "marker": {
             "line": {
              "color": "#E5ECF6",
              "width": 0.5
             },
             "pattern": {
              "fillmode": "overlay",
              "size": 10,
              "solidity": 0.2
             }
            },
            "type": "barpolar"
           }
          ],
          "carpet": [
           {
            "aaxis": {
             "endlinecolor": "#2a3f5f",
             "gridcolor": "white",
             "linecolor": "white",
             "minorgridcolor": "white",
             "startlinecolor": "#2a3f5f"
            },
            "baxis": {
             "endlinecolor": "#2a3f5f",
             "gridcolor": "white",
             "linecolor": "white",
             "minorgridcolor": "white",
             "startlinecolor": "#2a3f5f"
            },
            "type": "carpet"
           }
          ],
          "choropleth": [
           {
            "colorbar": {
             "outlinewidth": 0,
             "ticks": ""
            },
            "type": "choropleth"
           }
          ],
          "contour": [
           {
            "colorbar": {
             "outlinewidth": 0,
             "ticks": ""
            },
            "colorscale": [
             [
              0,
              "#0d0887"
             ],
             [
              0.1111111111111111,
              "#46039f"
             ],
             [
              0.2222222222222222,
              "#7201a8"
             ],
             [
              0.3333333333333333,
              "#9c179e"
             ],
             [
              0.4444444444444444,
              "#bd3786"
             ],
             [
              0.5555555555555556,
              "#d8576b"
             ],
             [
              0.6666666666666666,
              "#ed7953"
             ],
             [
              0.7777777777777778,
              "#fb9f3a"
             ],
             [
              0.8888888888888888,
              "#fdca26"
             ],
             [
              1,
              "#f0f921"
             ]
            ],
            "type": "contour"
           }
          ],
          "contourcarpet": [
           {
            "colorbar": {
             "outlinewidth": 0,
             "ticks": ""
            },
            "type": "contourcarpet"
           }
          ],
          "heatmap": [
           {
            "colorbar": {
             "outlinewidth": 0,
             "ticks": ""
            },
            "colorscale": [
             [
              0,
              "#0d0887"
             ],
             [
              0.1111111111111111,
              "#46039f"
             ],
             [
              0.2222222222222222,
              "#7201a8"
             ],
             [
              0.3333333333333333,
              "#9c179e"
             ],
             [
              0.4444444444444444,
              "#bd3786"
             ],
             [
              0.5555555555555556,
              "#d8576b"
             ],
             [
              0.6666666666666666,
              "#ed7953"
             ],
             [
              0.7777777777777778,
              "#fb9f3a"
             ],
             [
              0.8888888888888888,
              "#fdca26"
             ],
             [
              1,
              "#f0f921"
             ]
            ],
            "type": "heatmap"
           }
          ],
          "heatmapgl": [
           {
            "colorbar": {
             "outlinewidth": 0,
             "ticks": ""
            },
            "colorscale": [
             [
              0,
              "#0d0887"
             ],
             [
              0.1111111111111111,
              "#46039f"
             ],
             [
              0.2222222222222222,
              "#7201a8"
             ],
             [
              0.3333333333333333,
              "#9c179e"
             ],
             [
              0.4444444444444444,
              "#bd3786"
             ],
             [
              0.5555555555555556,
              "#d8576b"
             ],
             [
              0.6666666666666666,
              "#ed7953"
             ],
             [
              0.7777777777777778,
              "#fb9f3a"
             ],
             [
              0.8888888888888888,
              "#fdca26"
             ],
             [
              1,
              "#f0f921"
             ]
            ],
            "type": "heatmapgl"
           }
          ],
          "histogram": [
           {
            "marker": {
             "pattern": {
              "fillmode": "overlay",
              "size": 10,
              "solidity": 0.2
             }
            },
            "type": "histogram"
           }
          ],
          "histogram2d": [
           {
            "colorbar": {
             "outlinewidth": 0,
             "ticks": ""
            },
            "colorscale": [
             [
              0,
              "#0d0887"
             ],
             [
              0.1111111111111111,
              "#46039f"
             ],
             [
              0.2222222222222222,
              "#7201a8"
             ],
             [
              0.3333333333333333,
              "#9c179e"
             ],
             [
              0.4444444444444444,
              "#bd3786"
             ],
             [
              0.5555555555555556,
              "#d8576b"
             ],
             [
              0.6666666666666666,
              "#ed7953"
             ],
             [
              0.7777777777777778,
              "#fb9f3a"
             ],
             [
              0.8888888888888888,
              "#fdca26"
             ],
             [
              1,
              "#f0f921"
             ]
            ],
            "type": "histogram2d"
           }
          ],
          "histogram2dcontour": [
           {
            "colorbar": {
             "outlinewidth": 0,
             "ticks": ""
            },
            "colorscale": [
             [
              0,
              "#0d0887"
             ],
             [
              0.1111111111111111,
              "#46039f"
             ],
             [
              0.2222222222222222,
              "#7201a8"
             ],
             [
              0.3333333333333333,
              "#9c179e"
             ],
             [
              0.4444444444444444,
              "#bd3786"
             ],
             [
              0.5555555555555556,
              "#d8576b"
             ],
             [
              0.6666666666666666,
              "#ed7953"
             ],
             [
              0.7777777777777778,
              "#fb9f3a"
             ],
             [
              0.8888888888888888,
              "#fdca26"
             ],
             [
              1,
              "#f0f921"
             ]
            ],
            "type": "histogram2dcontour"
           }
          ],
          "mesh3d": [
           {
            "colorbar": {
             "outlinewidth": 0,
             "ticks": ""
            },
            "type": "mesh3d"
           }
          ],
          "parcoords": [
           {
            "line": {
             "colorbar": {
              "outlinewidth": 0,
              "ticks": ""
             }
            },
            "type": "parcoords"
           }
          ],
          "pie": [
           {
            "automargin": true,
            "type": "pie"
           }
          ],
          "scatter": [
           {
            "fillpattern": {
             "fillmode": "overlay",
             "size": 10,
             "solidity": 0.2
            },
            "type": "scatter"
           }
          ],
          "scatter3d": [
           {
            "line": {
             "colorbar": {
              "outlinewidth": 0,
              "ticks": ""
             }
            },
            "marker": {
             "colorbar": {
              "outlinewidth": 0,
              "ticks": ""
             }
            },
            "type": "scatter3d"
           }
          ],
          "scattercarpet": [
           {
            "marker": {
             "colorbar": {
              "outlinewidth": 0,
              "ticks": ""
             }
            },
            "type": "scattercarpet"
           }
          ],
          "scattergeo": [
           {
            "marker": {
             "colorbar": {
              "outlinewidth": 0,
              "ticks": ""
             }
            },
            "type": "scattergeo"
           }
          ],
          "scattergl": [
           {
            "marker": {
             "colorbar": {
              "outlinewidth": 0,
              "ticks": ""
             }
            },
            "type": "scattergl"
           }
          ],
          "scattermapbox": [
           {
            "marker": {
             "colorbar": {
              "outlinewidth": 0,
              "ticks": ""
             }
            },
            "type": "scattermapbox"
           }
          ],
          "scatterpolar": [
           {
            "marker": {
             "colorbar": {
              "outlinewidth": 0,
              "ticks": ""
             }
            },
            "type": "scatterpolar"
           }
          ],
          "scatterpolargl": [
           {
            "marker": {
             "colorbar": {
              "outlinewidth": 0,
              "ticks": ""
             }
            },
            "type": "scatterpolargl"
           }
          ],
          "scatterternary": [
           {
            "marker": {
             "colorbar": {
              "outlinewidth": 0,
              "ticks": ""
             }
            },
            "type": "scatterternary"
           }
          ],
          "surface": [
           {
            "colorbar": {
             "outlinewidth": 0,
             "ticks": ""
            },
            "colorscale": [
             [
              0,
              "#0d0887"
             ],
             [
              0.1111111111111111,
              "#46039f"
             ],
             [
              0.2222222222222222,
              "#7201a8"
             ],
             [
              0.3333333333333333,
              "#9c179e"
             ],
             [
              0.4444444444444444,
              "#bd3786"
             ],
             [
              0.5555555555555556,
              "#d8576b"
             ],
             [
              0.6666666666666666,
              "#ed7953"
             ],
             [
              0.7777777777777778,
              "#fb9f3a"
             ],
             [
              0.8888888888888888,
              "#fdca26"
             ],
             [
              1,
              "#f0f921"
             ]
            ],
            "type": "surface"
           }
          ],
          "table": [
           {
            "cells": {
             "fill": {
              "color": "#EBF0F8"
             },
             "line": {
              "color": "white"
             }
            },
            "header": {
             "fill": {
              "color": "#C8D4E3"
             },
             "line": {
              "color": "white"
             }
            },
            "type": "table"
           }
          ]
         },
         "layout": {
          "annotationdefaults": {
           "arrowcolor": "#2a3f5f",
           "arrowhead": 0,
           "arrowwidth": 1
          },
          "autotypenumbers": "strict",
          "coloraxis": {
           "colorbar": {
            "outlinewidth": 0,
            "ticks": ""
           }
          },
          "colorscale": {
           "diverging": [
            [
             0,
             "#8e0152"
            ],
            [
             0.1,
             "#c51b7d"
            ],
            [
             0.2,
             "#de77ae"
            ],
            [
             0.3,
             "#f1b6da"
            ],
            [
             0.4,
             "#fde0ef"
            ],
            [
             0.5,
             "#f7f7f7"
            ],
            [
             0.6,
             "#e6f5d0"
            ],
            [
             0.7,
             "#b8e186"
            ],
            [
             0.8,
             "#7fbc41"
            ],
            [
             0.9,
             "#4d9221"
            ],
            [
             1,
             "#276419"
            ]
           ],
           "sequential": [
            [
             0,
             "#0d0887"
            ],
            [
             0.1111111111111111,
             "#46039f"
            ],
            [
             0.2222222222222222,
             "#7201a8"
            ],
            [
             0.3333333333333333,
             "#9c179e"
            ],
            [
             0.4444444444444444,
             "#bd3786"
            ],
            [
             0.5555555555555556,
             "#d8576b"
            ],
            [
             0.6666666666666666,
             "#ed7953"
            ],
            [
             0.7777777777777778,
             "#fb9f3a"
            ],
            [
             0.8888888888888888,
             "#fdca26"
            ],
            [
             1,
             "#f0f921"
            ]
           ],
           "sequentialminus": [
            [
             0,
             "#0d0887"
            ],
            [
             0.1111111111111111,
             "#46039f"
            ],
            [
             0.2222222222222222,
             "#7201a8"
            ],
            [
             0.3333333333333333,
             "#9c179e"
            ],
            [
             0.4444444444444444,
             "#bd3786"
            ],
            [
             0.5555555555555556,
             "#d8576b"
            ],
            [
             0.6666666666666666,
             "#ed7953"
            ],
            [
             0.7777777777777778,
             "#fb9f3a"
            ],
            [
             0.8888888888888888,
             "#fdca26"
            ],
            [
             1,
             "#f0f921"
            ]
           ]
          },
          "colorway": [
           "#636efa",
           "#EF553B",
           "#00cc96",
           "#ab63fa",
           "#FFA15A",
           "#19d3f3",
           "#FF6692",
           "#B6E880",
           "#FF97FF",
           "#FECB52"
          ],
          "font": {
           "color": "#2a3f5f"
          },
          "geo": {
           "bgcolor": "white",
           "lakecolor": "white",
           "landcolor": "#E5ECF6",
           "showlakes": true,
           "showland": true,
           "subunitcolor": "white"
          },
          "hoverlabel": {
           "align": "left"
          },
          "hovermode": "closest",
          "mapbox": {
           "style": "light"
          },
          "paper_bgcolor": "white",
          "plot_bgcolor": "#E5ECF6",
          "polar": {
           "angularaxis": {
            "gridcolor": "white",
            "linecolor": "white",
            "ticks": ""
           },
           "bgcolor": "#E5ECF6",
           "radialaxis": {
            "gridcolor": "white",
            "linecolor": "white",
            "ticks": ""
           }
          },
          "scene": {
           "xaxis": {
            "backgroundcolor": "#E5ECF6",
            "gridcolor": "white",
            "gridwidth": 2,
            "linecolor": "white",
            "showbackground": true,
            "ticks": "",
            "zerolinecolor": "white"
           },
           "yaxis": {
            "backgroundcolor": "#E5ECF6",
            "gridcolor": "white",
            "gridwidth": 2,
            "linecolor": "white",
            "showbackground": true,
            "ticks": "",
            "zerolinecolor": "white"
           },
           "zaxis": {
            "backgroundcolor": "#E5ECF6",
            "gridcolor": "white",
            "gridwidth": 2,
            "linecolor": "white",
            "showbackground": true,
            "ticks": "",
            "zerolinecolor": "white"
           }
          },
          "shapedefaults": {
           "line": {
            "color": "#2a3f5f"
           }
          },
          "ternary": {
           "aaxis": {
            "gridcolor": "white",
            "linecolor": "white",
            "ticks": ""
           },
           "baxis": {
            "gridcolor": "white",
            "linecolor": "white",
            "ticks": ""
           },
           "bgcolor": "#E5ECF6",
           "caxis": {
            "gridcolor": "white",
            "linecolor": "white",
            "ticks": ""
           }
          },
          "title": {
           "x": 0.05
          },
          "xaxis": {
           "automargin": true,
           "gridcolor": "white",
           "linecolor": "white",
           "ticks": "",
           "title": {
            "standoff": 15
           },
           "zerolinecolor": "white",
           "zerolinewidth": 2
          },
          "yaxis": {
           "automargin": true,
           "gridcolor": "white",
           "linecolor": "white",
           "ticks": "",
           "title": {
            "standoff": 15
           },
           "zerolinecolor": "white",
           "zerolinewidth": 2
          }
         }
        },
        "title": {
         "text": "Buổi Distribution"
        },
        "xaxis": {
         "anchor": "y",
         "categoryarray": [
          "Sáng",
          "Trưa",
          "Chiều",
          "Tối",
          "Đêm"
         ],
         "categoryorder": "array",
         "domain": [
          0,
          1
         ],
         "title": {
          "text": "Buổi"
         }
        },
        "yaxis": {
         "anchor": "x",
         "domain": [
          0,
          1
         ],
         "title": {
          "text": "Count"
         }
        }
       }
      }
     },
     "metadata": {},
     "output_type": "display_data"
    }
   ],
   "source": [
    "import plotly.express as px\n",
    "fig = px.histogram(data, x='Buổi', color='Buổi', title='Buổi Distribution')\n",
    "fig.update_layout(xaxis_title='Buổi', yaxis_title='Count')\n",
    "fig.show()"
   ]
  },
  {
   "cell_type": "code",
   "execution_count": 60,
   "metadata": {},
   "outputs": [
    {
     "data": {
      "application/vnd.plotly.v1+json": {
       "config": {
        "plotlyServerURL": "https://plot.ly"
       },
       "data": [
        {
         "alignmentgroup": "True",
         "bingroup": "x",
         "hovertemplate": "Cảm xúc=%{x}<br>count=%{y}<extra></extra>",
         "legendgroup": "Vui",
         "marker": {
          "color": "#636efa",
          "pattern": {
           "shape": ""
          }
         },
         "name": "Vui",
         "offsetgroup": "Vui",
         "orientation": "v",
         "showlegend": true,
         "type": "histogram",
         "x": [
          "Vui",
          "Vui",
          "Vui",
          "Vui",
          "Vui",
          "Vui",
          "Vui",
          "Vui",
          "Vui",
          "Vui",
          "Vui",
          "Vui",
          "Vui",
          "Vui",
          "Vui",
          "Vui",
          "Vui",
          "Vui",
          "Vui",
          "Vui",
          "Vui",
          "Vui",
          "Vui",
          "Vui",
          "Vui",
          "Vui",
          "Vui",
          "Vui",
          "Vui",
          "Vui",
          "Vui",
          "Vui",
          "Vui",
          "Vui",
          "Vui",
          "Vui",
          "Vui",
          "Vui",
          "Vui",
          "Vui",
          "Vui",
          "Vui",
          "Vui",
          "Vui",
          "Vui",
          "Vui",
          "Vui",
          "Vui",
          "Vui",
          "Vui",
          "Vui",
          "Vui",
          "Vui",
          "Vui",
          "Vui",
          "Vui",
          "Vui",
          "Vui",
          "Vui",
          "Vui",
          "Vui",
          "Vui",
          "Vui",
          "Vui",
          "Vui",
          "Vui",
          "Vui",
          "Vui",
          "Vui",
          "Vui",
          "Vui",
          "Vui",
          "Vui",
          "Vui",
          "Vui",
          "Vui",
          "Vui",
          "Vui",
          "Vui",
          "Vui",
          "Vui",
          "Vui",
          "Vui",
          "Vui",
          "Vui",
          "Vui",
          "Vui",
          "Vui",
          "Vui",
          "Vui",
          "Vui",
          "Vui",
          "Vui",
          "Vui",
          "Vui",
          "Vui",
          "Vui",
          "Vui",
          "Vui",
          "Vui",
          "Vui",
          "Vui",
          "Vui",
          "Vui",
          "Vui",
          "Vui",
          "Vui",
          "Vui",
          "Vui",
          "Vui",
          "Vui",
          "Vui",
          "Vui",
          "Vui",
          "Vui",
          "Vui",
          "Vui",
          "Vui",
          "Vui",
          "Vui",
          "Vui",
          "Vui",
          "Vui",
          "Vui",
          "Vui",
          "Vui",
          "Vui",
          "Vui",
          "Vui",
          "Vui",
          "Vui",
          "Vui",
          "Vui",
          "Vui",
          "Vui",
          "Vui",
          "Vui",
          "Vui",
          "Vui",
          "Vui",
          "Vui",
          "Vui",
          "Vui",
          "Vui",
          "Vui",
          "Vui",
          "Vui",
          "Vui",
          "Vui",
          "Vui",
          "Vui",
          "Vui",
          "Vui",
          "Vui",
          "Vui",
          "Vui",
          "Vui",
          "Vui",
          "Vui",
          "Vui",
          "Vui",
          "Vui",
          "Vui",
          "Vui",
          "Vui",
          "Vui",
          "Vui",
          "Vui",
          "Vui",
          "Vui",
          "Vui",
          "Vui",
          "Vui",
          "Vui",
          "Vui",
          "Vui",
          "Vui",
          "Vui",
          "Vui",
          "Vui",
          "Vui",
          "Vui",
          "Vui",
          "Vui",
          "Vui",
          "Vui",
          "Vui",
          "Vui",
          "Vui",
          "Vui",
          "Vui",
          "Vui",
          "Vui",
          "Vui",
          "Vui",
          "Vui",
          "Vui",
          "Vui",
          "Vui",
          "Vui",
          "Vui",
          "Vui",
          "Vui",
          "Vui",
          "Vui",
          "Vui",
          "Vui",
          "Vui",
          "Vui",
          "Vui",
          "Vui",
          "Vui",
          "Vui",
          "Vui",
          "Vui",
          "Vui",
          "Vui",
          "Vui",
          "Vui",
          "Vui",
          "Vui",
          "Vui",
          "Vui",
          "Vui",
          "Vui",
          "Vui",
          "Vui",
          "Vui",
          "Vui"
         ],
         "xaxis": "x",
         "yaxis": "y"
        },
        {
         "alignmentgroup": "True",
         "bingroup": "x",
         "hovertemplate": "Cảm xúc=%{x}<br>count=%{y}<extra></extra>",
         "legendgroup": "Bình thường",
         "marker": {
          "color": "#EF553B",
          "pattern": {
           "shape": ""
          }
         },
         "name": "Bình thường",
         "offsetgroup": "Bình thường",
         "orientation": "v",
         "showlegend": true,
         "type": "histogram",
         "x": [
          "Bình thường",
          "Bình thường",
          "Bình thường",
          "Bình thường",
          "Bình thường",
          "Bình thường",
          "Bình thường",
          "Bình thường",
          "Bình thường",
          "Bình thường",
          "Bình thường",
          "Bình thường",
          "Bình thường",
          "Bình thường",
          "Bình thường",
          "Bình thường",
          "Bình thường",
          "Bình thường",
          "Bình thường",
          "Bình thường",
          "Bình thường",
          "Bình thường",
          "Bình thường",
          "Bình thường",
          "Bình thường",
          "Bình thường",
          "Bình thường",
          "Bình thường",
          "Bình thường",
          "Bình thường",
          "Bình thường",
          "Bình thường",
          "Bình thường",
          "Bình thường",
          "Bình thường",
          "Bình thường",
          "Bình thường",
          "Bình thường",
          "Bình thường",
          "Bình thường",
          "Bình thường",
          "Bình thường",
          "Bình thường",
          "Bình thường",
          "Bình thường",
          "Bình thường",
          "Bình thường",
          "Bình thường",
          "Bình thường",
          "Bình thường",
          "Bình thường",
          "Bình thường",
          "Bình thường",
          "Bình thường",
          "Bình thường",
          "Bình thường",
          "Bình thường",
          "Bình thường",
          "Bình thường",
          "Bình thường",
          "Bình thường",
          "Bình thường",
          "Bình thường",
          "Bình thường",
          "Bình thường",
          "Bình thường",
          "Bình thường",
          "Bình thường",
          "Bình thường",
          "Bình thường",
          "Bình thường",
          "Bình thường",
          "Bình thường",
          "Bình thường",
          "Bình thường",
          "Bình thường",
          "Bình thường",
          "Bình thường",
          "Bình thường",
          "Bình thường",
          "Bình thường",
          "Bình thường",
          "Bình thường",
          "Bình thường",
          "Bình thường",
          "Bình thường",
          "Bình thường",
          "Bình thường",
          "Bình thường",
          "Bình thường",
          "Bình thường",
          "Bình thường",
          "Bình thường",
          "Bình thường",
          "Bình thường",
          "Bình thường",
          "Bình thường",
          "Bình thường",
          "Bình thường",
          "Bình thường",
          "Bình thường",
          "Bình thường",
          "Bình thường",
          "Bình thường",
          "Bình thường",
          "Bình thường",
          "Bình thường",
          "Bình thường",
          "Bình thường",
          "Bình thường",
          "Bình thường",
          "Bình thường",
          "Bình thường",
          "Bình thường",
          "Bình thường",
          "Bình thường",
          "Bình thường",
          "Bình thường",
          "Bình thường",
          "Bình thường",
          "Bình thường",
          "Bình thường",
          "Bình thường",
          "Bình thường",
          "Bình thường",
          "Bình thường",
          "Bình thường",
          "Bình thường",
          "Bình thường",
          "Bình thường",
          "Bình thường",
          "Bình thường",
          "Bình thường",
          "Bình thường",
          "Bình thường",
          "Bình thường",
          "Bình thường",
          "Bình thường",
          "Bình thường",
          "Bình thường",
          "Bình thường",
          "Bình thường",
          "Bình thường",
          "Bình thường",
          "Bình thường",
          "Bình thường",
          "Bình thường",
          "Bình thường",
          "Bình thường",
          "Bình thường",
          "Bình thường",
          "Bình thường",
          "Bình thường",
          "Bình thường",
          "Bình thường",
          "Bình thường",
          "Bình thường",
          "Bình thường",
          "Bình thường",
          "Bình thường",
          "Bình thường",
          "Bình thường",
          "Bình thường",
          "Bình thường",
          "Bình thường",
          "Bình thường",
          "Bình thường",
          "Bình thường",
          "Bình thường",
          "Bình thường",
          "Bình thường",
          "Bình thường",
          "Bình thường",
          "Bình thường",
          "Bình thường",
          "Bình thường",
          "Bình thường",
          "Bình thường",
          "Bình thường",
          "Bình thường",
          "Bình thường",
          "Bình thường",
          "Bình thường",
          "Bình thường",
          "Bình thường",
          "Bình thường",
          "Bình thường",
          "Bình thường",
          "Bình thường",
          "Bình thường",
          "Bình thường",
          "Bình thường",
          "Bình thường",
          "Bình thường",
          "Bình thường",
          "Bình thường",
          "Bình thường",
          "Bình thường",
          "Bình thường",
          "Bình thường",
          "Bình thường",
          "Bình thường",
          "Bình thường",
          "Bình thường",
          "Bình thường",
          "Bình thường",
          "Bình thường",
          "Bình thường",
          "Bình thường",
          "Bình thường",
          "Bình thường",
          "Bình thường",
          "Bình thường",
          "Bình thường",
          "Bình thường",
          "Bình thường",
          "Bình thường",
          "Bình thường",
          "Bình thường",
          "Bình thường",
          "Bình thường",
          "Bình thường",
          "Bình thường",
          "Bình thường",
          "Bình thường",
          "Bình thường",
          "Bình thường",
          "Bình thường",
          "Bình thường",
          "Bình thường",
          "Bình thường",
          "Bình thường",
          "Bình thường",
          "Bình thường",
          "Bình thường",
          "Bình thường",
          "Bình thường",
          "Bình thường",
          "Bình thường",
          "Bình thường",
          "Bình thường",
          "Bình thường",
          "Bình thường",
          "Bình thường",
          "Bình thường",
          "Bình thường",
          "Bình thường",
          "Bình thường",
          "Bình thường",
          "Bình thường",
          "Bình thường",
          "Bình thường",
          "Bình thường"
         ],
         "xaxis": "x",
         "yaxis": "y"
        },
        {
         "alignmentgroup": "True",
         "bingroup": "x",
         "hovertemplate": "Cảm xúc=%{x}<br>count=%{y}<extra></extra>",
         "legendgroup": "Khó chịu",
         "marker": {
          "color": "#00cc96",
          "pattern": {
           "shape": ""
          }
         },
         "name": "Khó chịu",
         "offsetgroup": "Khó chịu",
         "orientation": "v",
         "showlegend": true,
         "type": "histogram",
         "x": [
          "Khó chịu",
          "Khó chịu",
          "Khó chịu",
          "Khó chịu",
          "Khó chịu",
          "Khó chịu",
          "Khó chịu",
          "Khó chịu",
          "Khó chịu",
          "Khó chịu",
          "Khó chịu",
          "Khó chịu",
          "Khó chịu",
          "Khó chịu",
          "Khó chịu",
          "Khó chịu",
          "Khó chịu",
          "Khó chịu",
          "Khó chịu",
          "Khó chịu",
          "Khó chịu",
          "Khó chịu",
          "Khó chịu",
          "Khó chịu",
          "Khó chịu",
          "Khó chịu",
          "Khó chịu",
          "Khó chịu",
          "Khó chịu",
          "Khó chịu",
          "Khó chịu",
          "Khó chịu",
          "Khó chịu",
          "Khó chịu",
          "Khó chịu",
          "Khó chịu",
          "Khó chịu",
          "Khó chịu",
          "Khó chịu",
          "Khó chịu",
          "Khó chịu",
          "Khó chịu",
          "Khó chịu",
          "Khó chịu",
          "Khó chịu",
          "Khó chịu",
          "Khó chịu",
          "Khó chịu",
          "Khó chịu",
          "Khó chịu",
          "Khó chịu",
          "Khó chịu",
          "Khó chịu",
          "Khó chịu",
          "Khó chịu",
          "Khó chịu",
          "Khó chịu",
          "Khó chịu",
          "Khó chịu",
          "Khó chịu",
          "Khó chịu",
          "Khó chịu",
          "Khó chịu",
          "Khó chịu",
          "Khó chịu",
          "Khó chịu",
          "Khó chịu",
          "Khó chịu",
          "Khó chịu",
          "Khó chịu",
          "Khó chịu",
          "Khó chịu",
          "Khó chịu",
          "Khó chịu",
          "Khó chịu",
          "Khó chịu",
          "Khó chịu",
          "Khó chịu",
          "Khó chịu",
          "Khó chịu",
          "Khó chịu",
          "Khó chịu",
          "Khó chịu",
          "Khó chịu",
          "Khó chịu",
          "Khó chịu",
          "Khó chịu",
          "Khó chịu",
          "Khó chịu",
          "Khó chịu",
          "Khó chịu",
          "Khó chịu",
          "Khó chịu",
          "Khó chịu",
          "Khó chịu",
          "Khó chịu",
          "Khó chịu",
          "Khó chịu",
          "Khó chịu",
          "Khó chịu",
          "Khó chịu",
          "Khó chịu",
          "Khó chịu",
          "Khó chịu",
          "Khó chịu",
          "Khó chịu",
          "Khó chịu",
          "Khó chịu",
          "Khó chịu",
          "Khó chịu",
          "Khó chịu",
          "Khó chịu",
          "Khó chịu",
          "Khó chịu",
          "Khó chịu",
          "Khó chịu",
          "Khó chịu",
          "Khó chịu",
          "Khó chịu",
          "Khó chịu",
          "Khó chịu",
          "Khó chịu",
          "Khó chịu",
          "Khó chịu",
          "Khó chịu",
          "Khó chịu",
          "Khó chịu",
          "Khó chịu",
          "Khó chịu",
          "Khó chịu",
          "Khó chịu",
          "Khó chịu",
          "Khó chịu",
          "Khó chịu",
          "Khó chịu",
          "Khó chịu",
          "Khó chịu",
          "Khó chịu",
          "Khó chịu",
          "Khó chịu",
          "Khó chịu",
          "Khó chịu",
          "Khó chịu",
          "Khó chịu",
          "Khó chịu",
          "Khó chịu",
          "Khó chịu",
          "Khó chịu",
          "Khó chịu",
          "Khó chịu",
          "Khó chịu",
          "Khó chịu",
          "Khó chịu",
          "Khó chịu",
          "Khó chịu",
          "Khó chịu",
          "Khó chịu",
          "Khó chịu",
          "Khó chịu",
          "Khó chịu",
          "Khó chịu",
          "Khó chịu",
          "Khó chịu",
          "Khó chịu",
          "Khó chịu",
          "Khó chịu",
          "Khó chịu",
          "Khó chịu",
          "Khó chịu",
          "Khó chịu",
          "Khó chịu",
          "Khó chịu",
          "Khó chịu",
          "Khó chịu",
          "Khó chịu",
          "Khó chịu",
          "Khó chịu",
          "Khó chịu",
          "Khó chịu",
          "Khó chịu",
          "Khó chịu",
          "Khó chịu",
          "Khó chịu",
          "Khó chịu",
          "Khó chịu",
          "Khó chịu",
          "Khó chịu",
          "Khó chịu",
          "Khó chịu",
          "Khó chịu",
          "Khó chịu",
          "Khó chịu",
          "Khó chịu",
          "Khó chịu",
          "Khó chịu",
          "Khó chịu",
          "Khó chịu",
          "Khó chịu",
          "Khó chịu",
          "Khó chịu",
          "Khó chịu",
          "Khó chịu",
          "Khó chịu",
          "Khó chịu",
          "Khó chịu",
          "Khó chịu",
          "Khó chịu",
          "Khó chịu",
          "Khó chịu",
          "Khó chịu",
          "Khó chịu",
          "Khó chịu",
          "Khó chịu",
          "Khó chịu",
          "Khó chịu",
          "Khó chịu",
          "Khó chịu",
          "Khó chịu",
          "Khó chịu",
          "Khó chịu",
          "Khó chịu",
          "Khó chịu",
          "Khó chịu",
          "Khó chịu",
          "Khó chịu",
          "Khó chịu",
          "Khó chịu",
          "Khó chịu",
          "Khó chịu",
          "Khó chịu",
          "Khó chịu",
          "Khó chịu",
          "Khó chịu",
          "Khó chịu",
          "Khó chịu",
          "Khó chịu",
          "Khó chịu",
          "Khó chịu",
          "Khó chịu",
          "Khó chịu",
          "Khó chịu",
          "Khó chịu",
          "Khó chịu",
          "Khó chịu",
          "Khó chịu",
          "Khó chịu",
          "Khó chịu",
          "Khó chịu",
          "Khó chịu",
          "Khó chịu",
          "Khó chịu",
          "Khó chịu",
          "Khó chịu",
          "Khó chịu",
          "Khó chịu",
          "Khó chịu",
          "Khó chịu",
          "Khó chịu",
          "Khó chịu",
          "Khó chịu",
          "Khó chịu",
          "Khó chịu"
         ],
         "xaxis": "x",
         "yaxis": "y"
        },
        {
         "alignmentgroup": "True",
         "bingroup": "x",
         "hovertemplate": "Cảm xúc=%{x}<br>count=%{y}<extra></extra>",
         "legendgroup": "Buồn",
         "marker": {
          "color": "#ab63fa",
          "pattern": {
           "shape": ""
          }
         },
         "name": "Buồn",
         "offsetgroup": "Buồn",
         "orientation": "v",
         "showlegend": true,
         "type": "histogram",
         "x": [
          "Buồn",
          "Buồn",
          "Buồn",
          "Buồn",
          "Buồn",
          "Buồn",
          "Buồn",
          "Buồn",
          "Buồn",
          "Buồn",
          "Buồn",
          "Buồn",
          "Buồn",
          "Buồn",
          "Buồn",
          "Buồn",
          "Buồn",
          "Buồn",
          "Buồn",
          "Buồn",
          "Buồn",
          "Buồn",
          "Buồn",
          "Buồn",
          "Buồn",
          "Buồn",
          "Buồn",
          "Buồn",
          "Buồn",
          "Buồn",
          "Buồn",
          "Buồn",
          "Buồn",
          "Buồn",
          "Buồn",
          "Buồn",
          "Buồn",
          "Buồn",
          "Buồn",
          "Buồn",
          "Buồn",
          "Buồn",
          "Buồn",
          "Buồn",
          "Buồn",
          "Buồn",
          "Buồn",
          "Buồn",
          "Buồn",
          "Buồn",
          "Buồn",
          "Buồn",
          "Buồn",
          "Buồn",
          "Buồn",
          "Buồn",
          "Buồn",
          "Buồn",
          "Buồn",
          "Buồn",
          "Buồn",
          "Buồn",
          "Buồn",
          "Buồn",
          "Buồn",
          "Buồn",
          "Buồn",
          "Buồn",
          "Buồn",
          "Buồn",
          "Buồn",
          "Buồn",
          "Buồn",
          "Buồn",
          "Buồn",
          "Buồn",
          "Buồn",
          "Buồn",
          "Buồn",
          "Buồn",
          "Buồn",
          "Buồn",
          "Buồn",
          "Buồn",
          "Buồn",
          "Buồn",
          "Buồn",
          "Buồn",
          "Buồn",
          "Buồn",
          "Buồn",
          "Buồn",
          "Buồn",
          "Buồn",
          "Buồn",
          "Buồn",
          "Buồn",
          "Buồn",
          "Buồn",
          "Buồn",
          "Buồn",
          "Buồn",
          "Buồn",
          "Buồn",
          "Buồn",
          "Buồn",
          "Buồn",
          "Buồn",
          "Buồn",
          "Buồn",
          "Buồn",
          "Buồn",
          "Buồn",
          "Buồn",
          "Buồn",
          "Buồn",
          "Buồn",
          "Buồn",
          "Buồn",
          "Buồn",
          "Buồn",
          "Buồn",
          "Buồn",
          "Buồn",
          "Buồn",
          "Buồn",
          "Buồn",
          "Buồn",
          "Buồn",
          "Buồn",
          "Buồn",
          "Buồn",
          "Buồn",
          "Buồn",
          "Buồn",
          "Buồn",
          "Buồn",
          "Buồn",
          "Buồn",
          "Buồn",
          "Buồn",
          "Buồn",
          "Buồn",
          "Buồn",
          "Buồn",
          "Buồn",
          "Buồn",
          "Buồn",
          "Buồn",
          "Buồn",
          "Buồn",
          "Buồn",
          "Buồn",
          "Buồn",
          "Buồn",
          "Buồn",
          "Buồn",
          "Buồn",
          "Buồn",
          "Buồn",
          "Buồn",
          "Buồn",
          "Buồn",
          "Buồn",
          "Buồn",
          "Buồn",
          "Buồn",
          "Buồn",
          "Buồn",
          "Buồn",
          "Buồn",
          "Buồn",
          "Buồn",
          "Buồn",
          "Buồn",
          "Buồn",
          "Buồn",
          "Buồn",
          "Buồn",
          "Buồn",
          "Buồn",
          "Buồn",
          "Buồn",
          "Buồn",
          "Buồn",
          "Buồn",
          "Buồn",
          "Buồn",
          "Buồn",
          "Buồn",
          "Buồn",
          "Buồn",
          "Buồn",
          "Buồn",
          "Buồn",
          "Buồn",
          "Buồn",
          "Buồn",
          "Buồn",
          "Buồn",
          "Buồn",
          "Buồn",
          "Buồn",
          "Buồn",
          "Buồn",
          "Buồn",
          "Buồn",
          "Buồn",
          "Buồn",
          "Buồn",
          "Buồn",
          "Buồn",
          "Buồn",
          "Buồn",
          "Buồn",
          "Buồn",
          "Buồn",
          "Buồn",
          "Buồn",
          "Buồn",
          "Buồn",
          "Buồn",
          "Buồn",
          "Buồn",
          "Buồn",
          "Buồn",
          "Buồn",
          "Buồn",
          "Buồn",
          "Buồn",
          "Buồn",
          "Buồn",
          "Buồn",
          "Buồn",
          "Buồn",
          "Buồn",
          "Buồn",
          "Buồn",
          "Buồn",
          "Buồn",
          "Buồn",
          "Buồn",
          "Buồn",
          "Buồn",
          "Buồn",
          "Buồn",
          "Buồn",
          "Buồn",
          "Buồn",
          "Buồn",
          "Buồn",
          "Buồn",
          "Buồn",
          "Buồn",
          "Buồn"
         ],
         "xaxis": "x",
         "yaxis": "y"
        }
       ],
       "layout": {
        "barmode": "relative",
        "legend": {
         "title": {
          "text": "Cảm xúc"
         },
         "tracegroupgap": 0
        },
        "template": {
         "data": {
          "bar": [
           {
            "error_x": {
             "color": "#2a3f5f"
            },
            "error_y": {
             "color": "#2a3f5f"
            },
            "marker": {
             "line": {
              "color": "#E5ECF6",
              "width": 0.5
             },
             "pattern": {
              "fillmode": "overlay",
              "size": 10,
              "solidity": 0.2
             }
            },
            "type": "bar"
           }
          ],
          "barpolar": [
           {
            "marker": {
             "line": {
              "color": "#E5ECF6",
              "width": 0.5
             },
             "pattern": {
              "fillmode": "overlay",
              "size": 10,
              "solidity": 0.2
             }
            },
            "type": "barpolar"
           }
          ],
          "carpet": [
           {
            "aaxis": {
             "endlinecolor": "#2a3f5f",
             "gridcolor": "white",
             "linecolor": "white",
             "minorgridcolor": "white",
             "startlinecolor": "#2a3f5f"
            },
            "baxis": {
             "endlinecolor": "#2a3f5f",
             "gridcolor": "white",
             "linecolor": "white",
             "minorgridcolor": "white",
             "startlinecolor": "#2a3f5f"
            },
            "type": "carpet"
           }
          ],
          "choropleth": [
           {
            "colorbar": {
             "outlinewidth": 0,
             "ticks": ""
            },
            "type": "choropleth"
           }
          ],
          "contour": [
           {
            "colorbar": {
             "outlinewidth": 0,
             "ticks": ""
            },
            "colorscale": [
             [
              0,
              "#0d0887"
             ],
             [
              0.1111111111111111,
              "#46039f"
             ],
             [
              0.2222222222222222,
              "#7201a8"
             ],
             [
              0.3333333333333333,
              "#9c179e"
             ],
             [
              0.4444444444444444,
              "#bd3786"
             ],
             [
              0.5555555555555556,
              "#d8576b"
             ],
             [
              0.6666666666666666,
              "#ed7953"
             ],
             [
              0.7777777777777778,
              "#fb9f3a"
             ],
             [
              0.8888888888888888,
              "#fdca26"
             ],
             [
              1,
              "#f0f921"
             ]
            ],
            "type": "contour"
           }
          ],
          "contourcarpet": [
           {
            "colorbar": {
             "outlinewidth": 0,
             "ticks": ""
            },
            "type": "contourcarpet"
           }
          ],
          "heatmap": [
           {
            "colorbar": {
             "outlinewidth": 0,
             "ticks": ""
            },
            "colorscale": [
             [
              0,
              "#0d0887"
             ],
             [
              0.1111111111111111,
              "#46039f"
             ],
             [
              0.2222222222222222,
              "#7201a8"
             ],
             [
              0.3333333333333333,
              "#9c179e"
             ],
             [
              0.4444444444444444,
              "#bd3786"
             ],
             [
              0.5555555555555556,
              "#d8576b"
             ],
             [
              0.6666666666666666,
              "#ed7953"
             ],
             [
              0.7777777777777778,
              "#fb9f3a"
             ],
             [
              0.8888888888888888,
              "#fdca26"
             ],
             [
              1,
              "#f0f921"
             ]
            ],
            "type": "heatmap"
           }
          ],
          "heatmapgl": [
           {
            "colorbar": {
             "outlinewidth": 0,
             "ticks": ""
            },
            "colorscale": [
             [
              0,
              "#0d0887"
             ],
             [
              0.1111111111111111,
              "#46039f"
             ],
             [
              0.2222222222222222,
              "#7201a8"
             ],
             [
              0.3333333333333333,
              "#9c179e"
             ],
             [
              0.4444444444444444,
              "#bd3786"
             ],
             [
              0.5555555555555556,
              "#d8576b"
             ],
             [
              0.6666666666666666,
              "#ed7953"
             ],
             [
              0.7777777777777778,
              "#fb9f3a"
             ],
             [
              0.8888888888888888,
              "#fdca26"
             ],
             [
              1,
              "#f0f921"
             ]
            ],
            "type": "heatmapgl"
           }
          ],
          "histogram": [
           {
            "marker": {
             "pattern": {
              "fillmode": "overlay",
              "size": 10,
              "solidity": 0.2
             }
            },
            "type": "histogram"
           }
          ],
          "histogram2d": [
           {
            "colorbar": {
             "outlinewidth": 0,
             "ticks": ""
            },
            "colorscale": [
             [
              0,
              "#0d0887"
             ],
             [
              0.1111111111111111,
              "#46039f"
             ],
             [
              0.2222222222222222,
              "#7201a8"
             ],
             [
              0.3333333333333333,
              "#9c179e"
             ],
             [
              0.4444444444444444,
              "#bd3786"
             ],
             [
              0.5555555555555556,
              "#d8576b"
             ],
             [
              0.6666666666666666,
              "#ed7953"
             ],
             [
              0.7777777777777778,
              "#fb9f3a"
             ],
             [
              0.8888888888888888,
              "#fdca26"
             ],
             [
              1,
              "#f0f921"
             ]
            ],
            "type": "histogram2d"
           }
          ],
          "histogram2dcontour": [
           {
            "colorbar": {
             "outlinewidth": 0,
             "ticks": ""
            },
            "colorscale": [
             [
              0,
              "#0d0887"
             ],
             [
              0.1111111111111111,
              "#46039f"
             ],
             [
              0.2222222222222222,
              "#7201a8"
             ],
             [
              0.3333333333333333,
              "#9c179e"
             ],
             [
              0.4444444444444444,
              "#bd3786"
             ],
             [
              0.5555555555555556,
              "#d8576b"
             ],
             [
              0.6666666666666666,
              "#ed7953"
             ],
             [
              0.7777777777777778,
              "#fb9f3a"
             ],
             [
              0.8888888888888888,
              "#fdca26"
             ],
             [
              1,
              "#f0f921"
             ]
            ],
            "type": "histogram2dcontour"
           }
          ],
          "mesh3d": [
           {
            "colorbar": {
             "outlinewidth": 0,
             "ticks": ""
            },
            "type": "mesh3d"
           }
          ],
          "parcoords": [
           {
            "line": {
             "colorbar": {
              "outlinewidth": 0,
              "ticks": ""
             }
            },
            "type": "parcoords"
           }
          ],
          "pie": [
           {
            "automargin": true,
            "type": "pie"
           }
          ],
          "scatter": [
           {
            "fillpattern": {
             "fillmode": "overlay",
             "size": 10,
             "solidity": 0.2
            },
            "type": "scatter"
           }
          ],
          "scatter3d": [
           {
            "line": {
             "colorbar": {
              "outlinewidth": 0,
              "ticks": ""
             }
            },
            "marker": {
             "colorbar": {
              "outlinewidth": 0,
              "ticks": ""
             }
            },
            "type": "scatter3d"
           }
          ],
          "scattercarpet": [
           {
            "marker": {
             "colorbar": {
              "outlinewidth": 0,
              "ticks": ""
             }
            },
            "type": "scattercarpet"
           }
          ],
          "scattergeo": [
           {
            "marker": {
             "colorbar": {
              "outlinewidth": 0,
              "ticks": ""
             }
            },
            "type": "scattergeo"
           }
          ],
          "scattergl": [
           {
            "marker": {
             "colorbar": {
              "outlinewidth": 0,
              "ticks": ""
             }
            },
            "type": "scattergl"
           }
          ],
          "scattermapbox": [
           {
            "marker": {
             "colorbar": {
              "outlinewidth": 0,
              "ticks": ""
             }
            },
            "type": "scattermapbox"
           }
          ],
          "scatterpolar": [
           {
            "marker": {
             "colorbar": {
              "outlinewidth": 0,
              "ticks": ""
             }
            },
            "type": "scatterpolar"
           }
          ],
          "scatterpolargl": [
           {
            "marker": {
             "colorbar": {
              "outlinewidth": 0,
              "ticks": ""
             }
            },
            "type": "scatterpolargl"
           }
          ],
          "scatterternary": [
           {
            "marker": {
             "colorbar": {
              "outlinewidth": 0,
              "ticks": ""
             }
            },
            "type": "scatterternary"
           }
          ],
          "surface": [
           {
            "colorbar": {
             "outlinewidth": 0,
             "ticks": ""
            },
            "colorscale": [
             [
              0,
              "#0d0887"
             ],
             [
              0.1111111111111111,
              "#46039f"
             ],
             [
              0.2222222222222222,
              "#7201a8"
             ],
             [
              0.3333333333333333,
              "#9c179e"
             ],
             [
              0.4444444444444444,
              "#bd3786"
             ],
             [
              0.5555555555555556,
              "#d8576b"
             ],
             [
              0.6666666666666666,
              "#ed7953"
             ],
             [
              0.7777777777777778,
              "#fb9f3a"
             ],
             [
              0.8888888888888888,
              "#fdca26"
             ],
             [
              1,
              "#f0f921"
             ]
            ],
            "type": "surface"
           }
          ],
          "table": [
           {
            "cells": {
             "fill": {
              "color": "#EBF0F8"
             },
             "line": {
              "color": "white"
             }
            },
            "header": {
             "fill": {
              "color": "#C8D4E3"
             },
             "line": {
              "color": "white"
             }
            },
            "type": "table"
           }
          ]
         },
         "layout": {
          "annotationdefaults": {
           "arrowcolor": "#2a3f5f",
           "arrowhead": 0,
           "arrowwidth": 1
          },
          "autotypenumbers": "strict",
          "coloraxis": {
           "colorbar": {
            "outlinewidth": 0,
            "ticks": ""
           }
          },
          "colorscale": {
           "diverging": [
            [
             0,
             "#8e0152"
            ],
            [
             0.1,
             "#c51b7d"
            ],
            [
             0.2,
             "#de77ae"
            ],
            [
             0.3,
             "#f1b6da"
            ],
            [
             0.4,
             "#fde0ef"
            ],
            [
             0.5,
             "#f7f7f7"
            ],
            [
             0.6,
             "#e6f5d0"
            ],
            [
             0.7,
             "#b8e186"
            ],
            [
             0.8,
             "#7fbc41"
            ],
            [
             0.9,
             "#4d9221"
            ],
            [
             1,
             "#276419"
            ]
           ],
           "sequential": [
            [
             0,
             "#0d0887"
            ],
            [
             0.1111111111111111,
             "#46039f"
            ],
            [
             0.2222222222222222,
             "#7201a8"
            ],
            [
             0.3333333333333333,
             "#9c179e"
            ],
            [
             0.4444444444444444,
             "#bd3786"
            ],
            [
             0.5555555555555556,
             "#d8576b"
            ],
            [
             0.6666666666666666,
             "#ed7953"
            ],
            [
             0.7777777777777778,
             "#fb9f3a"
            ],
            [
             0.8888888888888888,
             "#fdca26"
            ],
            [
             1,
             "#f0f921"
            ]
           ],
           "sequentialminus": [
            [
             0,
             "#0d0887"
            ],
            [
             0.1111111111111111,
             "#46039f"
            ],
            [
             0.2222222222222222,
             "#7201a8"
            ],
            [
             0.3333333333333333,
             "#9c179e"
            ],
            [
             0.4444444444444444,
             "#bd3786"
            ],
            [
             0.5555555555555556,
             "#d8576b"
            ],
            [
             0.6666666666666666,
             "#ed7953"
            ],
            [
             0.7777777777777778,
             "#fb9f3a"
            ],
            [
             0.8888888888888888,
             "#fdca26"
            ],
            [
             1,
             "#f0f921"
            ]
           ]
          },
          "colorway": [
           "#636efa",
           "#EF553B",
           "#00cc96",
           "#ab63fa",
           "#FFA15A",
           "#19d3f3",
           "#FF6692",
           "#B6E880",
           "#FF97FF",
           "#FECB52"
          ],
          "font": {
           "color": "#2a3f5f"
          },
          "geo": {
           "bgcolor": "white",
           "lakecolor": "white",
           "landcolor": "#E5ECF6",
           "showlakes": true,
           "showland": true,
           "subunitcolor": "white"
          },
          "hoverlabel": {
           "align": "left"
          },
          "hovermode": "closest",
          "mapbox": {
           "style": "light"
          },
          "paper_bgcolor": "white",
          "plot_bgcolor": "#E5ECF6",
          "polar": {
           "angularaxis": {
            "gridcolor": "white",
            "linecolor": "white",
            "ticks": ""
           },
           "bgcolor": "#E5ECF6",
           "radialaxis": {
            "gridcolor": "white",
            "linecolor": "white",
            "ticks": ""
           }
          },
          "scene": {
           "xaxis": {
            "backgroundcolor": "#E5ECF6",
            "gridcolor": "white",
            "gridwidth": 2,
            "linecolor": "white",
            "showbackground": true,
            "ticks": "",
            "zerolinecolor": "white"
           },
           "yaxis": {
            "backgroundcolor": "#E5ECF6",
            "gridcolor": "white",
            "gridwidth": 2,
            "linecolor": "white",
            "showbackground": true,
            "ticks": "",
            "zerolinecolor": "white"
           },
           "zaxis": {
            "backgroundcolor": "#E5ECF6",
            "gridcolor": "white",
            "gridwidth": 2,
            "linecolor": "white",
            "showbackground": true,
            "ticks": "",
            "zerolinecolor": "white"
           }
          },
          "shapedefaults": {
           "line": {
            "color": "#2a3f5f"
           }
          },
          "ternary": {
           "aaxis": {
            "gridcolor": "white",
            "linecolor": "white",
            "ticks": ""
           },
           "baxis": {
            "gridcolor": "white",
            "linecolor": "white",
            "ticks": ""
           },
           "bgcolor": "#E5ECF6",
           "caxis": {
            "gridcolor": "white",
            "linecolor": "white",
            "ticks": ""
           }
          },
          "title": {
           "x": 0.05
          },
          "xaxis": {
           "automargin": true,
           "gridcolor": "white",
           "linecolor": "white",
           "ticks": "",
           "title": {
            "standoff": 15
           },
           "zerolinecolor": "white",
           "zerolinewidth": 2
          },
          "yaxis": {
           "automargin": true,
           "gridcolor": "white",
           "linecolor": "white",
           "ticks": "",
           "title": {
            "standoff": 15
           },
           "zerolinecolor": "white",
           "zerolinewidth": 2
          }
         }
        },
        "title": {
         "text": "Cảm xúc Distribution"
        },
        "xaxis": {
         "anchor": "y",
         "categoryarray": [
          "Vui",
          "Bình thường",
          "Khó chịu",
          "Buồn"
         ],
         "categoryorder": "array",
         "domain": [
          0,
          1
         ],
         "title": {
          "text": "Cảm xúc"
         }
        },
        "yaxis": {
         "anchor": "x",
         "domain": [
          0,
          1
         ],
         "title": {
          "text": "Count"
         }
        }
       }
      }
     },
     "metadata": {},
     "output_type": "display_data"
    }
   ],
   "source": [
    "fig = px.histogram(data, x='Cảm xúc', color='Cảm xúc', title='Cảm xúc Distribution')\n",
    "fig.update_layout(xaxis_title='Cảm xúc', yaxis_title='Count')\n",
    "fig.show()"
   ]
  },
  {
   "cell_type": "code",
   "execution_count": 61,
   "metadata": {},
   "outputs": [
    {
     "data": {
      "application/vnd.plotly.v1+json": {
       "config": {
        "plotlyServerURL": "https://plot.ly"
       },
       "data": [
        {
         "alignmentgroup": "True",
         "bingroup": "x",
         "hovertemplate": "Thời tiết=%{x}<br>count=%{y}<extra></extra>",
         "legendgroup": "Lạnh",
         "marker": {
          "color": "#636efa",
          "pattern": {
           "shape": ""
          }
         },
         "name": "Lạnh",
         "offsetgroup": "Lạnh",
         "orientation": "v",
         "showlegend": true,
         "type": "histogram",
         "x": [
          "Lạnh",
          "Lạnh",
          "Lạnh",
          "Lạnh",
          "Lạnh",
          "Lạnh",
          "Lạnh",
          "Lạnh",
          "Lạnh",
          "Lạnh",
          "Lạnh",
          "Lạnh",
          "Lạnh",
          "Lạnh",
          "Lạnh",
          "Lạnh",
          "Lạnh",
          "Lạnh",
          "Lạnh",
          "Lạnh",
          "Lạnh",
          "Lạnh",
          "Lạnh",
          "Lạnh",
          "Lạnh",
          "Lạnh",
          "Lạnh",
          "Lạnh",
          "Lạnh",
          "Lạnh",
          "Lạnh",
          "Lạnh",
          "Lạnh",
          "Lạnh",
          "Lạnh",
          "Lạnh",
          "Lạnh",
          "Lạnh",
          "Lạnh",
          "Lạnh",
          "Lạnh",
          "Lạnh",
          "Lạnh",
          "Lạnh",
          "Lạnh",
          "Lạnh",
          "Lạnh",
          "Lạnh",
          "Lạnh",
          "Lạnh",
          "Lạnh",
          "Lạnh",
          "Lạnh",
          "Lạnh",
          "Lạnh",
          "Lạnh",
          "Lạnh",
          "Lạnh",
          "Lạnh",
          "Lạnh",
          "Lạnh",
          "Lạnh",
          "Lạnh",
          "Lạnh",
          "Lạnh",
          "Lạnh",
          "Lạnh",
          "Lạnh",
          "Lạnh",
          "Lạnh",
          "Lạnh",
          "Lạnh",
          "Lạnh",
          "Lạnh",
          "Lạnh",
          "Lạnh",
          "Lạnh",
          "Lạnh",
          "Lạnh",
          "Lạnh",
          "Lạnh",
          "Lạnh",
          "Lạnh",
          "Lạnh",
          "Lạnh",
          "Lạnh",
          "Lạnh",
          "Lạnh",
          "Lạnh",
          "Lạnh",
          "Lạnh",
          "Lạnh",
          "Lạnh",
          "Lạnh",
          "Lạnh",
          "Lạnh",
          "Lạnh",
          "Lạnh",
          "Lạnh",
          "Lạnh",
          "Lạnh",
          "Lạnh",
          "Lạnh",
          "Lạnh",
          "Lạnh",
          "Lạnh",
          "Lạnh",
          "Lạnh",
          "Lạnh",
          "Lạnh",
          "Lạnh",
          "Lạnh",
          "Lạnh",
          "Lạnh",
          "Lạnh",
          "Lạnh",
          "Lạnh",
          "Lạnh",
          "Lạnh",
          "Lạnh",
          "Lạnh",
          "Lạnh",
          "Lạnh",
          "Lạnh",
          "Lạnh",
          "Lạnh",
          "Lạnh",
          "Lạnh",
          "Lạnh",
          "Lạnh",
          "Lạnh",
          "Lạnh",
          "Lạnh",
          "Lạnh",
          "Lạnh",
          "Lạnh",
          "Lạnh",
          "Lạnh"
         ],
         "xaxis": "x",
         "yaxis": "y"
        },
        {
         "alignmentgroup": "True",
         "bingroup": "x",
         "hovertemplate": "Thời tiết=%{x}<br>count=%{y}<extra></extra>",
         "legendgroup": "Nóng",
         "marker": {
          "color": "#EF553B",
          "pattern": {
           "shape": ""
          }
         },
         "name": "Nóng",
         "offsetgroup": "Nóng",
         "orientation": "v",
         "showlegend": true,
         "type": "histogram",
         "x": [
          "Nóng",
          "Nóng",
          "Nóng",
          "Nóng",
          "Nóng",
          "Nóng",
          "Nóng",
          "Nóng",
          "Nóng",
          "Nóng",
          "Nóng",
          "Nóng",
          "Nóng",
          "Nóng",
          "Nóng",
          "Nóng",
          "Nóng",
          "Nóng",
          "Nóng",
          "Nóng",
          "Nóng",
          "Nóng",
          "Nóng",
          "Nóng",
          "Nóng",
          "Nóng",
          "Nóng",
          "Nóng",
          "Nóng",
          "Nóng",
          "Nóng",
          "Nóng",
          "Nóng",
          "Nóng",
          "Nóng",
          "Nóng",
          "Nóng",
          "Nóng",
          "Nóng",
          "Nóng",
          "Nóng",
          "Nóng",
          "Nóng",
          "Nóng",
          "Nóng",
          "Nóng",
          "Nóng",
          "Nóng",
          "Nóng",
          "Nóng",
          "Nóng",
          "Nóng",
          "Nóng",
          "Nóng",
          "Nóng",
          "Nóng",
          "Nóng",
          "Nóng",
          "Nóng",
          "Nóng",
          "Nóng",
          "Nóng",
          "Nóng",
          "Nóng",
          "Nóng",
          "Nóng",
          "Nóng",
          "Nóng",
          "Nóng",
          "Nóng",
          "Nóng",
          "Nóng",
          "Nóng",
          "Nóng",
          "Nóng",
          "Nóng",
          "Nóng",
          "Nóng",
          "Nóng",
          "Nóng",
          "Nóng",
          "Nóng",
          "Nóng",
          "Nóng",
          "Nóng",
          "Nóng",
          "Nóng",
          "Nóng",
          "Nóng",
          "Nóng",
          "Nóng",
          "Nóng",
          "Nóng",
          "Nóng",
          "Nóng",
          "Nóng",
          "Nóng",
          "Nóng",
          "Nóng",
          "Nóng",
          "Nóng",
          "Nóng",
          "Nóng",
          "Nóng",
          "Nóng",
          "Nóng",
          "Nóng",
          "Nóng",
          "Nóng",
          "Nóng",
          "Nóng",
          "Nóng",
          "Nóng",
          "Nóng",
          "Nóng",
          "Nóng",
          "Nóng",
          "Nóng",
          "Nóng",
          "Nóng",
          "Nóng",
          "Nóng",
          "Nóng",
          "Nóng",
          "Nóng",
          "Nóng",
          "Nóng",
          "Nóng",
          "Nóng",
          "Nóng",
          "Nóng",
          "Nóng",
          "Nóng",
          "Nóng",
          "Nóng",
          "Nóng"
         ],
         "xaxis": "x",
         "yaxis": "y"
        },
        {
         "alignmentgroup": "True",
         "bingroup": "x",
         "hovertemplate": "Thời tiết=%{x}<br>count=%{y}<extra></extra>",
         "legendgroup": "Hơi lạnh",
         "marker": {
          "color": "#00cc96",
          "pattern": {
           "shape": ""
          }
         },
         "name": "Hơi lạnh",
         "offsetgroup": "Hơi lạnh",
         "orientation": "v",
         "showlegend": true,
         "type": "histogram",
         "x": [
          "Hơi lạnh",
          "Hơi lạnh",
          "Hơi lạnh",
          "Hơi lạnh",
          "Hơi lạnh",
          "Hơi lạnh",
          "Hơi lạnh",
          "Hơi lạnh",
          "Hơi lạnh",
          "Hơi lạnh",
          "Hơi lạnh",
          "Hơi lạnh",
          "Hơi lạnh",
          "Hơi lạnh",
          "Hơi lạnh",
          "Hơi lạnh",
          "Hơi lạnh",
          "Hơi lạnh",
          "Hơi lạnh",
          "Hơi lạnh",
          "Hơi lạnh",
          "Hơi lạnh",
          "Hơi lạnh",
          "Hơi lạnh",
          "Hơi lạnh",
          "Hơi lạnh",
          "Hơi lạnh",
          "Hơi lạnh",
          "Hơi lạnh",
          "Hơi lạnh",
          "Hơi lạnh",
          "Hơi lạnh",
          "Hơi lạnh",
          "Hơi lạnh",
          "Hơi lạnh",
          "Hơi lạnh",
          "Hơi lạnh",
          "Hơi lạnh",
          "Hơi lạnh",
          "Hơi lạnh",
          "Hơi lạnh",
          "Hơi lạnh",
          "Hơi lạnh",
          "Hơi lạnh",
          "Hơi lạnh",
          "Hơi lạnh",
          "Hơi lạnh",
          "Hơi lạnh",
          "Hơi lạnh",
          "Hơi lạnh",
          "Hơi lạnh",
          "Hơi lạnh",
          "Hơi lạnh",
          "Hơi lạnh",
          "Hơi lạnh",
          "Hơi lạnh",
          "Hơi lạnh",
          "Hơi lạnh",
          "Hơi lạnh",
          "Hơi lạnh",
          "Hơi lạnh",
          "Hơi lạnh",
          "Hơi lạnh",
          "Hơi lạnh",
          "Hơi lạnh",
          "Hơi lạnh",
          "Hơi lạnh",
          "Hơi lạnh",
          "Hơi lạnh",
          "Hơi lạnh",
          "Hơi lạnh",
          "Hơi lạnh",
          "Hơi lạnh",
          "Hơi lạnh",
          "Hơi lạnh",
          "Hơi lạnh",
          "Hơi lạnh",
          "Hơi lạnh",
          "Hơi lạnh",
          "Hơi lạnh",
          "Hơi lạnh",
          "Hơi lạnh",
          "Hơi lạnh",
          "Hơi lạnh",
          "Hơi lạnh",
          "Hơi lạnh",
          "Hơi lạnh",
          "Hơi lạnh",
          "Hơi lạnh",
          "Hơi lạnh",
          "Hơi lạnh",
          "Hơi lạnh",
          "Hơi lạnh",
          "Hơi lạnh",
          "Hơi lạnh",
          "Hơi lạnh",
          "Hơi lạnh",
          "Hơi lạnh",
          "Hơi lạnh",
          "Hơi lạnh",
          "Hơi lạnh",
          "Hơi lạnh",
          "Hơi lạnh",
          "Hơi lạnh",
          "Hơi lạnh",
          "Hơi lạnh",
          "Hơi lạnh",
          "Hơi lạnh",
          "Hơi lạnh",
          "Hơi lạnh",
          "Hơi lạnh",
          "Hơi lạnh",
          "Hơi lạnh",
          "Hơi lạnh",
          "Hơi lạnh",
          "Hơi lạnh",
          "Hơi lạnh",
          "Hơi lạnh",
          "Hơi lạnh",
          "Hơi lạnh",
          "Hơi lạnh",
          "Hơi lạnh",
          "Hơi lạnh",
          "Hơi lạnh",
          "Hơi lạnh",
          "Hơi lạnh",
          "Hơi lạnh",
          "Hơi lạnh",
          "Hơi lạnh",
          "Hơi lạnh",
          "Hơi lạnh",
          "Hơi lạnh",
          "Hơi lạnh",
          "Hơi lạnh",
          "Hơi lạnh",
          "Hơi lạnh",
          "Hơi lạnh",
          "Hơi lạnh",
          "Hơi lạnh",
          "Hơi lạnh",
          "Hơi lạnh",
          "Hơi lạnh",
          "Hơi lạnh",
          "Hơi lạnh",
          "Hơi lạnh",
          "Hơi lạnh",
          "Hơi lạnh",
          "Hơi lạnh",
          "Hơi lạnh",
          "Hơi lạnh"
         ],
         "xaxis": "x",
         "yaxis": "y"
        },
        {
         "alignmentgroup": "True",
         "bingroup": "x",
         "hovertemplate": "Thời tiết=%{x}<br>count=%{y}<extra></extra>",
         "legendgroup": "Hơi Nóng",
         "marker": {
          "color": "#ab63fa",
          "pattern": {
           "shape": ""
          }
         },
         "name": "Hơi Nóng",
         "offsetgroup": "Hơi Nóng",
         "orientation": "v",
         "showlegend": true,
         "type": "histogram",
         "x": [
          "Hơi Nóng",
          "Hơi Nóng",
          "Hơi Nóng",
          "Hơi Nóng",
          "Hơi Nóng",
          "Hơi Nóng",
          "Hơi Nóng",
          "Hơi Nóng",
          "Hơi Nóng",
          "Hơi Nóng",
          "Hơi Nóng",
          "Hơi Nóng",
          "Hơi Nóng",
          "Hơi Nóng",
          "Hơi Nóng",
          "Hơi Nóng",
          "Hơi Nóng",
          "Hơi Nóng",
          "Hơi Nóng",
          "Hơi Nóng",
          "Hơi Nóng",
          "Hơi Nóng",
          "Hơi Nóng",
          "Hơi Nóng",
          "Hơi Nóng",
          "Hơi Nóng",
          "Hơi Nóng",
          "Hơi Nóng",
          "Hơi Nóng",
          "Hơi Nóng",
          "Hơi Nóng",
          "Hơi Nóng",
          "Hơi Nóng",
          "Hơi Nóng",
          "Hơi Nóng",
          "Hơi Nóng",
          "Hơi Nóng",
          "Hơi Nóng",
          "Hơi Nóng",
          "Hơi Nóng",
          "Hơi Nóng",
          "Hơi Nóng",
          "Hơi Nóng",
          "Hơi Nóng",
          "Hơi Nóng",
          "Hơi Nóng",
          "Hơi Nóng",
          "Hơi Nóng",
          "Hơi Nóng",
          "Hơi Nóng",
          "Hơi Nóng",
          "Hơi Nóng",
          "Hơi Nóng",
          "Hơi Nóng",
          "Hơi Nóng",
          "Hơi Nóng",
          "Hơi Nóng",
          "Hơi Nóng",
          "Hơi Nóng",
          "Hơi Nóng",
          "Hơi Nóng",
          "Hơi Nóng",
          "Hơi Nóng",
          "Hơi Nóng",
          "Hơi Nóng",
          "Hơi Nóng",
          "Hơi Nóng",
          "Hơi Nóng",
          "Hơi Nóng",
          "Hơi Nóng",
          "Hơi Nóng",
          "Hơi Nóng",
          "Hơi Nóng",
          "Hơi Nóng",
          "Hơi Nóng",
          "Hơi Nóng",
          "Hơi Nóng",
          "Hơi Nóng",
          "Hơi Nóng",
          "Hơi Nóng",
          "Hơi Nóng",
          "Hơi Nóng",
          "Hơi Nóng",
          "Hơi Nóng",
          "Hơi Nóng",
          "Hơi Nóng",
          "Hơi Nóng",
          "Hơi Nóng",
          "Hơi Nóng",
          "Hơi Nóng",
          "Hơi Nóng",
          "Hơi Nóng",
          "Hơi Nóng",
          "Hơi Nóng",
          "Hơi Nóng",
          "Hơi Nóng",
          "Hơi Nóng",
          "Hơi Nóng",
          "Hơi Nóng",
          "Hơi Nóng",
          "Hơi Nóng",
          "Hơi Nóng",
          "Hơi Nóng",
          "Hơi Nóng",
          "Hơi Nóng",
          "Hơi Nóng",
          "Hơi Nóng",
          "Hơi Nóng",
          "Hơi Nóng",
          "Hơi Nóng",
          "Hơi Nóng",
          "Hơi Nóng",
          "Hơi Nóng",
          "Hơi Nóng",
          "Hơi Nóng",
          "Hơi Nóng",
          "Hơi Nóng",
          "Hơi Nóng",
          "Hơi Nóng",
          "Hơi Nóng",
          "Hơi Nóng",
          "Hơi Nóng",
          "Hơi Nóng",
          "Hơi Nóng",
          "Hơi Nóng",
          "Hơi Nóng",
          "Hơi Nóng",
          "Hơi Nóng",
          "Hơi Nóng",
          "Hơi Nóng",
          "Hơi Nóng",
          "Hơi Nóng",
          "Hơi Nóng",
          "Hơi Nóng",
          "Hơi Nóng",
          "Hơi Nóng",
          "Hơi Nóng",
          "Hơi Nóng",
          "Hơi Nóng",
          "Hơi Nóng",
          "Hơi Nóng",
          "Hơi Nóng",
          "Hơi Nóng",
          "Hơi Nóng",
          "Hơi Nóng",
          "Hơi Nóng",
          "Hơi Nóng"
         ],
         "xaxis": "x",
         "yaxis": "y"
        },
        {
         "alignmentgroup": "True",
         "bingroup": "x",
         "hovertemplate": "Thời tiết=%{x}<br>count=%{y}<extra></extra>",
         "legendgroup": "Quá lạnh",
         "marker": {
          "color": "#FFA15A",
          "pattern": {
           "shape": ""
          }
         },
         "name": "Quá lạnh",
         "offsetgroup": "Quá lạnh",
         "orientation": "v",
         "showlegend": true,
         "type": "histogram",
         "x": [
          "Quá lạnh"
         ],
         "xaxis": "x",
         "yaxis": "y"
        },
        {
         "alignmentgroup": "True",
         "bingroup": "x",
         "hovertemplate": "Thời tiết=%{x}<br>count=%{y}<extra></extra>",
         "legendgroup": "Quá Nóng",
         "marker": {
          "color": "#19d3f3",
          "pattern": {
           "shape": ""
          }
         },
         "name": "Quá Nóng",
         "offsetgroup": "Quá Nóng",
         "orientation": "v",
         "showlegend": true,
         "type": "histogram",
         "x": [
          "Quá Nóng",
          "Quá Nóng",
          "Quá Nóng",
          "Quá Nóng",
          "Quá Nóng",
          "Quá Nóng",
          "Quá Nóng",
          "Quá Nóng",
          "Quá Nóng",
          "Quá Nóng",
          "Quá Nóng",
          "Quá Nóng",
          "Quá Nóng",
          "Quá Nóng",
          "Quá Nóng",
          "Quá Nóng",
          "Quá Nóng",
          "Quá Nóng",
          "Quá Nóng",
          "Quá Nóng",
          "Quá Nóng",
          "Quá Nóng",
          "Quá Nóng",
          "Quá Nóng",
          "Quá Nóng",
          "Quá Nóng",
          "Quá Nóng",
          "Quá Nóng",
          "Quá Nóng",
          "Quá Nóng",
          "Quá Nóng",
          "Quá Nóng",
          "Quá Nóng",
          "Quá Nóng",
          "Quá Nóng",
          "Quá Nóng",
          "Quá Nóng",
          "Quá Nóng",
          "Quá Nóng",
          "Quá Nóng",
          "Quá Nóng",
          "Quá Nóng",
          "Quá Nóng",
          "Quá Nóng",
          "Quá Nóng",
          "Quá Nóng",
          "Quá Nóng",
          "Quá Nóng",
          "Quá Nóng",
          "Quá Nóng",
          "Quá Nóng",
          "Quá Nóng",
          "Quá Nóng",
          "Quá Nóng",
          "Quá Nóng",
          "Quá Nóng",
          "Quá Nóng",
          "Quá Nóng",
          "Quá Nóng",
          "Quá Nóng",
          "Quá Nóng",
          "Quá Nóng",
          "Quá Nóng",
          "Quá Nóng",
          "Quá Nóng",
          "Quá Nóng",
          "Quá Nóng",
          "Quá Nóng",
          "Quá Nóng",
          "Quá Nóng",
          "Quá Nóng",
          "Quá Nóng",
          "Quá Nóng",
          "Quá Nóng",
          "Quá Nóng",
          "Quá Nóng",
          "Quá Nóng",
          "Quá Nóng",
          "Quá Nóng",
          "Quá Nóng",
          "Quá Nóng",
          "Quá Nóng",
          "Quá Nóng",
          "Quá Nóng",
          "Quá Nóng",
          "Quá Nóng",
          "Quá Nóng",
          "Quá Nóng",
          "Quá Nóng",
          "Quá Nóng",
          "Quá Nóng",
          "Quá Nóng",
          "Quá Nóng",
          "Quá Nóng",
          "Quá Nóng",
          "Quá Nóng",
          "Quá Nóng",
          "Quá Nóng",
          "Quá Nóng",
          "Quá Nóng",
          "Quá Nóng",
          "Quá Nóng",
          "Quá Nóng",
          "Quá Nóng",
          "Quá Nóng",
          "Quá Nóng",
          "Quá Nóng",
          "Quá Nóng",
          "Quá Nóng",
          "Quá Nóng",
          "Quá Nóng",
          "Quá Nóng",
          "Quá Nóng",
          "Quá Nóng",
          "Quá Nóng",
          "Quá Nóng",
          "Quá Nóng",
          "Quá Nóng",
          "Quá Nóng",
          "Quá Nóng",
          "Quá Nóng",
          "Quá Nóng",
          "Quá Nóng",
          "Quá Nóng",
          "Quá Nóng",
          "Quá Nóng",
          "Quá Nóng",
          "Quá Nóng",
          "Quá Nóng",
          "Quá Nóng",
          "Quá Nóng",
          "Quá Nóng",
          "Quá Nóng",
          "Quá Nóng",
          "Quá Nóng",
          "Quá Nóng"
         ],
         "xaxis": "x",
         "yaxis": "y"
        },
        {
         "alignmentgroup": "True",
         "bingroup": "x",
         "hovertemplate": "Thời tiết=%{x}<br>count=%{y}<extra></extra>",
         "legendgroup": "Mát",
         "marker": {
          "color": "#FF6692",
          "pattern": {
           "shape": ""
          }
         },
         "name": "Mát",
         "offsetgroup": "Mát",
         "orientation": "v",
         "showlegend": true,
         "type": "histogram",
         "x": [
          "Mát",
          "Mát",
          "Mát",
          "Mát",
          "Mát",
          "Mát",
          "Mát",
          "Mát",
          "Mát",
          "Mát",
          "Mát",
          "Mát",
          "Mát",
          "Mát",
          "Mát",
          "Mát",
          "Mát",
          "Mát",
          "Mát",
          "Mát",
          "Mát",
          "Mát",
          "Mát",
          "Mát",
          "Mát",
          "Mát",
          "Mát",
          "Mát",
          "Mát",
          "Mát",
          "Mát",
          "Mát",
          "Mát",
          "Mát",
          "Mát",
          "Mát",
          "Mát",
          "Mát",
          "Mát",
          "Mát",
          "Mát",
          "Mát",
          "Mát",
          "Mát",
          "Mát",
          "Mát",
          "Mát",
          "Mát",
          "Mát",
          "Mát",
          "Mát",
          "Mát",
          "Mát",
          "Mát",
          "Mát",
          "Mát",
          "Mát",
          "Mát",
          "Mát",
          "Mát",
          "Mát",
          "Mát",
          "Mát",
          "Mát",
          "Mát",
          "Mát",
          "Mát",
          "Mát",
          "Mát",
          "Mát",
          "Mát",
          "Mát",
          "Mát",
          "Mát",
          "Mát",
          "Mát",
          "Mát",
          "Mát",
          "Mát",
          "Mát",
          "Mát",
          "Mát",
          "Mát",
          "Mát",
          "Mát",
          "Mát",
          "Mát",
          "Mát",
          "Mát",
          "Mát",
          "Mát",
          "Mát",
          "Mát",
          "Mát",
          "Mát",
          "Mát",
          "Mát",
          "Mát",
          "Mát",
          "Mát",
          "Mát",
          "Mát",
          "Mát",
          "Mát",
          "Mát",
          "Mát",
          "Mát",
          "Mát",
          "Mát",
          "Mát",
          "Mát",
          "Mát",
          "Mát",
          "Mát",
          "Mát",
          "Mát",
          "Mát",
          "Mát",
          "Mát",
          "Mát",
          "Mát",
          "Mát",
          "Mát",
          "Mát",
          "Mát",
          "Mát",
          "Mát",
          "Mát",
          "Mát",
          "Mát",
          "Mát"
         ],
         "xaxis": "x",
         "yaxis": "y"
        },
        {
         "alignmentgroup": "True",
         "bingroup": "x",
         "hovertemplate": "Thời tiết=%{x}<br>count=%{y}<extra></extra>",
         "legendgroup": "Qúa lạnh",
         "marker": {
          "color": "#B6E880",
          "pattern": {
           "shape": ""
          }
         },
         "name": "Qúa lạnh",
         "offsetgroup": "Qúa lạnh",
         "orientation": "v",
         "showlegend": true,
         "type": "histogram",
         "x": [
          "Qúa lạnh",
          "Qúa lạnh",
          "Qúa lạnh",
          "Qúa lạnh",
          "Qúa lạnh",
          "Qúa lạnh",
          "Qúa lạnh",
          "Qúa lạnh",
          "Qúa lạnh",
          "Qúa lạnh",
          "Qúa lạnh",
          "Qúa lạnh",
          "Qúa lạnh",
          "Qúa lạnh",
          "Qúa lạnh",
          "Qúa lạnh",
          "Qúa lạnh",
          "Qúa lạnh",
          "Qúa lạnh",
          "Qúa lạnh",
          "Qúa lạnh",
          "Qúa lạnh",
          "Qúa lạnh",
          "Qúa lạnh",
          "Qúa lạnh",
          "Qúa lạnh",
          "Qúa lạnh",
          "Qúa lạnh",
          "Qúa lạnh",
          "Qúa lạnh",
          "Qúa lạnh",
          "Qúa lạnh",
          "Qúa lạnh",
          "Qúa lạnh",
          "Qúa lạnh",
          "Qúa lạnh",
          "Qúa lạnh",
          "Qúa lạnh",
          "Qúa lạnh",
          "Qúa lạnh",
          "Qúa lạnh",
          "Qúa lạnh",
          "Qúa lạnh",
          "Qúa lạnh",
          "Qúa lạnh",
          "Qúa lạnh",
          "Qúa lạnh",
          "Qúa lạnh",
          "Qúa lạnh",
          "Qúa lạnh",
          "Qúa lạnh",
          "Qúa lạnh",
          "Qúa lạnh",
          "Qúa lạnh",
          "Qúa lạnh",
          "Qúa lạnh",
          "Qúa lạnh",
          "Qúa lạnh",
          "Qúa lạnh",
          "Qúa lạnh",
          "Qúa lạnh",
          "Qúa lạnh",
          "Qúa lạnh",
          "Qúa lạnh",
          "Qúa lạnh",
          "Qúa lạnh",
          "Qúa lạnh",
          "Qúa lạnh",
          "Qúa lạnh",
          "Qúa lạnh",
          "Qúa lạnh",
          "Qúa lạnh",
          "Qúa lạnh",
          "Qúa lạnh",
          "Qúa lạnh",
          "Qúa lạnh",
          "Qúa lạnh",
          "Qúa lạnh",
          "Qúa lạnh",
          "Qúa lạnh",
          "Qúa lạnh",
          "Qúa lạnh",
          "Qúa lạnh",
          "Qúa lạnh",
          "Qúa lạnh",
          "Qúa lạnh",
          "Qúa lạnh",
          "Qúa lạnh",
          "Qúa lạnh",
          "Qúa lạnh",
          "Qúa lạnh",
          "Qúa lạnh",
          "Qúa lạnh",
          "Qúa lạnh",
          "Qúa lạnh",
          "Qúa lạnh",
          "Qúa lạnh",
          "Qúa lạnh",
          "Qúa lạnh",
          "Qúa lạnh",
          "Qúa lạnh",
          "Qúa lạnh",
          "Qúa lạnh",
          "Qúa lạnh",
          "Qúa lạnh",
          "Qúa lạnh",
          "Qúa lạnh",
          "Qúa lạnh",
          "Qúa lạnh",
          "Qúa lạnh",
          "Qúa lạnh",
          "Qúa lạnh",
          "Qúa lạnh",
          "Qúa lạnh",
          "Qúa lạnh",
          "Qúa lạnh",
          "Qúa lạnh",
          "Qúa lạnh",
          "Qúa lạnh",
          "Qúa lạnh",
          "Qúa lạnh",
          "Qúa lạnh",
          "Qúa lạnh",
          "Qúa lạnh",
          "Qúa lạnh",
          "Qúa lạnh",
          "Qúa lạnh",
          "Qúa lạnh",
          "Qúa lạnh",
          "Qúa lạnh",
          "Qúa lạnh",
          "Qúa lạnh",
          "Qúa lạnh",
          "Qúa lạnh",
          "Qúa lạnh",
          "Qúa lạnh",
          "Qúa lạnh",
          "Qúa lạnh",
          "Qúa lạnh",
          "Qúa lạnh",
          "Qúa lạnh",
          "Qúa lạnh",
          "Qúa lạnh",
          "Qúa lạnh",
          "Qúa lạnh",
          "Qúa lạnh",
          "Qúa lạnh",
          "Qúa lạnh",
          "Qúa lạnh",
          "Qúa lạnh",
          "Qúa lạnh",
          "Qúa lạnh",
          "Qúa lạnh",
          "Qúa lạnh",
          "Qúa lạnh",
          "Qúa lạnh",
          "Qúa lạnh",
          "Qúa lạnh",
          "Qúa lạnh",
          "Qúa lạnh"
         ],
         "xaxis": "x",
         "yaxis": "y"
        }
       ],
       "layout": {
        "barmode": "relative",
        "legend": {
         "title": {
          "text": "Thời tiết"
         },
         "tracegroupgap": 0
        },
        "template": {
         "data": {
          "bar": [
           {
            "error_x": {
             "color": "#2a3f5f"
            },
            "error_y": {
             "color": "#2a3f5f"
            },
            "marker": {
             "line": {
              "color": "#E5ECF6",
              "width": 0.5
             },
             "pattern": {
              "fillmode": "overlay",
              "size": 10,
              "solidity": 0.2
             }
            },
            "type": "bar"
           }
          ],
          "barpolar": [
           {
            "marker": {
             "line": {
              "color": "#E5ECF6",
              "width": 0.5
             },
             "pattern": {
              "fillmode": "overlay",
              "size": 10,
              "solidity": 0.2
             }
            },
            "type": "barpolar"
           }
          ],
          "carpet": [
           {
            "aaxis": {
             "endlinecolor": "#2a3f5f",
             "gridcolor": "white",
             "linecolor": "white",
             "minorgridcolor": "white",
             "startlinecolor": "#2a3f5f"
            },
            "baxis": {
             "endlinecolor": "#2a3f5f",
             "gridcolor": "white",
             "linecolor": "white",
             "minorgridcolor": "white",
             "startlinecolor": "#2a3f5f"
            },
            "type": "carpet"
           }
          ],
          "choropleth": [
           {
            "colorbar": {
             "outlinewidth": 0,
             "ticks": ""
            },
            "type": "choropleth"
           }
          ],
          "contour": [
           {
            "colorbar": {
             "outlinewidth": 0,
             "ticks": ""
            },
            "colorscale": [
             [
              0,
              "#0d0887"
             ],
             [
              0.1111111111111111,
              "#46039f"
             ],
             [
              0.2222222222222222,
              "#7201a8"
             ],
             [
              0.3333333333333333,
              "#9c179e"
             ],
             [
              0.4444444444444444,
              "#bd3786"
             ],
             [
              0.5555555555555556,
              "#d8576b"
             ],
             [
              0.6666666666666666,
              "#ed7953"
             ],
             [
              0.7777777777777778,
              "#fb9f3a"
             ],
             [
              0.8888888888888888,
              "#fdca26"
             ],
             [
              1,
              "#f0f921"
             ]
            ],
            "type": "contour"
           }
          ],
          "contourcarpet": [
           {
            "colorbar": {
             "outlinewidth": 0,
             "ticks": ""
            },
            "type": "contourcarpet"
           }
          ],
          "heatmap": [
           {
            "colorbar": {
             "outlinewidth": 0,
             "ticks": ""
            },
            "colorscale": [
             [
              0,
              "#0d0887"
             ],
             [
              0.1111111111111111,
              "#46039f"
             ],
             [
              0.2222222222222222,
              "#7201a8"
             ],
             [
              0.3333333333333333,
              "#9c179e"
             ],
             [
              0.4444444444444444,
              "#bd3786"
             ],
             [
              0.5555555555555556,
              "#d8576b"
             ],
             [
              0.6666666666666666,
              "#ed7953"
             ],
             [
              0.7777777777777778,
              "#fb9f3a"
             ],
             [
              0.8888888888888888,
              "#fdca26"
             ],
             [
              1,
              "#f0f921"
             ]
            ],
            "type": "heatmap"
           }
          ],
          "heatmapgl": [
           {
            "colorbar": {
             "outlinewidth": 0,
             "ticks": ""
            },
            "colorscale": [
             [
              0,
              "#0d0887"
             ],
             [
              0.1111111111111111,
              "#46039f"
             ],
             [
              0.2222222222222222,
              "#7201a8"
             ],
             [
              0.3333333333333333,
              "#9c179e"
             ],
             [
              0.4444444444444444,
              "#bd3786"
             ],
             [
              0.5555555555555556,
              "#d8576b"
             ],
             [
              0.6666666666666666,
              "#ed7953"
             ],
             [
              0.7777777777777778,
              "#fb9f3a"
             ],
             [
              0.8888888888888888,
              "#fdca26"
             ],
             [
              1,
              "#f0f921"
             ]
            ],
            "type": "heatmapgl"
           }
          ],
          "histogram": [
           {
            "marker": {
             "pattern": {
              "fillmode": "overlay",
              "size": 10,
              "solidity": 0.2
             }
            },
            "type": "histogram"
           }
          ],
          "histogram2d": [
           {
            "colorbar": {
             "outlinewidth": 0,
             "ticks": ""
            },
            "colorscale": [
             [
              0,
              "#0d0887"
             ],
             [
              0.1111111111111111,
              "#46039f"
             ],
             [
              0.2222222222222222,
              "#7201a8"
             ],
             [
              0.3333333333333333,
              "#9c179e"
             ],
             [
              0.4444444444444444,
              "#bd3786"
             ],
             [
              0.5555555555555556,
              "#d8576b"
             ],
             [
              0.6666666666666666,
              "#ed7953"
             ],
             [
              0.7777777777777778,
              "#fb9f3a"
             ],
             [
              0.8888888888888888,
              "#fdca26"
             ],
             [
              1,
              "#f0f921"
             ]
            ],
            "type": "histogram2d"
           }
          ],
          "histogram2dcontour": [
           {
            "colorbar": {
             "outlinewidth": 0,
             "ticks": ""
            },
            "colorscale": [
             [
              0,
              "#0d0887"
             ],
             [
              0.1111111111111111,
              "#46039f"
             ],
             [
              0.2222222222222222,
              "#7201a8"
             ],
             [
              0.3333333333333333,
              "#9c179e"
             ],
             [
              0.4444444444444444,
              "#bd3786"
             ],
             [
              0.5555555555555556,
              "#d8576b"
             ],
             [
              0.6666666666666666,
              "#ed7953"
             ],
             [
              0.7777777777777778,
              "#fb9f3a"
             ],
             [
              0.8888888888888888,
              "#fdca26"
             ],
             [
              1,
              "#f0f921"
             ]
            ],
            "type": "histogram2dcontour"
           }
          ],
          "mesh3d": [
           {
            "colorbar": {
             "outlinewidth": 0,
             "ticks": ""
            },
            "type": "mesh3d"
           }
          ],
          "parcoords": [
           {
            "line": {
             "colorbar": {
              "outlinewidth": 0,
              "ticks": ""
             }
            },
            "type": "parcoords"
           }
          ],
          "pie": [
           {
            "automargin": true,
            "type": "pie"
           }
          ],
          "scatter": [
           {
            "fillpattern": {
             "fillmode": "overlay",
             "size": 10,
             "solidity": 0.2
            },
            "type": "scatter"
           }
          ],
          "scatter3d": [
           {
            "line": {
             "colorbar": {
              "outlinewidth": 0,
              "ticks": ""
             }
            },
            "marker": {
             "colorbar": {
              "outlinewidth": 0,
              "ticks": ""
             }
            },
            "type": "scatter3d"
           }
          ],
          "scattercarpet": [
           {
            "marker": {
             "colorbar": {
              "outlinewidth": 0,
              "ticks": ""
             }
            },
            "type": "scattercarpet"
           }
          ],
          "scattergeo": [
           {
            "marker": {
             "colorbar": {
              "outlinewidth": 0,
              "ticks": ""
             }
            },
            "type": "scattergeo"
           }
          ],
          "scattergl": [
           {
            "marker": {
             "colorbar": {
              "outlinewidth": 0,
              "ticks": ""
             }
            },
            "type": "scattergl"
           }
          ],
          "scattermapbox": [
           {
            "marker": {
             "colorbar": {
              "outlinewidth": 0,
              "ticks": ""
             }
            },
            "type": "scattermapbox"
           }
          ],
          "scatterpolar": [
           {
            "marker": {
             "colorbar": {
              "outlinewidth": 0,
              "ticks": ""
             }
            },
            "type": "scatterpolar"
           }
          ],
          "scatterpolargl": [
           {
            "marker": {
             "colorbar": {
              "outlinewidth": 0,
              "ticks": ""
             }
            },
            "type": "scatterpolargl"
           }
          ],
          "scatterternary": [
           {
            "marker": {
             "colorbar": {
              "outlinewidth": 0,
              "ticks": ""
             }
            },
            "type": "scatterternary"
           }
          ],
          "surface": [
           {
            "colorbar": {
             "outlinewidth": 0,
             "ticks": ""
            },
            "colorscale": [
             [
              0,
              "#0d0887"
             ],
             [
              0.1111111111111111,
              "#46039f"
             ],
             [
              0.2222222222222222,
              "#7201a8"
             ],
             [
              0.3333333333333333,
              "#9c179e"
             ],
             [
              0.4444444444444444,
              "#bd3786"
             ],
             [
              0.5555555555555556,
              "#d8576b"
             ],
             [
              0.6666666666666666,
              "#ed7953"
             ],
             [
              0.7777777777777778,
              "#fb9f3a"
             ],
             [
              0.8888888888888888,
              "#fdca26"
             ],
             [
              1,
              "#f0f921"
             ]
            ],
            "type": "surface"
           }
          ],
          "table": [
           {
            "cells": {
             "fill": {
              "color": "#EBF0F8"
             },
             "line": {
              "color": "white"
             }
            },
            "header": {
             "fill": {
              "color": "#C8D4E3"
             },
             "line": {
              "color": "white"
             }
            },
            "type": "table"
           }
          ]
         },
         "layout": {
          "annotationdefaults": {
           "arrowcolor": "#2a3f5f",
           "arrowhead": 0,
           "arrowwidth": 1
          },
          "autotypenumbers": "strict",
          "coloraxis": {
           "colorbar": {
            "outlinewidth": 0,
            "ticks": ""
           }
          },
          "colorscale": {
           "diverging": [
            [
             0,
             "#8e0152"
            ],
            [
             0.1,
             "#c51b7d"
            ],
            [
             0.2,
             "#de77ae"
            ],
            [
             0.3,
             "#f1b6da"
            ],
            [
             0.4,
             "#fde0ef"
            ],
            [
             0.5,
             "#f7f7f7"
            ],
            [
             0.6,
             "#e6f5d0"
            ],
            [
             0.7,
             "#b8e186"
            ],
            [
             0.8,
             "#7fbc41"
            ],
            [
             0.9,
             "#4d9221"
            ],
            [
             1,
             "#276419"
            ]
           ],
           "sequential": [
            [
             0,
             "#0d0887"
            ],
            [
             0.1111111111111111,
             "#46039f"
            ],
            [
             0.2222222222222222,
             "#7201a8"
            ],
            [
             0.3333333333333333,
             "#9c179e"
            ],
            [
             0.4444444444444444,
             "#bd3786"
            ],
            [
             0.5555555555555556,
             "#d8576b"
            ],
            [
             0.6666666666666666,
             "#ed7953"
            ],
            [
             0.7777777777777778,
             "#fb9f3a"
            ],
            [
             0.8888888888888888,
             "#fdca26"
            ],
            [
             1,
             "#f0f921"
            ]
           ],
           "sequentialminus": [
            [
             0,
             "#0d0887"
            ],
            [
             0.1111111111111111,
             "#46039f"
            ],
            [
             0.2222222222222222,
             "#7201a8"
            ],
            [
             0.3333333333333333,
             "#9c179e"
            ],
            [
             0.4444444444444444,
             "#bd3786"
            ],
            [
             0.5555555555555556,
             "#d8576b"
            ],
            [
             0.6666666666666666,
             "#ed7953"
            ],
            [
             0.7777777777777778,
             "#fb9f3a"
            ],
            [
             0.8888888888888888,
             "#fdca26"
            ],
            [
             1,
             "#f0f921"
            ]
           ]
          },
          "colorway": [
           "#636efa",
           "#EF553B",
           "#00cc96",
           "#ab63fa",
           "#FFA15A",
           "#19d3f3",
           "#FF6692",
           "#B6E880",
           "#FF97FF",
           "#FECB52"
          ],
          "font": {
           "color": "#2a3f5f"
          },
          "geo": {
           "bgcolor": "white",
           "lakecolor": "white",
           "landcolor": "#E5ECF6",
           "showlakes": true,
           "showland": true,
           "subunitcolor": "white"
          },
          "hoverlabel": {
           "align": "left"
          },
          "hovermode": "closest",
          "mapbox": {
           "style": "light"
          },
          "paper_bgcolor": "white",
          "plot_bgcolor": "#E5ECF6",
          "polar": {
           "angularaxis": {
            "gridcolor": "white",
            "linecolor": "white",
            "ticks": ""
           },
           "bgcolor": "#E5ECF6",
           "radialaxis": {
            "gridcolor": "white",
            "linecolor": "white",
            "ticks": ""
           }
          },
          "scene": {
           "xaxis": {
            "backgroundcolor": "#E5ECF6",
            "gridcolor": "white",
            "gridwidth": 2,
            "linecolor": "white",
            "showbackground": true,
            "ticks": "",
            "zerolinecolor": "white"
           },
           "yaxis": {
            "backgroundcolor": "#E5ECF6",
            "gridcolor": "white",
            "gridwidth": 2,
            "linecolor": "white",
            "showbackground": true,
            "ticks": "",
            "zerolinecolor": "white"
           },
           "zaxis": {
            "backgroundcolor": "#E5ECF6",
            "gridcolor": "white",
            "gridwidth": 2,
            "linecolor": "white",
            "showbackground": true,
            "ticks": "",
            "zerolinecolor": "white"
           }
          },
          "shapedefaults": {
           "line": {
            "color": "#2a3f5f"
           }
          },
          "ternary": {
           "aaxis": {
            "gridcolor": "white",
            "linecolor": "white",
            "ticks": ""
           },
           "baxis": {
            "gridcolor": "white",
            "linecolor": "white",
            "ticks": ""
           },
           "bgcolor": "#E5ECF6",
           "caxis": {
            "gridcolor": "white",
            "linecolor": "white",
            "ticks": ""
           }
          },
          "title": {
           "x": 0.05
          },
          "xaxis": {
           "automargin": true,
           "gridcolor": "white",
           "linecolor": "white",
           "ticks": "",
           "title": {
            "standoff": 15
           },
           "zerolinecolor": "white",
           "zerolinewidth": 2
          },
          "yaxis": {
           "automargin": true,
           "gridcolor": "white",
           "linecolor": "white",
           "ticks": "",
           "title": {
            "standoff": 15
           },
           "zerolinecolor": "white",
           "zerolinewidth": 2
          }
         }
        },
        "title": {
         "text": "Thời tiết Distribution"
        },
        "xaxis": {
         "anchor": "y",
         "categoryarray": [
          "Lạnh",
          "Nóng",
          "Hơi lạnh",
          "Hơi Nóng",
          "Quá lạnh",
          "Quá Nóng",
          "Mát",
          "Qúa lạnh"
         ],
         "categoryorder": "array",
         "domain": [
          0,
          1
         ],
         "title": {
          "text": "Buổi"
         }
        },
        "yaxis": {
         "anchor": "x",
         "domain": [
          0,
          1
         ],
         "title": {
          "text": "Count"
         }
        }
       }
      }
     },
     "metadata": {},
     "output_type": "display_data"
    }
   ],
   "source": [
    "fig = px.histogram(data, x='Thời tiết', color='Thời tiết', title='Thời tiết Distribution')\n",
    "fig.update_layout(xaxis_title='Buổi', yaxis_title='Count')\n",
    "fig.show()"
   ]
  }
 ],
 "metadata": {
  "kernelspec": {
   "display_name": "Python 3",
   "language": "python",
   "name": "python3"
  },
  "language_info": {
   "codemirror_mode": {
    "name": "ipython",
    "version": 3
   },
   "file_extension": ".py",
   "mimetype": "text/x-python",
   "name": "python",
   "nbconvert_exporter": "python",
   "pygments_lexer": "ipython3",
   "version": "3.11.3"
  },
  "orig_nbformat": 4
 },
 "nbformat": 4,
 "nbformat_minor": 2
}
